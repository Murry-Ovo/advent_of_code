{
 "cells": [
  {
   "cell_type": "markdown",
   "id": "0016695a",
   "metadata": {},
   "source": [
    "\n",
    "# Day 01 - Trebuchet?!\n",
    "[Link to Advent of Code 2023 - Day 01](https://adventofcode.com/2023/day/1)\n",
    "\n",
    "\n",
    "Something is wrong with global snow production, and you've been selected to take a look. The Elves have even given you a map; on it, they've used stars to mark the top fifty locations that are likely to be having problems.\n",
    "\n",
    "You've been doing this long enough to know that to restore snow operations, you need to check all fifty stars by December 25th.\n",
    "\n",
    "Collect stars by solving puzzles. Two puzzles will be made available on each day in the Advent calendar; the second puzzle is unlocked when you complete the first. Each puzzle grants one star. Good luck!\n",
    "\n",
    "You try to ask why they can't just use a weather machine (\"not powerful enough\") and where they're even sending you (\"the sky\") and why your map looks mostly blank (\"you sure ask a lot of questions\") and hang on did you just say the sky (\"of course, where do you think snow comes from\") when you realize that the Elves are already loading you into a trebuchet (\"please hold still, we need to strap you in\").\n",
    "\n",
    "As they're making the final adjustments, they discover that their calibration document (your puzzle input) has been amended by a very young Elf who was apparently just excited to show off her art skills. Consequently, the Elves are having trouble reading the values on the document.\n",
    "\n",
    "The newly-improved calibration document consists of lines of text; each line originally contained a specific calibration value that the Elves now need to recover. On each line, the calibration value can be found by combining the first digit and the last digit (in that order) to form a single two-digit number.\n",
    "\n",
    "For example:\n",
    "```\n",
    "1abc2\n",
    "pqr3stu8vwx\n",
    "a1b2c3d4e5f\n",
    "treb7uchet\n",
    "```\n",
    "In this example, the calibration values of these four lines are 12, 38, 15, and 77. Adding these together produces 142.\n",
    "\n",
    "#### --- Part One ---\n",
    "\n",
    "Consider your entire calibration document. What is the sum of all of the calibration values?\n",
    "\n",
    "#### --- Part Two ---\n",
    "\n",
    "Your calculation isn't quite right. It looks like some of the digits are actually spelled out with letters: one, two, three, four, five, six, seven, eight, and nine also count as valid \"digits\".\n",
    "\n",
    "Equipped with this new information, you now need to find the real first and last digit on each line. For example:\n",
    "```\n",
    "two1nine\n",
    "eightwothree\n",
    "abcone2threexyz\n",
    "xtwone3four\n",
    "4nineeightseven2\n",
    "zoneight234\n",
    "7pqrstsixteen\n",
    "```\n",
    "\n",
    "In this example, the calibration values are 29, 83, 13, 24, 42, 14, and 76. Adding these together produces 281.\n",
    "\n",
    "What is the sum of all of the calibration values?\n"
   ]
  },
  {
   "cell_type": "code",
   "execution_count": 9,
   "id": "58ed61d6",
   "metadata": {},
   "outputs": [],
   "source": [
    "with open('Inputs\\day_01.txt')          as f:puz      = [l.rstrip('\\n') for l in f.readlines()]\n",
    "with open('Inputs\\day_01_sample.txt')   as f:sample   = [l.rstrip('\\n') for l in f.readlines()]\n",
    "with open('Inputs\\day_01_sample2.txt')  as f:sample2  = [l.rstrip('\\n') for l in f.readlines()]"
   ]
  },
  {
   "cell_type": "code",
   "execution_count": 10,
   "id": "f2dc3f10",
   "metadata": {},
   "outputs": [
    {
     "data": {
      "text/plain": [
       "['two1nine',\n",
       " 'eightwothree',\n",
       " 'abcone2threexyz',\n",
       " 'xtwone3four',\n",
       " '4nineeightseven2',\n",
       " 'zoneight234',\n",
       " '7pqrstsixteen']"
      ]
     },
     "execution_count": 10,
     "metadata": {},
     "output_type": "execute_result"
    }
   ],
   "source": [
    "sample2"
   ]
  },
  {
   "cell_type": "code",
   "execution_count": 29,
   "id": "78075d7e",
   "metadata": {
    "scrolled": false
   },
   "outputs": [
    {
     "name": "stdout",
     "output_type": "stream",
     "text": [
      "142\n",
      "55712\n"
     ]
    }
   ],
   "source": [
    "## Part One\n",
    "\n",
    "def get_calibration_value(cali_doc):\n",
    "    \n",
    "    calibration_values = []\n",
    "\n",
    "    for line in cali_doc:\n",
    "        ## extract all numeric values as a list of string numbers\n",
    "        numeric_string = [char for char in line if char.isnumeric()]\n",
    "        ## combine the first and last element of the list and convert to an integer\n",
    "        calibration_value = int(numeric_string[0] + numeric_string[-1])\n",
    "        ## add them to a list of \n",
    "        calibration_values.append(calibration_value)\n",
    "\n",
    "    return sum(calibration_values)\n",
    "\n",
    "print(get_calibration_value(sample))\n",
    "print(get_calibration_value(puz))\n"
   ]
  },
  {
   "cell_type": "code",
   "execution_count": 36,
   "id": "081cadf2",
   "metadata": {
    "scrolled": true
   },
   "outputs": [
    {
     "name": "stdout",
     "output_type": "stream",
     "text": [
      "142 55712 281 55413\n"
     ]
    }
   ],
   "source": [
    "def text_to_numbers(text_string: str) -> str:\n",
    "    '''\n",
    "    Converts textual representations of numbers within a string to their numerical equivalents,\n",
    "    while retaining the first and last letters of each textual number. This approach ensures \n",
    "    that the first or last letters, if they form part of another number in the string, are not \n",
    "    altered. Supported textual numbers range from 'one' to 'nine'.\n",
    "\n",
    "    Parameters:\n",
    "    text_string (str): A string containing textual numbers to be converted.\n",
    "\n",
    "    Returns:\n",
    "    str: The modified string with numerical equivalents replacing textual numbers.\n",
    "    '''\n",
    "    number_mapping = {\n",
    "         'one':   'o1e'\n",
    "        ,'two':   't2o'\n",
    "        ,'three': 't3e'\n",
    "        ,'four':  'f4r'\n",
    "        ,'five':  'f5e'\n",
    "        ,'six':   's6x'\n",
    "        ,'seven': 's7n'\n",
    "        ,'eight': 'e8t'\n",
    "        ,'nine':  'n9e'\n",
    "        }\n",
    "    for number_as_text, number in number_mapping.items():\n",
    "        text_string = text_string.replace(number_as_text, number)\n",
    "    return text_string\n",
    "\n",
    "def get_calibration_value(cali_doc: list, part: int) -> int:\n",
    "    '''\n",
    "    Calculates the sum of calibration values extracted from a list of strings. If 'part' is set to 2,\n",
    "    the function first converts any textual numbers in each string to their numerical representation.\n",
    "    It then extracts all numeric characters, forms an integer from the first and last numbers in each\n",
    "    string, and sums these integers to produce a final calibration value.\n",
    "\n",
    "    Parameters:\n",
    "    cali_doc (list): A list of strings, each potentially containing numeric values.\n",
    "    part (int): An integer indicating a specific processing mode for the function.\n",
    "\n",
    "    Returns:\n",
    "    int: The sum of calculated calibration values.\n",
    "    ''' \n",
    "    calibration_values = []\n",
    "    for line in cali_doc:\n",
    "        if part == 2:\n",
    "            line = text_to_numbers(line)\n",
    "        ## extract all numeric values as a list of string numbers\n",
    "        numeric_string = [char for char in line if char.isnumeric()]\n",
    "        ## combine the first and last element of the list and convert to an integer\n",
    "        calibration_value = int(numeric_string[0] + numeric_string[-1])\n",
    "        ## add them to a list of \n",
    "        calibration_values.append(calibration_value)\n",
    "\n",
    "    return sum(calibration_values)\n",
    "\n",
    "print(get_calibration_value(sample, 1),\n",
    "      get_calibration_value(puz, 1),\n",
    "      get_calibration_value(sample2, 2),\n",
    "      get_calibration_value(puz, 2))"
   ]
  }
 ],
 "metadata": {
  "kernelspec": {
   "display_name": "Python 3 (ipykernel)",
   "language": "python",
   "name": "python3"
  },
  "language_info": {
   "codemirror_mode": {
    "name": "ipython",
    "version": 3
   },
   "file_extension": ".py",
   "mimetype": "text/x-python",
   "name": "python",
   "nbconvert_exporter": "python",
   "pygments_lexer": "ipython3",
   "version": "3.9.12"
  }
 },
 "nbformat": 4,
 "nbformat_minor": 5
}
