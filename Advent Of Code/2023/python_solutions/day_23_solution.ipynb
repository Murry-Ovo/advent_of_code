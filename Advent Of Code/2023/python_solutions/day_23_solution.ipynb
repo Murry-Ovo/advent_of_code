{
 "cells": [
  {
   "cell_type": "markdown",
   "id": "a6440d28",
   "metadata": {},
   "source": [
    "\n",
    "# Day 23\n",
    "[Link to Advent of Code 2023 - Day 23](https://adventofcode.com/2023/day/23)\n"
   ]
  },
  {
   "cell_type": "code",
   "execution_count": null,
   "id": "23fb60a5",
   "metadata": {},
   "outputs": [],
   "source": [
    "\n",
    "with open('Inputs\\day_23.txt')         as f:puz     = [l.rstrip('\\n').split(' ') for l in f.readlines()]\n",
    "with open('Inputs\\day_23_sample.txt')  as f:sample  = [l.rstrip('\\n').split(' ') for l in f.readlines()]"
   ]
  }
 ],
 "metadata": {},
 "nbformat": 4,
 "nbformat_minor": 5
}
