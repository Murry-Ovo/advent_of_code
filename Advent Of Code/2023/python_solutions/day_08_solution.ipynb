{
 "cells": [
  {
   "cell_type": "markdown",
   "id": "5fade23b",
   "metadata": {},
   "source": [
    "\n",
    "# Day 08\n",
    "[Link to Advent of Code 2023 - Day 08](https://adventofcode.com/2023/day/8)\n"
   ]
  },
  {
   "cell_type": "code",
   "execution_count": null,
   "id": "2678a005",
   "metadata": {},
   "outputs": [],
   "source": [
    "\n",
    "with open('Inputs\\day_08.txt')         as f:puz     = [l.rstrip('\\n').split(' ') for l in f.readlines()]\n",
    "with open('Inputs\\day_08_sample.txt')  as f:sample  = [l.rstrip('\\n').split(' ') for l in f.readlines()]"
   ]
  }
 ],
 "metadata": {},
 "nbformat": 4,
 "nbformat_minor": 5
}
