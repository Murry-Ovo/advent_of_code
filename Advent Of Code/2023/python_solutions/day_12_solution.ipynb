{
 "cells": [
  {
   "cell_type": "markdown",
   "id": "0191b907",
   "metadata": {},
   "source": [
    "\n",
    "# Day 12\n",
    "[Link to Advent of Code 2023 - Day 12](https://adventofcode.com/2023/day/12)\n"
   ]
  },
  {
   "cell_type": "code",
   "execution_count": null,
   "id": "76a9737e",
   "metadata": {},
   "outputs": [],
   "source": [
    "\n",
    "with open('Inputs\\day_12.txt')         as f:puz     = [l.rstrip('\\n').split(' ') for l in f.readlines()]\n",
    "with open('Inputs\\day_12_sample.txt')  as f:sample  = [l.rstrip('\\n').split(' ') for l in f.readlines()]"
   ]
  }
 ],
 "metadata": {},
 "nbformat": 4,
 "nbformat_minor": 5
}
