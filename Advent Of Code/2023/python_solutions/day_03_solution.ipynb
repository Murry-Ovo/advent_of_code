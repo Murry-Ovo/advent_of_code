{
 "cells": [
  {
   "cell_type": "markdown",
   "id": "c0a954ab",
   "metadata": {},
   "source": [
    "\n",
    "# Day 3: Gear Ratios\n",
    "\n",
    "[Link to Advent of Code 2023 - Day 03](https://adventofcode.com/2023/day/3)\n",
    "\n",
    "\n",
    "You and the Elf eventually reach a gondola lift station; he says the gondola lift will take you up to the water source, but this is as far as he can bring you. You go inside.\n",
    "\n",
    "It doesn't take long to find the gondolas, but there seems to be a problem: they're not moving.\n",
    "\n",
    "\"Aaah!\"\n",
    "\n",
    "You turn around to see a slightly-greasy Elf with a wrench and a look of surprise. \"Sorry, I wasn't expecting anyone! The gondola lift isn't working right now; it'll still be a while before I can fix it.\" You offer to help.\n",
    "\n",
    "The engineer explains that an engine part seems to be missing from the engine, but nobody can figure out which one. If you can add up all the part numbers in the engine schematic, it should be easy to work out which part is missing.\n",
    "\n",
    "The engine schematic (your puzzle input) consists of a visual representation of the engine. There are lots of numbers and symbols you don't really understand, but apparently any number adjacent to a symbol, even diagonally, is a \"part number\" and should be included in your sum. (Periods (.) do not count as a symbol.)\n",
    "\n",
    "Here is an example engine schematic:\n",
    "```\n",
    "467..114..\n",
    "...*......\n",
    "..35..633.\n",
    "......#...\n",
    "617*......\n",
    ".....+.58.\n",
    "..592.....\n",
    "......755.\n",
    "...$.*....\n",
    ".664.598..\n",
    "```\n",
    "In this schematic, two numbers are not part numbers because they are not adjacent to a symbol: 114 (top right) and 58 (middle right). Every other number is adjacent to a symbol and so is a part number; their sum is 4361.\n",
    "\n",
    "Of course, the actual engine schematic is much larger. What is the sum of all of the part numbers in the engine schematic?"
   ]
  },
  {
   "cell_type": "code",
   "execution_count": 19,
   "id": "d611032a",
   "metadata": {},
   "outputs": [
    {
     "data": {
      "text/plain": [
       "[['4', '6', '7', '.', '.', '1', '1', '4', '.', '.'],\n",
       " ['.', '.', '.', '*', '.', '.', '.', '.', '.', '.'],\n",
       " ['.', '.', '3', '5', '.', '.', '6', '3', '3', '.'],\n",
       " ['.', '.', '.', '.', '.', '.', '#', '.', '.', '.'],\n",
       " ['6', '1', '7', '*', '.', '.', '.', '.', '.', '.'],\n",
       " ['.', '.', '.', '.', '.', '+', '.', '5', '8', '.'],\n",
       " ['.', '.', '5', '9', '2', '.', '.', '.', '.', '.'],\n",
       " ['.', '.', '.', '.', '.', '.', '7', '5', '5', '.'],\n",
       " ['.', '.', '.', '$', '.', '*', '.', '.', '.', '.'],\n",
       " ['.', '6', '6', '4', '.', '5', '9', '8', '.', '.']]"
      ]
     },
     "execution_count": 19,
     "metadata": {},
     "output_type": "execute_result"
    }
   ],
   "source": [
    "## opening the file and converting each line into a string, then turning each of those strings into a \n",
    "with open('Inputs\\day_03.txt')         as f:puz     = [list(row) for row in [l.rstrip('\\n') for l in f.readlines()]]\n",
    "with open('Inputs\\day_03_sample.txt')  as f:sample  = [list(row.rstrip('\\n')) for row in f]\n",
    "    \n",
    "sample    "
   ]
  },
  {
   "cell_type": "code",
   "execution_count": 36,
   "id": "5a4c6e1a",
   "metadata": {
    "scrolled": false
   },
   "outputs": [
    {
     "name": "stdout",
     "output_type": "stream",
     "text": [
      "4\n",
      "6\n",
      "7\n",
      "1\n",
      "1\n",
      "4\n",
      "3\n",
      "5\n",
      "6\n",
      "3\n",
      "3\n",
      "6\n",
      "1\n",
      "7\n",
      "5\n",
      "8\n",
      "5\n",
      "9\n",
      "2\n",
      "7\n",
      "5\n",
      "5\n",
      "6\n",
      "6\n",
      "4\n",
      "5\n",
      "9\n",
      "8\n"
     ]
    }
   ],
   "source": [
    "## parse input into a grid (list of lists)\n",
    "def create_engine_grid(sample = False) -> 'list(list)':\n",
    "    '''\n",
    "    - Outputs the puzzle input as a grid (list of lists)\n",
    "    - Sample path or main puzzle input path used depending on whether sample = True is passed into function \n",
    "    '''\n",
    "    path = 'Inputs\\day_03_sample.txt' if sample == True else 'Inputs\\day_03.txt'\n",
    "    with open(path) as f:\n",
    "        engine_grid = [list(row.rstrip('\\n')) for row in f]\n",
    "        \n",
    "    return engine_grid\n",
    "        \n",
    "\n",
    "## create function to identify character type\n",
    "def check_char_type(char: str) -> str:\n",
    "    '''\n",
    "    Takes a single character and outputs either:\n",
    "        - 'blank' if it is a period\n",
    "        - 'number' if it is a numeric character\n",
    "        - 'symbol' if it is any other character\n",
    "    tested with the following list:\n",
    "        chars =  ['.', '0', '1', '2', '3', '4', '5', '6', '7', '8', '9','#', '$', '%', '&', '*', '+', '-', '/', '=','@']\n",
    "    '''\n",
    "    \n",
    "    if char == '.':\n",
    "        char_type = 'blank'\n",
    "    elif char in '0123456789':\n",
    "        char_type = 'number'\n",
    "    else:\n",
    "        char_type = 'symbol'\n",
    "    return char_type\n",
    "\n",
    "\n",
    "engine_grid = create_engine_grid(sample = True)\n",
    "\n",
    "for row in engine_grid:\n",
    "    for char in row:\n",
    "        if check_char_type(char) == 'number':\n",
    "            \n",
    "\n",
    "\n",
    "## define function to get adjacent coordinates\n",
    "## define a function that iterates through the grid, gets the adjacent coordinatesa for each element, then\n",
    "\n",
    "\n"
   ]
  }
 ],
 "metadata": {
  "kernelspec": {
   "display_name": "Python 3 (ipykernel)",
   "language": "python",
   "name": "python3"
  },
  "language_info": {
   "codemirror_mode": {
    "name": "ipython",
    "version": 3
   },
   "file_extension": ".py",
   "mimetype": "text/x-python",
   "name": "python",
   "nbconvert_exporter": "python",
   "pygments_lexer": "ipython3",
   "version": "3.9.12"
  }
 },
 "nbformat": 4,
 "nbformat_minor": 5
}
