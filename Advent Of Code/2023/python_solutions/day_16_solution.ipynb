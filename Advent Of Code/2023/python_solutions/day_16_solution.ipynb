{
 "cells": [
  {
   "cell_type": "markdown",
   "id": "57711bd8",
   "metadata": {},
   "source": [
    "\n",
    "# Day 16\n",
    "[Link to Advent of Code 2023 - Day 16](https://adventofcode.com/2023/day/16)\n"
   ]
  },
  {
   "cell_type": "code",
   "execution_count": null,
   "id": "794c0bf4",
   "metadata": {},
   "outputs": [],
   "source": [
    "\n",
    "with open('Inputs\\day_16.txt')         as f:puz     = [l.rstrip('\\n').split(' ') for l in f.readlines()]\n",
    "with open('Inputs\\day_16_sample.txt')  as f:sample  = [l.rstrip('\\n').split(' ') for l in f.readlines()]"
   ]
  }
 ],
 "metadata": {},
 "nbformat": 4,
 "nbformat_minor": 5
}
