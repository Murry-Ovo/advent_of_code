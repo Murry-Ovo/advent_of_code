{
 "cells": [
  {
   "cell_type": "markdown",
   "id": "4fd103d1",
   "metadata": {},
   "source": [
    "\n",
    "# Day 13\n",
    "[Link to Advent of Code 2023 - Day 13](https://adventofcode.com/2023/day/13)\n"
   ]
  },
  {
   "cell_type": "code",
   "execution_count": null,
   "id": "f665c368",
   "metadata": {},
   "outputs": [],
   "source": [
    "\n",
    "with open('Inputs\\day_13.txt')         as f:puz     = [l.rstrip('\\n').split(' ') for l in f.readlines()]\n",
    "with open('Inputs\\day_13_sample.txt')  as f:sample  = [l.rstrip('\\n').split(' ') for l in f.readlines()]"
   ]
  }
 ],
 "metadata": {},
 "nbformat": 4,
 "nbformat_minor": 5
}
