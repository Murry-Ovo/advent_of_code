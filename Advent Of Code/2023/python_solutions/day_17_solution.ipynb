{
 "cells": [
  {
   "cell_type": "markdown",
   "id": "432307f7",
   "metadata": {},
   "source": [
    "\n",
    "# Day 17\n",
    "[Link to Advent of Code 2023 - Day 17](https://adventofcode.com/2023/day/17)\n"
   ]
  },
  {
   "cell_type": "code",
   "execution_count": null,
   "id": "c08be2ee",
   "metadata": {},
   "outputs": [],
   "source": [
    "\n",
    "with open('Inputs\\day_17.txt')         as f:puz     = [l.rstrip('\\n').split(' ') for l in f.readlines()]\n",
    "with open('Inputs\\day_17_sample.txt')  as f:sample  = [l.rstrip('\\n').split(' ') for l in f.readlines()]"
   ]
  }
 ],
 "metadata": {},
 "nbformat": 4,
 "nbformat_minor": 5
}
