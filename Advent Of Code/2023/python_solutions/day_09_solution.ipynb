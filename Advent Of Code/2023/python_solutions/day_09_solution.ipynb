{
 "cells": [
  {
   "cell_type": "markdown",
   "id": "82e0316e",
   "metadata": {},
   "source": [
    "\n",
    "# Day 09\n",
    "[Link to Advent of Code 2023 - Day 09](https://adventofcode.com/2023/day/9)\n"
   ]
  },
  {
   "cell_type": "code",
   "execution_count": null,
   "id": "0cae4160",
   "metadata": {},
   "outputs": [],
   "source": [
    "\n",
    "with open('Inputs\\day_09.txt')         as f:puz     = [l.rstrip('\\n').split(' ') for l in f.readlines()]\n",
    "with open('Inputs\\day_09_sample.txt')  as f:sample  = [l.rstrip('\\n').split(' ') for l in f.readlines()]"
   ]
  }
 ],
 "metadata": {},
 "nbformat": 4,
 "nbformat_minor": 5
}
