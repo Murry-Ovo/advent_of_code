{
 "cells": [
  {
   "cell_type": "markdown",
   "id": "c0a954ab",
   "metadata": {},
   "source": [
    "\n",
    "# Day 03\n",
    "[Link to Advent of Code 2023 - Day 03](https://adventofcode.com/2023/day/3)\n"
   ]
  },
  {
   "cell_type": "code",
   "execution_count": null,
   "id": "d611032a",
   "metadata": {},
   "outputs": [],
   "source": [
    "\n",
    "with open('Inputs\\day_03.txt')         as f:puz     = [l.rstrip('\\n').split(' ') for l in f.readlines()]\n",
    "with open('Inputs\\day_03_sample.txt')  as f:sample  = [l.rstrip('\\n').split(' ') for l in f.readlines()]"
   ]
  }
 ],
 "metadata": {
  "kernelspec": {
   "display_name": "Python 3 (ipykernel)",
   "language": "python",
   "name": "python3"
  },
  "language_info": {
   "codemirror_mode": {
    "name": "ipython",
    "version": 3
   },
   "file_extension": ".py",
   "mimetype": "text/x-python",
   "name": "python",
   "nbconvert_exporter": "python",
   "pygments_lexer": "ipython3",
   "version": "3.9.12"
  }
 },
 "nbformat": 4,
 "nbformat_minor": 5
}
