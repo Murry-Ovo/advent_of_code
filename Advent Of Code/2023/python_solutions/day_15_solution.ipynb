{
 "cells": [
  {
   "cell_type": "markdown",
   "id": "e1fecb5e",
   "metadata": {},
   "source": [
    "\n",
    "# Day 15\n",
    "[Link to Advent of Code 2023 - Day 15](https://adventofcode.com/2023/day/15)\n"
   ]
  },
  {
   "cell_type": "code",
   "execution_count": null,
   "id": "dd432cb7",
   "metadata": {},
   "outputs": [],
   "source": [
    "\n",
    "with open('Inputs\\day_15.txt')         as f:puz     = [l.rstrip('\\n').split(' ') for l in f.readlines()]\n",
    "with open('Inputs\\day_15_sample.txt')  as f:sample  = [l.rstrip('\\n').split(' ') for l in f.readlines()]"
   ]
  }
 ],
 "metadata": {},
 "nbformat": 4,
 "nbformat_minor": 5
}
