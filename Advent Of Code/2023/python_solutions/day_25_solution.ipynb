{
 "cells": [
  {
   "cell_type": "markdown",
   "id": "8b07fb84",
   "metadata": {},
   "source": [
    "\n",
    "# Day 25\n",
    "[Link to Advent of Code 2023 - Day 25](https://adventofcode.com/2023/day/25)\n"
   ]
  },
  {
   "cell_type": "code",
   "execution_count": null,
   "id": "a97f97e5",
   "metadata": {},
   "outputs": [],
   "source": [
    "\n",
    "with open('Inputs\\day_25.txt')         as f:puz     = [l.rstrip('\\n').split(' ') for l in f.readlines()]\n",
    "with open('Inputs\\day_25_sample.txt')  as f:sample  = [l.rstrip('\\n').split(' ') for l in f.readlines()]"
   ]
  }
 ],
 "metadata": {},
 "nbformat": 4,
 "nbformat_minor": 5
}
