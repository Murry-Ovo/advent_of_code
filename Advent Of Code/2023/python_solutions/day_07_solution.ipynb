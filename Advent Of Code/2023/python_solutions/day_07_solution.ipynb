{
 "cells": [
  {
   "cell_type": "markdown",
   "id": "6bc2b6c7",
   "metadata": {},
   "source": [
    "\n",
    "# Day 07\n",
    "[Link to Advent of Code 2023 - Day 07](https://adventofcode.com/2023/day/7)\n"
   ]
  },
  {
   "cell_type": "code",
   "execution_count": null,
   "id": "3724a97a",
   "metadata": {},
   "outputs": [],
   "source": [
    "\n",
    "with open('Inputs\\day_07.txt')         as f:puz     = [l.rstrip('\\n').split(' ') for l in f.readlines()]\n",
    "with open('Inputs\\day_07_sample.txt')  as f:sample  = [l.rstrip('\\n').split(' ') for l in f.readlines()]"
   ]
  }
 ],
 "metadata": {},
 "nbformat": 4,
 "nbformat_minor": 5
}
