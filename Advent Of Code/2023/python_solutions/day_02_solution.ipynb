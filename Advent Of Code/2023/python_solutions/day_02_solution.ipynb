{
 "cells": [
  {
   "cell_type": "markdown",
   "id": "40399e43",
   "metadata": {},
   "source": [
    "\n",
    "# Day 2: Cube Conundrum\n",
    "[Link to Advent of Code 2023 - Day 02](https://adventofcode.com/2023/day/2)\n",
    "\n",
    "\n",
    "You're launched high into the atmosphere! The apex of your trajectory just barely reaches the surface of a large island floating in the sky. You gently land in a fluffy pile of leaves. It's quite cold, but you don't see much snow. An Elf runs over to greet you.\n",
    "\n",
    "The Elf explains that you've arrived at Snow Island and apologizes for the lack of snow. He'll be happy to explain the situation, but it's a bit of a walk, so you have some time. They don't get many visitors up here; would you like to play a game in the meantime?\n",
    "\n",
    "As you walk, the Elf shows you a small bag and some cubes which are either red, green, or blue. Each time you play this game, he will hide a secret number of cubes of each color in the bag, and your goal is to figure out information about the number of cubes.\n",
    "\n",
    "To get information, once a bag has been loaded with cubes, the Elf will reach into the bag, grab a handful of random cubes, show them to you, and then put them back in the bag. He'll do this a few times per game.\n",
    "\n",
    "You play several games and record the information from each game (your puzzle input). Each game is listed with its ID number (like the 11 in Game 11: ...) followed by a semicolon-separated list of subsets of cubes that were revealed from the bag (like 3 red, 5 green, 4 blue).\n",
    "\n",
    "For example, the record of a few games might look like this:\n",
    "```\n",
    "Game 1: 3 blue, 4 red; 1 red, 2 green, 6 blue; 2 green\n",
    "Game 2: 1 blue, 2 green; 3 green, 4 blue, 1 red; 1 green, 1 blue\n",
    "Game 3: 8 green, 6 blue, 20 red; 5 blue, 4 red, 13 green; 5 green, 1 red\n",
    "Game 4: 1 green, 3 red, 6 blue; 3 green, 6 red; 3 green, 15 blue, 14 red\n",
    "Game 5: 6 red, 1 blue, 3 green; 2 blue, 1 red, 2 green\n",
    "```\n",
    "In game 1, three sets of cubes are revealed from the bag (and then put back again). The first set is 3 blue cubes and 4 red cubes; the second set is 1 red cube, 2 green cubes, and 6 blue cubes; the third set is only 2 green cubes.\n",
    "\n",
    "The Elf would first like to know which games would have been possible if the bag contained only 12 red cubes, 13 green cubes, and 14 blue cubes?\n",
    "\n",
    "In the example above, games 1, 2, and 5 would have been possible if the bag had been loaded with that configuration. However, game 3 would have been impossible because at one point the Elf showed you 20 red cubes at once; similarly, game 4 would also have been impossible because the Elf showed you 15 blue cubes at once. If you add up the IDs of the games that would have been possible, you get 8.\n",
    "\n",
    "Determine which games would have been possible if the bag had been loaded with only 12 red cubes, 13 green cubes, and 14 blue cubes. What is the sum of the IDs of those games?\n"
   ]
  },
  {
   "cell_type": "code",
   "execution_count": 4,
   "id": "42f66235",
   "metadata": {
    "scrolled": true
   },
   "outputs": [
    {
     "data": {
      "text/plain": [
       "{1: {1: {'blue': 3, 'red': 4},\n",
       "  2: {'red': 1, 'green': 2, 'blue': 6},\n",
       "  3: {'green': 2}},\n",
       " 2: {1: {'blue': 1, 'green': 2},\n",
       "  2: {'green': 3, 'blue': 4, 'red': 1},\n",
       "  3: {'green': 1, 'blue': 1}},\n",
       " 3: {1: {'green': 8, 'blue': 6, 'red': 20},\n",
       "  2: {'blue': 5, 'red': 4, 'green': 13},\n",
       "  3: {'green': 5, 'red': 1}},\n",
       " 4: {1: {'green': 1, 'red': 3, 'blue': 6},\n",
       "  2: {'green': 3, 'red': 6},\n",
       "  3: {'green': 3, 'blue': 15, 'red': 14}},\n",
       " 5: {1: {'red': 6, 'blue': 1, 'green': 3},\n",
       "  2: {'blue': 2, 'red': 1, 'green': 2}}}"
      ]
     },
     "execution_count": 4,
     "metadata": {},
     "output_type": "execute_result"
    }
   ],
   "source": [
    "def parse_games_list(games_list):\n",
    "    '''\n",
    "    Parsing the input which is a list of the strings, each string being a line from the original input. \n",
    "    The output is a dict with several sub-dicts in this format:\n",
    "    {game_1:\n",
    "        {set_1:\n",
    "            {colour1: amount,\n",
    "             colour2: amount\n",
    "             },\n",
    "         set_2:\n",
    "            {colour1: amount,\n",
    "             colour2: amount\n",
    "             }\n",
    "        }\n",
    "    }\n",
    "    '''\n",
    "    all_games_dict = {}\n",
    "    \n",
    "    for game_string in games_list:\n",
    "        # Splitting the string to get the game number and the sets of colors\n",
    "        parts = game_string.split(': ')\n",
    "        game_number = int(parts[0].split(' ')[1])  # Extracting the game number\n",
    "        sets = parts[1].split('; ')  # Splitting into individual sets\n",
    "\n",
    "        # Initializing the dict structure for the games\n",
    "        game_dict = {}\n",
    "\n",
    "        # Parsing each set and populating the sub-dict\n",
    "        for i, set_str in enumerate(sets, start=1):\n",
    "            colors = set_str.split(', ')\n",
    "            set_dict = {}\n",
    "            for color in colors:\n",
    "                number, color_name = color.split(' ', 1)\n",
    "                set_dict[color_name] = int(number)\n",
    "            game_dict[i] = set_dict\n",
    "\n",
    "        # Adding the parsed game to the all games dictionary\n",
    "        all_games_dict[game_number] = game_dict\n",
    "\n",
    "    return all_games_dict\n",
    "\n",
    "with open('Inputs\\day_02.txt')         as f:puz     = [l.rstrip('\\n') for l in f.readlines()]\n",
    "with open('Inputs\\day_02_sample.txt')  as f:sample  = [l.rstrip('\\n') for l in f.readlines()]\n",
    "\n",
    "\n",
    "all_games = parse_games_list(sample)\n",
    "all_games"
   ]
  },
  {
   "cell_type": "code",
   "execution_count": 9,
   "id": "480469bb",
   "metadata": {},
   "outputs": [
    {
     "name": "stdout",
     "output_type": "stream",
     "text": [
      "1 {'blue': 3, 'red': 4}\n",
      "2 {'red': 1, 'green': 2, 'blue': 6}\n",
      "3 {'green': 2}\n"
     ]
    }
   ],
   "source": [
    "game = {1: {'blue': 3, 'red': 4},\n",
    "  2: {'red': 1, 'green': 2, 'blue': 6},\n",
    "  3: {'green': 2}}\n",
    "\n",
    "\n",
    "# def is_game_possible(game):\n",
    "\n",
    "for set_id, set_result in game.items():\n",
    "    print(set_id, set_result)\n",
    "    for colour, amount in set_result.items():\n",
    "        if amount > \n",
    "\n"
   ]
  },
  {
   "cell_type": "code",
   "execution_count": 76,
   "id": "9af522a3",
   "metadata": {
    "scrolled": true
   },
   "outputs": [
    {
     "name": "stdout",
     "output_type": "stream",
     "text": [
      "impossible_game_ids: [3, 4]\n",
      "possible_game_ids: [1, 2, 5]\n",
      "sum of all possible game ids: 8\n"
     ]
    },
    {
     "data": {
      "text/plain": [
       "5"
      ]
     },
     "execution_count": 76,
     "metadata": {},
     "output_type": "execute_result"
    }
   ],
   "source": [
    "possible_cubes = {'red': 12 , 'blue': 13 , 'green': 14}\n",
    "# print(possible_cubes, '\\n', '----------')\n",
    "\n",
    "possible_game_ids = []\n",
    "impossible_game_ids = []\n",
    "\n",
    "for game_id, game_results in all_games.items():\n",
    "#     print('game: ', game_id, game_results, '\\n')\n",
    "    is_current_possible = True\n",
    "    while is_current_possible == True:\n",
    "        for set_id, set_result in game_results.items():\n",
    "#             print('   set: ', set_id, set_result, '\\n')\n",
    "            for colour, amount in set_result.items():\n",
    "#                 print('      colour: ', colour, ', amount: ', amount, '\\n')\n",
    "                valid_amount = possible_cubes[colour]\n",
    "#                 print(f'         valid amount for {colour}', valid_amount)\n",
    "#                 print(f'         is valid?? --> {amount <= possible_cubes[colour]}')\n",
    "                if amount > possible_cubes[colour]:\n",
    "                    impossible_game_ids.append(game_id)\n",
    "                    is_current_possible = False\n",
    "                    break\n",
    "#                 print(f'         is_current_possible: {is_current_possible}', '\\n')\n",
    "        possible_game_ids.append(game_id)\n",
    "        break\n",
    "            \n",
    "        \n",
    "#     print('-------------------------------')\n",
    "\n",
    "impossible_game_ids = list(set(impossible_game_ids))\n",
    "\n",
    "print(f'impossible_game_ids: {impossible_game_ids}')\n",
    "\n",
    "\n",
    "\n",
    "## possible game ids not working, pulling all in \n",
    "## also the while clause is not being broken once is_current_possible is set to false\n",
    "\n",
    "possible_ids = [i for i in list(all_games.keys()) if i not in impossible_game_ids]\n",
    "print(f'possible_game_ids: {possible_ids}')\n",
    "print(f'sum of all possible game ids: {sum(possible_ids)}')\n",
    "\n",
    "\n",
    "len(possible_ids) + len(impossible_game_ids)"
   ]
  },
  {
   "cell_type": "code",
   "execution_count": 84,
   "id": "3dd219f0",
   "metadata": {},
   "outputs": [
    {
     "data": {
      "text/plain": [
       "[1, 2, 3, 4, 5]"
      ]
     },
     "execution_count": 84,
     "metadata": {},
     "output_type": "execute_result"
    }
   ],
   "source": [
    "\n",
    "possible_ids = list(all_games.keys())\n",
    "possible_ids\n"
   ]
  },
  {
   "cell_type": "code",
   "execution_count": 2,
   "id": "a6bc5566",
   "metadata": {
    "scrolled": true
   },
   "outputs": [],
   "source": [
    "def parse_games_list(games_list):\n",
    "    '''\n",
    "    Parsing the input which is a list of the strings, each string being a line from the original input. \n",
    "    The output is a dict with several sub-dicts in this format:\n",
    "    {game_1:\n",
    "        {set_1:\n",
    "            {colour1: amount,\n",
    "             colour2: amount\n",
    "             },\n",
    "         set_2:\n",
    "            {colour1: amount,\n",
    "             colour2: amount\n",
    "             }\n",
    "        }\n",
    "    }\n",
    "    '''\n",
    "    all_games_dict = {}\n",
    "    \n",
    "    for game_string in games_list:\n",
    "        # Splitting the string to get the game number and the sets of colors\n",
    "        parts = game_string.split(': ')\n",
    "        game_number = int(parts[0].split(' ')[1])  # Extracting the game number\n",
    "        sets = parts[1].split('; ')  # Splitting into individual sets\n",
    "\n",
    "        # Initializing the dict structure for the games\n",
    "        game_dict = {}\n",
    "\n",
    "        # Parsing each set and populating the sub-dict\n",
    "        for i, set_str in enumerate(sets, start=1):\n",
    "            colors = set_str.split(', ')\n",
    "            set_dict = {}\n",
    "            for color in colors:\n",
    "                number, color_name = color.split(' ', 1)\n",
    "                set_dict[color_name] = int(number)\n",
    "            game_dict[i] = set_dict\n",
    "\n",
    "        # Adding the parsed game to the all games dictionary\n",
    "        all_games_dict[game_number] = game_dict\n",
    "\n",
    "    return all_games_dict\n",
    "\n",
    "with open('Inputs\\day_02.txt')         as f:puz     = [l.rstrip('\\n') for l in f.readlines()]\n",
    "with open('Inputs\\day_02_sample.txt')  as f:sample  = [l.rstrip('\\n') for l in f.readlines()]\n",
    "    \n",
    "all_games = parse_games_list(puz)\n",
    "\n",
    "possible_cubes = {'red': 12 , 'blue': 13 , 'green': 14}\n"
   ]
  },
  {
   "cell_type": "code",
   "execution_count": 1,
   "id": "95f89216",
   "metadata": {},
   "outputs": [
    {
     "ename": "NameError",
     "evalue": "name 'all_games' is not defined",
     "output_type": "error",
     "traceback": [
      "\u001b[1;31m---------------------------------------------------------------------------\u001b[0m",
      "\u001b[1;31mNameError\u001b[0m                                 Traceback (most recent call last)",
      "Input \u001b[1;32mIn [1]\u001b[0m, in \u001b[0;36m<cell line: 2>\u001b[1;34m()\u001b[0m\n\u001b[0;32m      1\u001b[0m \u001b[38;5;66;03m# def is_game_possible(game):\u001b[39;00m\n\u001b[1;32m----> 2\u001b[0m \u001b[43mall_games\u001b[49m[\u001b[38;5;241m0\u001b[39m]\n",
      "\u001b[1;31mNameError\u001b[0m: name 'all_games' is not defined"
     ]
    }
   ],
   "source": [
    "# def is_game_possible(game):\n",
    "all_games[0]"
   ]
  },
  {
   "cell_type": "code",
   "execution_count": 99,
   "id": "3d5ee753",
   "metadata": {},
   "outputs": [
    {
     "name": "stdout",
     "output_type": "stream",
     "text": [
      "[1, 2, 5]\n",
      "8\n"
     ]
    }
   ],
   "source": [
    "def parse_games_list(games_list):\n",
    "    all_games_dict = {}\n",
    "    for game_string in games_list:\n",
    "        parts = game_string.split(': ')\n",
    "        game_number = int(parts[0].split(' ')[1])\n",
    "        sets = parts[1].split('; ')\n",
    "        game_dict = {}\n",
    "        for i, set_str in enumerate(sets, start=1):\n",
    "            colors = set_str.split(', ')\n",
    "            set_dict = {}\n",
    "            for color in colors:\n",
    "                number, color_name = color.split(' ', 1)\n",
    "                set_dict[color_name] = int(number)\n",
    "            game_dict[i] = set_dict\n",
    "        all_games_dict[game_number] = game_dict\n",
    "    return all_games_dict\n",
    "\n",
    "# Define the limits for the cubes\n",
    "cube_limits = {'red': 12, 'green': 13, 'blue': 14}\n",
    "\n",
    "# Function to check if a game is possible with the given cube limits\n",
    "def is_game_possible(game):\n",
    "    for set_number, colors in game.items():\n",
    "        for color, count in colors.items():\n",
    "            if count > cube_limits[color]:\n",
    "                return False\n",
    "    return True\n",
    "\n",
    "with open('Inputs\\day_02.txt')         as f:puz     = [l.rstrip('\\n') for l in f.readlines()]\n",
    "with open('Inputs\\day_02_sample.txt')  as f:sample  = [l.rstrip('\\n') for l in f.readlines()]\n",
    "\n",
    "# Assuming 'sample' contains the list of game strings as described\n",
    "games_data = parse_games_list(puz)  # Use 'puz' instead of 'sample' for the actual puzzle input\n",
    "\n",
    "possible_games = []\n",
    "for game_id, game_data in games_data.items():\n",
    "    if is_game_possible(game_data):\n",
    "        possible_games.append(game_id)\n",
    "\n",
    "# Calculate the sum of the IDs of the possible games\n",
    "sum_of_possible_game_ids = sum(possible_games)\n",
    "print(\"Sum of IDs of possible games:\", sum_of_possible_game_ids)\n"
   ]
  }
 ],
 "metadata": {
  "kernelspec": {
   "display_name": "Python 3 (ipykernel)",
   "language": "python",
   "name": "python3"
  },
  "language_info": {
   "codemirror_mode": {
    "name": "ipython",
    "version": 3
   },
   "file_extension": ".py",
   "mimetype": "text/x-python",
   "name": "python",
   "nbconvert_exporter": "python",
   "pygments_lexer": "ipython3",
   "version": "3.9.12"
  }
 },
 "nbformat": 4,
 "nbformat_minor": 5
}
