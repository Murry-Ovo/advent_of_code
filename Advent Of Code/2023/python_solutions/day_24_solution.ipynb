{
 "cells": [
  {
   "cell_type": "markdown",
   "id": "f7db200e",
   "metadata": {},
   "source": [
    "\n",
    "# Day 24\n",
    "[Link to Advent of Code 2023 - Day 24](https://adventofcode.com/2023/day/24)\n"
   ]
  },
  {
   "cell_type": "code",
   "execution_count": null,
   "id": "9be9a4bb",
   "metadata": {},
   "outputs": [],
   "source": [
    "\n",
    "with open('Inputs\\day_24.txt')         as f:puz     = [l.rstrip('\\n').split(' ') for l in f.readlines()]\n",
    "with open('Inputs\\day_24_sample.txt')  as f:sample  = [l.rstrip('\\n').split(' ') for l in f.readlines()]"
   ]
  }
 ],
 "metadata": {},
 "nbformat": 4,
 "nbformat_minor": 5
}
