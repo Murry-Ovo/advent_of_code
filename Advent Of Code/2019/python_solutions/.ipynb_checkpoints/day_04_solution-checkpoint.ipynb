{
 "cells": [
  {
   "cell_type": "markdown",
   "metadata": {},
   "source": [
    "### Inputs and Imports"
   ]
  },
  {
   "cell_type": "code",
   "execution_count": 20,
   "metadata": {},
   "outputs": [],
   "source": [
    "input_range = list(range(353096, 843213)) # adding +1 to ensure 843212 is included within the range\n",
    "sample_input_range = [111111, 123456, 122145]"
   ]
  },
  {
   "cell_type": "markdown",
   "metadata": {},
   "source": [
    "### Part One\n",
    "\n",
    "We need to find the 6 digit passcode from the given range. \n",
    "\n",
    "The range is 353096 - 843212\n",
    "\n",
    "A few key facts about the password:\n",
    "\n",
    "- It is a six-digit number.  \n",
    "- The value is within the range given in your puzzle input.  \n",
    "- Two adjacent digits are the same (like 22 in 122345).  \n",
    "- Going from left to right, the digits never decrease; they only ever increase or stay the same (like 111123 or 135679).  \n",
    "\n",
    "How many possible passwords are there within the given range?"
   ]
  },
  {
   "cell_type": "code",
   "execution_count": 77,
   "metadata": {},
   "outputs": [
    {
     "name": "stdout",
     "output_type": "stream",
     "text": [
      "there are 579 possible passwords within the given range\n"
     ]
    }
   ],
   "source": [
    "raw_input = input_range\n",
    "# raw_input = sample_input_range\n",
    "\n",
    "def matching_adjacent(password):\n",
    "    pwd = str(password)\n",
    "    if pwd[0] == pwd[1] \\\n",
    "    or pwd[1] == pwd[2] \\\n",
    "    or pwd[2] == pwd[3] \\\n",
    "    or pwd[3] == pwd[4] \\\n",
    "    or pwd[4] == pwd[5]:\n",
    "        condition = True\n",
    "    else:\n",
    "        condition = False\n",
    "    return condition    \n",
    "\n",
    "def never_decrease(password):\n",
    "    pwd = str(password)\n",
    "    if  pwd[0] <= pwd[1] \\\n",
    "    and pwd[1] <= pwd[2] \\\n",
    "    and pwd[2] <= pwd[3] \\\n",
    "    and pwd[3] <= pwd[4] \\\n",
    "    and pwd[4] <= pwd[5]:\n",
    "        condition = True\n",
    "    else:\n",
    "        condition = False\n",
    "    return condition  \n",
    "\n",
    "def possible_password_count(raw_input):\n",
    "    possible_pwd_list = []\n",
    "    for password in raw_input:\n",
    "        if never_decrease(password) and match_adjacent(password):\n",
    "            possible_pwd_list.append(password)        \n",
    "    print(f'there are {len(possible_pwd_list)} possible passwords within the given range')\n",
    "    return possible_pwd_list\n",
    "\n",
    "possible_password_list = possible_password_count(raw_input)"
   ]
  },
  {
   "cell_type": "markdown",
   "metadata": {},
   "source": [
    "### Part Two\n",
    "\n",
    "A new rulke has been introduce, if there are 2 adjacent matching numbers then the numbers on either side of those 2 numbers must NOT match. So there can only be 2 matching adjacent numbers within that string. \n",
    "\n",
    "Examples:\n",
    "- 112233 meets these criteria because the digits never decrease and all repeated digits are exactly two digits long.\n",
    "- 123444 no longer meets the criteria (the repeated 44 is part of a larger group of 444).\n",
    "- 111122 meets the criteria (even though 1 is repeated more than twice, it still contains a double 22)."
   ]
  },
  {
   "cell_type": "code",
   "execution_count": 84,
   "metadata": {},
   "outputs": [
    {
     "name": "stdout",
     "output_type": "stream",
     "text": [
      "there are 358 possible passwords within the given range\n"
     ]
    }
   ],
   "source": [
    "# function to see if a password has exactly 2 matching adjacent numbers\n",
    "def match_adjacent_only_2(password):\n",
    "    # turn the password into a list of ints so we can iterate over it\n",
    "    pwd_list = [int(x) for x in list(str(password))]\n",
    "\n",
    "    for index, num in enumerate(pwd_list): \n",
    "        # if index 0 then matching with the next num but not the num after that\n",
    "        if index == 0:\n",
    "            if pwd_list[index] == pwd_list[index+1] \\\n",
    "            and pwd_list[index] != pwd_list[index+2]:\n",
    "                condition = True\n",
    "                break\n",
    "\n",
    "        # if the last num of the password then pass (no next num to match)         \n",
    "        elif index == len(pwd_list)-1:\n",
    "            pass\n",
    "        \n",
    "        # if second from last only compare current, next and previous\n",
    "        elif index == len(pwd_list)-2:\n",
    "            if  pwd_list[index] == pwd_list[index+1] \\\n",
    "            and pwd_list[index] != pwd_list[index-1]:\n",
    "                condition = True\n",
    "                break\n",
    "\n",
    "        # otherwise match the next number but not the previous or the next-next\n",
    "        elif pwd_list[index] == pwd_list[index+1] \\\n",
    "        and  pwd_list[index] != pwd_list[index-1] \\\n",
    "        and  pwd_list[index] != pwd_list[index+2]:\n",
    "            condition = True\n",
    "            break\n",
    "        \n",
    "        # if none of the above then there are not exactly 2 matching adjacent numbers\n",
    "        else:\n",
    "            condition = False\n",
    "\n",
    "    return condition\n",
    "\n",
    "# reusing the same function but switching out the 'match_adjacent' check with 'match_adjacent_only_2'\n",
    "def possible_password_count_v2(raw_input):\n",
    "    possible_pwd_list = []\n",
    "    for password in raw_input:\n",
    "        if never_decrease(password) and match_adjacent_only_2(password):\n",
    "            possible_pwd_list.append(password)        \n",
    "    print(f'there are {len(possible_pwd_list)} possible passwords within the given range')\n",
    "    return possible_pwd_list\n",
    "\n",
    "possible_password_list = possible_password_count_v2(raw_input)"
   ]
  }
 ],
 "metadata": {
  "kernelspec": {
   "display_name": "Python 3 (ipykernel)",
   "language": "python",
   "name": "python3"
  },
  "language_info": {
   "codemirror_mode": {
    "name": "ipython",
    "version": 3
   },
   "file_extension": ".py",
   "mimetype": "text/x-python",
   "name": "python",
   "nbconvert_exporter": "python",
   "pygments_lexer": "ipython3",
   "version": "3.8.12"
  }
 },
 "nbformat": 4,
 "nbformat_minor": 4
}
