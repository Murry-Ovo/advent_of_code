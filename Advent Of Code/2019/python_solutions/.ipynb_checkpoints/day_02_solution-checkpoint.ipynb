{
 "cells": [
  {
   "cell_type": "markdown",
   "metadata": {},
   "source": [
    "### Inputs and Imports"
   ]
  },
  {
   "cell_type": "code",
   "execution_count": 74,
   "metadata": {},
   "outputs": [],
   "source": [
    "import copy\n",
    "\n",
    "input_file_list = []\n",
    "sample_input_file_list = []\n",
    "\n",
    "day = '02'\n",
    "\n",
    "with open(f'Inputs\\\\day_{day}.txt', 'r') as input_file: \n",
    "    for line in input_file.readlines():\n",
    "        input_file_list.append(line.rstrip('\\n').split(','))\n",
    "    input_file_list = [int(x) for x in input_file_list[0]]    \n",
    "with open(f'C:Inputs\\\\day_{day}_sample.txt', 'r') as input_file: \n",
    "    for line in input_file.readlines():\n",
    "        sample_input_file_list.append(line.rstrip('\\n').split(',')) \n",
    "        sample_input_file_list = [int(x) for x in sample_input_file_list[0]] \n",
    "\n",
    "########################        \n",
    "# Part One Sample Answer: final_intcode = [3500,9,10,70,2,3,11,0,99,30,40,50]\n",
    "########################\n",
    "# Part Two Sample Answer:\n",
    "########################"
   ]
  },
  {
   "cell_type": "markdown",
   "metadata": {},
   "source": [
    "### Part One"
   ]
  },
  {
   "cell_type": "code",
   "execution_count": 55,
   "metadata": {},
   "outputs": [
    {
     "data": {
      "text/plain": [
       "[1, 9, 10, 3, 2, 3, 11, 0, 99, 30, 40, 50]"
      ]
     },
     "execution_count": 55,
     "metadata": {},
     "output_type": "execute_result"
    }
   ],
   "source": [
    "sample_input_file_list"
   ]
  },
  {
   "cell_type": "code",
   "execution_count": 107,
   "metadata": {},
   "outputs": [
    {
     "data": {
      "text/plain": [
       "6327510"
      ]
     },
     "execution_count": 107,
     "metadata": {},
     "output_type": "execute_result"
    }
   ],
   "source": [
    "## adding copy() function so the original is not overwritten by the functions\n",
    "intcode         = copy.copy(input_file_list)\n",
    "# intcode         = copy.copy(sample_input_file_list)\n",
    "\n",
    "def opcode_1(intcode, start_index):\n",
    "    sum_pos_1, sum_pos_2 = intcode[start_index+1:start_index+3]\n",
    "    new_num = intcode[sum_pos_1] + intcode[sum_pos_2]\n",
    "    store_pos = intcode[start_index+3]\n",
    "    return new_num, store_pos\n",
    "\n",
    "def opcode_2(intcode, start_index):\n",
    "    sum_pos_1, sum_pos_2 = intcode[start_index+1:start_index+3]\n",
    "    new_num = intcode[sum_pos_1] * intcode[sum_pos_2]\n",
    "    store_pos = intcode[start_index+3]\n",
    "    return new_num, store_pos\n",
    "\n",
    "## function to run through the intcode and return the outcode (the final value at position 0)\n",
    "def run_intcode(intcode):\n",
    "#     print(f'starting intcode = \\n{intcode}')\n",
    "    start_index = 0\n",
    "    opcode = intcode[start_index]\n",
    "    counter = 0 # adding to stop at an arbitrary number\n",
    "    while opcode != 99:\n",
    "        new_num, store_pos = opcode_1(intcode, start_index) if opcode == 1 else opcode_2(intcode, start_index)\n",
    "        intcode[store_pos] = new_num\n",
    "        start_index = start_index+4\n",
    "        opcode = intcode[start_index]\n",
    "        \n",
    "        ## counter break just to stop running forever in the case of a an error\n",
    "        counter =+1\n",
    "        if counter > 1000:\n",
    "            break\n",
    "#     print(f'closing intcode = \\n{intcode}\\n', '-'*50) \n",
    "    return intcode[0]\n",
    "\n",
    "## function to update the indexes 1 and 2 of the intcode based on the program alarm\n",
    "def update_intcode(intcode, new_num_1, new_num_2):\n",
    "    intcode[1] = new_num_1\n",
    "    intcode[2] = new_num_2\n",
    "    return intcode\n",
    "    \n",
    "updated_intcode = update_intcode(intcode, 12, 2)\n",
    "outcode = run_intcode(updated_intcode)\n",
    "outcode"
   ]
  },
  {
   "cell_type": "markdown",
   "metadata": {},
   "source": [
    "### Part Two"
   ]
  },
  {
   "cell_type": "code",
   "execution_count": 111,
   "metadata": {},
   "outputs": [
    {
     "name": "stdout",
     "output_type": "stream",
     "text": [
      "4112\n"
     ]
    }
   ],
   "source": [
    "## adding copy() function so the original is not overwritten by the functions\n",
    "intcode = copy.copy(input_file_list)\n",
    "\n",
    "# create a list of all possible combinations of numbers from 0 to desired max number\n",
    "def create_noun_verb_list(max_number):\n",
    "    noun_verb_list = []\n",
    "    for noun in range(0,max_number):\n",
    "        for verb in range(0,max_number):\n",
    "            noun_verb_list.append([noun, verb])\n",
    "    return noun_verb_list\n",
    "\n",
    "# create all combinations of 0:100\n",
    "noun_verb_list = create_noun_verb_list(100)\n",
    "\n",
    "# iterate through these combinations until you get the 2 numbers which create the final outcode of 19690720\n",
    "for noun, verb in noun_verb_list:\n",
    "    updated_intcode = update_intcode(intcode, noun, verb).copy()\n",
    "    outcode = run_intcode(updated_intcode)\n",
    "    if outcode == 19690720:\n",
    "        final_noun = noun\n",
    "        final_verb = verb\n",
    "        break\n",
    "    \n",
    "print(100*final_noun+final_verb)    \n",
    "    "
   ]
  }
 ],
 "metadata": {
  "kernelspec": {
   "display_name": "Python 3 (ipykernel)",
   "language": "python",
   "name": "python3"
  },
  "language_info": {
   "codemirror_mode": {
    "name": "ipython",
    "version": 3
   },
   "file_extension": ".py",
   "mimetype": "text/x-python",
   "name": "python",
   "nbconvert_exporter": "python",
   "pygments_lexer": "ipython3",
   "version": "3.8.12"
  }
 },
 "nbformat": 4,
 "nbformat_minor": 4
}
