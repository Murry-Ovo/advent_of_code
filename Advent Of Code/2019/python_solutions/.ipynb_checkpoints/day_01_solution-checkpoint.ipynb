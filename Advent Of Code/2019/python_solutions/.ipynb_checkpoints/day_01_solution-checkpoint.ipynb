{
 "cells": [
  {
   "cell_type": "markdown",
   "metadata": {},
   "source": [
    "### Inputs and Imports"
   ]
  },
  {
   "cell_type": "code",
   "execution_count": 13,
   "metadata": {},
   "outputs": [],
   "source": [
    "import math\n",
    "\n",
    "input_file_list = []\n",
    "sample_input_file_list = []\n",
    "\n",
    "day = '01'\n",
    "\n",
    "with open(f'Inputs\\\\day_{day}.txt', 'r') as input_file: \n",
    "    for line in input_file.readlines():\n",
    "        input_file_list.append(int(line.rstrip('\\n')))\n",
    "with open(f'C:Inputs\\\\day_{day}_sample.txt', 'r') as input_file: \n",
    "    for line in input_file.readlines():\n",
    "        sample_input_file_list.append(int(line.rstrip('\\n')))        \n",
    "\n",
    "########################        \n",
    "# Part One Sample Answer: 2, 2, 654, 33583 (34,241)\n",
    "########################\n",
    "# Part Two Sample Answer: 2, 2, 966, 50346\n",
    "########################"
   ]
  },
  {
   "cell_type": "markdown",
   "metadata": {},
   "source": [
    "### Part One\n",
    "\n",
    "We need to calculate the fuel require to launch a load of modules into space. we are given the list of masses of each module and have to calculate the sum fuel required to launch. \n",
    "\n",
    "To calculate the fuel required for any give mass we must do the following:\n",
    "\n",
    "mass / 3\n",
    "round down \n",
    "subtract 2"
   ]
  },
  {
   "cell_type": "code",
   "execution_count": 25,
   "metadata": {},
   "outputs": [
    {
     "name": "stdout",
     "output_type": "stream",
     "text": [
      "--total fuel required = 34241\n",
      "--fuel_required list = [2, 2, 654, 33583]\n"
     ]
    }
   ],
   "source": [
    "# raw_input = input_file_list\n",
    "raw_input = sample_input_file_list\n",
    "\n",
    "# calculates the fuel required for any give mass\n",
    "def calc_f_req(mass):\n",
    "    fuel_required = (math.floor(mass/3))-2\n",
    "    return fuel_required\n",
    "\n",
    "# iterate over the input to add the fuel required to a list\n",
    "f_req_list = [calc_f_req(mass) for mass in raw_input]\n",
    "\n",
    "print(f'-- total fuel required = {sum(f_req_list)}\\n-- fuel_required list = {f_req_list}')    \n",
    "    "
   ]
  },
  {
   "cell_type": "markdown",
   "metadata": {},
   "source": [
    "### Part Two\n",
    "\n",
    "We forgot to calculate the additional mass required by the extra fuel!!! so continue to calculae the fuel required for each amount of fuel until that fuel requirement is 0 or a negative number (if fuel requirement is 8 or below do not calculate the fuel as that would be 0 or a negative number)."
   ]
  },
  {
   "cell_type": "code",
   "execution_count": 38,
   "metadata": {},
   "outputs": [
    {
     "name": "stdout",
     "output_type": "stream",
     "text": [
      "-- total fuel required = 5089160\n",
      "-- fuel_required list = [59966, 45727, 44869, 65012, 51454, 52849, 35092, 47712, 36693, 45010, 69186, 26166, 57802, 56655, 62859, 48662, 61981, 34763, 64700, 43246, 42448, 71424, 56628, 30892, 26598, 52538, 73278, 52564, 49317, 71444, 52811, 41426, 56263, 46445, 57149, 35414, 44889, 44979, 62885, 59687, 48811, 37285, 47147, 56523, 59207, 61189, 32306, 27383, 53930, 73470, 63890, 48329, 72331, 64046, 42626, 52477, 49829, 27188, 50989, 38353, 57995, 29981, 29866, 39636, 72128, 66707, 41858, 52475, 50961, 38718, 35070, 41998, 71652, 41003, 47212, 39055, 54931, 58290, 53566, 73489, 69351, 27262, 48759, 47659, 53377, 35785, 57881, 66518, 38754, 71243, 65495, 61273, 26524, 65397, 35642, 57301, 28376, 43190, 73092, 72898]\n"
     ]
    }
   ],
   "source": [
    "raw_input = input_file_list\n",
    "# raw_input = sample_input_file_list\n",
    "\n",
    "# calculate the fuel req for each module plus the fuel req for the fuel\n",
    "def calc_f_req_of_f(raw_input):\n",
    "    fuel_required = []\n",
    "    for mass in raw_input:\n",
    "        new_mass = calc_f_req(mass)\n",
    "        # if the fuel req is less than or equal to 8 add to the list\n",
    "        if new_mass <= 8:\n",
    "            fuel_required.append(new_mass)     \n",
    "        # otherwise keep calculating the fuel requirement\n",
    "        else:\n",
    "            sub_fuel_list = [new_mass]\n",
    "            while new_mass > 8:\n",
    "                new_mass = calc_f_req(new_mass)\n",
    "                sub_fuel_list.append(new_mass)\n",
    "            fuel_required.append(sum(sub_fuel_list))\n",
    "    print(f'-- total fuel required = {sum(fuel_required)}\\n-- fuel_required list = {fuel_required}')   \n",
    "    return fuel_required\n",
    "\n",
    "fuel_required = calc_f_req_of_f(raw_input)"
   ]
  }
 ],
 "metadata": {
  "kernelspec": {
   "display_name": "Python 3 (ipykernel)",
   "language": "python",
   "name": "python3"
  },
  "language_info": {
   "codemirror_mode": {
    "name": "ipython",
    "version": 3
   },
   "file_extension": ".py",
   "mimetype": "text/x-python",
   "name": "python",
   "nbconvert_exporter": "python",
   "pygments_lexer": "ipython3",
   "version": "3.8.12"
  }
 },
 "nbformat": 4,
 "nbformat_minor": 4
}
