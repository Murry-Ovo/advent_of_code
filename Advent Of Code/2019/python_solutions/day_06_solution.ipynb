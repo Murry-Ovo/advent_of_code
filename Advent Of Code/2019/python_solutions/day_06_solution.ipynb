{
 "cells": [
  {
   "cell_type": "markdown",
   "metadata": {},
   "source": [
    "### Inputs and Imports"
   ]
  },
  {
   "cell_type": "code",
   "execution_count": 8,
   "metadata": {},
   "outputs": [],
   "source": [
    "input_file_list = []\n",
    "sample_input_file_list = []\n",
    "sample2_input_file_list = []\n",
    "\n",
    "day = '06'\n",
    "\n",
    "with open(f'Inputs\\\\day_{day}.txt', 'r') as input_file: \n",
    "    for line in input_file.readlines():\n",
    "        input_file_list.append(line.rstrip('\\n').split(')'))\n",
    "with open(f'C:Inputs\\\\day_{day}_sample.txt', 'r') as input_file: \n",
    "    for line in input_file.readlines():\n",
    "        sample_input_file_list.append(line.rstrip('\\n').split(')'))\n",
    "with open(f'C:Inputs\\\\day_{day}_sample2.txt', 'r') as input_file: \n",
    "    for line in input_file.readlines():\n",
    "        sample2_input_file_list.append(line.rstrip('\\n').split(')'))        \n",
    "\n",
    "########################        \n",
    "# Part One Sample Answer: 42\n",
    "########################\n",
    "# Part Two Sample Answer: 4 \n",
    "########################"
   ]
  },
  {
   "cell_type": "markdown",
   "metadata": {},
   "source": [
    "### Part One\n",
    "\n",
    "We are given a list of objects and the objects which they orbit within space in the format of COM)A and A)B where A orbits COM and B orbits A (and indirectly COM. With COM being the universal Centre Of Mass which does not orbit any other object. \n",
    "\n",
    "We have to calculate the total number of direct and indirect orbits for the given input. \n"
   ]
  },
  {
   "cell_type": "code",
   "execution_count": 4,
   "metadata": {},
   "outputs": [
    {
     "name": "stdout",
     "output_type": "stream",
     "text": [
      "There are 162439 direct and indirect orbits within the list of orbit chains\n"
     ]
    }
   ],
   "source": [
    "raw_input = input_file_list.copy()\n",
    "# raw_input = sample_input_file_list.copy()\n",
    "\n",
    "orbit_list = [[x[1], x[0]] for x in raw_input] # turning into a list and reordering to planet,orbit\n",
    "orbit_dict = {x[1]: x[0] for x in raw_input} # turning into a dict and reordering to planet,orbit\n",
    "\n",
    "# creates a list of lists, each inner list is the chain of orbits x orbits y which orbits z etc.. \n",
    "def create_orbit_chain_list(orbit_dict):\n",
    "    orbit_chain_list = []\n",
    "    for outer_planet, inner_planet in orbit_dict.items():\n",
    "\n",
    "        # start to create a list of all planets in this 'chain of orbits'\n",
    "        orbit_chain = [outer_planet, inner_planet]\n",
    "\n",
    "        # stop when the inner planet is the Centre Of Mass\n",
    "        while inner_planet != 'COM':\n",
    "            # inner planet updates to be the planet the previous inner planet was orbiting\n",
    "            inner_planet = orbit_dict[inner_planet]\n",
    "            # add that planet to the current orbit chain  \n",
    "            orbit_chain.append(inner_planet)\n",
    "        # append this completed orbit chain to list of orbit chains\n",
    "        orbit_chain_list.append(orbit_chain)\n",
    "    return orbit_chain_list\n",
    "    \n",
    "def count_orbits(orbit_chains):\n",
    "    # starting sum if minus the list length as \n",
    "    orbit_sum = 0\n",
    "    for orb_chain in orbit_chains:\n",
    "        # adding the the length of each chain to the total count of orbits\n",
    "        orbit_sum += len(orb_chain[1:]) # ignoring first planet in each chain as it has not planet orbiting it\n",
    "    print(f'There are {orbit_sum} direct and indirect orbits within the list of orbit chains')\n",
    "    return orbit_sum\n",
    "\n",
    "orb_chains = create_orbit_chain_list(orbit_dict)\n",
    "orbit_sum = count_orbits(orb_chains)\n",
    " "
   ]
  },
  {
   "cell_type": "markdown",
   "metadata": {},
   "source": [
    "### Part Two\n",
    "\n",
    "You now how to work out the minimum number of orbital transfers required to get from your position (YOU) to Santa's position (SAN). \n",
    "\n",
    "An orbital transfer is each link in the chain of an orbital chain, e.g in the following there will be 4 links to get from Your position at K to Santa's position at I (K - J - E - D - I):\n",
    "\n",
    "```\n",
    "                         YOU\n",
    "                         /\n",
    "        G - H       J - K - L\n",
    "       /           /\n",
    "COM - B - C - D - E - F\n",
    "               \\\n",
    "                I - SAN\n",
    "```                "
   ]
  },
  {
   "cell_type": "code",
   "execution_count": 54,
   "metadata": {},
   "outputs": [],
   "source": [
    "# raw_input = sample2_input_file_list.copy()\n",
    "raw_input = input_file_list.copy()\n",
    "\n",
    "orbit_dict = {x[1]: x[0] for x in raw_input}\n",
    "\n",
    "\n",
    "\n",
    "def find_transfers(orbital_chains):\n",
    "    # assigning chain from you to COM and santa to COM to variables    \n",
    "    for chain in orb_chains:\n",
    "        if chain[0] == 'YOU': you_chain = chain\n",
    "        if chain[0] == 'SAN': san_chain = chain\n",
    "\n",
    "    # iterate through the planets within the 'YOU' chain \n",
    "    # assign the first planet which is also in the 'SAN' chain to the common_planet variable then stop \n",
    "    for planet in you_chain[1:]:\n",
    "        common_planet = planet if planet in san_chain else None\n",
    "        if common_planet:\n",
    "            break\n",
    "\n",
    "    # filtering out the planets between COM and the common planet from each chain, then combining       \n",
    "    you_chain_split = you_chain[:you_chain.index(common_planet)+1] # includes the common planet\n",
    "    san_chain_split = san_chain[:san_chain.index(common_planet)]   # excludes the common planet \n",
    "    you_san_chain = [*you_chain_split, *reversed(san_chain_split)]\n",
    "    \n",
    "    transfers = len(you_san_chain)-3\n",
    "    print(f'There are are {transfers} orbital transfers required to get from you to Santa')\n",
    "    return you_san_chain\n",
    "\n",
    "orb_chains = create_orbit_chain_list(orbit_dict)\n",
    "you_san_chain = find_transfers(orbital_chains)"
   ]
  }
 ],
 "metadata": {
  "kernelspec": {
   "display_name": "Python 3 (ipykernel)",
   "language": "python",
   "name": "python3"
  },
  "language_info": {
   "codemirror_mode": {
    "name": "ipython",
    "version": 3
   },
   "file_extension": ".py",
   "mimetype": "text/x-python",
   "name": "python",
   "nbconvert_exporter": "python",
   "pygments_lexer": "ipython3",
   "version": "3.8.12"
  }
 },
 "nbformat": 4,
 "nbformat_minor": 4
}
