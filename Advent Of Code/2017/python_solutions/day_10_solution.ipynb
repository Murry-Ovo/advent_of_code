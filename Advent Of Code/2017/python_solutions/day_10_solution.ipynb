{
 "cells": [
  {
   "cell_type": "markdown",
   "metadata": {},
   "source": [
    "### Day 10\n",
    "\n",
    "--- Day 10: Knot Hash ---\n",
    "You come across some programs that are trying to implement a software emulation of a hash based on knot-tying. The hash these programs are implementing isn't very strong, but you decide to help them anyway. You make a mental note to remind the Elves later not to invent their own cryptographic functions.\n",
    "\n",
    "This hash function simulates tying a knot in a circle of string with 256 marks on it. Based on the input to be hashed, the function repeatedly selects a span of string, brings the ends together, and gives the span a half-twist to reverse the order of the marks within it. After doing this many times, the order of the marks is used to build the resulting hash.\n",
    "\n",
    "```\n",
    "  4--5   pinch   4  5           4   1\n",
    " /    \\  5,0,1  / \\/ \\  twist  / \\ / \\\n",
    "3      0  -->  3      0  -->  3   X   0\n",
    " \\    /         \\ /\\ /         \\ / \\ /\n",
    "  2--1           2  1           2   5\n",
    "```\n",
    "To achieve this, begin with a list of numbers from 0 to 255, a current position which begins at 0 (the first element in the list), a skip size (which starts at 0), and a sequence of lengths (your puzzle input). Then, for each length:\n",
    "\n",
    "- Reverse the order of that length of elements in the list, starting with the element at the current position.\n",
    "- Move the current position forward by that length plus the skip size.\n",
    "- Increase the skip size by one.\n",
    "- The list is circular; if the current position and the length try to reverse elements beyond the end of the list, the operation reverses using as many extra elements as it needs from the front of the list. If the current position moves past the end of the list, it wraps around to the front. Lengths larger than the size of the list are invalid.\n",
    "\n",
    "Here's an example using a smaller list:\n",
    "\n",
    "Suppose we instead only had a circular list containing five elements, 0, 1, 2, 3, 4, and were given input lengths of 3, 4, 1, 5.\n",
    "\n",
    "- The list begins as `[0] 1 2 3 4` (where square brackets indicate the current position).\n",
    "- The first length, `3`, selects `([0] 1 2) 3 4` (where parentheses indicate the sublist to be reversed).\n",
    "- After reversing that section `(0 1 2 into 2 1 0)`, we get `([2] 1 0) 3 4`.\n",
    "- Then, the current position moves forward by the length, 3, plus the skip size, `0`: `2 1 0 [3] 4`. Finally, the skip size increases to `1`.\n",
    "- The second length, `4`, selects a section which wraps: `2 1) 0 ([3] 4`.\n",
    "- The sublist `3 4 2 1` is reversed to form `1 2 4 3`: `4 3) 0 ([1] 2`.\n",
    "- The current position moves forward by the length plus the skip size, a total of `5`, causing it not to move because it wraps around: `4 3 0 [1] 2`. The skip size increases to `2`.\n",
    "- The third length, `1`, selects a sublist of a single element, and so reversing it has no effect.\n",
    "- The current position moves forward by the length `(1)` plus the skip size `(2)`: `4 [3] 0 1 2`. The skip size increases to `3`.\n",
    "- The fourth length, `5`, selects every element starting with the second: `4) ([3] 0 1 2`. Reversing this sublist `(3 0 1 2 4` into `4 2 1 0 3)` produces: `3) ([4] 2 1 0`.\n",
    "- Finally, the current position moves forward by `8`: `3 4 2 1 [0]`. The skip size increases to `4`.\n",
    "\n",
    "In this example, the first two numbers in the list end up being 3 and 4; to check the process, you can multiply them together to produce 12.\n",
    "\n",
    "However, you should instead use the standard list size of 256 (with values 0 to 255) and the sequence of lengths in your puzzle input. Once this process is complete, what is the result of multiplying the first two numbers in the list?"
   ]
  },
  {
   "cell_type": "code",
   "execution_count": 73,
   "metadata": {
    "scrolled": true
   },
   "outputs": [
    {
     "name": "stdout",
     "output_type": "stream",
     "text": [
      "The first two numbers on the list multiplied = 62238\n"
     ]
    }
   ],
   "source": [
    "input_style = 'puz'\n",
    "\n",
    "# defining legths (input) based on if we're using 'main' or 'sample' input \n",
    "lengths = [157,222,1,2,177,254,0,228,159,140,249,187,255,51,76,30] if input_style == 'puz' else [3, 4, 1, 5]\n",
    "\n",
    "# defining list based on 'sample' or 'main' input\n",
    "list_ = list(range(0,256)) if input_style == 'puz' else list(range(0,5))\n",
    "\n",
    "cur_pos   = 0\n",
    "skip_size = 0\n",
    "\n",
    "for length in lengths:  \n",
    "    if length == 1: pass\n",
    "    \n",
    "    else:\n",
    "        # create a temporary list where everything up to the current position is added to the end of the list\n",
    "        temp_list = list_[cur_pos:] + list_[:cur_pos]\n",
    "        # reverse the elements which will be included in the 'length'\n",
    "        rev_list  = list(reversed(temp_list[0:length])) + temp_list[length:]\n",
    "        # swap the end and start of the list again by doing the inverse of the 'temp_list' creation\n",
    "        new_list  = rev_list[-cur_pos:] + rev_list[:-cur_pos]\n",
    "\n",
    "    # update the current position and skip size variables\n",
    "    cur_pos = (cur_pos + (length + skip_size)) % len(list_)\n",
    "    skip_size += 1\n",
    "    \n",
    "    list_ = new_list\n",
    "    \n",
    "print(f'The first two numbers on the list multiplied = {list_[0]*list_[1]}')      \n",
    "    "
   ]
  },
  {
   "cell_type": "code",
   "execution_count": 82,
   "metadata": {},
   "outputs": [
    {
     "name": "stdout",
     "output_type": "stream",
     "text": [
      "\u0011\n",
      "\u001f\n",
      "I\n",
      "/\n",
      "\u0017\n"
     ]
    }
   ],
   "source": []
  }
 ],
 "metadata": {
  "kernelspec": {
   "display_name": "Python 3 (ipykernel)",
   "language": "python",
   "name": "python3"
  },
  "language_info": {
   "codemirror_mode": {
    "name": "ipython",
    "version": 3
   },
   "file_extension": ".py",
   "mimetype": "text/x-python",
   "name": "python",
   "nbconvert_exporter": "python",
   "pygments_lexer": "ipython3",
   "version": "3.8.12"
  }
 },
 "nbformat": 4,
 "nbformat_minor": 4
}
