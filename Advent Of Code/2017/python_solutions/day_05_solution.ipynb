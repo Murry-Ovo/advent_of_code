{
 "cells": [
  {
   "cell_type": "markdown",
   "metadata": {},
   "source": [
    "# Day 5: A Maze of Twisty Trampolines, All Alike ---\n",
    "\n",
    "An urgent interrupt arrives from the CPU: it's trapped in a maze of jump instructions, and it would like assistance from any programs with spare cycles to help find the exit.\n",
    "\n",
    "The message includes a list of the offsets for each jump. Jumps are relative: -1 moves to the previous instruction, and 2 skips the next one. Start at the first instruction in the list. The goal is to follow the jumps until one leads outside the list.\n",
    "\n",
    "In addition, these instructions are a little strange; after each jump, the offset of that instruction increases by 1. So, if you come across an offset of 3, you would move three instructions forward, but change it to a 4 for the next time it is encountered.\n",
    "\n",
    "For example, consider the following list of jump offsets:\n",
    "```\n",
    "0\n",
    "3\n",
    "0\n",
    "1\n",
    "-3\n",
    "```\n",
    "\n",
    "Positive jumps (\"forward\") move downward; negative jumps move upward. For legibility in this example, these offset values will be written all on one line, with the current instruction marked in parentheses. The following steps would be taken before an exit is found:\n",
    "\n",
    "- `(0) 3  0  1  -3`  - before we have taken any steps.\n",
    "- `(1) 3  0  1  -3`  - jump with offset 0 (that is, don't jump at all). Fortunately, the instruction is then incremented to 1.\n",
    "-  `2 (3) 0  1  -3`  - step forward because of the instruction we just modified. The first instruction is incremented again, now to 2.\n",
    "-  `2  4  0  1 (-3)` - jump all the way to the end; leave a 4 behind.\n",
    "-  `2 (4) 0  1  -2` - go back to where we just were; increment -3 to -2.\n",
    "-  `2  5  0  1  -2`  - jump 4 steps forward, escaping the maze.\n",
    "\n",
    "In this example, the exit is reached in 5 steps.\n",
    "\n",
    "### Part One\n",
    "\n",
    "How many steps does it take to reach the exit?\n",
    "\n",
    "### Part Two\n",
    "\n",
    "Now, the jumps are even stranger: after each jump, if the offset was three or more, instead decrease it by 1. Otherwise, increase it by 1 as before.\n",
    "\n",
    "Using this rule with the above example, the process now takes 10 steps, and the offset values after finding the exit are left as `2 3 2 3 -1`.\n",
    "\n",
    "How many steps does it now take to reach the exit?"
   ]
  },
  {
   "cell_type": "markdown",
   "metadata": {},
   "source": [
    "### Solution"
   ]
  },
  {
   "cell_type": "code",
   "execution_count": 104,
   "metadata": {},
   "outputs": [
    {
     "name": "stdout",
     "output_type": "stream",
     "text": [
      "Part 1 - Number of steps to reach to exit = 5\n",
      "Part 2 - Number of steps to reach to exit = 10\n"
     ]
    }
   ],
   "source": [
    "def jump_sim(sample: bool, part: int) -> 'prints how many steps to exit the offset list':\n",
    "    '''\n",
    "    - Takes 2 inputs:\n",
    "        - A True / False to dictate whether to use the sample or actual puzzle input\n",
    "        - An int of either 1/2 to dictate whther you are looking for the answer to part one or two\n",
    "    \n",
    "    - Imports the puzzle input (a list of numbers/'offsets')\n",
    "    - Iterates through that list moving to the next index based on the value at the current index\n",
    "    - Updates the value of the previous index\n",
    "    - Continues until you have moved outside of the list  \n",
    "    - Outputs a print statement which dictates the amount of steps required to exit the offset list\n",
    "    '''    \n",
    "    \n",
    "    # create the list of offsets ('puz') from the puzzle input file\n",
    "    path = 'Inputs\\\\day_05.txt' if sample == False else 'Inputs\\\\day_05_sample.txt'  \n",
    "    with open(path) as f: puz = [int(l) for l in f.readlines()]   \n",
    "    \n",
    "    # set initial values\n",
    "    cur_idx = 0\n",
    "    steps = 0\n",
    "    \n",
    "    while 0 <= cur_idx <= len(puz)-1:\n",
    "        nxt_idx = cur_idx + puz[cur_idx]\n",
    "        # update the index (if part one +1 regardless, if part 2 +1 if index is under 3, otherwise -1)\n",
    "        if   part == 1:\n",
    "            puz[cur_idx] += 1\n",
    "        else:\n",
    "            puz[cur_idx] += 1 if puz[cur_idx] < 3 else -1\n",
    "        \n",
    "        # more succinct version of ^, not sure if this is better or harder to understand?\n",
    "#         puz[cur_idx] += 1 if part == 1 else 1 if puz[cur_idx] < 3 else -1\n",
    "        \n",
    "        # increase the steps counter\n",
    "        steps += 1\n",
    "        # update the current index\n",
    "        cur_idx = nxt_idx\n",
    "    print(f'Part {part} - Number of steps to reach to exit = {steps}')  \n",
    "    \n",
    "use_sample = True     \n",
    "\n",
    "jump_sim(use_sample, 1)\n",
    "jump_sim(use_sample, 2)     "
   ]
  },
  {
   "cell_type": "markdown",
   "metadata": {},
   "source": [
    "### Code Golf"
   ]
  },
  {
   "cell_type": "code",
   "execution_count": 98,
   "metadata": {
    "scrolled": true
   },
   "outputs": [
    {
     "name": "stdout",
     "output_type": "stream",
     "text": [
      "Part 1 - Number of steps to reach to exit = 5\n",
      "Part 2 - Number of steps to reach to exit = 10\n"
     ]
    }
   ],
   "source": [
    "for prt in range(2):  \n",
    "    p = [int(l) for l in open('Inputs\\\\day_05_sample.txt').readlines()]; cidx, stp = 0, 0 \n",
    "    while 0 <= cidx <= len(p)-1:\n",
    "        nidx = cidx + p[cidx]; p[cidx] += 1 if prt+1 == 1 else 1 if p[cidx] < 3 else -1\n",
    "        stp += 1; cidx = nidx\n",
    "    print(f'Part {prt+1} - Number of steps to reach to exit = {stp}')"
   ]
  }
 ],
 "metadata": {
  "kernelspec": {
   "display_name": "Python 3 (ipykernel)",
   "language": "python",
   "name": "python3"
  },
  "language_info": {
   "codemirror_mode": {
    "name": "ipython",
    "version": 3
   },
   "file_extension": ".py",
   "mimetype": "text/x-python",
   "name": "python",
   "nbconvert_exporter": "python",
   "pygments_lexer": "ipython3",
   "version": "3.8.12"
  }
 },
 "nbformat": 4,
 "nbformat_minor": 4
}
