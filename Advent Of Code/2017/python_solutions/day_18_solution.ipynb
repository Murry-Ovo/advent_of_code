{
 "cells": [
  {
   "cell_type": "markdown",
   "id": "cd319f8b",
   "metadata": {},
   "source": [
    "\n",
    "# Day 18\n",
    "[Link to Advent of Code 2017 - Day 18](https://adventofcode.com/2017/day/18)\n"
   ]
  },
  {
   "cell_type": "code",
   "execution_count": null,
   "id": "fb2b7d71",
   "metadata": {},
   "outputs": [],
   "source": [
    "\n",
    "with open('Inputs\\day_18.txt')         as f:puz     = [l.rstrip('\\n').split(' ') for l in f.readlines()]\n",
    "with open('Inputs\\day_18_sample.txt')  as f:sample  = [l.rstrip('\\n').split(' ') for l in f.readlines()]"
   ]
  }
 ],
 "metadata": {},
 "nbformat": 4,
 "nbformat_minor": 5
}
