{
 "cells": [
  {
   "cell_type": "markdown",
   "id": "cd319f8b",
   "metadata": {},
   "source": [
    "\n",
    "# Day 18: Duet\n",
    "[Link to Advent of Code 2017 - Day 18](https://adventofcode.com/2017/day/18)\n",
    "\n",
    "\n",
    "You discover a tablet containing some strange assembly code labeled simply \"Duet\". Rather than bother the sound card with it, you decide to run the code yourself. Unfortunately, you don't see any documentation, so you're left to figure out what the instructions mean on your own.\n",
    "\n",
    "It seems like the assembly is meant to operate on a set of registers that are each named with a single letter and that can each hold a single integer. You suppose each register should start with a value of 0.\n",
    "\n",
    "There aren't that many instructions, so it shouldn't be hard to figure out what they do. Here's what you determine:\n",
    "\n",
    "- snd X plays a sound with a frequency equal to the value of X.\n",
    "- set X Y sets register X to the value of Y.\n",
    "- add X Y increases register X by the value of Y.\n",
    "- mul X Y sets register X to the result of multiplying the value contained in register X by the value of Y.\n",
    "- mod X Y sets register X to the remainder of dividing the value contained in register X by the value of Y (that is, it sets X to the result of X modulo Y).\n",
    "- rcv X recovers the frequency of the last sound played, but only when the value of X is not zero. (If it is zero, the command does nothing.)\n",
    "- jgz X Y jumps with an offset of the value of Y, but only if the value of X is greater than zero. (An offset of 2 skips the next instruction, an offset of -1 jumps to the previous instruction, and so on.)\n",
    "\n",
    "Many of the instructions can take either a register (a single letter) or a number. The value of a register is the integer it contains; the value of a number is that number.\n",
    "\n",
    "After each jump instruction, the program continues with the instruction to which the jump jumped. After any other instruction, the program continues with the next instruction. Continuing (or jumping) off either end of the program terminates it.\n",
    "\n",
    "For example:\n",
    "```\n",
    "set a 1\n",
    "add a 2\n",
    "mul a a\n",
    "mod a 5\n",
    "snd a\n",
    "set a 0\n",
    "rcv a\n",
    "jgz a -1\n",
    "set a 1\n",
    "jgz a -2\n",
    "```\n",
    "- The first four instructions set a to 1, add 2 to it, square it, and then set it to itself modulo 5, resulting in a value of 4.\n",
    "- Then, a sound with frequency 4 (the value of a) is played.\n",
    "- After that, a is set to 0, causing the subsequent rcv and jgz instructions to both be skipped (rcv because a is 0, and jgz because a is not greater than 0).\n",
    "- Finally, a is set to 1, causing the next jgz instruction to activate, jumping back two instructions to another jump, which jumps again to the rcv, which ultimately triggers the recover operation.\n",
    "\n",
    "At the time the recover operation is executed, the frequency of the last sound played is `4`.\n",
    "\n",
    "### Part One\n",
    "\n",
    "What is the value of the recovered frequency (the value of the most recently played sound) the first time a rcv instruction is executed with a non-zero value?\n"
   ]
  },
  {
   "cell_type": "code",
   "execution_count": 10,
   "id": "fb2b7d71",
   "metadata": {
    "scrolled": false
   },
   "outputs": [
    {
     "data": {
      "text/plain": [
       "[['set', 'i', '31'],\n",
       " ['set', 'a', '1'],\n",
       " ['mul', 'p', '17'],\n",
       " ['jgz', 'p', 'p'],\n",
       " ['mul', 'a', '2'],\n",
       " ['add', 'i', '-1'],\n",
       " ['jgz', 'i', '-2'],\n",
       " ['add', 'a', '-1'],\n",
       " ['set', 'i', '127'],\n",
       " ['set', 'p', '735'],\n",
       " ['mul', 'p', '8505'],\n",
       " ['mod', 'p', 'a'],\n",
       " ['mul', 'p', '129749'],\n",
       " ['add', 'p', '12345'],\n",
       " ['mod', 'p', 'a'],\n",
       " ['set', 'b', 'p'],\n",
       " ['mod', 'b', '10000'],\n",
       " ['snd', 'b'],\n",
       " ['add', 'i', '-1'],\n",
       " ['jgz', 'i', '-9'],\n",
       " ['jgz', 'a', '3'],\n",
       " ['rcv', 'b'],\n",
       " ['jgz', 'b', '-1'],\n",
       " ['set', 'f', '0'],\n",
       " ['set', 'i', '126'],\n",
       " ['rcv', 'a'],\n",
       " ['rcv', 'b'],\n",
       " ['set', 'p', 'a'],\n",
       " ['mul', 'p', '-1'],\n",
       " ['add', 'p', 'b'],\n",
       " ['jgz', 'p', '4'],\n",
       " ['snd', 'a'],\n",
       " ['set', 'a', 'b'],\n",
       " ['jgz', '1', '3'],\n",
       " ['snd', 'b'],\n",
       " ['set', 'f', '1'],\n",
       " ['add', 'i', '-1'],\n",
       " ['jgz', 'i', '-11'],\n",
       " ['snd', 'a'],\n",
       " ['jgz', 'f', '-16'],\n",
       " ['jgz', 'a', '-19']]"
      ]
     },
     "execution_count": 10,
     "metadata": {},
     "output_type": "execute_result"
    }
   ],
   "source": [
    "with open('Inputs\\day_18.txt')         as f:puz     = [l.rstrip('\\n').split(' ') for l in f.readlines()]\n",
    "with open('Inputs\\day_18_sample.txt')  as f:sample  = [l.rstrip('\\n').split(' ') for l in f.readlines()]\n",
    "    \n",
    "sample\n",
    "puz"
   ]
  },
  {
   "cell_type": "code",
   "execution_count": 16,
   "id": "9cacbc68",
   "metadata": {},
   "outputs": [
    {
     "data": {
      "text/plain": [
       "[['set', 'a', '1'],\n",
       " ['add', 'a', '2'],\n",
       " ['mul', 'a', 'a'],\n",
       " ['mod', 'a', '5'],\n",
       " ['snd', 'a'],\n",
       " ['set', 'a', '0'],\n",
       " ['rcv', 'a'],\n",
       " ['jgz', 'a', '-1'],\n",
       " ['set', 'a', '1'],\n",
       " ['jgz', 'a', '-2']]"
      ]
     },
     "execution_count": 16,
     "metadata": {},
     "output_type": "execute_result"
    }
   ],
   "source": [
    "# create tablet by getting unique registers from second pos in each element of the input and setting them all to 0, do as a dict\n",
    "# create an if rule to update the value against a register according to the instruction\n",
    "sample"
   ]
  },
  {
   "cell_type": "code",
   "execution_count": 15,
   "id": "ba599ebe",
   "metadata": {},
   "outputs": [
    {
     "data": {
      "text/plain": [
       "10"
      ]
     },
     "execution_count": 15,
     "metadata": {},
     "output_type": "execute_result"
    }
   ],
   "source": [
    "with open('Inputs\\day_18.txt')         as f:puz     = [l.rstrip('\\n').split(' ') for l in f.readlines()]\n",
    "with open('Inputs\\day_18_sample.txt')  as f:sample  = [l.rstrip('\\n').split(' ') for l in f.readlines()]\n",
    "puz = sample\n",
    "\n",
    "# getting a unique list of all registers, ignoring the one rogue numerical value\n",
    "registers = list(set([i[1] for i in puz if i[1] != '1'])) \n",
    "\n",
    "# turning that list of registers into a dictionary with 0 as the starting value for each register (key) \n",
    "tablet = {k:0 for k in registers}\n",
    "\n",
    "inst = 1\n",
    "\n",
    "# iterating through the instructions\n",
    "while inst between 1 and len(puz):\n",
    "    if inst\n",
    "    \n",
    "    \n",
    "    \n",
    "\n",
    "\n",
    "# tablet\n",
    "\n",
    "# for inst in tablet:\n",
    "#     if inst[0]\n",
    "    \n",
    "\n",
    "# snd X plays a sound with a frequency equal to the value of X.\n",
    "# set X Y sets register X to the value of Y.\n",
    "# add X Y increases register X by the value of Y.\n",
    "# mul X Y sets register X to the result of multiplying the value contained in register X by the value of Y.\n",
    "# mod X Y sets register X to the remainder of dividing the value contained in register X by the value of Y (that is, it sets X to the result of X modulo Y).\n",
    "# rcv X recovers the frequency of the last sound played, but only when the value of X is not zero. (If it is zero, the command does nothing.)\n",
    "# jgz X Y jumps with an offset of the value of Y, but only if the value of X is greater than zero. (An offset of 2 skips the next instruction, an offset of -1 jumps to the previous instruction, and so on.)"
   ]
  }
 ],
 "metadata": {
  "kernelspec": {
   "display_name": "Python 3 (ipykernel)",
   "language": "python",
   "name": "python3"
  },
  "language_info": {
   "codemirror_mode": {
    "name": "ipython",
    "version": 3
   },
   "file_extension": ".py",
   "mimetype": "text/x-python",
   "name": "python",
   "nbconvert_exporter": "python",
   "pygments_lexer": "ipython3",
   "version": "3.9.12"
  }
 },
 "nbformat": 4,
 "nbformat_minor": 5
}
