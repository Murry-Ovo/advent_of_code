{
 "cells": [
  {
   "cell_type": "markdown",
   "metadata": {},
   "source": [
    "# Day 8: I Heard You Like Registers\n",
    "\n",
    "You receive a signal directly from the CPU. Because of your recent assistance with jump instructions, it would like you to compute the result of a series of unusual register instructions.\n",
    "\n",
    "Each instruction consists of several parts: the register to modify, whether to increase or decrease that register's value, the amount by which to increase or decrease it, and a condition. If the condition fails, skip the instruction without modifying the register. The registers all start at 0. The instructions look like this:\n",
    "```\n",
    "b inc 5 if a > 1\n",
    "a inc 1 if b < 5\n",
    "c dec -10 if a >= 1\n",
    "c inc -20 if c == 10\n",
    "```\n",
    "These instructions would be processed as follows:\n",
    "\n",
    "- Because a starts at 0, it is not greater than 1, and so b is not modified.\n",
    "- a is increased by 1 (to 1) because b is less than 5 (it is 0).\n",
    "- c is decreased by -10 (to 10) because a is now greater than or equal to 1 (it is 1).\n",
    "- c is increased by -20 (to -10) because c is equal to 10.\n",
    "\n",
    "After this process, the largest value in any register is 1.\n",
    "\n",
    "You might also encounter <= (less than or equal to) or != (not equal to). However, the CPU doesn't have the bandwidth to tell you what all the registers are named, and leaves that to you to determine.\n",
    "\n",
    "### Part One\n",
    "\n",
    "What is the largest value in any register after completing the instructions in your puzzle input?\n",
    "\n",
    "### Part Two\n",
    "\n",
    "To be safe, the CPU also needs to know the highest value held in any register during this process so that it can decide how much memory to allocate to these operations. For example, in the above instructions, the highest value ever held was 10 (in register c after the third instruction was evaluated)."
   ]
  },
  {
   "cell_type": "code",
   "execution_count": 178,
   "metadata": {
    "scrolled": true
   },
   "outputs": [
    {
     "name": "stdout",
     "output_type": "stream",
     "text": [
      "The highest value at the end of process is 1\n",
      "The highest value at any point during the process is 10\n"
     ]
    }
   ],
   "source": [
    "def create_instruction_dict(puzzle_input: list) -> dict:\n",
    "    '''\n",
    "    Creates a dictionary from puzzle input containing:\n",
    "        - 'mod_register'   | (str)  | The register which will be modified if a condition is met\n",
    "        - 'mod_value'      | (int)  | The value to modify the register by (turn into a negative if a 'dec' instruction)\n",
    "        - 'cond_register'  | (str)  | The register which the condition is based on\n",
    "        - 'condition'      | (str)  | The conditional argument to decide whther to modify the register     \n",
    "    '''\n",
    "    instructions = {}\n",
    "    for idx, inst in enumerate(puzzle_input):\n",
    "        mod_reg, inc_dec, inst_val, _, cond_reg, cond_op, cond_val = inst\n",
    "        instructions[f'inst_{idx+1}'] = {'mod_register' : mod_reg,\n",
    "                                         'mod_value'    : int(inst_val) if inc_dec == 'inc' else -int(inst_val),\n",
    "                                         'cond_register': cond_reg,\n",
    "                                         'condition'    : f' {cond_op} {cond_val}'\n",
    "                                        }\n",
    "    return instructions  \n",
    "\n",
    "def create_registers_dict(instruction_dict: dict) -> dict: \n",
    "    '''\n",
    "    creates a dictionary of unique registers by iterating through the instruction dictionary\n",
    "    and pulling out all the registers to modify and from all the conditions\n",
    "    ''' \n",
    "    registers_list = []\n",
    "    for k, v in instruction_dict.items():\n",
    "        registers_list.extend([v['mod_register'], v['cond_register']])\n",
    "    registers_dict = {register: 0 for register in list(set(registers_list))}\n",
    "    return registers_dict\n",
    "\n",
    "\n",
    "def process_instructions(puzzle_input: list) -> 'print statements':\n",
    "    '''\n",
    "    Iterate through the instructions, for each:\n",
    "        - Evaluate the conditional argument (eg: is the value of register 'a' < 1 )\n",
    "        - If the condition is met then update the value at of the 'modify register'\n",
    "        - At the end of each instruction add the highest value in the register dictionary to a list \n",
    "    '''\n",
    "    instructions = create_instruction_dict(puzzle_input)\n",
    "    registers    = create_registers_dict(instructions)\n",
    "\n",
    "    max_values = []\n",
    "\n",
    "    for k, v in instructions.items():\n",
    "        condition_value = registers[v['cond_register']]\n",
    "\n",
    "        # using eval() to evaluate the condition, if True then increase the value of the register by the modify value\n",
    "        # for example ['a', 'inc', '1', 'if', 'b', '<', '5'] -> if b < 5 then a += 1\n",
    "        if eval(str(condition_value)+v['condition']): \n",
    "            registers[v['mod_register']] += v['mod_value']\n",
    "\n",
    "        # adding the max value to a list at the end of each instruction\n",
    "        max_values.append(registers[max(registers, key=registers.get)])\n",
    "\n",
    "    # Part One\n",
    "    max_value = max(registers, key=registers.get)\n",
    "    print(f'The highest value at the end of process is {registers[max_value]}')\n",
    "\n",
    "    # Part Two\n",
    "    print(f'The highest value at any point during the process is {max(max_values)}')\n",
    "    \n",
    "    \n",
    "day = '08'        \n",
    "with open(f'Inputs\\\\day_{day}.txt')         as f:puz     = [l.rstrip('\\n').split(' ') for l in f.readlines()]\n",
    "with open(f'Inputs\\\\day_{day}_sample.txt')  as f:sample  = [l.rstrip('\\n').split(' ') for l in f.readlines()]\n",
    "    \n",
    "process_instructions(sample)\n",
    "# process_instructions(puz)"
   ]
  }
 ],
 "metadata": {
  "kernelspec": {
   "display_name": "Python 3 (ipykernel)",
   "language": "python",
   "name": "python3"
  },
  "language_info": {
   "codemirror_mode": {
    "name": "ipython",
    "version": 3
   },
   "file_extension": ".py",
   "mimetype": "text/x-python",
   "name": "python",
   "nbconvert_exporter": "python",
   "pygments_lexer": "ipython3",
   "version": "3.8.12"
  }
 },
 "nbformat": 4,
 "nbformat_minor": 4
}
