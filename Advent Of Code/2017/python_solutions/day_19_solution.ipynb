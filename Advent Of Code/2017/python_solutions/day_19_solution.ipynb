{
 "cells": [
  {
   "cell_type": "markdown",
   "id": "dd0eb3dd",
   "metadata": {},
   "source": [
    "\n",
    "# Day 19\n",
    "[Link to Advent of Code 2017 - Day 19](https://adventofcode.com/2017/day/19)\n"
   ]
  },
  {
   "cell_type": "code",
   "execution_count": null,
   "id": "9d8975e5",
   "metadata": {},
   "outputs": [],
   "source": [
    "\n",
    "with open('Inputs\\day_19.txt')         as f:puz     = [l.rstrip('\\n').split(' ') for l in f.readlines()]\n",
    "with open('Inputs\\day_19_sample.txt')  as f:sample  = [l.rstrip('\\n').split(' ') for l in f.readlines()]"
   ]
  }
 ],
 "metadata": {},
 "nbformat": 4,
 "nbformat_minor": 5
}
