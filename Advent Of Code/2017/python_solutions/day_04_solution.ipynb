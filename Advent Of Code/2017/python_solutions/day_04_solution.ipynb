{
 "cells": [
  {
   "cell_type": "markdown",
   "metadata": {},
   "source": [
    "# Day 4: High-Entropy Passphrases\n",
    "A new system policy has been put in place that requires all accounts to use a passphrase instead of simply a password. A passphrase consists of a series of words (lowercase letters) separated by spaces.\n",
    "\n",
    "To ensure security, a valid passphrase must contain no duplicate words.\n",
    "\n",
    "For example:\n",
    "\n",
    "- `aa bb cc dd ee` is valid.\n",
    "- `aa bb cc dd aa` is not valid - the word aa appears more than once.\n",
    "- `aa bb cc dd aaa` is valid - aa and aaa count as different words.\n",
    "\n",
    "\n",
    "The system's full passphrase list is available as your puzzle input. \n",
    "\n",
    "### Part One\n",
    "How many passphrases are valid?\n",
    "\n",
    "### Part Two\n",
    "For added security, yet another system policy has been put in place. Now, a valid passphrase must contain no two words that are anagrams of each other - that is, a passphrase is invalid if any word's letters can be rearranged to form any other word in the passphrase.\n",
    "\n",
    "For example:\n",
    "\n",
    "- `abcde fghij` is a valid passphrase.\n",
    "- `abcde xyz ecdab` is not valid - the letters from the third word can be rearranged to form the first word.\n",
    "- `a ab abc abd abf abj` is a valid passphrase, because all letters need to be used when forming another word.\n",
    "- `iiii oiii ooii oooi oooo` is valid.\n",
    "- `oiii ioii iioi iiio` is not valid - any of these words can be rearranged to form any other word.\n",
    "\n",
    "Under this new system policy, how many passphrases are valid?"
   ]
  },
  {
   "cell_type": "markdown",
   "metadata": {},
   "source": [
    "### Part One"
   ]
  },
  {
   "cell_type": "code",
   "execution_count": null,
   "metadata": {
    "scrolled": true
   },
   "outputs": [],
   "source": [
    "day = '04'        \n",
    "with open(f'Inputs\\\\day_{day}.txt')         as f:puz     = [l.rstrip('\\n').split(' ') for l in f.readlines()]\n",
    "with open(f'Inputs\\\\day_{day}_sample.txt')  as f:sample  = [l.rstrip('\\n').split(' ') for l in f.readlines()]   \n",
    "\n",
    "# puz_input = sample\n",
    "puz_input = puz\n",
    "# puz_input    \n",
    "invalid_count = 0\n",
    "for passphrase in puz_input:\n",
    "    for word in passphrase: \n",
    "        if passphrase.count(word) > 1:\n",
    "            invalid_count += 1\n",
    "            break\n",
    "            \n",
    "print(f' There are {str(len(puz_input)-invalid_count)} valid passphrases in the puzzle input') "
   ]
  },
  {
   "cell_type": "markdown",
   "metadata": {},
   "source": [
    "### Part Two"
   ]
  },
  {
   "cell_type": "code",
   "execution_count": null,
   "metadata": {},
   "outputs": [],
   "source": [
    "day = '04'        \n",
    "with open(f'Inputs\\\\day_{day}.txt')         as f:puz     = [l.rstrip('\\n').split(' ') for l in f.readlines()]\n",
    "with open(f'Inputs\\\\day_{day}_sample.txt')  as f:sample  = [l.rstrip('\\n').split(' ') for l in f.readlines()]   \n",
    "\n",
    "# puz_input = sample\n",
    "puz_input = puz\n",
    "        \n",
    "invalid_count = 0\n",
    "for passphrase in puz_input:\n",
    "    new_list = []\n",
    "    for i in passphrase:\n",
    "        new_val = sorted(i)\n",
    "        new_list.append(''.join(new_val)) \n",
    "    for word in new_list: \n",
    "        if new_list.count(word) > 1:\n",
    "            invalid_count += 1\n",
    "            break\n",
    "            \n",
    "print(f' There are {str(len(puz_input)-invalid_count)} valid passphrases in the puzzle input') "
   ]
  },
  {
   "cell_type": "markdown",
   "metadata": {},
   "source": [
    "### Code Golf"
   ]
  },
  {
   "cell_type": "code",
   "execution_count": null,
   "metadata": {},
   "outputs": [],
   "source": [
    "invalid_count = 0\n",
    "for pp in [l.rstrip('\\n').split(' ') for l in open(f'Inputs\\\\day_04.txt').readlines()]: \n",
    "    for nl_word in [''.join(sorted(pp_word)) for pp_word in pp]: \n",
    "        if [''.join(sorted(pp_word)) for pp_word in pp].count(nl_word) > 1: invalid_count += 1; break\n",
    "print(f' There are {str(len(puz)-invalid_count)} valid passphrases in the puzzle input') "
   ]
  },
  {
   "cell_type": "code",
   "execution_count": 244,
   "metadata": {
    "scrolled": false
   },
   "outputs": [
    {
     "name": "stdout",
     "output_type": "stream",
     "text": [
      "2\n"
     ]
    }
   ],
   "source": [
    "# invalid_count = 0\n",
    "\n",
    "day = '04'        \n",
    "with open(f'Inputs\\\\day_{day}.txt') as f:puz = [l.rstrip('\\n').split(' ') for l in f.readlines()]\n",
    "with open(f'Inputs\\\\day_{day}_sample.txt')  as f:sample  = [l.rstrip('\\n').split(' ') for l in f.readlines()]   \n",
    "\n",
    "# passphrase = ['abcd', 'cdba', 'ab']\n",
    "# new_passphrase = set([''.join(sorted(w)) for w in puz])\n",
    "# passphrase\n",
    "\n",
    "i = sample\n",
    "# i = puz\n",
    "\n",
    "for pp in [l.rstrip('\\n').split(' ') for l in open(f'Inputs\\\\day_04_sample.txt').readlines()]: \n",
    "    if len(set(set([''.join(sorted(w)) for w in pp]))) != len(pp): i.remove(pp); print(len(i))        \n",
    "\n",
    "# for some reason does not work with proper input"
   ]
  },
  {
   "cell_type": "code",
   "execution_count": 191,
   "metadata": {},
   "outputs": [
    {
     "data": {
      "text/plain": [
       "[1, 2, 3, 5, 6]"
      ]
     },
     "execution_count": 191,
     "metadata": {},
     "output_type": "execute_result"
    }
   ],
   "source": [
    "my_list = [1, 2, 3, 4, 5, 6]\n",
    "\n",
    "for i in my_list:\n",
    "    if i == 4:\n",
    "        my_list.remove(i)\n",
    "\n",
    "my_list"
   ]
  }
 ],
 "metadata": {
  "kernelspec": {
   "display_name": "Python 3 (ipykernel)",
   "language": "python",
   "name": "python3"
  },
  "language_info": {
   "codemirror_mode": {
    "name": "ipython",
    "version": 3
   },
   "file_extension": ".py",
   "mimetype": "text/x-python",
   "name": "python",
   "nbconvert_exporter": "python",
   "pygments_lexer": "ipython3",
   "version": "3.8.12"
  }
 },
 "nbformat": 4,
 "nbformat_minor": 4
}
