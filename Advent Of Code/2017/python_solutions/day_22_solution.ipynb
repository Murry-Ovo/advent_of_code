{
 "cells": [
  {
   "cell_type": "markdown",
   "id": "16eab22a",
   "metadata": {},
   "source": [
    "\n",
    "# Day 22\n",
    "[Link to Advent of Code 2017 - Day 22](https://adventofcode.com/2017/day/22)\n"
   ]
  },
  {
   "cell_type": "code",
   "execution_count": null,
   "id": "d1f76dda",
   "metadata": {},
   "outputs": [],
   "source": [
    "\n",
    "with open('Inputs\\day_22.txt')         as f:puz     = [l.rstrip('\\n').split(' ') for l in f.readlines()]\n",
    "with open('Inputs\\day_22_sample.txt')  as f:sample  = [l.rstrip('\\n').split(' ') for l in f.readlines()]"
   ]
  }
 ],
 "metadata": {},
 "nbformat": 4,
 "nbformat_minor": 5
}
