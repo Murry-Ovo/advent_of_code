{
 "cells": [
  {
   "cell_type": "markdown",
   "id": "5d1858d7",
   "metadata": {},
   "source": [
    "\n",
    "# Day 14\n",
    "[Link to Advent of Code 2017 - Day 14](https://adventofcode.com/2017/day/14)\n"
   ]
  },
  {
   "cell_type": "code",
   "execution_count": null,
   "id": "e7282731",
   "metadata": {},
   "outputs": [],
   "source": [
    "\n",
    "with open('Inputs\\day_14.txt')         as f:puz     = [l.rstrip('\\n').split(' ') for l in f.readlines()]\n",
    "with open('Inputs\\day_14_sample.txt')  as f:sample  = [l.rstrip('\\n').split(' ') for l in f.readlines()]"
   ]
  }
 ],
 "metadata": {},
 "nbformat": 4,
 "nbformat_minor": 5
}
