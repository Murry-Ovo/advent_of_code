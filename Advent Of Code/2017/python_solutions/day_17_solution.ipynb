{
 "cells": [
  {
   "cell_type": "markdown",
   "id": "2d8f9c6b",
   "metadata": {},
   "source": [
    "\n",
    "# Day 17\n",
    "[Link to Advent of Code 2017 - Day 17](https://adventofcode.com/2017/day/17)\n"
   ]
  },
  {
   "cell_type": "code",
   "execution_count": null,
   "id": "225085b0",
   "metadata": {},
   "outputs": [],
   "source": [
    "\n",
    "with open('Inputs\\day_17.txt')         as f:puz     = [l.rstrip('\\n').split(' ') for l in f.readlines()]\n",
    "with open('Inputs\\day_17_sample.txt')  as f:sample  = [l.rstrip('\\n').split(' ') for l in f.readlines()]"
   ]
  }
 ],
 "metadata": {},
 "nbformat": 4,
 "nbformat_minor": 5
}
