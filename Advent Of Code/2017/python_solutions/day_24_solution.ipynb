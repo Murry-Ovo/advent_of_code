{
 "cells": [
  {
   "cell_type": "markdown",
   "id": "069b29c1",
   "metadata": {},
   "source": [
    "\n",
    "# Day 24\n",
    "[Link to Advent of Code 2017 - Day 24](https://adventofcode.com/2017/day/24)\n"
   ]
  },
  {
   "cell_type": "code",
   "execution_count": null,
   "id": "869c5121",
   "metadata": {},
   "outputs": [],
   "source": [
    "\n",
    "with open('Inputs\\day_24.txt')         as f:puz     = [l.rstrip('\\n').split(' ') for l in f.readlines()]\n",
    "with open('Inputs\\day_24_sample.txt')  as f:sample  = [l.rstrip('\\n').split(' ') for l in f.readlines()]"
   ]
  }
 ],
 "metadata": {},
 "nbformat": 4,
 "nbformat_minor": 5
}
