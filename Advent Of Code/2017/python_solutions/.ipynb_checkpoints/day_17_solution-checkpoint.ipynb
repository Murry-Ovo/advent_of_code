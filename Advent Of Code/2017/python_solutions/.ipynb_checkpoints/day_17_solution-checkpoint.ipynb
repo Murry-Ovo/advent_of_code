{
 "cells": [
  {
   "cell_type": "markdown",
   "id": "2d8f9c6b",
   "metadata": {},
   "source": [
    "\n",
    "# Day 17: Spinlock\n",
    "[Link to Advent of Code 2017 - Day 17](https://adventofcode.com/2017/day/17)\n",
    "\n",
    "\n",
    "Suddenly, whirling in the distance, you notice what looks like a massive, pixelated hurricane: a deadly spinlock. This spinlock isn't just consuming computing power, but memory, too; vast, digital mountains are being ripped from the ground and consumed by the vortex.\n",
    "\n",
    "If you don't move quickly, fixing that printer will be the least of your problems.\n",
    "\n",
    "This spinlock's algorithm is simple but efficient, quickly consuming everything in its path. It starts with a circular buffer containing only the value 0, which it marks as the current position. It then steps forward through the circular buffer some number of steps (your puzzle input) before inserting the first new value, 1, after the value it stopped on. The inserted value becomes the current position. Then, it steps forward from there the same number of steps, and wherever it stops, inserts after it the second new value, 2, and uses that as the new current position again.\n",
    "\n",
    "It repeats this process of stepping forward, inserting a new value, and using the location of the inserted value as the new current position a total of 2017 times, inserting 2017 as its final operation, and ending with a total of 2018 values (including 0) in the circular buffer.\n",
    "\n",
    "For example, if the spinlock were to step 3 times per insert, the circular buffer would begin to evolve like this (using parentheses to mark the current position after each iteration of the algorithm):\n",
    "\n",
    "- (0), the initial state before any insertions.\n",
    "- 0 (1): the spinlock steps forward three times (0, 0, 0), and then inserts the first value, 1, after it. 1 becomes the current position.\n",
    "- 0 (2) 1: the spinlock steps forward three times (0, 1, 0), and then inserts the second value, 2, after it. 2 becomes the current position.\n",
    "- 0  2 (3) 1: the spinlock steps forward three times (1, 0, 2), and then inserts the third value, 3, after it. 3 becomes the current position.\n",
    "\n",
    "And so on:\n",
    "- (0)\n",
    "- 0 (1)\n",
    "- 0 (2) 1\n",
    "- 0  2 (3) 1\n",
    "- 0  2 (4) 3  1\n",
    "- 0 (5) 2  4  3  1\n",
    "- 0  5  2  4  3 (6) 1\n",
    "- 0  5 (7) 2  4  3  6  1\n",
    "- 0  5  7  2  4  3 (8) 6  1\n",
    "- 0 (9) 5  7  2  4  3  8  6  1\n",
    "\n",
    "Eventually, after 2017 insertions, the section of the circular buffer near the last insertion looks like this:\n",
    "\n",
    "`1512  1134  151 (2017) 638  1513  851`\n",
    "\n",
    "Perhaps, if you can identify the value that will ultimately be after the last value written (2017), you can short-circuit the spinlock. In this example, that would be 638.\n",
    "\n",
    "### Part One\n",
    "\n",
    "What is the value after 2017 in your completed circular buffer?\n",
    "\n",
    "Your puzzle input is 386.\n",
    "\n",
    "### Part Two\n",
    "\n",
    "The spinlock does not short-circuit. Instead, it gets more angry. At least, you assume that's what happened; it's spinning significantly faster than it was a moment ago.\n",
    "\n",
    "You have good news and bad news.\n",
    "\n",
    "The good news is that you have improved calculations for how to stop the spinlock. They indicate that you actually need to identify the value after 0 in the current state of the circular buffer.\n",
    "\n",
    "The bad news is that while you were determining this, the spinlock has just finished inserting its fifty millionth value (50000000).\n",
    "\n",
    "What is the value after 0 the moment 50000000 is inserted?"
   ]
  },
  {
   "cell_type": "code",
   "execution_count": 98,
   "id": "a8f90617",
   "metadata": {
    "scrolled": false
   },
   "outputs": [
    {
     "name": "stdout",
     "output_type": "stream",
     "text": [
      "The number following 2017 is 419\n",
      "The number following 0 after 50000000 insertions is 1222153\n"
     ]
    }
   ],
   "source": [
    "def part_one():\n",
    "    steps = 386\n",
    "    cb = [0]    # circular buffer\n",
    "    cur_idx = 0 # current index \n",
    "    insert_range = range(1,2018)\n",
    "\n",
    "    for insert_no in insert_range:\n",
    "        insert_pos = ((cur_idx + steps) % len(cb)) +1\n",
    "        cb.insert(insert_pos, insert_no)\n",
    "        cur_idx = cb.index(insert_no)\n",
    "    \n",
    "    print(f'The number following 2017 is {cb[cb.index(2017)+1]}')   \n",
    "\n",
    "\n",
    "def part_two():\n",
    "    '''\n",
    "    Utilising deque, 'rotating' the list by minus the number of steps (moving elements from the front of the list to end)\n",
    "    Then appending the new insert value at the end of the list. \n",
    "    This works as the last inserted value each time will be at the end of the list \n",
    "    '''\n",
    "    from collections import deque\n",
    "\n",
    "    steps = 386\n",
    "    cb = deque([0])\n",
    "    insert_range = range(1,50000000)\n",
    "\n",
    "    for insert_no in insert_range:\n",
    "        cb.rotate(-steps)\n",
    "        cb.append(insert_no)\n",
    "\n",
    "    print(f'The number following 0 after 50000000 insertions is {cb[cb.index(0) + 1]}')\n",
    "\n",
    "    \n",
    "part_one(), part_two()"
   ]
  }
 ],
 "metadata": {
  "kernelspec": {
   "display_name": "Python 3 (ipykernel)",
   "language": "python",
   "name": "python3"
  },
  "language_info": {
   "codemirror_mode": {
    "name": "ipython",
    "version": 3
   },
   "file_extension": ".py",
   "mimetype": "text/x-python",
   "name": "python",
   "nbconvert_exporter": "python",
   "pygments_lexer": "ipython3",
   "version": "3.9.12"
  }
 },
 "nbformat": 4,
 "nbformat_minor": 5
}
