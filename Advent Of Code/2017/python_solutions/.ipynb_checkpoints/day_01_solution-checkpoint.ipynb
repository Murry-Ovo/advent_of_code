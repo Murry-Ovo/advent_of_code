{
 "cells": [
  {
   "cell_type": "markdown",
   "metadata": {},
   "source": [
    "# Day One - Inverse Captcha\n",
    "\n",
    "You're standing in a room with \"digitization quarantine\" written in LEDs along one wall. The only door is locked, but it includes a small interface. \"Restricted Area - Strictly No Digitized Users Allowed.\"\n",
    "\n",
    "It goes on to explain that you may only leave by solving a captcha to prove you're not a human. Apparently, you only get one millisecond to solve the captcha: too fast for a normal human, but it feels like hours to you.\n",
    "\n",
    "The captcha requires you to review a sequence of digits (your puzzle input) and find the sum of all digits that match the next digit in the list. The list is circular, so the digit after the last digit is the first digit in the list.\n",
    "\n",
    "For example:\n",
    "\n",
    "- 1122 produces a sum of 3 (1 + 2) because the first digit (1) matches the second digit and the third digit (2) matches the fourth digit.\n",
    "- 1111 produces 4 because each digit (all 1) matches the next.\n",
    "- 1234 produces 0 because no digit matches the next.\n",
    "- 91212129 produces 9 because the only digit that matches the next one is the last digit, 9.\n",
    "\n",
    "### Part One\n",
    "\n",
    "What is the solution to your captcha?"
   ]
  },
  {
   "cell_type": "code",
   "execution_count": 15,
   "metadata": {},
   "outputs": [
    {
     "name": "stdout",
     "output_type": "stream",
     "text": [
      "The solution to the captcha is: 1144\n"
     ]
    }
   ],
   "source": [
    "with open('Inputs\\day_01.txt') as f:puz = f.read()\n",
    "sample1 = '1122' \n",
    "sample2 = '1111'\n",
    "sample3 = '1234'\n",
    "sample4 = '91212129'\n",
    "\n",
    "puz_input = puz\n",
    "\n",
    "# adding the first digit to the end of the list again to account for the 'circular' nature of the input\n",
    "puz_input = puz_input + puz_input[0]\n",
    "solution = 0\n",
    "\n",
    "for idx, i in enumerate(puz_input[:-1]): ## Ignoring the last digit which we just stitched on\n",
    "    if i == puz_input[idx+1]:\n",
    "        solution += int(i)\n",
    "        \n",
    "print(f'The solution to the captcha is: {solution}')"
   ]
  },
  {
   "cell_type": "markdown",
   "metadata": {},
   "source": [
    "### Part Two\n",
    "\n",
    "You notice a progress bar that jumps to 50% completion. Apparently, the door isn't yet satisfied, but it did emit a star as encouragement. The instructions change:\n",
    "\n",
    "Now, instead of considering the next digit, it wants you to consider the digit halfway around the circular list. That is, if your list contains 10 items, only include a digit in your sum if the digit 10/2 = 5 steps forward matches it. Fortunately, your list has an even number of elements.\n",
    "\n",
    "For example:\n",
    "\n",
    "- 1212 produces 6: the list contains 4 items, and all four digits match the digit 2 items ahead.\n",
    "- 1221 produces 0, because every comparison is between a 1 and a 2.\n",
    "- 123425 produces 4, because both 2s match each other, but no other digit has a match.\n",
    "- 123123 produces 12.\n",
    "- 12131415 produces 4.\n",
    "\n",
    "What is the solution to your new captcha?"
   ]
  },
  {
   "cell_type": "code",
   "execution_count": 36,
   "metadata": {
    "scrolled": true
   },
   "outputs": [
    {
     "name": "stdout",
     "output_type": "stream",
     "text": [
      "The solution to the captcha is: 1194\n"
     ]
    }
   ],
   "source": [
    "with open('Inputs\\day_01.txt') as f:puz = f.read()\n",
    "sample1 = '1212' \n",
    "sample2 = '1221'\n",
    "sample3 = '123425'\n",
    "sample4 = '123123'\n",
    "sample5 = '12131415'\n",
    "\n",
    "# puz_input = sample1\n",
    "# puz_input = sample2\n",
    "# puz_input = sample3\n",
    "# puz_input = sample4\n",
    "# puz_input = sample5\n",
    "puz_input = puz\n",
    "\n",
    "# identifying the length and midpoint of the list\n",
    "input_length = len(puz_input)\n",
    "mid_point    = int(input_length/2)\n",
    "\n",
    "# Duplicating the first half of the list and adding to the end to account for the 'circular' nature of the input\n",
    "puz_input = puz_input + puz_input[:mid_point]\n",
    "\n",
    "solution = 0\n",
    "\n",
    "for idx, i in enumerate(range(input_length)): ## Ignoring the last digit which we just stitched on   \n",
    "    if puz_input[idx] == puz_input[idx+mid_point]:\n",
    "        solution += int(puz_input[idx])\n",
    "        \n",
    "print(f'The solution to the captcha is: {solution}')"
   ]
  },
  {
   "cell_type": "markdown",
   "metadata": {},
   "source": [
    "# Code Golf (Part Two)"
   ]
  },
  {
   "cell_type": "code",
   "execution_count": 19,
   "metadata": {},
   "outputs": [
    {
     "name": "stdout",
     "output_type": "stream",
     "text": [
      "The solution to the captcha is: 1194\n"
     ]
    }
   ],
   "source": [
    "with open('Inputs\\day_01.txt') as f:puz = f.read()\n",
    "ilen, mpnt, sol, puz = len(puz), int(len(puz)/2), 0, puz + puz[:mpnt]\n",
    "for idx in range(ilen): sol += int(puz[idx]) if puz[idx] == puz[idx+mpnt] else 0    \n",
    "print(f'The solution to the captcha is: {sol}')    "
   ]
  }
 ],
 "metadata": {
  "kernelspec": {
   "display_name": "Python 3 (ipykernel)",
   "language": "python",
   "name": "python3"
  },
  "language_info": {
   "codemirror_mode": {
    "name": "ipython",
    "version": 3
   },
   "file_extension": ".py",
   "mimetype": "text/x-python",
   "name": "python",
   "nbconvert_exporter": "python",
   "pygments_lexer": "ipython3",
   "version": "3.9.12"
  }
 },
 "nbformat": 4,
 "nbformat_minor": 4
}
