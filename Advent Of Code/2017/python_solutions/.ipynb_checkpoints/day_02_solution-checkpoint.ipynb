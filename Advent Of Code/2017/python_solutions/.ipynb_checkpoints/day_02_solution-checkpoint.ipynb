{
 "cells": [
  {
   "cell_type": "markdown",
   "metadata": {},
   "source": [
    "# Day 2: Corruption Checksum\n",
    "\n",
    "### Part One\n",
    "\n",
    "As you walk through the door, a glowing humanoid shape yells in your direction. \"You there! Your state appears to be idle. Come help us repair the corruption in this spreadsheet - if we take another millisecond, we'll have to display an hourglass cursor!\"\n",
    "\n",
    "The spreadsheet consists of rows of apparently-random numbers. To make sure the recovery process is on the right track, they need you to calculate the spreadsheet's checksum. For each row, determine the difference between the largest value and the smallest value; the checksum is the sum of all of these differences.\n",
    "\n",
    "For example, given the following spreadsheet:\n",
    "\n",
    "5 1 9 5\n",
    "7 5 3\n",
    "2 4 6 8\n",
    "The first row's largest and smallest values are 9 and 1, and their difference is 8.\n",
    "The second row's largest and smallest values are 7 and 3, and their difference is 4.\n",
    "The third row's difference is 6.\n",
    "In this example, the spreadsheet's checksum would be 8 + 4 + 6 = 18.\n",
    "\n",
    "What is the checksum for the spreadsheet in your puzzle input?\n",
    "\n",
    "Your puzzle answer was 36174.\n",
    "\n",
    "The first half of this puzzle is complete! It provides one gold star: *\n",
    "\n",
    "### Part Two\n",
    "\n",
    "\"Great work; looks like we're on the right track after all. Here's a star for your effort.\" However, the program seems a little worried. Can programs be worried?\n",
    "\n",
    "\"Based on what we're seeing, it looks like all the User wanted is some information about the evenly divisible values in the spreadsheet. Unfortunately, none of us are equipped for that kind of calculation - most of us specialize in bitwise operations.\"\n",
    "\n",
    "It sounds like the goal is to find the only two numbers in each row where one evenly divides the other - that is, where the result of the division operation is a whole number. They would like you to find those numbers on each line, divide them, and add up each line's result.\n",
    "\n",
    "For example, given the following spreadsheet:\n",
    "\n",
    "5 9 2 8\n",
    "9 4 7 3\n",
    "3 8 6 5\n",
    "In the first row, the only two numbers that evenly divide are 8 and 2; the result of this division is 4.\n",
    "In the second row, the two numbers are 9 and 3; the result is 3.\n",
    "In the third row, the result is 2.\n",
    "In this example, the sum of the results would be 4 + 3 + 2 = 9.\n",
    "\n",
    "What is the sum of each row's result in your puzzle input?"
   ]
  },
  {
   "cell_type": "code",
   "execution_count": 79,
   "metadata": {},
   "outputs": [
    {
     "name": "stdout",
     "output_type": "stream",
     "text": [
      "The sum of all the line level high/low number differences is: 36174\n",
      "The sum of each rows division result is: 244\n"
     ]
    }
   ],
   "source": [
    "def part_one(puz_input: list) -> 'print statement':\n",
    "    '''\n",
    "    - Takes the puzzle input (a list of lists of numbers)\n",
    "    - Calculates the difference between the higest and lowest number in each line\n",
    "    - Sums all the differences to create the checksum\n",
    "    '''\n",
    "    line_diffs = []\n",
    "    for line in puz_input:\n",
    "        sorted_nums = sorted(line)\n",
    "        line_diffs.append(sorted_nums[len(line)-1] - sorted_nums[0])\n",
    "    checksum = sum(line_diffs)\n",
    "    print(f'The sum of all the line level high/low number differences is: {checksum}')\n",
    "    \n",
    "def part_two(puz_input: list) -> 'print statement':\n",
    "    '''\n",
    "    - Takes the same puzzle input as Part One\n",
    "    - loops through every combination of 2 numbers in each line\n",
    "    - If the first number is evenly divisible into the second number then add num1/num2 to a list\n",
    "    - Sums this list to get the final output\n",
    "    - **possible issue**\n",
    "        - if a number appears twice in a list then I'm excluding the second appearance of that number from the logic\n",
    "    '''\n",
    "    line = puz_input[0]\n",
    "    division_results = []\n",
    "    for line in puz_input:\n",
    "        for num1 in line:\n",
    "            for num2 in line:\n",
    "                if num1 % num2 == 0 and num1 != num2: \n",
    "                    division_results.append(int(num1 / num2))\n",
    "                    break\n",
    "    print(f'The sum of each rows division result is: {sum(division_results)}')        \n",
    "    \n",
    "day = '02'        \n",
    "with open(f'Inputs\\\\day_{day}.txt')         as f:puz     = [[int(i) for i in l.strip().split('\\t')] for l in f.readlines()]\n",
    "with open(f'Inputs\\\\day_{day}_sample.txt')  as f:sample  = [[int(i) for i in l.strip().split('\\t')] for l in f.readlines()]   \n",
    "with open(f'Inputs\\\\day_{day}_sample2.txt') as f:sample2 = [[int(i) for i in l.strip().split('\\t')] for l in f.readlines()]    \n",
    "    \n",
    "puz_input = puz\n",
    "# puz_input = sample\n",
    "# puz_input = sample2\n",
    "    \n",
    "part_one(puz_input)\n",
    "part_two(puz_input)"
   ]
  }
 ],
 "metadata": {
  "kernelspec": {
   "display_name": "Python 3 (ipykernel)",
   "language": "python",
   "name": "python3"
  },
  "language_info": {
   "codemirror_mode": {
    "name": "ipython",
    "version": 3
   },
   "file_extension": ".py",
   "mimetype": "text/x-python",
   "name": "python",
   "nbconvert_exporter": "python",
   "pygments_lexer": "ipython3",
   "version": "3.8.12"
  }
 },
 "nbformat": 4,
 "nbformat_minor": 4
}
