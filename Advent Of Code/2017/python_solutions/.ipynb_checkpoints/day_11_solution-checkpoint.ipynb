{
 "cells": [
  {
   "cell_type": "markdown",
   "metadata": {},
   "source": [
    "# Day 11: Hex Ed\n",
    "\n",
    "Crossing the bridge, you've barely reached the other side of the stream when a program comes up to you, clearly in distress. \"It's my child process,\" she says, \"he's gotten lost in an infinite grid!\"\n",
    "\n",
    "Fortunately for her, you have plenty of experience with infinite grids.\n",
    "\n",
    "Unfortunately for you, it's a hex grid.\n",
    "\n",
    "The hexagons (\"hexes\") in this grid are aligned such that adjacent hexes can be found to the north, northeast, southeast, south, southwest, and northwest:\n",
    "```\n",
    "\n",
    "  \\ n  /\n",
    "nw +--+ ne\n",
    "  /    \\\n",
    "-+      +-\n",
    "  \\    /\n",
    "sw +--+ se\n",
    "  / s  \\\n",
    "```\n",
    "\n",
    "You have the path the child process took. Starting where he started, you need to determine the fewest number of steps required to reach him. (A \"step\" means to move from the hex you are in to any adjacent hex.)\n",
    "\n",
    "For example:\n",
    "\n",
    "- `ne,ne,ne` is 3 steps away.\n",
    "- `ne,ne,sw,sw` is 0 steps away (back where you started).\n",
    "- `ne,ne,s,s` is 2 steps away (`se,se`).\n",
    "- `se,sw,se,sw,sw` is 3 steps away (`s,s,sw`).\n",
    "\n",
    "### Part One\n",
    "What is the fewest steps required to get back to the start?\n",
    "\n",
    "### Part Two\n",
    "How many steps away is the furthest he ever got from his starting position?\n"
   ]
  },
  {
   "cell_type": "code",
   "execution_count": 139,
   "metadata": {
    "scrolled": false
   },
   "outputs": [
    {
     "name": "stdout",
     "output_type": "stream",
     "text": [
      "starting coordinate:        (0, 0)\n",
      "final coordinate:           (3, 1.5)\n",
      "final coordinate corrected: (3, 2)\n",
      "------------\n",
      "Steps to get back from final position: 3\n",
      "Furthest distance from starting point: 3\n"
     ]
    }
   ],
   "source": [
    "import math\n",
    "\n",
    "def hex_grid_movement(puzzle_input:list) -> 'prints the answers for the challenge':\n",
    "    '''\n",
    "    I've decided to use the 'even-q' style hexagonal grid (see picture below). \n",
    "\n",
    "    - For every movement along the diagonal the x axis moves by one and the y axis moves by 0.5\n",
    "    - 'south' and 'east' movements are positive and 'north and 'west' are negative movements\n",
    "    - As we sometimes increment the y axis by 0.5 we have to apply ceiling() to round this up at certain points\n",
    "    '''\n",
    "\n",
    "    cur_pos = (0,0)\n",
    "    print(f'starting coordinate:        {cur_pos}')\n",
    "    \n",
    "    # variable to track the furthest distance from the starting coordinates\n",
    "    furthest_distance = 0\n",
    "    \n",
    "    for direction in puzzle_input:\n",
    "        # Assigning +/- values to increase or decrease the x y coords based on the compass style inputs' \n",
    "        if   direction == 'nw': move = -1, -0.5\n",
    "        elif direction == 'n' : move =  0, -1\n",
    "        elif direction == 'ne': move =  1, -0.5\n",
    "        elif direction == 'se': move =  1,  0.5\n",
    "        elif direction == 's' : move =  0,  1\n",
    "        elif direction == 'sw': move = -1,  0.5\n",
    "\n",
    "        # Calculate new position based on the 'move' variable above\n",
    "        cur_pos = cur_pos[0] + move[0], cur_pos[1] + move[1]\n",
    "\n",
    "        final_coord = cur_pos[0], int(math.ceil(cur_pos[1])) \n",
    "\n",
    "        # Calculate steps to get back to the coordinates (0,0)\n",
    "        x = abs(cur_pos[0])\n",
    "        y = abs(cur_pos[1])\n",
    "\n",
    "        if abs(y) > math.ceil(abs(x)/2):\n",
    "            get_back = math.ceil(y + math.floor(x/2))\n",
    "        else:\n",
    "            get_back = x    \n",
    "\n",
    "        if get_back > furthest_distance: furthest_distance = get_back\n",
    "            \n",
    "    print(f'final coordinate:           {cur_pos}') \n",
    "    print(f'final coordinate corrected: {final_coord}')\n",
    "    print('------------')\n",
    "    \n",
    "    print(f'Steps to get back from final position: {get_back}')\n",
    "    print(f'Furthest distance from starting point: {furthest_distance}')\n",
    "\n",
    "        \n",
    "with open(f'Inputs\\\\day_11.txt') as f:puz = f.read().split(',')\n",
    "sample1 = ['ne','ne','ne']\n",
    "sample2 = ['ne','ne','sw','sw']\n",
    "sample3 = ['ne','ne','s','s']\n",
    "sample4 = ['se','sw','se','sw','sw']\n",
    "sample5 = ['se', 'se', 'ne', 'ne', 's', 's', 's']\n",
    "sample6 = ['se', 'se', 'se']\n",
    " \n",
    "puzzle_input = sample6\n",
    "\n",
    "hex_grid_movement(puzzle_input)"
   ]
  },
  {
   "cell_type": "markdown",
   "metadata": {},
   "source": [
    "### even-q style hexidecimal grid\n",
    "\n",
    "This is not quite the grid I am using as I'm incrementing the y axis by 0.5 each time:\n",
    "\n",
    "<img src=\"even-q-hex-grid.png\" alt=\"even-q-hex-grid\" width=\"450\"/>"
   ]
  }
 ],
 "metadata": {
  "kernelspec": {
   "display_name": "Python 3 (ipykernel)",
   "language": "python",
   "name": "python3"
  },
  "language_info": {
   "codemirror_mode": {
    "name": "ipython",
    "version": 3
   },
   "file_extension": ".py",
   "mimetype": "text/x-python",
   "name": "python",
   "nbconvert_exporter": "python",
   "pygments_lexer": "ipython3",
   "version": "3.8.12"
  }
 },
 "nbformat": 4,
 "nbformat_minor": 4
}
