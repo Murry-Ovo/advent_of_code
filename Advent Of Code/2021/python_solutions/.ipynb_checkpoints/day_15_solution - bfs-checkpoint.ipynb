{
 "cells": [
  {
   "cell_type": "markdown",
   "metadata": {},
   "source": [
    "### Inputs and Imports"
   ]
  },
  {
   "cell_type": "code",
   "execution_count": 1,
   "metadata": {},
   "outputs": [],
   "source": [
    "input_file_list = []\n",
    "sample_input_file_list = []\n",
    "\n",
    "day = '15'\n",
    "\n",
    "with open(f'Inputs\\\\day_{day}.txt', 'r') as input_file: \n",
    "    for line in input_file.readlines():\n",
    "        input_file_list.append(line.rstrip('\\n'))\n",
    "with open(f'C:Inputs\\\\day_{day}_sample.txt', 'r') as input_file: \n",
    "    for line in input_file.readlines():\n",
    "        sample_input_file_list.append(line.rstrip('\\n'))        \n",
    "\n",
    "########################        \n",
    "# Part One Sample Answer:\n",
    "########################\n",
    "# Part Two Sample Answer:\n",
    "########################"
   ]
  },
  {
   "cell_type": "markdown",
   "metadata": {},
   "source": [
    "### Part One"
   ]
  },
  {
   "cell_type": "code",
   "execution_count": 44,
   "metadata": {},
   "outputs": [],
   "source": [
    "import numpy as np\n",
    "\n",
    "raw_input = input_file_list\n",
    "raw_input = sample_input_file_list\n",
    "\n",
    "def create_grid(raw_input):\n",
    "    grid = []\n",
    "    for i in raw_input:\n",
    "        new_row = []\n",
    "        for j in i:\n",
    "            new_row.append(int(j))\n",
    "        grid.append(new_row)    \n",
    "    grid = np.array(grid)\n",
    "    return grid\n",
    "\n",
    "start = (0,0)\n",
    "end = (len(grid[1])-1, len(grid)-1) # (x,y) of the bottom right node"
   ]
  },
  {
   "cell_type": "markdown",
   "metadata": {},
   "source": [
    "### Part Two"
   ]
  }
 ],
 "metadata": {
  "kernelspec": {
   "display_name": "Python 3 (ipykernel)",
   "language": "python",
   "name": "python3"
  },
  "language_info": {
   "codemirror_mode": {
    "name": "ipython",
    "version": 3
   },
   "file_extension": ".py",
   "mimetype": "text/x-python",
   "name": "python",
   "nbconvert_exporter": "python",
   "pygments_lexer": "ipython3",
   "version": "3.8.12"
  }
 },
 "nbformat": 4,
 "nbformat_minor": 4
}
