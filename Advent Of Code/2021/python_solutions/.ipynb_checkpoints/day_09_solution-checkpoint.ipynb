{
 "cells": [
  {
   "cell_type": "markdown",
   "metadata": {},
   "source": [
    "### Inputs and Imports"
   ]
  },
  {
   "cell_type": "code",
   "execution_count": 1,
   "metadata": {},
   "outputs": [],
   "source": [
    "input_file_list = []\n",
    "sample_input_file_list = []\n",
    "\n",
    "with open(r'C:\\Users\\andrew.morris\\Documents\\GitHub\\advent_of_code\\Advent of Code\\2021\\Inputs\\day_09.txt', 'r') as input_file: \n",
    "    for line in input_file.readlines():\n",
    "        input_file_list.append(line.rstrip('\\n'))\n",
    "with open(r'C:\\Users\\andrew.morris\\Documents\\GitHub\\advent_of_code\\Advent of Code\\2021\\Inputs\\day_09_sample.txt', 'r') as input_file: \n",
    "    for line in input_file.readlines():\n",
    "        sample_input_file_list.append(line.rstrip('\\n'))        \n",
    "\n",
    "########################        \n",
    "# Part One Sample Answer: 15\n",
    "########################\n",
    "# Part Two Sample Answer:\n",
    "########################"
   ]
  },
  {
   "cell_type": "markdown",
   "metadata": {},
   "source": [
    "### Part One"
   ]
  },
  {
   "cell_type": "code",
   "execution_count": 2,
   "metadata": {},
   "outputs": [
    {
     "data": {
      "text/plain": [
       "['2199943210', '3987894921', '9856789892', '8767896789', '9899965678']"
      ]
     },
     "execution_count": 2,
     "metadata": {},
     "output_type": "execute_result"
    }
   ],
   "source": [
    "# raw_input = input_file_list\n",
    "raw_input = sample_input_file_list\n",
    "\n",
    "raw_input\n",
    "for main_index,  in enumerate(raw_input):\n",
    "    \n",
    "    \n",
    "\n"
   ]
  },
  {
   "cell_type": "markdown",
   "metadata": {},
   "source": [
    "### Part Two"
   ]
  },
  {
   "cell_type": "code",
   "execution_count": null,
   "metadata": {},
   "outputs": [],
   "source": []
  }
 ],
 "metadata": {
  "kernelspec": {
   "display_name": "Python 3 (ipykernel)",
   "language": "python",
   "name": "python3"
  },
  "language_info": {
   "codemirror_mode": {
    "name": "ipython",
    "version": 3
   },
   "file_extension": ".py",
   "mimetype": "text/x-python",
   "name": "python",
   "nbconvert_exporter": "python",
   "pygments_lexer": "ipython3",
   "version": "3.8.12"
  }
 },
 "nbformat": 4,
 "nbformat_minor": 4
}
