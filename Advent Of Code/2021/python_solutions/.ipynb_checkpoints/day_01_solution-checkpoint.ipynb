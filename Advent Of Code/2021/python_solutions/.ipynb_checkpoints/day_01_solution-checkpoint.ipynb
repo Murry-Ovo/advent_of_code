{
 "cells": [
  {
   "cell_type": "markdown",
   "metadata": {},
   "source": [
    "### Inputs and Imports"
   ]
  },
  {
   "cell_type": "code",
   "execution_count": 1,
   "metadata": {},
   "outputs": [],
   "source": [
    "import pandas as pd\n",
    "\n",
    "input_file_list = []\n",
    "with open(r'C:\\Users\\andrew.morris\\Documents\\GitHub\\advent_of_code\\Advent of Code\\2021\\inputs\\day_01.txt', 'r') as input_file: \n",
    "    for line in input_file.readlines():\n",
    "        input_file_list.append(line.rstrip('\\n'))\n",
    "        \n",
    "sample_input_file_list = []\n",
    "with open(r'C:\\Users\\andrew.morris\\Documents\\GitHub\\advent_of_code\\Advent of Code\\2021\\inputs\\day_01_sample.txt', 'r') as sample_input_file: \n",
    "    for line in sample_input_file.readlines():\n",
    "        sample_input_file_list.append(line.rstrip('\\n'))        \n",
    "\n",
    "# part one sample answer - increased 7 times\n",
    "# part two sample answer - increased 5 times"
   ]
  },
  {
   "cell_type": "markdown",
   "metadata": {},
   "source": [
    "### Part One\n",
    "\n",
    "Taking the depth report (input file) count how many times the depth has increased after each record "
   ]
  },
  {
   "cell_type": "code",
   "execution_count": 3,
   "metadata": {
    "scrolled": false
   },
   "outputs": [
    {
     "name": "stdout",
     "output_type": "stream",
     "text": [
      "The depth has increased 1616 times\n"
     ]
    }
   ],
   "source": [
    "# sonar_sweep_report = sample_input_file_list\n",
    "sonar_sweep_report = input_file_list\n",
    "\n",
    "# Make sure that all the values are converted to an integer\n",
    "sonar_sweep_report = [int(x) for x in sonar_sweep_report]\n",
    "\n",
    "def create_movement_list(depth_report):   \n",
    "    depth_movement_list = []\n",
    "    previous_depth = depth_report[0]\n",
    "\n",
    "    for depth in depth_report:\n",
    "        if depth == previous_depth:\n",
    "            movement = 'N/A'\n",
    "        elif depth > previous_depth:\n",
    "            movement = 'increased'\n",
    "        elif depth < previous_depth:\n",
    "            movement = 'decreased'\n",
    "        depth_movement_list.append(movement)   \n",
    "        previous_depth = depth\n",
    "        \n",
    "    return depth_movement_list\n",
    "\n",
    "create_movement_list(sonar_sweep_report)\n",
    "depth_movement_list = create_movement_list(sonar_sweep_report)\n",
    "depth_increased_count = depth_movement_list.count('increased')\n",
    "\n",
    "print(f'The depth has increased {depth_increased_count} times')"
   ]
  },
  {
   "cell_type": "markdown",
   "metadata": {},
   "source": [
    "### Part Two"
   ]
  },
  {
   "cell_type": "code",
   "execution_count": 4,
   "metadata": {},
   "outputs": [
    {
     "name": "stdout",
     "output_type": "stream",
     "text": [
      "The depth has increased 1645 times\n"
     ]
    }
   ],
   "source": [
    "def group_depth_in_threes(depth_report):\n",
    "    new_depth_report = []\n",
    "    for index, depth in enumerate(depth_report):\n",
    "        # if there are 3 numbers which can be grouped together then...\n",
    "        if len(sonar_sweep_report[index:(index+3)]) ==3:\n",
    "            # group together the current index + 2\n",
    "            grouped_depths = sonar_sweep_report[index:(index+3)]\n",
    "            sum_grouped_depths = sum(grouped_depths)\n",
    "            new_depth_report.append(sum_grouped_depths)\n",
    "    return new_depth_report\n",
    "   \n",
    "new_depth_report = group_depth_in_threes(sonar_sweep_report)    \n",
    "depth_movement_list = create_movement_list(new_depth_report)\n",
    "depth_increased_count = depth_movement_list.count('increased')\n",
    "\n",
    "print(f'The depth has increased {depth_increased_count} times')"
   ]
  }
 ],
 "metadata": {
  "kernelspec": {
   "display_name": "Python 3",
   "language": "python",
   "name": "python3"
  },
  "language_info": {
   "codemirror_mode": {
    "name": "ipython",
    "version": 3
   },
   "file_extension": ".py",
   "mimetype": "text/x-python",
   "name": "python",
   "nbconvert_exporter": "python",
   "pygments_lexer": "ipython3",
   "version": "3.8.5"
  }
 },
 "nbformat": 4,
 "nbformat_minor": 4
}
