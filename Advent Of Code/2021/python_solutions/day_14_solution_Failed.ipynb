{
 "cells": [
  {
   "cell_type": "markdown",
   "metadata": {},
   "source": [
    "# --- Day 14: Extended Polymerization ---\n",
    "\n",
    "The incredible pressures at this depth are starting to put a strain on your submarine. The submarine has polymerization equipment that would produce suitable materials to reinforce the submarine, and the nearby volcanically-active caves should even have the necessary input elements in sufficient quantities.\n",
    "\n",
    "The submarine manual contains instructions for finding the optimal polymer formula; specifically, it offers a polymer template and a list of pair insertion rules (your puzzle input). You just need to work out what polymer would result after repeating the pair insertion process a few times.\n",
    "\n",
    "For example:\n",
    "```\n",
    "NNCB\n",
    "\n",
    "CH -> B\n",
    "HH -> N\n",
    "CB -> H\n",
    "NH -> C\n",
    "HB -> C\n",
    "HC -> B\n",
    "HN -> C\n",
    "NN -> C\n",
    "BH -> H\n",
    "NC -> B\n",
    "NB -> B\n",
    "BN -> B\n",
    "BB -> N\n",
    "BC -> B\n",
    "CC -> N\n",
    "CN -> C\n",
    "```\n",
    "The first line is the polymer template - this is the starting point of the process.\n",
    "\n",
    "The following section defines the pair insertion rules. A rule like AB -> C means that when elements A and B are immediately adjacent, element C should be inserted between them. These insertions all happen simultaneously.\n",
    "\n",
    "So, starting with the polymer template NNCB, the first step simultaneously considers all three pairs:\n",
    "\n",
    "The first pair (NN) matches the rule NN -> C, so element C is inserted between the first N and the second N.\n",
    "The second pair (NC) matches the rule NC -> B, so element B is inserted between the N and the C.\n",
    "The third pair (CB) matches the rule CB -> H, so element H is inserted between the C and the B.\n",
    "Note that these pairs overlap: the second element of one pair is the first element of the next pair. Also, because all pairs are considered simultaneously, inserted elements are not considered to be part of a pair until the next step.\n",
    "\n",
    "After the first step of this process, the polymer becomes NCNBCHB.\n",
    "\n",
    "Here are the results of a few steps using the above rules:\n",
    "```\n",
    "Template:     NNCB\n",
    "After step 1: NCNBCHB\n",
    "After step 2: NBCCNBBBCBHCB\n",
    "After step 3: NBBBCNCCNBBNBNBBCHBHHBCHB\n",
    "After step 4: NBBNBNBBCCNBCNCCNBBNBBNBBBNBBNBBCBHCBHHNHCBBCBHCB\n",
    "```\n",
    "This polymer grows quickly. After step 5, it has length 97; After step 10, it has length 3073. After step 10, B occurs 1749 times, C occurs 298 times, H occurs 161 times, and N occurs 865 times; taking the quantity of the most common element (B, 1749) and subtracting the quantity of the least common element (H, 161) produces 1749 - 161 = 1588.\n",
    "\n",
    "### Part One\n",
    "\n",
    "Apply 10 steps of pair insertion to the polymer template and find the most and least common elements in the result. What do you get if you take the quantity of the most common element and subtract the quantity of the least common element?"
   ]
  },
  {
   "cell_type": "markdown",
   "metadata": {},
   "source": [
    "### Inputs and Imports"
   ]
  },
  {
   "cell_type": "code",
   "execution_count": 63,
   "metadata": {},
   "outputs": [],
   "source": [
    "from collections import Counter\n",
    "\n",
    "input_file_list = []\n",
    "sample_input_file_list = []\n",
    "\n",
    "day = '14'\n",
    "\n",
    "with open(f'Inputs\\\\day_{day}.txt', 'r') as input_file: \n",
    "    for line in input_file.readlines():\n",
    "        input_file_list.append(line.rstrip('\\n'))\n",
    "with open(f'C:Inputs\\\\day_{day}_sample.txt', 'r') as input_file: \n",
    "    for line in input_file.readlines():\n",
    "        sample_input_file_list.append(line.rstrip('\\n'))        \n",
    "\n",
    "########################        \n",
    "# Part One Sample Answer:\n",
    "########################\n",
    "# Part Two Sample Answer:\n",
    "########################"
   ]
  },
  {
   "cell_type": "markdown",
   "metadata": {},
   "source": [
    "### Part One"
   ]
  },
  {
   "cell_type": "code",
   "execution_count": 70,
   "metadata": {
    "scrolled": false
   },
   "outputs": [
    {
     "data": {
      "text/plain": [
       "''"
      ]
     },
     "execution_count": 70,
     "metadata": {},
     "output_type": "execute_result"
    }
   ],
   "source": [
    "# parse the raw_input and output a template (str) and a set of rules (dict)\n",
    "def get_template_and_rules(raw_input: list) -> tuple:\n",
    "    template  = raw_input[:raw_input.index('')][0]\n",
    "    raw_rules = raw_input[raw_input.index('')+1:]\n",
    "    rules = {}\n",
    "    for rule in raw_rules:\n",
    "        k, v = rule.split(' -> ')\n",
    "        rules[k] = v\n",
    "    return template, rules \n",
    "\n",
    "# go through the template string and insert \n",
    "def pair_insertion(template: str, rules: dict) -> str:    \n",
    "    new_template = ''\n",
    "    for idx in range(len(template)-1):        \n",
    "        pair = f'{template[idx]}{template[idx+1]}'\n",
    "#         print(f'pair = {pair}')\n",
    "        mid_let = rules[pair]\n",
    "        new_trio = pair[0]+mid_let+pair[1]\n",
    "#         print(f'   - mid_let = {mid_let}\\n   - new_trio = {new_trio}')\n",
    "        \n",
    "        if idx == 0:\n",
    "            new_template += new_trio\n",
    "        else: \n",
    "            new_template += new_trio[1:]\n",
    "    return new_template   \n",
    "\n",
    "\n",
    "def step_through(template, rules, steps):\n",
    "    for step in range(1,steps+1):\n",
    "        print(f'Step {step} / Starting Length = {len(template)}')\n",
    "        new_template = pair_insertion(template = template\n",
    "                                      ,rules = rules)\n",
    "        template = new_template\n",
    "    return template\n",
    "\n",
    "def most_common_minus_least(template):\n",
    "    letter_counts = Counter(final_template).most_common()   \n",
    "    result = letter_counts[0][1] - letter_counts[-1][1]\n",
    "    return result\n",
    "\n",
    "# raw_input = input_file_list\n",
    "# raw_input = sample_input_file_list\n",
    "\n",
    "# template, rules = get_template_and_rules(raw_input)   \n",
    "# steps = 40\n",
    "# final_template = step_through(template, rules, steps)\n",
    "# print(most_common_minus_least(template=final_template))\n",
    "\n",
    "'''\n",
    "Failed attempt, template grow exponentially \n",
    "So once it gets to step 25 we are trying to iterate through a string 319 million characters long\n",
    "\n",
    "Stuck at step 25:\n",
    "Step 1 / Starting Length = 20\n",
    "Step 2 / Starting Length = 39\n",
    "Step 3 / Starting Length = 77\n",
    "Step 4 / Starting Length = 153\n",
    "Step 5 / Starting Length = 305\n",
    "Step 6 / Starting Length = 609\n",
    "Step 7 / Starting Length = 1217\n",
    "Step 8 / Starting Length = 2433\n",
    "Step 9 / Starting Length = 4865\n",
    "Step 10 / Starting Length = 9729\n",
    "Step 11 / Starting Length = 19457\n",
    "Step 12 / Starting Length = 38913\n",
    "Step 13 / Starting Length = 77825\n",
    "Step 14 / Starting Length = 155649\n",
    "Step 15 / Starting Length = 311297\n",
    "Step 16 / Starting Length = 622593\n",
    "Step 17 / Starting Length = 1245185\n",
    "Step 18 / Starting Length = 2490369\n",
    "Step 19 / Starting Length = 4980737\n",
    "Step 20 / Starting Length = 9961473\n",
    "Step 21 / Starting Length = 19922945\n",
    "Step 22 / Starting Length = 39845889\n",
    "Step 23 / Starting Length = 79691777\n",
    "Step 24 / Starting Length = 159383553\n",
    "Step 25 / Starting Length = 318767105\n",
    "'''\n"
   ]
  },
  {
   "cell_type": "markdown",
   "metadata": {},
   "source": [
    "### Part One"
   ]
  },
  {
   "cell_type": "code",
   "execution_count": null,
   "metadata": {},
   "outputs": [],
   "source": [
    "# parse the raw_input and output a template (str) and a set of rules (dict)\n",
    "def get_template_and_rules(raw_input: list) -> tuple:\n",
    "    template  = raw_input[:raw_input.index('')][0]\n",
    "    raw_rules = raw_input[raw_input.index('')+1:]\n",
    "    rules = {}\n",
    "    for rule in raw_rules:\n",
    "        k, v = rule.split(' -> ')\n",
    "        rules[k] = v\n",
    "    return template, rules \n",
    "\n",
    "\n",
    "\n",
    "raw_input = input_file_list\n",
    "# raw_input = sample_input_file_list"
   ]
  },
  {
   "cell_type": "markdown",
   "metadata": {},
   "source": [
    "### Part Two"
   ]
  },
  {
   "cell_type": "code",
   "execution_count": 62,
   "metadata": {},
   "outputs": [
    {
     "data": {
      "text/plain": [
       "1588"
      ]
     },
     "execution_count": 62,
     "metadata": {},
     "output_type": "execute_result"
    }
   ],
   "source": []
  }
 ],
 "metadata": {
  "kernelspec": {
   "display_name": "Python 3 (ipykernel)",
   "language": "python",
   "name": "python3"
  },
  "language_info": {
   "codemirror_mode": {
    "name": "ipython",
    "version": 3
   },
   "file_extension": ".py",
   "mimetype": "text/x-python",
   "name": "python",
   "nbconvert_exporter": "python",
   "pygments_lexer": "ipython3",
   "version": "3.8.12"
  }
 },
 "nbformat": 4,
 "nbformat_minor": 4
}
