{
 "cells": [
  {
   "cell_type": "markdown",
   "metadata": {},
   "source": [
    "### Inputs and Imports"
   ]
  },
  {
   "cell_type": "code",
   "execution_count": 16,
   "metadata": {},
   "outputs": [],
   "source": [
    "input_file_list = []\n",
    "sample_input_file_list = []\n",
    "\n",
    "with open(r'C:\\Users\\andrew.morris\\Documents\\GitHub\\advent_of_code\\Advent of Code\\2021\\Inputs\\day_07.txt', 'r') as input_file: \n",
    "    for line in input_file.readlines():\n",
    "        input_file_list.append(line.rstrip('\\n'))\n",
    "with open(r'C:\\Users\\andrew.morris\\Documents\\GitHub\\advent_of_code\\Advent of Code\\2021\\Inputs\\day_07_sample.txt', 'r') as input_file: \n",
    "    for line in input_file.readlines():\n",
    "        sample_input_file_list.append(line.rstrip('\\n'))        \n",
    "\n",
    "########################        \n",
    "# Part One Sample Answer: 37 (position 2)\n",
    "########################\n",
    "# Part Two Sample Answer: 168 (position 5)\n",
    "########################"
   ]
  },
  {
   "cell_type": "markdown",
   "metadata": {},
   "source": [
    "### Part One\n",
    "\n",
    "We are accompanied by a fleet of crabs in submarines. \n",
    "\n",
    "They all need to align themselves on a horizontal plane in order to shoot through the ocean floor. \n",
    "\n",
    "Based on a list of their horizontal positions we need to work out which position on the horizontal plan would required the least amount of fuel in total for them all to align on. "
   ]
  },
  {
   "cell_type": "code",
   "execution_count": 58,
   "metadata": {
    "scrolled": false
   },
   "outputs": [
    {
     "name": "stdout",
     "output_type": "stream",
     "text": [
      "-- converting raw input into integers\n",
      "-- working out the most fuel economic position for all the crabs to align at\n",
      "\n",
      "the smallest amount of fuel required to align the crabs is 325528\n"
     ]
    }
   ],
   "source": [
    "# crab_pos_raw = sample_input_file_list\n",
    "crab_pos_raw = input_file_list\n",
    "\n",
    "# function to convert the input file into a list of integers\n",
    "def convert_crab_pos_input(crab_pos_raw):\n",
    "    print('-- converting raw input into integers')\n",
    "    crab_pos_list = [int(x) for x in crab_pos_raw[0].split(\",\")]\n",
    "    return crab_pos_list\n",
    "\n",
    "# function creates a list of how much fuel it costs to get to each horizontal position \n",
    "def find_min_fuel_to_align(crab_pos_list):\n",
    "    print(f'-- working out the most fuel economic position for all the crabs to align at')\n",
    "    hoz_pos_range = range(min(crab_pos_list), max(crab_pos_list)+1)\n",
    "    total_fuel_per_pos = []\n",
    "    for hoz_pos in hoz_pos_range:\n",
    "        fuel_per_crab = []\n",
    "        for crab in crab_pos_list:\n",
    "            fuel_per_crab.append(abs(int(crab)-int(hoz_pos)))\n",
    "        total_fuel_per_pos.append(sum(fuel_per_crab))    \n",
    "    print(f'\\nthe smallest amount of fuel required to align the crabs is {min(total_fuel_per_pos)}')\n",
    "    return total_fuel_per_pos\n",
    "\n",
    "crab_pos_list = convert_crab_pos_input(crab_pos_raw)\n",
    "total_fuel_per_pos = find_min_fuel_to_align(crab_pos_list)"
   ]
  },
  {
   "cell_type": "markdown",
   "metadata": {},
   "source": [
    "### Part Two"
   ]
  },
  {
   "cell_type": "code",
   "execution_count": null,
   "metadata": {},
   "outputs": [],
   "source": []
  }
 ],
 "metadata": {
  "kernelspec": {
   "display_name": "Python 3 (ipykernel)",
   "language": "python",
   "name": "python3"
  },
  "language_info": {
   "codemirror_mode": {
    "name": "ipython",
    "version": 3
   },
   "file_extension": ".py",
   "mimetype": "text/x-python",
   "name": "python",
   "nbconvert_exporter": "python",
   "pygments_lexer": "ipython3",
   "version": "3.8.12"
  }
 },
 "nbformat": 4,
 "nbformat_minor": 4
}
