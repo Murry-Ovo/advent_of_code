{
 "cells": [
  {
   "cell_type": "markdown",
   "metadata": {},
   "source": [
    "### Inputs and Imports"
   ]
  },
  {
   "cell_type": "code",
   "execution_count": 7,
   "metadata": {},
   "outputs": [],
   "source": [
    "input_file_list = []\n",
    "sample_input_file_list = []\n",
    "\n",
    "day = '07'\n",
    "\n",
    "with open(f'Inputs\\day_{day}.txt', 'r') as input_file: \n",
    "    for line in input_file.readlines():\n",
    "        input_file_list.append(line.rstrip('\\n'))\n",
    "with open(f'Inputs\\day_{day}_sample.txt', 'r') as input_file: \n",
    "    for line in input_file.readlines():\n",
    "        sample_input_file_list.append(line.rstrip('\\n'))        \n",
    "\n",
    "########################        \n",
    "# Part One Sample Answer: 37 (position 2)\n",
    "########################\n",
    "# Part Two Sample Answer: 168 (position 5)\n",
    "########################"
   ]
  },
  {
   "cell_type": "markdown",
   "metadata": {},
   "source": [
    "--- Day 7: The Treachery of Whales ---\n",
    "\n",
    "### Part One\n",
    "\n",
    "A giant whale has decided your submarine is its next meal, and it's much faster than you are. There's nowhere to run!\n",
    "\n",
    "Suddenly, a swarm of crabs (each in its own tiny submarine - it's too deep for them otherwise) zooms in to rescue you! They seem to be preparing to blast a hole in the ocean floor; sensors indicate a massive underground cave system just beyond where they're aiming!\n",
    "\n",
    "The crab submarines all need to be aligned before they'll have enough power to blast a large enough hole for your submarine to get through. However, it doesn't look like they'll be aligned before the whale catches you! Maybe you can help?\n",
    "\n",
    "There's one major catch - crab submarines can only move horizontally.\n",
    "\n",
    "You quickly make a list of the horizontal position of each crab (your puzzle input). Crab submarines have limited fuel, so you need to find a way to make all of their horizontal positions match while requiring them to spend as little fuel as possible.\n",
    "\n",
    "For example, consider the following horizontal positions:\n",
    "\n",
    "`16,1,2,0,4,2,7,1,2,14`\n",
    "\n",
    "This means there's a crab with horizontal position 16, a crab with horizontal position 1, and so on.\n",
    "\n",
    "Each change of 1 step in horizontal position of a single crab costs 1 fuel. You could choose any horizontal position to align them all on, but the one that costs the least fuel is horizontal position 2:\n",
    "\n",
    "- Move from 16 to 2: 14 fuel\n",
    "- Move from 1 to 2: 1 fuel\n",
    "- Move from 2 to 2: 0 fuel\n",
    "- Move from 0 to 2: 2 fuel\n",
    "- Move from 4 to 2: 2 fuel\n",
    "- Move from 2 to 2: 0 fuel\n",
    "- Move from 7 to 2: 5 fuel\n",
    "- Move from 1 to 2: 1 fuel\n",
    "- Move from 2 to 2: 0 fuel\n",
    "- Move from 14 to 2: 12 fuel\n",
    "\n",
    "This costs a total of 37 fuel. This is the cheapest possible outcome; more expensive outcomes include aligning at position 1 (41 fuel), position 3 (39 fuel), or position 10 (71 fuel).\n",
    "\n",
    "Determine the horizontal position that the crabs can align to using the least fuel possible. How much fuel must they spend to align to that position?"
   ]
  },
  {
   "cell_type": "code",
   "execution_count": 11,
   "metadata": {
    "scrolled": false
   },
   "outputs": [
    {
     "name": "stdout",
     "output_type": "stream",
     "text": [
      "-- converting raw input into integers\n",
      "-- working out the most fuel economic position for all the crabs to align at\n",
      "\n",
      "the smallest amount of fuel required to align the crabs is 325528\n"
     ]
    }
   ],
   "source": [
    "# crab_pos_raw = sample_input_file_list\n",
    "crab_pos_raw = input_file_list\n",
    "\n",
    "# function to convert the input file into a list of integers\n",
    "def convert_crab_pos_input(crab_pos_raw):\n",
    "    print('-- converting raw input into integers')\n",
    "    crab_pos_list = [int(x) for x in crab_pos_raw[0].split(\",\")]\n",
    "    return crab_pos_list\n",
    "\n",
    "# function creates a list of how much fuel it costs to get to each horizontal position \n",
    "def find_min_fuel_to_align(crab_pos_list):\n",
    "    print(f'-- working out the most fuel economic position for all the crabs to align at')\n",
    "    hoz_pos_range = range(min(crab_pos_list), max(crab_pos_list)+1)\n",
    "    total_fuel_per_pos = []\n",
    "    for hoz_pos in hoz_pos_range:\n",
    "        fuel_per_crab = []\n",
    "        for crab in crab_pos_list:\n",
    "            fuel_per_crab.append(abs(int(crab)-int(hoz_pos)))\n",
    "        total_fuel_per_pos.append(sum(fuel_per_crab))    \n",
    "    print(f'\\nthe smallest amount of fuel required to align the crabs is {min(total_fuel_per_pos)}')\n",
    "    return total_fuel_per_pos\n",
    "\n",
    "crab_pos_list = convert_crab_pos_input(crab_pos_raw)\n",
    "total_fuel_per_pos = find_min_fuel_to_align(crab_pos_list)"
   ]
  },
  {
   "cell_type": "markdown",
   "metadata": {},
   "source": [
    "### Part Two\n",
    "\n",
    "The crabs don't seem interested in your proposed solution. Perhaps you misunderstand crab engineering?\n",
    "\n",
    "As it turns out, crab submarine engines don't burn fuel at a constant rate. Instead, each change of 1 step in horizontal position costs 1 more unit of fuel than the last: the first step costs 1, the second step costs 2, the third step costs 3, and so on.\n",
    "\n",
    "As each crab moves, moving further becomes more expensive. This changes the best horizontal position to align them all on; in the example above, this becomes 5:\n",
    "\n",
    "- Move from 16 to 5: 66 fuel\n",
    "- Move from 1 to 5: 10 fuel\n",
    "- Move from 2 to 5: 6 fuel\n",
    "- Move from 0 to 5: 15 fuel\n",
    "- Move from 4 to 5: 1 fuel\n",
    "- Move from 2 to 5: 6 fuel\n",
    "- Move from 7 to 5: 3 fuel\n",
    "- Move from 1 to 5: 10 fuel\n",
    "- Move from 2 to 5: 6 fuel\n",
    "- Move from 14 to 5: 45 fuel\n",
    "\n",
    "This costs a total of 168 fuel. This is the new cheapest possible outcome; the old alignment position (2) now costs 206 fuel instead.\n",
    "\n",
    "Determine the horizontal position that the crabs can align to using the least fuel possible so they can make you an escape route! How much fuel must they spend to align to that position?\n",
    "\n",
    "We have found out that each positiona crab needs to move requires more fuel each time by 1:\n",
    "- moving 1 position costs 1 fuel\n",
    "- moving 2 positions costs 3 fuel, 1 for the first step and 2 for the second step\n",
    "- moving 3 positions cost 6 fuel, 1 for the first step, 2 for the second step then 3 for the third step\n",
    "\n",
    "\n",
    "With this new information on fuel cost, recalculate the most fuel efficient horizontal position for the crabs to align upon. "
   ]
  },
  {
   "cell_type": "code",
   "execution_count": 75,
   "metadata": {},
   "outputs": [
    {
     "name": "stdout",
     "output_type": "stream",
     "text": [
      "-- converting raw input into integers\n",
      "-- working out the most fuel economic position for all the crabs to align at\n",
      "\n",
      "the smallest amount of fuel required to align the crabs is 85015836\n"
     ]
    }
   ],
   "source": [
    "# crab_pos_raw = sample_input_file_list\n",
    "crab_pos_raw = input_file_list\n",
    "\n",
    "# function to convert the input file into a list of integers\n",
    "def convert_crab_pos_input(crab_pos_raw):\n",
    "    print('-- converting raw input into integers')\n",
    "    crab_pos_list = [int(x) for x in crab_pos_raw[0].split(\",\")]\n",
    "    return crab_pos_list\n",
    "\n",
    "# function creates a list of how much fuel it costs to get to each horizontal position \n",
    "def find_min_fuel_to_align_v2(crab_pos_list):\n",
    "    print(f'-- working out the most fuel economic position for all the crabs to align at')\n",
    "    hoz_pos_range = range(min(crab_pos_list), max(crab_pos_list)+1)\n",
    "    total_fuel_per_pos = []\n",
    "    for hoz_pos in hoz_pos_range:\n",
    "        fuel_per_crab = []\n",
    "        for crab in crab_pos_list:\n",
    "            # work out the number of steps each crab must take to get to the horizontal position \n",
    "            steps_to_hoz_pos = abs(int(crab)-int(hoz_pos))\n",
    "            # turn this into a list of numbers from 1 to the total number of steps \n",
    "            # (e.g. [1, 2, 3] for 3 steps)\n",
    "            crab_step_range = list(range(1,steps_to_hoz_pos+1))\n",
    "            # sum this list to get the total amount of fuel required\n",
    "            crab_fuel_required = sum(crab_step_range)\n",
    "            # add to the list of fuel required\n",
    "            fuel_per_crab.append(crab_fuel_required)\n",
    "        total_fuel_per_pos.append(sum(fuel_per_crab))    \n",
    "    print(f'\\nthe smallest amount of fuel required to align the crabs is {min(total_fuel_per_pos)}')\n",
    "    return total_fuel_per_pos\n",
    "\n",
    "crab_pos_list = convert_crab_pos_input(crab_pos_raw)\n",
    "total_fuel_per_pos = find_min_fuel_to_align_v2(crab_pos_list)"
   ]
  }
 ],
 "metadata": {
  "kernelspec": {
   "display_name": "Python 3 (ipykernel)",
   "language": "python",
   "name": "python3"
  },
  "language_info": {
   "codemirror_mode": {
    "name": "ipython",
    "version": 3
   },
   "file_extension": ".py",
   "mimetype": "text/x-python",
   "name": "python",
   "nbconvert_exporter": "python",
   "pygments_lexer": "ipython3",
   "version": "3.8.12"
  }
 },
 "nbformat": 4,
 "nbformat_minor": 4
}
