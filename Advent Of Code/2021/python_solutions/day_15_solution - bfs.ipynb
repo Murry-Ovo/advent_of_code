{
 "cells": [
  {
   "cell_type": "markdown",
   "metadata": {},
   "source": [
    "### Inputs and Imports"
   ]
  },
  {
   "cell_type": "code",
   "execution_count": 1,
   "metadata": {},
   "outputs": [],
   "source": [
    "input_file_list = []\n",
    "sample_input_file_list = []\n",
    "\n",
    "day = '15'\n",
    "\n",
    "with open(f'Inputs\\\\day_{day}.txt', 'r') as input_file: \n",
    "    for line in input_file.readlines():\n",
    "        input_file_list.append(line.rstrip('\\n'))\n",
    "with open(f'C:Inputs\\\\day_{day}_sample.txt', 'r') as input_file: \n",
    "    for line in input_file.readlines():\n",
    "        sample_input_file_list.append(line.rstrip('\\n'))        \n",
    "\n",
    "########################        \n",
    "# Part One Sample Answer:\n",
    "########################\n",
    "# Part Two Sample Answer:\n",
    "########################"
   ]
  },
  {
   "cell_type": "markdown",
   "metadata": {},
   "source": [
    "### Part One"
   ]
  },
  {
   "cell_type": "code",
   "execution_count": 44,
   "metadata": {},
   "outputs": [],
   "source": [
    "import numpy as np\n",
    "\n",
    "raw_input = input_file_list\n",
    "raw_input = sample_input_file_list\n",
    "\n",
    "def create_grid(raw_input):\n",
    "    grid = []\n",
    "    for i in raw_input:\n",
    "        new_row = []\n",
    "        for j in i:\n",
    "            new_row.append(int(j))\n",
    "        grid.append(new_row)    \n",
    "    grid = np.array(grid)\n",
    "    return grid\n",
    "\n",
    "start = (0,0)\n",
    "end = (len(grid[1])-1, len(grid)-1) # (x,y) of the bottom right node"
   ]
  },
  {
   "cell_type": "code",
   "execution_count": 8,
   "metadata": {},
   "outputs": [
    {
     "name": "stdout",
     "output_type": "stream",
     "text": [
      "[[], [], []]\n",
      "[[1, 2, 3], [4, 5, 6], [7, 8, 9]]\n",
      "path from src 2 to dst 3 are\n"
     ]
    },
    {
     "ename": "IndexError",
     "evalue": "list index out of range",
     "output_type": "error",
     "traceback": [
      "\u001b[1;31m---------------------------------------------------------------------------\u001b[0m",
      "\u001b[1;31mIndexError\u001b[0m                                Traceback (most recent call last)",
      "\u001b[1;32mC:\\Users\\ANDREW~1.MOR\\AppData\\Local\\Temp/ipykernel_10996/3043297648.py\u001b[0m in \u001b[0;36m<module>\u001b[1;34m\u001b[0m\n\u001b[0;32m     73\u001b[0m \u001b[1;33m\u001b[0m\u001b[0m\n\u001b[0;32m     74\u001b[0m \u001b[1;31m# Function for finding the paths\u001b[0m\u001b[1;33m\u001b[0m\u001b[1;33m\u001b[0m\u001b[1;33m\u001b[0m\u001b[0m\n\u001b[1;32m---> 75\u001b[1;33m \u001b[0mfindpaths\u001b[0m\u001b[1;33m(\u001b[0m\u001b[0mg\u001b[0m\u001b[1;33m,\u001b[0m \u001b[0msrc\u001b[0m\u001b[1;33m,\u001b[0m \u001b[0mdst\u001b[0m\u001b[1;33m,\u001b[0m \u001b[0mv\u001b[0m\u001b[1;33m)\u001b[0m\u001b[1;33m\u001b[0m\u001b[1;33m\u001b[0m\u001b[0m\n\u001b[0m",
      "\u001b[1;32mC:\\Users\\ANDREW~1.MOR\\AppData\\Local\\Temp/ipykernel_10996/3043297648.py\u001b[0m in \u001b[0;36mfindpaths\u001b[1;34m(g, src, dst, v)\u001b[0m\n\u001b[0;32m     49\u001b[0m         \u001b[1;31m# Traverse to all the nodes connected to\u001b[0m\u001b[1;33m\u001b[0m\u001b[1;33m\u001b[0m\u001b[1;33m\u001b[0m\u001b[0m\n\u001b[0;32m     50\u001b[0m         \u001b[1;31m# current vertex and push new path to queue\u001b[0m\u001b[1;33m\u001b[0m\u001b[1;33m\u001b[0m\u001b[1;33m\u001b[0m\u001b[0m\n\u001b[1;32m---> 51\u001b[1;33m         \u001b[1;32mfor\u001b[0m \u001b[0mi\u001b[0m \u001b[1;32min\u001b[0m \u001b[0mrange\u001b[0m\u001b[1;33m(\u001b[0m\u001b[0mlen\u001b[0m\u001b[1;33m(\u001b[0m\u001b[0mg\u001b[0m\u001b[1;33m[\u001b[0m\u001b[0mlast\u001b[0m\u001b[1;33m]\u001b[0m\u001b[1;33m)\u001b[0m\u001b[1;33m)\u001b[0m\u001b[1;33m:\u001b[0m\u001b[1;33m\u001b[0m\u001b[1;33m\u001b[0m\u001b[0m\n\u001b[0m\u001b[0;32m     52\u001b[0m             \u001b[1;32mif\u001b[0m \u001b[1;33m(\u001b[0m\u001b[0misNotVisited\u001b[0m\u001b[1;33m(\u001b[0m\u001b[0mg\u001b[0m\u001b[1;33m[\u001b[0m\u001b[0mlast\u001b[0m\u001b[1;33m]\u001b[0m\u001b[1;33m[\u001b[0m\u001b[0mi\u001b[0m\u001b[1;33m]\u001b[0m\u001b[1;33m,\u001b[0m \u001b[0mpath\u001b[0m\u001b[1;33m)\u001b[0m\u001b[1;33m)\u001b[0m\u001b[1;33m:\u001b[0m\u001b[1;33m\u001b[0m\u001b[1;33m\u001b[0m\u001b[0m\n\u001b[0;32m     53\u001b[0m                 \u001b[0mnewpath\u001b[0m \u001b[1;33m=\u001b[0m \u001b[0mpath\u001b[0m\u001b[1;33m.\u001b[0m\u001b[0mcopy\u001b[0m\u001b[1;33m(\u001b[0m\u001b[1;33m)\u001b[0m\u001b[1;33m\u001b[0m\u001b[1;33m\u001b[0m\u001b[0m\n",
      "\u001b[1;31mIndexError\u001b[0m: list index out of range"
     ]
    }
   ],
   "source": [
    "\n",
    "# Python3 program to print all paths of\n",
    "# source to destination in given graph\n",
    "from typing import List\n",
    "from collections import deque\n",
    " \n",
    "# Utility function for printing\n",
    "# the found path in graph\n",
    "def printpath(path: List[int]) -> None:\n",
    "     \n",
    "    size = len(path)\n",
    "    for i in range(size):\n",
    "        print(path[i], end = \" \")\n",
    "         \n",
    "    print()\n",
    "\n",
    "# Utility function to check if current\n",
    "# vertex is already present in path\n",
    "def isNotVisited(x: int, path: List[int]) -> int:\n",
    " \n",
    "    size = len(path)\n",
    "    for i in range(size):\n",
    "        if (path[i] == x):\n",
    "            return 0\n",
    "             \n",
    "    return 1\n",
    " \n",
    "# Utility function for finding paths in graph\n",
    "# from source to destination\n",
    "def findpaths(g: List[List[int]], src: int, dst: int, v: int) -> None:\n",
    "                   \n",
    "    # Create a queue which stores\n",
    "    # the paths\n",
    "    q = deque()\n",
    " \n",
    "    # Path vector to store the current path\n",
    "    path = []\n",
    "    path.append(src)\n",
    "    q.append(path.copy())\n",
    "     \n",
    "    while q:\n",
    "        path = q.popleft()\n",
    "        last = path[len(path) - 1]\n",
    " \n",
    "        # If last vertex is the desired destination\n",
    "        # then print the path\n",
    "        if (last == dst):\n",
    "            printpath(path)\n",
    " \n",
    "        # Traverse to all the nodes connected to\n",
    "        # current vertex and push new path to queue\n",
    "        for i in range(len(g[last])):\n",
    "            if (isNotVisited(g[last][i], path)):\n",
    "                newpath = path.copy()\n",
    "                newpath.append(g[last][i])\n",
    "                q.append(newpath)\n",
    "\n",
    "\n",
    "# Number of vertices\n",
    "v = 4\n",
    "g = [[] for _ in range(3)]\n",
    "print(g)\n",
    "\n",
    "# Construct a graph\n",
    "g = [[1,2,3],\n",
    "     [4,5,6],\n",
    "     [7,8,9]]\n",
    "\n",
    "print(g)\n",
    "\n",
    "src = 2\n",
    "dst = 3\n",
    "print(\"path from src {} to dst {} are\".format(\n",
    "    src, dst))\n",
    "\n",
    "# Function for finding the paths\n",
    "findpaths(g, src, dst, v)"
   ]
  },
  {
   "cell_type": "markdown",
   "metadata": {},
   "source": [
    "### Part Two"
   ]
  }
 ],
 "metadata": {
  "kernelspec": {
   "display_name": "Python 3 (ipykernel)",
   "language": "python",
   "name": "python3"
  },
  "language_info": {
   "codemirror_mode": {
    "name": "ipython",
    "version": 3
   },
   "file_extension": ".py",
   "mimetype": "text/x-python",
   "name": "python",
   "nbconvert_exporter": "python",
   "pygments_lexer": "ipython3",
   "version": "3.8.12"
  }
 },
 "nbformat": 4,
 "nbformat_minor": 4
}
