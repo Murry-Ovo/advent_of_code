{
 "cells": [
  {
   "cell_type": "markdown",
   "metadata": {},
   "source": [
    "### Inputs and Imports"
   ]
  },
  {
   "cell_type": "code",
   "execution_count": 81,
   "metadata": {},
   "outputs": [],
   "source": [
    "input_file_list = []\n",
    "sample_input_file_list = []\n",
    "sample_2_input_file_list = []\n",
    "\n",
    "day = '12'\n",
    "\n",
    "with open(f'Inputs\\\\day_{day}.txt', 'r') as input_file: \n",
    "    for line in input_file.readlines():\n",
    "        input_file_list.append(line.rstrip('\\n'))\n",
    "with open(f'C:Inputs\\\\day_{day}_sample.txt', 'r') as input_file: \n",
    "    for line in input_file.readlines():\n",
    "        sample_input_file_list.append(line.rstrip('\\n')) \n",
    "with open(f'C:Inputs\\\\day_{day}_sample_2.txt', 'r') as input_file: \n",
    "    for line in input_file.readlines():\n",
    "        sample_2_input_file_list.append(line.rstrip('\\n'))         \n",
    "\n",
    "########################        \n",
    "# Part One Sample Answer:\n",
    "########################\n",
    "# Part Two Sample Answer:\n",
    "########################"
   ]
  },
  {
   "cell_type": "markdown",
   "metadata": {},
   "source": [
    "### Part One"
   ]
  },
  {
   "cell_type": "code",
   "execution_count": null,
   "metadata": {},
   "outputs": [],
   "source": [
    "def dfs(adj_list, start, target, path, visited = set()):\n",
    "    path.append(start)\n",
    "    visited.add(start)\n",
    "    if start == target:\n",
    "        return path\n",
    "    for neighbour in adj_list[start]:\n",
    "        if neighbour not in visited:\n",
    "            result = dfs(adj_list, neighbour, target, path, visited)\n",
    "            if result is not None:\n",
    "                return result\n",
    "    path.pop()\n",
    "    return None\n",
    "\n",
    "path = []\n",
    "dfs(point_dict, 'start', 'end', path)   "
   ]
  },
  {
   "cell_type": "code",
   "execution_count": 94,
   "metadata": {},
   "outputs": [
    {
     "data": {
      "text/plain": [
       "defaultdict(list,\n",
       "            {'start': ['A', 'b'],\n",
       "             'A': ['start', 'c', 'b', 'end'],\n",
       "             'b': ['start', 'A', 'd', 'end'],\n",
       "             'c': ['A'],\n",
       "             'd': ['b'],\n",
       "             'end': ['A', 'b']})"
      ]
     },
     "execution_count": 94,
     "metadata": {},
     "output_type": "execute_result"
    }
   ],
   "source": [
    "from collections import defaultdict\n",
    "\n",
    "# raw_input = input_file_list\n",
    "raw_input = sample_input_file_list\n",
    "# raw_input = sample_2_input_file_list\n",
    "\n",
    "# formatting the input a dictionary of each point with a list of all possible connecting points as the value\n",
    "# also creating a dictionary of all points with a counter of zero next to each one\n",
    "def format_input(raw_input: list) -> tuple:\n",
    "    # using defaultdict to create an empty {k: [v]} style dict\n",
    "    point_dict = defaultdict(list)\n",
    "    distinct_points = {}\n",
    "    for i in raw_input:\n",
    "        a,b = i.split('-')\n",
    "        point_dict[a].append(b)\n",
    "        point_dict[b].append(a)\n",
    "        # adding point a and b to the distinct points dict if they are not the start or end point\n",
    "        if a not in ['start', 'end']: \n",
    "            distinct_points[a] = 0\n",
    "            point_dict[b].append(a)\n",
    "        if b not in ['start', 'end']: \n",
    "            distinct_points[b] = 0\n",
    "            point_dict[a].append(b)\n",
    "    return distinct_points, point_dict\n",
    "\n",
    "distinct_points, point_dict = format_input(raw_input)\n",
    " \n",
    "\n",
    "path = ['start']\n",
    "current_point = path[0]\n",
    "nxt_points = point_dict[current_point]\n",
    "low_points_visited = []\n",
    "\n",
    "while len(nxt_points) > 0:\n",
    "    if current_point == 'end': \n",
    "        break\n",
    "    \n",
    "    \n",
    "point_dict\n",
    "   \n",
    "\n",
    "\n"
   ]
  },
  {
   "cell_type": "markdown",
   "metadata": {},
   "source": [
    "\n",
    "### Part Two"
   ]
  },
  {
   "cell_type": "code",
   "execution_count": 78,
   "metadata": {},
   "outputs": [
    {
     "name": "stdout",
     "output_type": "stream",
     "text": [
      "set()\n"
     ]
    },
    {
     "ename": "AttributeError",
     "evalue": "'set' object has no attribute 'append'",
     "output_type": "error",
     "traceback": [
      "\u001b[1;31m---------------------------------------------------------------------------\u001b[0m",
      "\u001b[1;31mAttributeError\u001b[0m                            Traceback (most recent call last)",
      "\u001b[1;32mC:\\Users\\ANDREW~1.MOR\\AppData\\Local\\Temp/ipykernel_28380/4041424768.py\u001b[0m in \u001b[0;36m<module>\u001b[1;34m\u001b[0m\n\u001b[0;32m      1\u001b[0m \u001b[0mpaths\u001b[0m \u001b[1;33m=\u001b[0m \u001b[0mset\u001b[0m\u001b[1;33m(\u001b[0m\u001b[1;33m)\u001b[0m\u001b[1;33m\u001b[0m\u001b[1;33m\u001b[0m\u001b[0m\n\u001b[0;32m      2\u001b[0m \u001b[0mprint\u001b[0m\u001b[1;33m(\u001b[0m\u001b[0mpaths\u001b[0m\u001b[1;33m)\u001b[0m\u001b[1;33m\u001b[0m\u001b[1;33m\u001b[0m\u001b[0m\n\u001b[1;32m----> 3\u001b[1;33m \u001b[0mpaths\u001b[0m\u001b[1;33m.\u001b[0m\u001b[0mappend\u001b[0m\u001b[1;33m(\u001b[0m\u001b[1;34m'b'\u001b[0m\u001b[1;33m)\u001b[0m\u001b[1;33m\u001b[0m\u001b[1;33m\u001b[0m\u001b[0m\n\u001b[0m\u001b[0;32m      4\u001b[0m \u001b[0mprint\u001b[0m\u001b[1;33m(\u001b[0m\u001b[0mpaths\u001b[0m\u001b[1;33m)\u001b[0m\u001b[1;33m\u001b[0m\u001b[1;33m\u001b[0m\u001b[0m\n",
      "\u001b[1;31mAttributeError\u001b[0m: 'set' object has no attribute 'append'"
     ]
    }
   ],
   "source": [
    "paths = set()\n",
    "print(paths)\n",
    "paths.append('b')\n",
    "print(paths)"
   ]
  }
 ],
 "metadata": {
  "kernelspec": {
   "display_name": "Python 3 (ipykernel)",
   "language": "python",
   "name": "python3"
  },
  "language_info": {
   "codemirror_mode": {
    "name": "ipython",
    "version": 3
   },
   "file_extension": ".py",
   "mimetype": "text/x-python",
   "name": "python",
   "nbconvert_exporter": "python",
   "pygments_lexer": "ipython3",
   "version": "3.8.12"
  }
 },
 "nbformat": 4,
 "nbformat_minor": 4
}
