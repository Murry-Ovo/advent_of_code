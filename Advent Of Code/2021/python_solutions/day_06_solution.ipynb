{
 "cells": [
  {
   "cell_type": "markdown",
   "metadata": {},
   "source": [
    "### Inputs and Imports"
   ]
  },
  {
   "cell_type": "code",
   "execution_count": 6,
   "metadata": {},
   "outputs": [],
   "source": [
    "input_file_list = []\n",
    "sample_input_file_list = []\n",
    "\n",
    "with open(r'C:\\Users\\andrew.morris\\Documents\\GitHub\\advent_of_code\\Advent of Code\\2021\\Inputs\\day_06.txt', 'r') as input_file: \n",
    "    for line in input_file.readlines():\n",
    "        input_file_list.append(line.rstrip('\\n'))\n",
    "with open(r'C:\\Users\\andrew.morris\\Documents\\GitHub\\advent_of_code\\Advent of Code\\2021\\Inputs\\day_06_sample.txt', 'r') as input_file: \n",
    "    for line in input_file.readlines():\n",
    "        sample_input_file_list.append(line.rstrip('\\n'))        \n",
    "\n",
    "########################        \n",
    "# Part One Sample Answer: 5934 (80 days) / 26 (18 days)\n",
    "########################\n",
    "# Part Two Sample Answer: 26984457539 (80 days)\n",
    "########################"
   ]
  },
  {
   "cell_type": "markdown",
   "metadata": {},
   "source": [
    "### Part One"
   ]
  },
  {
   "cell_type": "code",
   "execution_count": 49,
   "metadata": {
    "scrolled": false
   },
   "outputs": [
    {
     "name": "stdout",
     "output_type": "stream",
     "text": [
      "-- converting raw input into integers\n"
     ]
    }
   ],
   "source": [
    "# lfish_ages_raw = sample_input_file_list\n",
    "lfish_ages_raw = input_file_list\n",
    "\n",
    "# function to convert the input file into a list of integers\n",
    "def convert_lfish_ages_input(lfish_ages_raw):\n",
    "    print('-- converting raw input into integers')\n",
    "    lfish_ages = [int(x) for x in lfish_ages_raw[0].split(\",\")]\n",
    "    return lfish_ages\n",
    "\n",
    "lfish_ages = convert_lfish_ages_input(lfish_ages_raw)\n",
    "\n",
    "def fish_lifecycle_sim(lfish_ages, days_to_sim):\n",
    "    counter = 1\n",
    "    while counter < days_to_sim+1:\n",
    "#         print(f'day {counter}\\n{lfish_ages}')\n",
    "        print(f'day {counter}')\n",
    "        for index, lfish in enumerate(lfish_ages):\n",
    "            age = lfish_ages[index]\n",
    "            if age == 0:\n",
    "                lfish_ages[index] = 6\n",
    "                lfish_ages.append(9) # adding a 9 not an 8 as the for loop will hit this number and minus 1\n",
    "            else:\n",
    "                lfish_ages[index] = lfish_ages[index]-1\n",
    "#         print(f'{lfish_ages}\\n')\n",
    "        counter += 1\n",
    "    print(f'there are now {len(lfish_ages)} lanternfish')    \n",
    "\n",
    "# fish_lifecycle_sim(lfish_ages, 80)    "
   ]
  },
  {
   "cell_type": "markdown",
   "metadata": {},
   "source": [
    "### Part Two"
   ]
  },
  {
   "cell_type": "code",
   "execution_count": 48,
   "metadata": {
    "scrolled": false
   },
   "outputs": [
    {
     "name": "stdout",
     "output_type": "stream",
     "text": [
      "day 1\n",
      "day 2\n",
      "day 3\n",
      "day 4\n",
      "day 5\n",
      "day 6\n",
      "day 7\n",
      "day 8\n",
      "day 9\n",
      "day 10\n",
      "day 11\n",
      "day 12\n",
      "day 13\n",
      "day 14\n",
      "day 15\n",
      "day 16\n",
      "day 17\n",
      "day 18\n",
      "day 19\n",
      "day 20\n",
      "day 21\n",
      "day 22\n",
      "day 23\n",
      "day 24\n",
      "day 25\n",
      "day 26\n",
      "day 27\n",
      "day 28\n",
      "day 29\n",
      "day 30\n",
      "day 31\n",
      "day 32\n",
      "day 33\n",
      "day 34\n",
      "day 35\n",
      "day 36\n",
      "day 37\n",
      "day 38\n",
      "day 39\n",
      "day 40\n",
      "day 41\n",
      "day 42\n",
      "day 43\n",
      "day 44\n",
      "day 45\n",
      "day 46\n",
      "day 47\n",
      "day 48\n",
      "day 49\n",
      "day 50\n",
      "day 51\n",
      "day 52\n",
      "day 53\n",
      "day 54\n",
      "day 55\n",
      "day 56\n",
      "day 57\n",
      "day 58\n",
      "day 59\n",
      "day 60\n",
      "day 61\n",
      "day 62\n",
      "day 63\n",
      "day 64\n",
      "day 65\n",
      "day 66\n",
      "day 67\n",
      "day 68\n",
      "day 69\n",
      "day 70\n",
      "day 71\n",
      "day 72\n",
      "day 73\n",
      "day 74\n",
      "day 75\n",
      "day 76\n",
      "day 77\n",
      "day 78\n",
      "day 79\n",
      "day 80\n",
      "day 81\n",
      "day 82\n",
      "day 83\n",
      "day 84\n",
      "day 85\n",
      "day 86\n",
      "day 87\n"
     ]
    },
    {
     "ename": "MemoryError",
     "evalue": "",
     "output_type": "error",
     "traceback": [
      "\u001b[1;31m---------------------------------------------------------------------------\u001b[0m",
      "\u001b[1;31mMemoryError\u001b[0m                               Traceback (most recent call last)",
      "\u001b[1;32mC:\\Users\\ANDREW~1.MOR\\AppData\\Local\\Temp/ipykernel_17576/982294881.py\u001b[0m in \u001b[0;36m<module>\u001b[1;34m\u001b[0m\n\u001b[1;32m----> 1\u001b[1;33m \u001b[0mfish_lifecycle_sim\u001b[0m\u001b[1;33m(\u001b[0m\u001b[0mlfish_ages\u001b[0m\u001b[1;33m,\u001b[0m \u001b[1;36m256\u001b[0m\u001b[1;33m)\u001b[0m\u001b[1;33m\u001b[0m\u001b[1;33m\u001b[0m\u001b[0m\n\u001b[0m",
      "\u001b[1;32mC:\\Users\\ANDREW~1.MOR\\AppData\\Local\\Temp/ipykernel_17576/1824320114.py\u001b[0m in \u001b[0;36mfish_lifecycle_sim\u001b[1;34m(lfish_ages, days_to_sim)\u001b[0m\n\u001b[0;32m     19\u001b[0m             \u001b[1;32mif\u001b[0m \u001b[0mage\u001b[0m \u001b[1;33m==\u001b[0m \u001b[1;36m0\u001b[0m\u001b[1;33m:\u001b[0m\u001b[1;33m\u001b[0m\u001b[1;33m\u001b[0m\u001b[0m\n\u001b[0;32m     20\u001b[0m                 \u001b[0mlfish_ages\u001b[0m\u001b[1;33m[\u001b[0m\u001b[0mindex\u001b[0m\u001b[1;33m]\u001b[0m \u001b[1;33m=\u001b[0m \u001b[1;36m6\u001b[0m\u001b[1;33m\u001b[0m\u001b[1;33m\u001b[0m\u001b[0m\n\u001b[1;32m---> 21\u001b[1;33m                 \u001b[0mlfish_ages\u001b[0m\u001b[1;33m.\u001b[0m\u001b[0mappend\u001b[0m\u001b[1;33m(\u001b[0m\u001b[1;36m9\u001b[0m\u001b[1;33m)\u001b[0m \u001b[1;31m# adding a 9 not an 8 as the for loop will hit this number and minus 1\u001b[0m\u001b[1;33m\u001b[0m\u001b[1;33m\u001b[0m\u001b[0m\n\u001b[0m\u001b[0;32m     22\u001b[0m             \u001b[1;32melse\u001b[0m\u001b[1;33m:\u001b[0m\u001b[1;33m\u001b[0m\u001b[1;33m\u001b[0m\u001b[0m\n\u001b[0;32m     23\u001b[0m                 \u001b[0mlfish_ages\u001b[0m\u001b[1;33m[\u001b[0m\u001b[0mindex\u001b[0m\u001b[1;33m]\u001b[0m \u001b[1;33m=\u001b[0m \u001b[0mlfish_ages\u001b[0m\u001b[1;33m[\u001b[0m\u001b[0mindex\u001b[0m\u001b[1;33m]\u001b[0m\u001b[1;33m-\u001b[0m\u001b[1;36m1\u001b[0m\u001b[1;33m\u001b[0m\u001b[1;33m\u001b[0m\u001b[0m\n",
      "\u001b[1;31mMemoryError\u001b[0m: "
     ]
    }
   ],
   "source": [
    "## cannot get past day 87 without hitting a memory error\n",
    "## need to come up with a less memory intensive method\n",
    "## probably using some of the exponential methods within numpy\n",
    "\n",
    "fish_lifecycle_sim(lfish_ages, 256)  "
   ]
  }
 ],
 "metadata": {
  "kernelspec": {
   "display_name": "Python 3 (ipykernel)",
   "language": "python",
   "name": "python3"
  },
  "language_info": {
   "codemirror_mode": {
    "name": "ipython",
    "version": 3
   },
   "file_extension": ".py",
   "mimetype": "text/x-python",
   "name": "python",
   "nbconvert_exporter": "python",
   "pygments_lexer": "ipython3",
   "version": "3.8.12"
  }
 },
 "nbformat": 4,
 "nbformat_minor": 4
}
