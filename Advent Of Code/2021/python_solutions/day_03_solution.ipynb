{
 "cells": [
  {
   "cell_type": "markdown",
   "metadata": {},
   "source": [
    "### Inputs and Imports"
   ]
  },
  {
   "cell_type": "code",
   "execution_count": 13,
   "metadata": {},
   "outputs": [],
   "source": [
    "from collections import Counter\n",
    "\n",
    "input_file_list = []\n",
    "sample_input_file_list = []\n",
    "\n",
    "with open(r'C:\\Users\\andrew.morris\\Documents\\GitHub\\advent_of_code\\Advent of Code\\2021\\Inputs\\day_03.txt', 'r') as input_file: \n",
    "    for line in input_file.readlines():\n",
    "        input_file_list.append(line.rstrip('\\n'))\n",
    "with open(r'C:\\Users\\andrew.morris\\Documents\\GitHub\\advent_of_code\\Advent of Code\\2021\\Inputs\\day_03_sample.txt', 'r') as input_file: \n",
    "    for line in input_file.readlines():\n",
    "        sample_input_file_list.append(line.rstrip('\\n'))        \n",
    "\n",
    "########################        \n",
    "# Part One Sample Answer:\n",
    "#     For gamma rate 10110 (22) and epsilon rate 01001 (9) \n",
    "#     The power consumption is 198\n",
    "########################\n",
    "# Part Two Sample Answer:\n",
    "#     For oxygen rating 10111 (23) and co2 scrubber rating 01010 (10) \n",
    "#     The life support rating is 230\n",
    "########################"
   ]
  },
  {
   "cell_type": "markdown",
   "metadata": {},
   "source": [
    "### Part One\n",
    "\n",
    "We are given a diagnostic report which is a list of binary strings. \n",
    "\n",
    "We are tasked with identifying the power consumption which is the gamma rate multiplied by the epsilon rate from this report. \n",
    "\n",
    "The gamma rate is the most common bit for each position within the binary strings and the gamma rate is the least common. "
   ]
  },
  {
   "cell_type": "code",
   "execution_count": 188,
   "metadata": {
    "scrolled": true
   },
   "outputs": [
    {
     "name": "stdout",
     "output_type": "stream",
     "text": [
      "\n",
      "    For gamma rate 000010110001 (177) and epsilon rate 111101001110 (3918) \n",
      "    The power consumption is 693486\n",
      "    \n"
     ]
    }
   ],
   "source": [
    "# diagnostic_report = sample_input_file_list\n",
    "diagnostic_report = input_file_list\n",
    "\n",
    "def get_gamma_epsilon_rates(diagnostic_report):\n",
    "    binary_string_len = len(diagnostic_report[0])\n",
    "    report_len = len(diagnostic_report)\n",
    "    \n",
    "    # create a list of empty lists, \n",
    "    # there will be x number of inner lists relative the to number of characters within the first bit\n",
    "    binary_index_lists = [[] for _ in range(binary_string_len)]\n",
    "    \n",
    "    # For each character within a bit within the diagnostic report append the character to the list relative to it's index\n",
    "    for binary_string in diagnostic_report:\n",
    "        for index, character in enumerate(binary_string):\n",
    "            binary_index_lists[index].append(int(character))\n",
    "\n",
    "    # sum the total bits within each position, \n",
    "    # if that sum is larger than the length of the report / 2 then add 1 (as string) to the gamma_rate and 0 to the epsilon rate \n",
    "    # if that sum is lower than the length of the report / 2 then add 0 (as string) to the gamma_rate  \n",
    "    gamma_rate = ''\n",
    "    epsilon_rate = ''\n",
    "    for bit_total in binary_index_lists:\n",
    "        if sum(bit_total) > (report_len/2):\n",
    "            gamma_rate += '1'\n",
    "            epsilon_rate += '0'\n",
    "        if sum(bit_total) < (report_len/2):\n",
    "            gamma_rate += '0' \n",
    "            epsilon_rate += '1'\n",
    "\n",
    "    return gamma_rate, epsilon_rate  \n",
    "\n",
    "def get_power_consumption(gamma_rate, epsilon_rate):   \n",
    "    # convert the binary sting to integers and then multiply them \n",
    "    power_consumption = int(gamma_rate,2) * int(epsilon_rate,2)\n",
    "    print(f'''\n",
    "    For gamma rate {gamma_rate} ({int(gamma_rate,2)}) and epsilon rate {epsilon_rate} ({int(epsilon_rate,2)}) \n",
    "    The power consumption is {power_consumption}\n",
    "    ''')\n",
    "    return power_consumption\n",
    "\n",
    "gamma_rate, epsilon_rate = get_gamma_epsilon_rates(diagnostic_report)\n",
    "power_consumption = get_power_consumption(gamma_rate, epsilon_rate)"
   ]
  },
  {
   "cell_type": "markdown",
   "metadata": {},
   "source": [
    "### Alternative Part One Solution"
   ]
  },
  {
   "cell_type": "code",
   "execution_count": 189,
   "metadata": {},
   "outputs": [
    {
     "name": "stdout",
     "output_type": "stream",
     "text": [
      "\n",
      "    For gamma rate 000010110001 (177) and epsilon rate 111101001110 (3918) \n",
      "    The power consumption is 693486\n",
      "    \n"
     ]
    }
   ],
   "source": [
    "# diagnostic_report = sample_input_file_list\n",
    "diagnostic_report = input_file_list\n",
    "\n",
    "def get_gamma_epsilon_rates_v2(diagnostic_report):   \n",
    "    binary_range = range(len(diagnostic_report[0]))\n",
    "    gamma_rate = ''\n",
    "    epsilon_rate = ''\n",
    "    for index in binary_range:\n",
    "        binary_bit_list = []\n",
    "        for binary_string in diagnostic_report:\n",
    "            binary_bit_list.append(binary_string[index])\n",
    "        most_common_value = Counter(binary_bit_list).most_common(1)[0][0]\n",
    "        least_common_value = Counter(binary_bit_list).most_common()[-1][0]\n",
    "        gamma_rate += str(most_common_value)\n",
    "        epsilon_rate += str(least_common_value)\n",
    "    return gamma_rate, epsilon_rate\n",
    "\n",
    "def get_power_consumption(gamma_rate, epsilon_rate):   \n",
    "    # convert the binary sting to integers and then multiply them \n",
    "    power_consumption = int(gamma_rate,2) * int(epsilon_rate,2)\n",
    "    print(f'''\n",
    "    For gamma rate {gamma_rate} ({int(gamma_rate,2)}) and epsilon rate {epsilon_rate} ({int(epsilon_rate,2)}) \n",
    "    The power consumption is {power_consumption}\n",
    "    ''')\n",
    "    return power_consumption\n",
    "\n",
    "gamma_rate, epsilon_rate = get_gamma_epsilon_rates_v2(diagnostic_report)\n",
    "power_consumption = get_power_consumption(gamma_rate, epsilon_rate)"
   ]
  },
  {
   "cell_type": "markdown",
   "metadata": {},
   "source": [
    "### Part Two\n",
    "\n",
    "We are now tasked with finding the life support rating which is based on 2 more ratings derived form the diagnostic report. \n",
    "\n",
    "oxygen generator rating:\n",
    "- For each position identify the most common value (either 1 or 0) then keep on the binary strings from the list which beging with that value. If 0 and 1 are equally common, keep values with a 1. \n",
    "\n",
    "CO2 scrubber rating:\n",
    "- Do the same as above but keep the binary strings which have the least common value. \n",
    "\n",
    "\n"
   ]
  },
  {
   "cell_type": "code",
   "execution_count": 48,
   "metadata": {},
   "outputs": [
    {
     "name": "stdout",
     "output_type": "stream",
     "text": [
      "\n",
      "    For oxygen rating 001110100101 (933) and co2 scrubber rating 111000100110 (3622) \n",
      "    The life support rating is 3379326\n",
      "    \n"
     ]
    },
    {
     "data": {
      "text/plain": [
       "3379326"
      ]
     },
     "execution_count": 48,
     "metadata": {},
     "output_type": "execute_result"
    }
   ],
   "source": [
    "# diagnostic_report = sample_input_file_list\n",
    "diagnostic_report = input_file_list\n",
    "\n",
    "def get_oxy_c02_rating(diagnostic_report, rating_type):\n",
    "    index = 0\n",
    "    while index < len(diagnostic_report[0]):\n",
    "        \n",
    "        if len(diagnostic_report) == 1:\n",
    "            break\n",
    "        \n",
    "        binary_bit_list = []\n",
    "        for binary_string in diagnostic_report:\n",
    "                binary_bit_list.append(binary_string[index])\n",
    "                \n",
    "        # for oxy rate the commonality value is the most common value at the position of x in each string         \n",
    "        # if ther are equal volumes then set commonality value to 1\n",
    "        if rating_type == 'oxy':\n",
    "            if binary_bit_list.count('1') >= binary_bit_list.count('0'):\n",
    "                commonality_value = '1'\n",
    "            elif binary_bit_list.count('0') > binary_bit_list.count('1'):\n",
    "                commonality_value = '0'\n",
    "                \n",
    "        # for c02 rate the commonality value is the most common value at the position of x in each string        \n",
    "        # if ther are equal volumes then set commonality value to 0\n",
    "        elif rating_type == 'c02':\n",
    "            if binary_bit_list.count('0') > binary_bit_list.count('1'):\n",
    "                commonality_value = '1'\n",
    "            elif binary_bit_list.count('1') >= binary_bit_list.count('0'):\n",
    "                commonality_value = '0'\n",
    "                \n",
    "        diagnostic_report = [x for x in diagnostic_report if x[index] == commonality_value] \n",
    "        index = index + 1\n",
    "    return(diagnostic_report)    \n",
    "\n",
    "def get_life_support_rating(oxy_rate, c02_rate):   \n",
    "    # convert the binary sting to integers and then multiply them \n",
    "    life_support_rating = int(oxy_rate,2) * int(c02_rate,2)\n",
    "    print(f'''\n",
    "    For oxygen rating {oxy_rate} ({int(oxy_rate,2)}) and co2 scrubber rating {c02_rate} ({int(c02_rate,2)}) \n",
    "    The life support rating is {life_support_rating}\n",
    "    ''')\n",
    "    return life_support_rating\n",
    "\n",
    "oxy_rate = get_oxy_c02_rating(diagnostic_report, 'oxy')[0] \n",
    "co2_rate = get_oxy_c02_rating(diagnostic_report, 'c02')[0]\n",
    "get_life_support_rating(oxy_rate, co2_rate)    "
   ]
  }
 ],
 "metadata": {
  "kernelspec": {
   "display_name": "Python 3",
   "language": "python",
   "name": "python3"
  },
  "language_info": {
   "codemirror_mode": {
    "name": "ipython",
    "version": 3
   },
   "file_extension": ".py",
   "mimetype": "text/x-python",
   "name": "python",
   "nbconvert_exporter": "python",
   "pygments_lexer": "ipython3",
   "version": "3.8.5"
  }
 },
 "nbformat": 4,
 "nbformat_minor": 4
}
