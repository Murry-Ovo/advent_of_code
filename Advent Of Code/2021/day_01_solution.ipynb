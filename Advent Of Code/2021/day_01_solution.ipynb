{
 "cells": [
  {
   "cell_type": "markdown",
   "metadata": {},
   "source": [
    "### Import Input File and Libraries"
   ]
  },
  {
   "cell_type": "code",
   "execution_count": 147,
   "metadata": {},
   "outputs": [],
   "source": [
    "import pandas as pd\n",
    "\n",
    "input_file_list = []\n",
    "with open(r'C:\\Users\\andrew.morris\\Documents\\GitHub\\murry_code\\Advent of Code\\2021\\Inputs\\day_01.txt', 'r') as input_file: \n",
    "    for line in input_file.readlines():\n",
    "        input_file_list.append(line.rstrip('\\n'))\n",
    "        \n",
    "      "
   ]
  },
  {
   "cell_type": "markdown",
   "metadata": {},
   "source": [
    "### Part One"
   ]
  },
  {
   "cell_type": "code",
   "execution_count": 150,
   "metadata": {
    "scrolled": false
   },
   "outputs": [
    {
     "name": "stdout",
     "output_type": "stream",
     "text": [
      "The depth has increased 1615 times\n"
     ]
    }
   ],
   "source": [
    "# Not working for some reason, \n",
    "# Within the for loop when it gets to 1004 it does not see this as greater than the previous value of 976\n",
    "# Answer is actually 1616 not 1615\n",
    "\n",
    "# Make sure that all the values are converted to an integer\n",
    "input_file_list = [int(x) for x in input_file_list]\n",
    "\n",
    "Sonar_sweep_report = input_file_list\n",
    "\n",
    "def create_movement_list(depth_report):   \n",
    "    depth_movement_list = []\n",
    "    previous_depth = depth_report[0]\n",
    "\n",
    "    for depth in depth_report:\n",
    "        if depth == previous_depth:\n",
    "            movement = 'N/A'\n",
    "        elif depth > previous_depth:\n",
    "            movement = 'increased'\n",
    "        elif depth < previous_depth:\n",
    "            movement = 'decreased'\n",
    "#         print(f'depth == previous_depth = {depth == previous_depth}')\n",
    "#         print(f'depth > previous_depth = {depth > previous_depth}')\n",
    "#         print(f'depth < previous_depth = {depth < previous_depth}')\n",
    "#         print(f'previous_depth = {previous_depth}, depth = {depth}, movement = {movement}')\n",
    "#         print()\n",
    "        depth_movement_list.append(movement)   \n",
    "        previous_depth = depth\n",
    "        \n",
    "    return depth_movement_list\n",
    "\n",
    "create_movement_list(Sonar_sweep_report)\n",
    "\n",
    "depth_movement_list = create_movement_list(sonar_sweep_report)\n",
    "depth_increased_count = depth_movement_list.count('increased')\n",
    "\n",
    "print(f'The depth has increased {depth_increased_count} times')"
   ]
  },
  {
   "cell_type": "code",
   "execution_count": 155,
   "metadata": {},
   "outputs": [
    {
     "name": "stdout",
     "output_type": "stream",
     "text": [
      "1616\n"
     ]
    }
   ],
   "source": [
    "counter = 0\n",
    "\n",
    "for n, depth in enumerate(Sonar_sweep_report):\n",
    "    current_depth = Sonar_sweep_report[n]\n",
    "    if n == 0:\n",
    "        previous_depth = Sonar_sweep_report[n]\n",
    "    else:\n",
    "        previous_depth = Sonar_sweep_report[n-1]\n",
    "    if current_depth > previous_depth:\n",
    "        counter+=1\n",
    "print(counter)          "
   ]
  },
  {
   "cell_type": "code",
   "execution_count": 53,
   "metadata": {},
   "outputs": [
    {
     "name": "stdout",
     "output_type": "stream",
     "text": [
      "C:\\Users\\andrew.morris\\Documents\\GitHub\\murry_code\\Advent of Code\\2021\\Inputs\n"
     ]
    }
   ],
   "source": [
    "#######################\n",
    "### export to csv #####\n",
    "import pandas as pd\n",
    "zipped_lists = zip(sonar_sweep_report,depth_movement_list)\n",
    "df = pd.DataFrame(zipped_lists, columns = ['Depth', 'Movement'])\n",
    "path = r'C:\\Users\\andrew.morris\\Documents\\GitHub\\murry_code\\Advent of Code\\2021\\Inputs'\n",
    "df.to_csv(path + r'\\day_one_solution.csv')\n",
    "#######################\n"
   ]
  },
  {
   "cell_type": "markdown",
   "metadata": {},
   "source": [
    "### Part Two"
   ]
  },
  {
   "cell_type": "code",
   "execution_count": 156,
   "metadata": {
    "scrolled": true
   },
   "outputs": [
    {
     "name": "stdout",
     "output_type": "stream",
     "text": [
      "The depth has increased 1645 times\n"
     ]
    }
   ],
   "source": [
    "def group_depth_in_threes(depth_report):\n",
    "    new_depth_report = []\n",
    "    for index, depth in enumerate(Sonar_sweep_report):\n",
    "        # if there are 3 numbers which can be grouped together then...\n",
    "        if len(Sonar_sweep_report[index:(index+3)]) ==3:\n",
    "            # group together the current index + 2\n",
    "            grouped_depths = Sonar_sweep_report[index:(index+3)]\n",
    "            sum_grouped_depths = sum(grouped_depths)\n",
    "            new_depth_report.append(sum_grouped_depths)\n",
    "            \n",
    "group_depth_in_threes()    \n",
    "depth_movement_list = create_movement_list(new_depth_report)\n",
    "depth_increased_count = depth_movement_list.count('increased')\n",
    "\n",
    "print(f'The depth has increased {depth_increased_count} times')"
   ]
  },
  {
   "cell_type": "code",
   "execution_count": 157,
   "metadata": {},
   "outputs": [
    {
     "name": "stdout",
     "output_type": "stream",
     "text": [
      "badger\n",
      "badger\n",
      "badger\n",
      "badger\n",
      "badger\n",
      "badger\n",
      "badger\n",
      "badger\n",
      "badger\n",
      "badger\n"
     ]
    }
   ],
   "source": [
    "import itertools\n",
    "\n",
    "num = 10\n",
    "for _ in itertools.repeat(None, num):\n",
    "    print('badger')"
   ]
  }
 ],
 "metadata": {
  "kernelspec": {
   "display_name": "Python 3",
   "language": "python",
   "name": "python3"
  },
  "language_info": {
   "codemirror_mode": {
    "name": "ipython",
    "version": 3
   },
   "file_extension": ".py",
   "mimetype": "text/x-python",
   "name": "python",
   "nbconvert_exporter": "python",
   "pygments_lexer": "ipython3",
   "version": "3.8.5"
  }
 },
 "nbformat": 4,
 "nbformat_minor": 4
}
