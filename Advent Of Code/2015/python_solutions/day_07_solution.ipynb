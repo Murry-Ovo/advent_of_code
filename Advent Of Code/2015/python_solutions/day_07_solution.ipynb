{
 "cells": [
  {
   "cell_type": "markdown",
   "metadata": {},
   "source": [
    "### Inputs and Imports"
   ]
  },
  {
   "cell_type": "code",
   "execution_count": null,
   "metadata": {},
   "outputs": [],
   "source": [
    "input_file_list = []\n",
    "sample_input_file_list = []\n",
    "\n",
    "day = ''\n",
    "\n",
    "with open(f'Inputs\\\\day_{day}.txt', 'r') as input_file: \n",
    "    for line in input_file.readlines():\n",
    "        input_file_list.append(line.rstrip('\\n'))\n",
    "with open(f'C:Inputs\\\\day_{day}_sample.txt', 'r') as input_file: \n",
    "    for line in input_file.readlines():\n",
    "        sample_input_file_list.append(line.rstrip('\\n'))        \n",
    "\n",
    "########################        \n",
    "# Part One Sample Answer:\n",
    "########################\n",
    "# Part Two Sample Answer:\n",
    "########################"
   ]
  },
  {
   "cell_type": "markdown",
   "metadata": {},
   "source": [
    "### Part One\n",
    "\n",
    "This year, Santa brought little Bobby Tables a set of wires and bitwise logic gates! Unfortunately, little Bobby is a little under the recommended age range, and he needs help assembling the circuit.\n",
    "\n",
    "Each wire has an identifier (some lowercase letters) and can carry a 16-bit signal (a number from 0 to 65535). A signal is provided to each wire by a gate, another wire, or some specific value. Each wire can only get a signal from one source, but can provide its signal to multiple destinations. A gate provides no signal until all of its inputs have a signal.\n",
    "\n",
    "The included instructions booklet describes how to connect the parts together: x AND y -> z means to connect wires x and y to an AND gate, and then connect its output to wire z.\n",
    "\n",
    "For example:\n",
    "\n",
    "- `123 -> x` means that the signal `123` is provided to wire `x`.\n",
    "- `x AND y -> z` means that the bitwise AND of wire `x` and wire `y` is provided to wire z.\n",
    "- `p LSHIFT 2 -> q` means that the value from wire `p` is left-shifted by 2 and then provided to wire `q`.\n",
    "- `NOT e -> f` means that the bitwise complement of the value from wire `e` is provided to wire `f`.\n",
    "\n",
    "Other possible gates include OR (bitwise OR) and RSHIFT (right-shift). If, for some reason, you'd like to emulate the circuit instead, almost all programming languages (for example, C, JavaScript, or Python) provide operators for these gates.\n",
    "\n",
    "For example, here is a simple circuit:\n",
    "\n",
    "123 -> x  \n",
    "456 -> y  \n",
    "x AND y -> d  \n",
    "x OR y -> e  \n",
    "x LSHIFT 2 -> f  \n",
    "y RSHIFT 2 -> g  \n",
    "NOT x -> h  \n",
    "NOT y -> i  \n",
    "\n",
    "After it is run, these are the signals on the wires:\n",
    "\n",
    "d: 72  \n",
    "e: 507  \n",
    "f: 492  \n",
    "g: 114  \n",
    "h: 65412  \n",
    "i: 65079  \n",
    "x: 123  \n",
    "y: 456\n",
    "\n",
    "In little Bobby's kit's instructions booklet (provided as your puzzle input), what signal is ultimately provided to wire a?"
   ]
  },
  {
   "cell_type": "code",
   "execution_count": 14,
   "metadata": {},
   "outputs": [
    {
     "name": "stdout",
     "output_type": "stream",
     "text": [
      "72\n",
      "507\n",
      "492\n",
      "114\n",
      "-124\n",
      "-457\n",
      "123\n",
      "456\n"
     ]
    }
   ],
   "source": [
    "# raw_input = input_file_list\n",
    "# raw_input = sample_input_file_list\n",
    "\n",
    "### sample ###\n",
    "# 123 -> x\n",
    "# 456 -> y\n",
    "# x AND y -> d\n",
    "# x OR y -> e\n",
    "# x LSHIFT 2 -> f\n",
    "# y RSHIFT 2 -> g\n",
    "# NOT x -> h\n",
    "# NOT y -> i\n",
    "\n",
    "# use the bitwise operators from https://wiki.python.org/moin/BitwiseOperators\n",
    "\n",
    "x = 123\n",
    "y = 456\n",
    "d = x & y\n",
    "e = x | y\n",
    "f = x << 2\n",
    "g = y >> 2\n",
    "h = ~ x\n",
    "i = ~ y\n",
    "\n",
    "print(d, e, f, g, h, i, x, y, sep = '\\n')\n",
    "\n",
    "\n",
    "\n",
    "# the NOT / bitwise complement is not working as it should"
   ]
  },
  {
   "cell_type": "markdown",
   "metadata": {},
   "source": [
    "### Part Two"
   ]
  },
  {
   "cell_type": "code",
   "execution_count": null,
   "metadata": {},
   "outputs": [],
   "source": []
  }
 ],
 "metadata": {
  "kernelspec": {
   "display_name": "Python 3 (ipykernel)",
   "language": "python",
   "name": "python3"
  },
  "language_info": {
   "codemirror_mode": {
    "name": "ipython",
    "version": 3
   },
   "file_extension": ".py",
   "mimetype": "text/x-python",
   "name": "python",
   "nbconvert_exporter": "python",
   "pygments_lexer": "ipython3",
   "version": "3.8.12"
  }
 },
 "nbformat": 4,
 "nbformat_minor": 4
}
