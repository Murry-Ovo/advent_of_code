{
 "cells": [
  {
   "cell_type": "markdown",
   "metadata": {},
   "source": [
    "### Part One\n",
    "\n",
    "Santa needs help mining some AdventCoins (very similar to bitcoins) to use as gifts for all the economically forward-thinking little girls and boys.\n",
    "\n",
    "To do this, he needs to find MD5 hashes which, in hexadecimal, start with at least five zeroes. The input to the MD5 hash is some secret key (your puzzle input, given below) followed by a number in decimal. To mine AdventCoins, you must find Santa the lowest positive number (no leading zeroes: 1, 2, 3, ...) that produces such a hash.\n",
    "\n",
    "For example:\n",
    "\n",
    "- If your secret key is abcdef, the answer is 609043, because the MD5 hash of abcdef609043 starts with five zeroes (000001dbbfa...), and it is the lowest such number to do so.\n",
    "- If your secret key is pqrstuv, the lowest number it combines with to make an MD5 hash starting with five zeroes is 1048970; that is, the MD5 hash of pqrstuv1048970 looks like 000006136ef...."
   ]
  },
  {
   "cell_type": "code",
   "execution_count": 24,
   "metadata": {},
   "outputs": [
    {
     "name": "stdout",
     "output_type": "stream",
     "text": [
      "unencoded_md5: bgvyzdsv254575\n",
      "md5: <md5 HASH object @ 0x000001F4D463ABB0>\n",
      "md5_string: 000004b30d481662b9cb0c105f6549b2\n",
      "number: 254575\n",
      "\n",
      "\n"
     ]
    },
    {
     "data": {
      "text/plain": [
       "254575"
      ]
     },
     "execution_count": 24,
     "metadata": {},
     "output_type": "execute_result"
    }
   ],
   "source": [
    "import hashlib\n",
    "\n",
    "raw_input = 'bgvyzdsv' # puzzle input\n",
    "# raw_input = 'abcdef'   # sample 1 - answer 609043\n",
    "# raw_input = 'pqrstuv'  # sample 2 - answer 1048970\n",
    "\n",
    "# pass through the raw_input (test string) \n",
    "# and output the number which needs to be appended in order to create the first MD5 hash which begins with 5 x 0\n",
    "def get_00000_md5(input_string):\n",
    "    number = 0\n",
    "    string = raw_input\n",
    "\n",
    "    while number < 10000000:\n",
    "        unencoded_md5 = string + str(number)\n",
    "        md5           = hashlib.md5(unencoded_md5.encode())\n",
    "        md5_string    = md5.hexdigest()\n",
    "        if md5_string[:5] == '00000': \n",
    "            break\n",
    "        else:\n",
    "            number += 1\n",
    "    print(f'unencoded_md5: {unencoded_md5}', f'md5: {md5}', f'md5_string: {md5_string}', f'number: {number}','\\n',sep = '\\n')       \n",
    "    return number\n",
    "    \n",
    "get_00000_md5(raw_input)\n"
   ]
  },
  {
   "cell_type": "markdown",
   "metadata": {},
   "source": [
    "### Part Two"
   ]
  },
  {
   "cell_type": "code",
   "execution_count": 26,
   "metadata": {},
   "outputs": [
    {
     "name": "stdout",
     "output_type": "stream",
     "text": [
      "unencoded_md5: bgvyzdsv1038736\n",
      "md5: <md5 HASH object @ 0x000001F4D47941B0>\n",
      "md5_string: 000000b1b64bf5eb55aad89986126953\n",
      "number: 1038736\n",
      "\n",
      "\n"
     ]
    },
    {
     "data": {
      "text/plain": [
       "1038736"
      ]
     },
     "execution_count": 26,
     "metadata": {},
     "output_type": "execute_result"
    }
   ],
   "source": [
    "# pass through the raw_input (test string) \n",
    "# and output the number which needs to be appended in order to create the first MD5 hash which begins with 5 x 0\n",
    "def get_000000_md5(input_string):\n",
    "    number = 0\n",
    "    string = raw_input\n",
    "\n",
    "    while number < 10000000:\n",
    "        unencoded_md5 = string + str(number)\n",
    "        md5           = hashlib.md5(unencoded_md5.encode())\n",
    "        md5_string    = md5.hexdigest()\n",
    "        if md5_string[:6] == '000000': \n",
    "            break\n",
    "        else:\n",
    "            number += 1\n",
    "    print(f'unencoded_md5: {unencoded_md5}', f'md5: {md5}', f'md5_string: {md5_string}', f'number: {number}','\\n',sep = '\\n')       \n",
    "    return number\n",
    "\n",
    "get_000000_md5(raw_input)"
   ]
  }
 ],
 "metadata": {
  "kernelspec": {
   "display_name": "Python 3 (ipykernel)",
   "language": "python",
   "name": "python3"
  },
  "language_info": {
   "codemirror_mode": {
    "name": "ipython",
    "version": 3
   },
   "file_extension": ".py",
   "mimetype": "text/x-python",
   "name": "python",
   "nbconvert_exporter": "python",
   "pygments_lexer": "ipython3",
   "version": "3.8.12"
  }
 },
 "nbformat": 4,
 "nbformat_minor": 4
}
