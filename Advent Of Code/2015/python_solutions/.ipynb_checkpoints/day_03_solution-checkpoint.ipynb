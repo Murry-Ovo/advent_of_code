{
 "cells": [
  {
   "cell_type": "markdown",
   "metadata": {},
   "source": [
    "### Inputs and Imports"
   ]
  },
  {
   "cell_type": "code",
   "execution_count": 2,
   "metadata": {},
   "outputs": [],
   "source": [
    "input_file_list = []\n",
    "\n",
    "day = '03'\n",
    "\n",
    "with open(f'Inputs\\\\day_{day}.txt', 'r') as input_file: \n",
    "    for line in input_file.readlines():\n",
    "        input_file_list.append(line.rstrip('\\n'))      \n",
    "\n",
    "########################        \n",
    "# Part One Sample Answer:\n",
    "########################\n",
    "# Part Two Sample Answer:\n",
    "########################"
   ]
  },
  {
   "cell_type": "markdown",
   "metadata": {},
   "source": [
    "### Part One\n",
    "\n",
    "Santa is delivering presents to an infinite two-dimensional grid of houses.\n",
    "\n",
    "He begins by delivering a present to the house at his starting location, and then an elf at the North Pole calls him via radio and tells him where to move next. Moves are always exactly one house to the north (^), south (v), east (>), or west (<). After each move, he delivers another present to the house at his new location.\n",
    "\n",
    "However, the elf back at the north pole has had a little too much eggnog, and so his directions are a little off, and Santa ends up visiting some houses more than once. How many houses receive at least one present?\n",
    "\n",
    "For example:\n",
    "\n",
    "- `>` delivers presents to 2 houses: one at the starting location, and one to the east.\n",
    "- `^>v<` delivers presents to 4 houses in a square, including twice to the house at his starting/ending location.\n",
    "- `^v^v^v^v^v` delivers a bunch of presents to some very lucky children at only 2 houses."
   ]
  },
  {
   "cell_type": "code",
   "execution_count": 29,
   "metadata": {
    "scrolled": false
   },
   "outputs": [
    {
     "name": "stdout",
     "output_type": "stream",
     "text": [
      "Santa has visted 2572 houses\n"
     ]
    }
   ],
   "source": [
    "raw_input = input_file_list[0]\n",
    "# raw_input = '>' # 2 houses \n",
    "# raw_input = '^>v<' # 4 houses\n",
    "# raw_input = '^v^v^v^v^v' # 2 houses\n",
    "\n",
    "def convert_instruction(x, y, instruction):\n",
    "    if instruction == '^': y += 1\n",
    "    if instruction == '>': x += 1\n",
    "    if instruction == 'v': y -= 1\n",
    "    if instruction == '<': x -= 1\n",
    "    return x, y\n",
    "\n",
    "def create_list_of_visted_houses(raw_input):\n",
    "    #starting x/y coordinates\n",
    "    x, y = 0, 0\n",
    "    delivery_coordiantes = [(x,y)]\n",
    "\n",
    "    # for each instruction in the input move to a new x/y coordinate and add that to the list of delivery_coordiantes\n",
    "    for ins in raw_input:\n",
    "        x,y = convert_instruction(x, y, ins) # add to x or y value depending on the instruction\n",
    "        delivery_coordiantes.append((x,y))   # append new delivery location to all visited delivery places\n",
    "    return delivery_coordiantes\n",
    "    \n",
    "houses_visited = create_list_of_visted_houses(raw_input)\n",
    "\n",
    "print(f'Santa has visted {len(set(houses_visited))} houses')\n"
   ]
  },
  {
   "cell_type": "markdown",
   "metadata": {},
   "source": [
    "### Part Two\n",
    "\n",
    "The next year, to speed up the process, Santa creates a robot version of himself, Robo-Santa, to deliver presents with him.\n",
    "\n",
    "Santa and Robo-Santa start at the same location (delivering two presents to the same starting house), then take turns moving based on instructions from the elf, who is eggnoggedly reading from the same script as the previous year.\n",
    "\n",
    "This year, how many houses receive at least one present?\n",
    "\n",
    "For example:\n",
    "\n",
    "- `^v` delivers presents to 3 houses, because Santa goes north, and then Robo-Santa goes south.\n",
    "- `^>v<` now delivers presents to 3 houses, and Santa and Robo-Santa end up back where they started.\n",
    "- `^v^v^v^v^v` now delivers presents to 11 houses, with Santa going one direction and Robo-Santa going the other."
   ]
  },
  {
   "cell_type": "code",
   "execution_count": 42,
   "metadata": {},
   "outputs": [
    {
     "name": "stdout",
     "output_type": "stream",
     "text": [
      "Santa and Robo Santa have visted 2631 houses\n"
     ]
    }
   ],
   "source": [
    "raw_input = input_file_list[0]\n",
    "# raw_input = '^v' # 3\n",
    "# raw_input = '^>v<' # 3\n",
    "# raw_input = '^v^v^v^v^v' # 11\n",
    "\n",
    "def split_input(raw_input):\n",
    "    santa_route = ''\n",
    "    robo_santa_route = ''\n",
    "    for index, ins in enumerate(raw_input):\n",
    "        # if index is divisible by 2 then add instruction to Santa route\n",
    "        if index % 2 == 0: santa_route += ins\n",
    "        # Otherwise add instruction to Robo-Santa route\n",
    "        else: robo_santa_route += ins\n",
    "    return santa_route, robo_santa_route\n",
    "    \n",
    "santa_route, robo_santa_route = split_input(raw_input)   \n",
    "combined_places_visited = create_list_of_visted_houses(santa_route) + create_list_of_visted_houses(robo_santa_route)\n",
    "\n",
    "combined_places_visited\n",
    "\n",
    "print(f'Santa and Robo Santa have visted {len(set(combined_places_visited))} houses')"
   ]
  }
 ],
 "metadata": {
  "kernelspec": {
   "display_name": "Python 3 (ipykernel)",
   "language": "python",
   "name": "python3"
  },
  "language_info": {
   "codemirror_mode": {
    "name": "ipython",
    "version": 3
   },
   "file_extension": ".py",
   "mimetype": "text/x-python",
   "name": "python",
   "nbconvert_exporter": "python",
   "pygments_lexer": "ipython3",
   "version": "3.8.12"
  }
 },
 "nbformat": 4,
 "nbformat_minor": 4
}
