{
 "cells": [
  {
   "cell_type": "markdown",
   "metadata": {},
   "source": [
    "### Part One\n",
    "\n",
    "Today, the Elves are playing a game called look-and-say. They take turns making sequences by reading aloud the previous sequence and using that reading as the next sequence. For example, 211 is read as \"one two, two ones\", which becomes 1221 (1 2, 2 1s).\n",
    "\n",
    "Look-and-say sequences are generated iteratively, using the previous value as input for the next step. For each step, take the previous value, and replace each run of digits (like 111) with the number of digits (3) followed by the digit itself (1).\n",
    "\n",
    "For example:\n",
    "\n",
    "- 1 becomes 11 (1 copy of digit 1).\n",
    "- 11 becomes 21 (2 copies of digit 1).\n",
    "- 21 becomes 1211 (one 2 followed by one 1).\n",
    "- 1211 becomes 111221 (one 1, one 2, and two 1s).\n",
    "- 111221 becomes 312211 (three 1s, two 2s, and one 1).\n",
    "\n",
    "Starting with the digits in your puzzle input, apply this process 40 times. What is the length of the result?\n",
    "\n",
    "Your puzzle input is `1321131112`.\n",
    "\n",
    "### Part Two\n",
    "\n",
    "Now, starting again with the digits in your puzzle input, apply this process 50 times. What is the length of the new result?"
   ]
  },
  {
   "cell_type": "code",
   "execution_count": 36,
   "metadata": {},
   "outputs": [
    {
     "name": "stdout",
     "output_type": "stream",
     "text": [
      "\n",
      "Part One:\n",
      "The length of the final output is 492982\n",
      "Part Two:\n",
      "The length of the final output is 6989950\n",
      "\n"
     ]
    }
   ],
   "source": [
    "from itertools import groupby\n",
    "\n",
    "raw_input = '1321131112'\n",
    "# raw_input = '1' # becomes 312211 after 5 iterations, length 6\n",
    "# sample_1 = '21'\n",
    "# sample_2 = '1211'\n",
    "# sample_3 = '111221'\n",
    "\n",
    "# iterate through string and group recurring characters\n",
    "def group_digits(input_string):   \n",
    "    grouped_input = [''.join(g) for _, g in groupby(input_string)]\n",
    "    return grouped_input\n",
    "\n",
    "# go through the grouped input and convert to string of count of characters + character \n",
    "def convert_string(grouped_input):  \n",
    "    new_string = ''\n",
    "    for i in grouped_input: \n",
    "        new_string += str(len(i))+i[0]\n",
    "    return new_string\n",
    "\n",
    "def iterate_over_input(starting_digit, iteration_times):\n",
    "#     print(f'starting_digit = {starting_digit}')\n",
    "    for _ in range(iteration_times):\n",
    "        grouped_input = group_digits(starting_digit)\n",
    "        starting_digit = convert_string(grouped_input)\n",
    "#         print(f'starting_digit = {starting_digit}')\n",
    "    return starting_digit\n",
    "\n",
    "final_ouput_40 = iterate_over_input(raw_input, 40)\n",
    "final_ouput_50 = iterate_over_input(raw_input, 50)\n",
    "print(f'''\n",
    "Part One:\\nThe length of the final output is {len(final_ouput_40)}\n",
    "Part Two:\\nThe length of the final output is {len(final_ouput_50)}\n",
    "''')\n"
   ]
  }
 ],
 "metadata": {
  "kernelspec": {
   "display_name": "Python 3 (ipykernel)",
   "language": "python",
   "name": "python3"
  },
  "language_info": {
   "codemirror_mode": {
    "name": "ipython",
    "version": 3
   },
   "file_extension": ".py",
   "mimetype": "text/x-python",
   "name": "python",
   "nbconvert_exporter": "python",
   "pygments_lexer": "ipython3",
   "version": "3.8.12"
  }
 },
 "nbformat": 4,
 "nbformat_minor": 4
}
