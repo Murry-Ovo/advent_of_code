{
 "cells": [
  {
   "cell_type": "markdown",
   "metadata": {},
   "source": [
    "### Inputs and Imports"
   ]
  },
  {
   "cell_type": "code",
   "execution_count": 36,
   "metadata": {},
   "outputs": [],
   "source": [
    "import re\n",
    "import itertools\n",
    "\n",
    "input_file_list = []\n",
    "sample_input_file_list = []\n",
    "\n",
    "day = '09'\n",
    "\n",
    "# splitting each row by whitespace and only keeping the first, third and fifth elements, \n",
    "# also stripping the '\\n' new row at the end of each line\n",
    "with open(f'Inputs\\\\day_{day}.txt', 'r') as input_file: \n",
    "    for line in input_file.readlines():\n",
    "        split = re.split(' ', line)\n",
    "        input_file_list.append([split[0], split[2], split[4].rstrip('\\n')])     \n",
    "with open(f'C:Inputs\\\\day_{day}_sample.txt', 'r') as input_file: \n",
    "    for line in input_file.readlines():\n",
    "        split = re.split(' ', line)\n",
    "        sample_input_file_list.append([split[0], split[2], split[4].rstrip('\\n')]) "
   ]
  },
  {
   "cell_type": "markdown",
   "metadata": {},
   "source": [
    "### Part One\n",
    "\n",
    "Every year, Santa manages to deliver all of his presents in a single night.\n",
    "\n",
    "This year, however, he has some new locations to visit; his elves have provided him the distances between every pair of locations. He can start and end at any two (different) locations he wants, but he must visit each location exactly once. What is the shortest distance he can travel to achieve this?\n",
    "\n",
    "For example, given the following distances:\n",
    "\n",
    "`London to Dublin = 464`  \n",
    "`London to Belfast = 518`  \n",
    "`Dublin to Belfast = 141`  \n",
    "\n",
    "The possible routes are therefore:\n",
    "\n",
    "Dublin -> London -> Belfast = 982  \n",
    "London -> Dublin -> Belfast = 605  \n",
    "London -> Belfast -> Dublin = 659  \n",
    "Dublin -> Belfast -> London = 659  \n",
    "Belfast -> Dublin -> London = 605  \n",
    "Belfast -> London -> Dublin = 982  \n",
    "\n",
    "The shortest of these is London -> Dublin -> Belfast = 605, and so the answer is 605 in this example.\n",
    "\n",
    "What is the distance of the shortest route?"
   ]
  },
  {
   "cell_type": "code",
   "execution_count": 119,
   "metadata": {
    "scrolled": false
   },
   "outputs": [
    {
     "name": "stdout",
     "output_type": "stream",
     "text": [
      "The shortest distance to traverse all locations is 251\n",
      "The possible routes with this distance are: \n",
      "('Tambi', 'Arbre', 'Snowdin', 'AlphaCentauri', 'Tristram', 'Straylight', 'Faerun', 'Norrath')\n",
      "('Norrath', 'Faerun', 'Straylight', 'Tristram', 'AlphaCentauri', 'Snowdin', 'Arbre', 'Tambi')\n"
     ]
    }
   ],
   "source": [
    "raw_input = input_file_list\n",
    "# raw_input = sample_input_file_list\n",
    "\n",
    "# create a list of tuples, each tuple represents each possible combination of locations\n",
    "def location_combos(raw_input):\n",
    "    # create a distinct list of locations\n",
    "    locations = []\n",
    "    for row in raw_input: locations.extend([row[0], row[1]])\n",
    "    locations = list(set(locations))\n",
    "    \n",
    "    # create list of all possible location combinations\n",
    "    location_combos = []\n",
    "    for i in range(len(locations) + 1):\n",
    "        combos = itertools.permutations(locations, len(locations))\n",
    "        combo_lst = list(combos)\n",
    "        location_combos += combo_lst       \n",
    "    # remove duplicate values\n",
    "    location_combos = list(set(location_combos))\n",
    "    return location_combos\n",
    "\n",
    "# create dictionary of all 2 location combos with the distance between them as the value \n",
    "def distance_dict(raw_input):\n",
    "    dist_dict = {}\n",
    "    for i in raw_input:\n",
    "        # create a new entry for both combinations of the 2 locations (a-b and b-a)\n",
    "        new_entry = {f'{i[0]}-{i[1]}':i[2], f'{i[1]}-{i[0]}':i[2]}\n",
    "        dist_dict.update(new_entry) \n",
    "    return dist_dict\n",
    "\n",
    "# iterate through all possible routes and output a list with the total distances required to traverse\n",
    "def calc_total_route_distance(delivery_routes, distance_dict):\n",
    "    # find the number of sub_routes to find the distances for\n",
    "    route_length = range(len(delivery_routes[0]))\n",
    "    \n",
    "    # create a new list of all delivery routes and the total distance required\n",
    "    delivery_routes_and_dist = []\n",
    "    for route in delivery_routes:\n",
    "        ttl_route_dist = 0\n",
    "        # iterate over the number of sub_routes within the master route (a-b out of a-b-c-d)\n",
    "        for sub_route in route_length:\n",
    "            # break out of the loop if last location in the route\n",
    "            if sub_route == max(route_length): \n",
    "                break\n",
    "            # create a string out of the sub route ('a-b')\n",
    "            sub_route_str = f'{route[sub_route]}-{route[sub_route+1]}'\n",
    "            # lookup the sub route distance from the distance_dict and add to ttl_route_dist\n",
    "            ttl_route_dist += int(distance_dict[sub_route_str])\n",
    "        # add the route and total distance as a new element to delivery_routes_and_dist \n",
    "        delivery_routes_and_dist.append([route, ttl_route_dist])\n",
    "    return delivery_routes_and_dist  \n",
    "\n",
    "# caluclate the shortest routes and print to console\n",
    "def calc_shortest_route(delivery_routes_and_dist):\n",
    "    total_distances = []\n",
    "    for i in delivery_routes_and_dist:\n",
    "        total_distances.append(i[1])\n",
    "    min_distance = min(total_distances)\n",
    "    possible_routes = [x[0] for x in delivery_routes_and_dist if x[1] == min_distance]\n",
    "    print(f'The shortest distance to traverse all locations is {min_distance}')\n",
    "    print('The possible routes with this distance are: ')\n",
    "    for i in possible_routes: print(i)\n",
    "\n",
    "delivery_routes = location_combos(raw_input)\n",
    "distance_dict   = distance_dict(raw_input)\n",
    "delivery_routes_and_dist = calc_total_route_distance(delivery_routes, distance_dict)\n",
    "\n",
    "calc_shortest_route(delivery_routes_and_dist)"
   ]
  },
  {
   "cell_type": "markdown",
   "metadata": {},
   "source": [
    "### Part Two\n",
    "\n",
    "The next year, just to show off, Santa decides to take the route with the longest distance instead.\n",
    "\n",
    "He can still start and end at any two (different) locations he wants, and he still must visit each location exactly once.\n",
    "\n",
    "For example, given the distances above, the longest route would be 982 via (for example) Dublin -> London -> Belfast.\n",
    "\n",
    "What is the distance of the longest route?"
   ]
  },
  {
   "cell_type": "code",
   "execution_count": 120,
   "metadata": {},
   "outputs": [
    {
     "name": "stdout",
     "output_type": "stream",
     "text": [
      "The shortest distance to traverse all locations is 898\n",
      "The possible routes with this distance are: \n",
      "('Tristram', 'Faerun', 'Arbre', 'Straylight', 'AlphaCentauri', 'Norrath', 'Tambi', 'Snowdin')\n",
      "('Snowdin', 'Tambi', 'Norrath', 'AlphaCentauri', 'Straylight', 'Arbre', 'Faerun', 'Tristram')\n"
     ]
    }
   ],
   "source": [
    "# caluclate the shortest routes and print to console\n",
    "def calc_longest_route(delivery_routes_and_dist):\n",
    "    total_distances = []\n",
    "    for i in delivery_routes_and_dist:\n",
    "        total_distances.append(i[1])\n",
    "    max_distance = max(total_distances)\n",
    "    possible_routes = [x[0] for x in delivery_routes_and_dist if x[1] == max_distance]\n",
    "    print(f'The shortest distance to traverse all locations is {max_distance}')\n",
    "    print('The possible routes with this distance are: ')\n",
    "    for i in possible_routes: print(i)\n",
    "        \n",
    "calc_longest_route(delivery_routes_and_dist)        "
   ]
  }
 ],
 "metadata": {
  "kernelspec": {
   "display_name": "Python 3 (ipykernel)",
   "language": "python",
   "name": "python3"
  },
  "language_info": {
   "codemirror_mode": {
    "name": "ipython",
    "version": 3
   },
   "file_extension": ".py",
   "mimetype": "text/x-python",
   "name": "python",
   "nbconvert_exporter": "python",
   "pygments_lexer": "ipython3",
   "version": "3.8.12"
  }
 },
 "nbformat": 4,
 "nbformat_minor": 4
}
