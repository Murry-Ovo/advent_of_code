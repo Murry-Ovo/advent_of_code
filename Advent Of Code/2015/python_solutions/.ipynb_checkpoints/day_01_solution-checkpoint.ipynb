{
 "cells": [
  {
   "cell_type": "markdown",
   "metadata": {},
   "source": [
    "### Inputs and Imports"
   ]
  },
  {
   "cell_type": "code",
   "execution_count": 5,
   "metadata": {},
   "outputs": [],
   "source": [
    "input_file_list = []\n",
    "\n",
    "day = '01'\n",
    "\n",
    "with open(f'Inputs\\\\day_{day}.txt', 'r') as input_file: \n",
    "    for line in input_file.readlines():\n",
    "        input_file_list.append(line.rstrip('\\n'))\n",
    "\n",
    "########################        \n",
    "# Part One Sample Answer:\n",
    "########################\n",
    "# Part Two Sample Answer:\n",
    "########################"
   ]
  },
  {
   "cell_type": "markdown",
   "metadata": {},
   "source": [
    "### Part One\n",
    "\n",
    "We are given instructions on which floor to get to in order to deliver some presents. The input is a series of opening ( and closing ) parenthesis. \n",
    "\n",
    "An opening parenthesis means go up a floor and a closing parenthesis means go down a floor. \n",
    "\n",
    "You start at floor 0. "
   ]
  },
  {
   "cell_type": "code",
   "execution_count": 17,
   "metadata": {},
   "outputs": [
    {
     "name": "stdout",
     "output_type": "stream",
     "text": [
      "The final floor is: 138\n"
     ]
    }
   ],
   "source": [
    "raw_input = input_file_list[0]\n",
    "# raw_input = '(())' # 0\n",
    "# raw_input = '()()' # 0\n",
    "# raw_input = '(()(()(' # 3\n",
    "# raw_input = '))(((((' # 3\n",
    "# raw_input = ')())())' # -3\n",
    "\n",
    "def find_final_floor(raw_input):\n",
    "    floor = 0\n",
    "    for index, i in enumerate(raw_input):\n",
    "        if i =='(': floor += 1\n",
    "        if i ==')': floor -= 1\n",
    "    print(f'The final floor is: {floor}')\n",
    "    return floor\n",
    "\n",
    "final_floor = find_final_floor(raw_input)\n"
   ]
  },
  {
   "cell_type": "markdown",
   "metadata": {},
   "source": [
    "### Part Two"
   ]
  },
  {
   "cell_type": "code",
   "execution_count": 23,
   "metadata": {},
   "outputs": [
    {
     "name": "stdout",
     "output_type": "stream",
     "text": [
      "The first character to get to the basement is: 1771\n"
     ]
    }
   ],
   "source": [
    "raw_input = input_file_list[0]\n",
    "# raw_input = '()())' # 5\n",
    "# raw_input = ')' # 1\n",
    "\n",
    "# updating the previous function to stop at the first character to create a negative floor\n",
    "def find_first_basement_character(raw_input):\n",
    "    floor = 0\n",
    "    for index, i in enumerate(raw_input):\n",
    "        if i =='(': floor += 1\n",
    "        if i ==')': floor -= 1\n",
    "        character = index+1\n",
    "        if floor < 0: break\n",
    "    print(f'The first character to get to the basement is: {character}')\n",
    "    return floor\n",
    "\n",
    "final_floor = find_first_basement_character(raw_input)"
   ]
  }
 ],
 "metadata": {
  "kernelspec": {
   "display_name": "Python 3 (ipykernel)",
   "language": "python",
   "name": "python3"
  },
  "language_info": {
   "codemirror_mode": {
    "name": "ipython",
    "version": 3
   },
   "file_extension": ".py",
   "mimetype": "text/x-python",
   "name": "python",
   "nbconvert_exporter": "python",
   "pygments_lexer": "ipython3",
   "version": "3.8.12"
  }
 },
 "nbformat": 4,
 "nbformat_minor": 4
}
