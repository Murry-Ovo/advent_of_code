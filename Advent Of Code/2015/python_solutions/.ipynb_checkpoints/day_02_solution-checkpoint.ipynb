{
 "cells": [
  {
   "cell_type": "markdown",
   "metadata": {},
   "source": [
    "### Inputs and Imports"
   ]
  },
  {
   "cell_type": "code",
   "execution_count": 31,
   "metadata": {},
   "outputs": [],
   "source": [
    "import numpy as np\n",
    "\n",
    "input_file_list = []\n",
    "sample_input_file_list = []\n",
    "\n",
    "day = '02'\n",
    "\n",
    "with open(f'Inputs\\\\day_{day}.txt', 'r') as input_file: \n",
    "    for line in input_file.readlines():\n",
    "        input_file_list.append(line.rstrip('\\n'))\n",
    "with open(f'C:Inputs\\\\day_{day}_sample.txt', 'r') as input_file: \n",
    "    for line in input_file.readlines():\n",
    "        sample_input_file_list.append(line.rstrip('\\n'))        \n",
    "\n",
    "########################        \n",
    "# Part One Sample Answer: 58 + 43 (101)\n",
    "########################\n",
    "# Part Two Sample Answer: 34 + 14 (48)\n",
    "########################"
   ]
  },
  {
   "cell_type": "markdown",
   "metadata": {},
   "source": [
    "### Part One\n",
    "\n",
    "The elves are running low on wrapping paper, and so they need to submit an order for more. They have a list of the dimensions (`length l, width w, and height h`) of each present, and only want to order exactly as much as they need.\n",
    "\n",
    "Fortunately, every present is a box (a perfect right rectangular prism), which makes calculating the required wrapping paper for each gift a little easier: find the surface area of the box, which is `2*l*w + 2*w*h + 2*h*l`. The elves also need a little extra paper for each present: the area of the smallest side.\n",
    "\n",
    "For example:\n",
    "\n",
    "- A present with dimensions `2x3x4` requires `2*6 + 2*12 + 2*8 = 52` square feet of wrapping paper plus `6` square feet of slack, for a total of `58` square feet.\n",
    "-  present with dimensions `1x1x10` requires `2*1 + 2*10 + 2*10 = 42` square feet of wrapping paper plus `1` square foot of slack, for a total of `43` square feet."
   ]
  },
  {
   "cell_type": "code",
   "execution_count": 45,
   "metadata": {},
   "outputs": [
    {
     "name": "stdout",
     "output_type": "stream",
     "text": [
      "The total amount of wrapping paper required is 1588178\n"
     ]
    }
   ],
   "source": [
    "raw_input = input_file_list\n",
    "# raw_input = sample_input_file_list\n",
    "\n",
    "def find_total_paper_required(raw_input):\n",
    "    # for each present, assign length, width and height to variables\n",
    "    # then calculate the size of the sides\n",
    "    # work of the amount of paper required for each present using this and update the wrapping_paper_required variable\n",
    "    wrapping_paper_required = 0\n",
    "    \n",
    "    for present in raw_input:\n",
    "        l,w,h = [int(x) for x in present.split('x')]\n",
    "        lw, wh, hl = l*w, w*h, h*l\n",
    "        sml_side = min(lw, wh, hl)\n",
    "        paper_req = sum([2*lw, 2*wh, 2*hl, sml_side])\n",
    "        wrapping_paper_required += paper_req\n",
    "\n",
    "    print(f'The total amount of wrapping paper required is {wrapping_paper_required}')    \n",
    "    return wrapping_paper_required\n",
    "\n",
    "wrapping_paper_required = find_total_paper_required(raw_input)\n",
    "    "
   ]
  },
  {
   "cell_type": "markdown",
   "metadata": {},
   "source": [
    "### Part Two\n",
    "\n",
    "The elves are also running low on ribbon. Ribbon is all the same width, so they only have to worry about the length they need to order, which they would again like to be exact.\n",
    "\n",
    "The ribbon required to wrap a present is the shortest distance around its sides, or the smallest perimeter of any one face. Each present also requires a bow made out of ribbon as well; the feet of ribbon required for the perfect bow is equal to the cubic feet of volume of the present. Don't ask how they tie the bow, though; they'll never tell.\n",
    "\n",
    "For example:\n",
    "\n",
    "- A present with dimensions `2x3x4` requires `2+2+3+3 = 10` feet of ribbon to wrap the present plus `2*3*4 = 24` feet of ribbon for the bow, for a total of `34` feet.\n",
    "- A present with dimensions `1x1x10` requires `1+1+1+1 = 4` feet of ribbon to wrap the present plus `1*1*10 = 10` feet of ribbon for the bow, for a total of `14` feet."
   ]
  },
  {
   "cell_type": "code",
   "execution_count": 43,
   "metadata": {},
   "outputs": [
    {
     "name": "stdout",
     "output_type": "stream",
     "text": [
      "The total amount of wrapping paper required is 1588178 square feet\n",
      "3783758 feet of ribbon is also required\n"
     ]
    }
   ],
   "source": [
    "raw_input = input_file_list\n",
    "# raw_input = sample_input_file_list\n",
    "\n",
    "# extending function from part one to also find the amount of ribbon required:\n",
    "\n",
    "def find_total_paper_and_ribbon_required(raw_input):\n",
    "    ttl_paper_req, ttl_ribbon_req = 0, 0\n",
    "    for present in raw_input:\n",
    "        l,w,h = [int(x) for x in present.split('x')] # each individual measurement\n",
    "        lwh = [l, w, h]                              # list of measurements\n",
    "        lw, wh, hl = l*w, w*h, h*l                   # calc the size of each side\n",
    "        sml_side = min(lw, wh, hl)\n",
    "        \n",
    "        # calcualte paper required\n",
    "        ppr_req = sum([2*lw, 2*wh, 2*hl, sml_side])\n",
    "        ttl_paper_req += ppr_req\n",
    "        \n",
    "        # calculate ribbon required\n",
    "        lwh.sort() # re order the list in numerical order\n",
    "        wrap_ribbon = sum(lwh[:2])*2 # the smallest 2 measurements x 2\n",
    "        bow_ribbon  = np.prod(lwh)   # l x w x h\n",
    "        ttl_ribbon_req += wrap_ribbon+bow_ribbon\n",
    "        \n",
    "\n",
    "    print(f'The total amount of wrapping paper required is {ttl_paper_req} square feet\\n{ttl_ribbon_req} feet of ribbon is also required')    \n",
    "    return ttl_paper_req, ttl_ribbon_req\n",
    "\n",
    "total_paper_required = find_total_paper_and_ribbon_required(raw_input)\n",
    "    "
   ]
  }
 ],
 "metadata": {
  "kernelspec": {
   "display_name": "Python 3 (ipykernel)",
   "language": "python",
   "name": "python3"
  },
  "language_info": {
   "codemirror_mode": {
    "name": "ipython",
    "version": 3
   },
   "file_extension": ".py",
   "mimetype": "text/x-python",
   "name": "python",
   "nbconvert_exporter": "python",
   "pygments_lexer": "ipython3",
   "version": "3.8.12"
  }
 },
 "nbformat": 4,
 "nbformat_minor": 4
}
