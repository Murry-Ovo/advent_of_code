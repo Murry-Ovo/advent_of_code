{
 "cells": [
  {
   "cell_type": "markdown",
   "metadata": {},
   "source": [
    "### Inputs and Imports"
   ]
  },
  {
   "cell_type": "code",
   "execution_count": 19,
   "metadata": {},
   "outputs": [],
   "source": [
    "from string import ascii_lowercase\n",
    "import re\n",
    "\n",
    "input_file_list = []\n",
    "\n",
    "day = '05'\n",
    "\n",
    "with open(f'Inputs\\\\day_{day}.txt', 'r') as input_file: \n",
    "    for line in input_file.readlines():\n",
    "        input_file_list.append(line.rstrip('\\n'))\n"
   ]
  },
  {
   "cell_type": "markdown",
   "metadata": {},
   "source": [
    "### Part One\n",
    "\n",
    "Santa needs help figuring out which strings in his text file are naughty or nice.\n",
    "\n",
    "A nice string is one with all of the following properties:\n",
    "\n",
    "- It contains at least three vowels (aeiou only), like aei, xazegov, or aeiouaeiouaeiou.\n",
    "- It contains at least one letter that appears twice in a row, like xx, abcdde (dd), or aabbccdd (aa, bb, cc, or dd).\n",
    "- It does not contain the strings ab, cd, pq, or xy, even if they are part of one of the other requirements.\n",
    "\n",
    "For example:\n",
    "\n",
    "- `ugknbfddgicrmopn` is nice because it has at least three vowels (u...i...o...), a double letter (...dd...), and none of the disallowed substrings.\n",
    "- `aaa` is nice because it has at least three vowels and a double letter, even though the letters used by different rules overlap.\n",
    "- `jchzalrnumimnmhp` is naughty because it has no double letter.\n",
    "- `haegwjzuvuyypxyu` is naughty because it contains the string xy.\n",
    "- `dvszwmarrgswjxmb` is naughty because it contains only one vowel.\n",
    "\n",
    "\n",
    "How many strings are nice?"
   ]
  },
  {
   "cell_type": "code",
   "execution_count": 51,
   "metadata": {},
   "outputs": [
    {
     "name": "stdout",
     "output_type": "stream",
     "text": [
      "There are 238 nice strings in the input\n"
     ]
    }
   ],
   "source": [
    "raw_input = input_file_list\n",
    "# raw_input = ['ugknbfddgicrmopn', 'aaa', 'jchzalrnumimnmhp', 'haegwjzuvuyypxyu', 'dvszwmarrgswjxmb']\n",
    "\n",
    "# scans input list for naughty text combos, Naughty if any found, else Nice\n",
    "def naughty_combo_id(input_string):\n",
    "    naughty_combo = ['ab', 'cd', 'pq', 'xy']\n",
    "    result = 'Nice'\n",
    "    for combo in naughty_combo:\n",
    "        if combo in input_string:\n",
    "            result = 'Naughty'\n",
    "            break\n",
    "    return result        \n",
    "\n",
    "# counts the amount of lowercase vowels in a string, if 3 or more then Nice, else Naughty\n",
    "def nice_vowels(input_string):\n",
    "    # counts the frequency of each vowel in the input using map() and .count\n",
    "    # convert the map object to a list then sum to get the total vowel frequency in the input string\n",
    "    vowel_freq = sum(list(map(input_string.count, \"aeiou\")))\n",
    "    return 'Nice' if vowel_freq >= 3 else 'Naughty'\n",
    "\n",
    "# scans the input string for instance of double letters (aa, bb,  etc..) Nice if found else Naughty\n",
    "def nice_repeats(input_string):\n",
    "    alpha = ascii_lowercase\n",
    "    dbl_lets = []\n",
    "    for let in alpha: dbl_lets.append(let*2)\n",
    "    for lets in dbl_lets:\n",
    "        if lets in input_string: \n",
    "            result = 'Nice' \n",
    "            break\n",
    "        else: result = 'Naughty'\n",
    "    return result\n",
    "\n",
    "# takes a list of strings, assesses if they are naughty or nice and outputs the total naughty/nice lists\n",
    "def create_naughty_nice_lists(raw_input):    \n",
    "    naughty_list, nice_list = [], []    \n",
    "    for i in raw_input:\n",
    "        # create a list of naughty/nice check results\n",
    "        checks = [naughty_combo_id(i), nice_vowels(i), nice_repeats(i)]\n",
    "        # if any of the checks are naughty add string to naughty list, else add to nice list\n",
    "        naughty_list.append(i) if 'Naughty' in checks else nice_list.append(i)\n",
    "    return naughty_list, nice_list\n",
    "\n",
    "naughty_list, nice_list = create_naughty_nice_lists(raw_input)\n",
    "\n",
    "print(f'There are {len(nice_list)} nice strings in the input')"
   ]
  },
  {
   "cell_type": "markdown",
   "metadata": {},
   "source": [
    "### Part Two\n",
    "\n",
    "Realizing the error of his ways, Santa has switched to a better model of determining whether a string is naughty or nice. None of the old rules apply, as they are all clearly ridiculous.\n",
    "\n",
    "Now, a nice string is one with all of the following properties:\n",
    "\n",
    "- It contains a pair of any two letters that appears at least twice in the string without overlapping, like xyxy (xy) or aabcdefgaa (aa), but not like aaa (aa, but it overlaps).\n",
    "- It contains at least one letter which repeats with exactly one letter between them, like xyx, abcdefeghi (efe), or even aaa.\n",
    "\n",
    "For example:\n",
    "\n",
    "- `qjhvhtzxzqqjkmpb` is nice because is has a pair that appears twice (qj) and a letter that repeats with exactly one letter between them (zxz).\n",
    "- `xxyxx` is nice because it has a pair that appears twice and a letter that repeats with one between, even though the letters used by each rule overlap.\n",
    "- `uurcxstgmygtbstg` is naughty because it has a pair (tg) but no repeat with a single letter between them.\n",
    "- `ieodomkazucvgmuy` is naughty because it has a repeating letter with one between (odo), but no pair that appears twice.\n",
    "\n",
    "How many strings are nice under these new rules?"
   ]
  },
  {
   "cell_type": "code",
   "execution_count": 57,
   "metadata": {},
   "outputs": [
    {
     "name": "stdout",
     "output_type": "stream",
     "text": [
      "There are 69 nice strings in the input\n"
     ]
    }
   ],
   "source": [
    "raw_input = input_file_list\n",
    "# raw_input = ['qjhvhtzxzqqjkmpb', 'xxyxx', 'uurcxstgmygtbstg', 'ieodomkazucvgmuy']\n",
    "\n",
    "# funtion to identify if the input string contains a repeated letter with exactly one letter in between ('xyx','apa' etc...)\n",
    "def repeats_with_let_between(input_string):\n",
    "    repeat_strings = []\n",
    "    alpha = ascii_lowercase\n",
    "    \n",
    "    # create a list of all possible combinations of repeated letters with one between\n",
    "    for first_let in alpha:\n",
    "        for second_let in alpha:\n",
    "            combo = first_let + second_let + first_let\n",
    "            repeat_strings.append(combo)\n",
    "     \n",
    "    # check to see if any of the combos are within the input string\n",
    "    for combo in repeat_strings:\n",
    "        if combo in input_string: \n",
    "            result = 'Nice'\n",
    "            break\n",
    "        else: result = 'Naughty'\n",
    "    return result\n",
    "\n",
    "def find_letter_pairs(input_string):\n",
    "    # create a list of all possible combinations of 2 letters\n",
    "    letter_pairs = []\n",
    "    alpha = ascii_lowercase\n",
    "    for first_let in alpha:\n",
    "        for second_let in alpha:\n",
    "            combo = first_let + second_let\n",
    "            letter_pairs.append(combo)\n",
    "\n",
    "    # search the input string for 2 occurences of each letter pair    \n",
    "    for search_string in letter_pairs:\n",
    "        # find the index where the search string is first found within the input\n",
    "        first_match_index = input_string.find(search_string)\n",
    "        # search the input again but starting at the end of where the string was last found (to avoid overlaps)\n",
    "        second_match_index = input_string.find(search_string, first_match_index+2)\n",
    "        # if there are 2 matches then 'Nice', otherwise 'Naughty'\n",
    "        if first_match_index != -1 and second_match_index != -1: \n",
    "            result = 'Nice' \n",
    "            break\n",
    "        else: result = 'Naughty'\n",
    "    return result\n",
    "\n",
    "# reusing the create_naughty_nice_lists function from part one, but updating the functions within the 'checks' list\n",
    "def create_naughty_nice_lists(raw_input):    \n",
    "    naughty_list, nice_list = [], []    \n",
    "    for i in raw_input:\n",
    "        # create a list of naughty/nice check results\n",
    "        checks = [find_letter_pairs(i), repeats_with_let_between(i)]\n",
    "        # if any of the checks are naughty add string to naughty list, else add to nice list\n",
    "        naughty_list.append(i) if 'Naughty' in checks else nice_list.append(i)\n",
    "    return naughty_list, nice_list\n",
    "\n",
    "naughty_list, nice_list = create_naughty_nice_lists(raw_input)\n",
    "\n",
    "print(f'There are {len(nice_list)} nice strings in the input')"
   ]
  }
 ],
 "metadata": {
  "kernelspec": {
   "display_name": "Python 3 (ipykernel)",
   "language": "python",
   "name": "python3"
  },
  "language_info": {
   "codemirror_mode": {
    "name": "ipython",
    "version": 3
   },
   "file_extension": ".py",
   "mimetype": "text/x-python",
   "name": "python",
   "nbconvert_exporter": "python",
   "pygments_lexer": "ipython3",
   "version": "3.8.12"
  }
 },
 "nbformat": 4,
 "nbformat_minor": 4
}
