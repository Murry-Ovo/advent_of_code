{
 "cells": [
  {
   "cell_type": "markdown",
   "id": "2f0207bd",
   "metadata": {},
   "source": [
    "\n",
    "# Day 13\n",
    "[Link to Advent of Code 2022 - Day 13](https://adventofcode.com/2022/day/13)\n"
   ]
  },
  {
   "cell_type": "code",
   "execution_count": null,
   "id": "1547d1cb",
   "metadata": {},
   "outputs": [],
   "source": [
    "\n",
    "with open('Inputs\\day_13.txt')         as f:puz     = [l.rstrip('\\n').split(' ') for l in f.readlines()]\n",
    "with open('Inputs\\day_13_sample.txt')  as f:sample  = [l.rstrip('\\n').split(' ') for l in f.readlines()]"
   ]
  }
 ],
 "metadata": {},
 "nbformat": 4,
 "nbformat_minor": 5
}
