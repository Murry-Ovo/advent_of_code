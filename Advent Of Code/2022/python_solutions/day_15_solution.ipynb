{
 "cells": [
  {
   "cell_type": "markdown",
   "id": "4cc4636f",
   "metadata": {},
   "source": [
    "\n",
    "# Day 15\n",
    "[Link to Advent of Code 2022 - Day 15](https://adventofcode.com/2022/day/15)\n"
   ]
  },
  {
   "cell_type": "code",
   "execution_count": null,
   "id": "0688c85a",
   "metadata": {},
   "outputs": [],
   "source": [
    "\n",
    "with open('Inputs\\day_15.txt')         as f:puz     = [l.rstrip('\\n').split(' ') for l in f.readlines()]\n",
    "with open('Inputs\\day_15_sample.txt')  as f:sample  = [l.rstrip('\\n').split(' ') for l in f.readlines()]"
   ]
  }
 ],
 "metadata": {},
 "nbformat": 4,
 "nbformat_minor": 5
}
