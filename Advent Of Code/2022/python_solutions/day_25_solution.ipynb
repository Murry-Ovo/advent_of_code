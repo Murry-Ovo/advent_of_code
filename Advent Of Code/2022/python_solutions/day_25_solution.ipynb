{
 "cells": [
  {
   "cell_type": "markdown",
   "id": "ae19f161",
   "metadata": {},
   "source": [
    "\n",
    "# Day 25\n",
    "[Link to Advent of Code 2022 - Day 25](https://adventofcode.com/2022/day/25)\n"
   ]
  },
  {
   "cell_type": "code",
   "execution_count": null,
   "id": "ce16948f",
   "metadata": {},
   "outputs": [],
   "source": [
    "\n",
    "with open('Inputs\\day_25.txt')         as f:puz     = [l.rstrip('\\n').split(' ') for l in f.readlines()]\n",
    "with open('Inputs\\day_25_sample.txt')  as f:sample  = [l.rstrip('\\n').split(' ') for l in f.readlines()]"
   ]
  }
 ],
 "metadata": {},
 "nbformat": 4,
 "nbformat_minor": 5
}
