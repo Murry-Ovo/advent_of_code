{
 "cells": [
  {
   "cell_type": "markdown",
   "id": "4853a50b",
   "metadata": {},
   "source": [
    "\n",
    "# Day 08\n",
    "[Link to Advent of Code 2022 - Day 08](https://adventofcode.com/2022/day/8)\n"
   ]
  },
  {
   "cell_type": "code",
   "execution_count": null,
   "id": "b5645312",
   "metadata": {},
   "outputs": [],
   "source": [
    "\n",
    "with open('Inputs\\day_08.txt')         as f:puz     = [l.rstrip('\\n').split(' ') for l in f.readlines()]\n",
    "with open('Inputs\\day_08_sample.txt')  as f:sample  = [l.rstrip('\\n').split(' ') for l in f.readlines()]"
   ]
  }
 ],
 "metadata": {},
 "nbformat": 4,
 "nbformat_minor": 5
}
