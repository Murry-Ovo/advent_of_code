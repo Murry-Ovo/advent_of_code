{
 "cells": [
  {
   "cell_type": "markdown",
   "id": "f0e3cd15",
   "metadata": {},
   "source": [
    "\n",
    "# Day 21\n",
    "[Link to Advent of Code 2022 - Day 21](https://adventofcode.com/2022/day/21)\n"
   ]
  },
  {
   "cell_type": "code",
   "execution_count": null,
   "id": "a748d34d",
   "metadata": {},
   "outputs": [],
   "source": [
    "\n",
    "with open('Inputs\\day_21.txt')         as f:puz     = [l.rstrip('\\n').split(' ') for l in f.readlines()]\n",
    "with open('Inputs\\day_21_sample.txt')  as f:sample  = [l.rstrip('\\n').split(' ') for l in f.readlines()]"
   ]
  }
 ],
 "metadata": {},
 "nbformat": 4,
 "nbformat_minor": 5
}
