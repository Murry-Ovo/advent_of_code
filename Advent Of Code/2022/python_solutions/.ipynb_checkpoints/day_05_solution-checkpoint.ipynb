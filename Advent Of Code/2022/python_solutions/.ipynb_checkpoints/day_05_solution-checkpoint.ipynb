{
 "cells": [
  {
   "cell_type": "markdown",
   "id": "92fc2c7f",
   "metadata": {},
   "source": [
    "\n",
    "# Day 5: Supply Stacks\n",
    "[Link to Advent of Code 2022 - Day 05](https://adventofcode.com/2022/day/5)\n",
    "\n",
    "The expedition can depart as soon as the final supplies have been unloaded from the ships. Supplies are stored in stacks of marked crates, but because the needed supplies are buried under many other crates, the crates need to be rearranged.\n",
    "\n",
    "The ship has a giant cargo crane capable of moving crates between stacks. To ensure none of the crates get crushed or fall over, the crane operator will rearrange them in a series of carefully-planned steps. After the crates are rearranged, the desired crates will be at the top of each stack.\n",
    "\n",
    "The Elves don't want to interrupt the crane operator during this delicate procedure, but they forgot to ask her which crate will end up where, and they want to be ready to unload them as soon as possible so they can embark.\n",
    "\n",
    "They do, however, have a drawing of the starting stacks of crates and the rearrangement procedure (your puzzle input). For example:\n",
    "```\n",
    "    [D]    \n",
    "[N] [C]    \n",
    "[Z] [M] [P]\n",
    " 1   2   3 \n",
    "\n",
    "move 1 from 2 to 1\n",
    "move 3 from 1 to 3\n",
    "move 2 from 2 to 1\n",
    "move 1 from 1 to 2\n",
    "```\n",
    "In this example, there are three stacks of crates. Stack 1 contains two crates: crate Z is on the bottom, and crate N is on top. Stack 2 contains three crates; from bottom to top, they are crates M, C, and D. Finally, stack 3 contains a single crate, P.\n",
    "\n",
    "Then, the rearrangement procedure is given. In each step of the procedure, a quantity of crates is moved from one stack to a different stack. In the first step of the above rearrangement procedure, one crate is moved from stack 2 to stack 1, resulting in this configuration:\n",
    "```\n",
    "[D]        \n",
    "[N] [C]    \n",
    "[Z] [M] [P]\n",
    " 1   2   3 \n",
    "```\n",
    "In the second step, three crates are moved from stack 1 to stack 3. Crates are moved one at a time, so the first crate to be moved (D) ends up below the second and third crates:\n",
    "```\n",
    "        [Z]\n",
    "        [N]\n",
    "    [C] [D]\n",
    "    [M] [P]\n",
    " 1   2   3\n",
    "``` \n",
    "Then, both crates are moved from stack 2 to stack 1. Again, because crates are moved one at a time, crate C ends up below crate M:\n",
    "```\n",
    "        [Z]\n",
    "        [N]\n",
    "[M]     [D]\n",
    "[C]     [P]\n",
    " 1   2   3\n",
    "```\n",
    "Finally, one crate is moved from stack 1 to stack 2:\n",
    "```\n",
    "        [Z]\n",
    "        [N]\n",
    "        [D]\n",
    "[C] [M] [P]\n",
    " 1   2   3\n",
    "```\n",
    "\n",
    "The Elves just need to know which crate will end up on top of each stack; in this example, the top crates are C in stack 1, M in stack 2, and Z in stack 3, so you should combine these together and give the Elves the message CMZ.\n",
    "\n",
    "After the rearrangement procedure completes, what crate ends up on top of each stack?\n"
   ]
  },
  {
   "cell_type": "code",
   "execution_count": 12,
   "id": "993e1e85",
   "metadata": {},
   "outputs": [
    {
     "name": "stdout",
     "output_type": "stream",
     "text": [
      "   [D]    \n",
      "[N] [C]    \n",
      "[Z] [M] [P]\n",
      " 1   2   3 \n"
     ]
    },
    {
     "ename": "AttributeError",
     "evalue": "'numpy.ndarray' object has no attribute 'to_list'",
     "output_type": "error",
     "traceback": [
      "\u001b[1;31m---------------------------------------------------------------------------\u001b[0m",
      "\u001b[1;31mAttributeError\u001b[0m                            Traceback (most recent call last)",
      "Input \u001b[1;32mIn [12]\u001b[0m, in \u001b[0;36m<cell line: 10>\u001b[1;34m()\u001b[0m\n\u001b[0;32m      7\u001b[0m \u001b[38;5;28;01mfor\u001b[39;00m i \u001b[38;5;129;01min\u001b[39;00m crate_state:\n\u001b[0;32m      8\u001b[0m     \u001b[38;5;28mprint\u001b[39m(i)\n\u001b[1;32m---> 10\u001b[0m new_crate_state \u001b[38;5;241m=\u001b[39m \u001b[43mnp\u001b[49m\u001b[38;5;241;43m.\u001b[39;49m\u001b[43marray\u001b[49m\u001b[43m(\u001b[49m\u001b[43msample\u001b[49m\u001b[43m[\u001b[49m\u001b[43m:\u001b[49m\u001b[38;5;241;43m4\u001b[39;49m\u001b[43m]\u001b[49m\u001b[43m)\u001b[49m\u001b[38;5;241;43m.\u001b[39;49m\u001b[43mT\u001b[49m\u001b[38;5;241;43m.\u001b[39;49m\u001b[43mto_list\u001b[49m()\n\u001b[0;32m     12\u001b[0m new_crate_state\n",
      "\u001b[1;31mAttributeError\u001b[0m: 'numpy.ndarray' object has no attribute 'to_list'"
     ]
    }
   ],
   "source": [
    "import numpy as np\n",
    "\n",
    "with open('Inputs\\day_05.txt')         as f:puz     = [l.rstrip('\\n') for l in f.readlines()]\n",
    "with open('Inputs\\day_05_sample.txt')  as f:sample  = [l.rstrip('\\n') for l in f.readlines()]\n",
    "    \n",
    "crate_state = np.array(sample[:4])    \n",
    "for i in crate_state:\n",
    "    print(i)\n",
    "\n",
    "new_crate_state = np.array(sample[:4]).T.to_list()\n",
    "\n",
    "new_crate_state    \n"
   ]
  },
  {
   "cell_type": "code",
   "execution_count": 102,
   "id": "bb410f00",
   "metadata": {
    "scrolled": false
   },
   "outputs": [
    {
     "name": "stdout",
     "output_type": "stream",
     "text": [
      "['1' 'Z' 'N' ' ']\n",
      "['2' 'M' 'C' 'D']\n",
      "['3' 'P' ' ' ' ']\n",
      "\n"
     ]
    },
    {
     "data": {
      "text/plain": [
       "[['1', 'Z', 'N'], ['2', 'M', 'C', 'D'], ['3', 'P']]"
      ]
     },
     "execution_count": 102,
     "metadata": {},
     "output_type": "execute_result"
    }
   ],
   "source": [
    "def get_initial_crate_state(puz):\n",
    "    import numpy as np\n",
    "    \n",
    "    '''\n",
    "    Takes the input and only takes all rows up to the first blank row (these are the crates starting state)\n",
    "    Splits each list into a list of characters\n",
    "    '''\n",
    "    crate_state = [[j for j in i] for i in puz[:puz.index('')]]\n",
    "\n",
    "    '''\n",
    "    Rotates the array by 90 degrees, then removes any rows which are not numbered, e.g:\n",
    "    this:\n",
    "\n",
    "    [' ', ' ', ' ', ' ', '[', 'D', ']', ' ', ' ', ' ', ' ']\n",
    "    ['[', 'N', ']', ' ', '[', 'C', ']', ' ', ' ', ' ', ' ']\n",
    "    ['[', 'Z', ']', ' ', '[', 'M', ']', ' ', '[', 'P', ']']\n",
    "    [' ', '1', ' ', ' ', ' ', '2', ' ', ' ', ' ', '3', ' ']\n",
    "\n",
    "    Turns into this:\n",
    "    ['1' 'Z' 'N' ' ']\n",
    "    ['2' 'M' 'C' 'D']\n",
    "    ['3' 'P' ' ' ' ']\n",
    "\n",
    "    Then removes blank 'crates':\n",
    "    ['1', 'Z', 'N']\n",
    "    ['2', 'M', 'C', 'D']\n",
    "    ['3', 'P']\n",
    "    '''   \n",
    "\n",
    "    crate_state = [i for i in np.rot90(crate_state, k=3) if i[0].isnumeric() == True]\n",
    "\n",
    "    initial_crate_state = []\n",
    "    for i in crate_state:\n",
    "        crate_row = [j for j in i if j != ' ']\n",
    "        initial_crate_state.append(crate_row)\n",
    "\n",
    "    return initial_crate_state\n",
    "\n",
    "with open('Inputs\\day_05_sample.txt')  as f:sample  = [l.rstrip('\\n') for l in f.readlines()]\n",
    "with open('Inputs\\day_05.txt')         as f:puz     = [l.rstrip('\\n') for l in f.readlines()]    \n",
    "    \n",
    "puz = sample\n",
    "\n",
    "crate_state = get_initial_crate_state(puz)\n",
    "\n",
    "crate_state"
   ]
  },
  {
   "cell_type": "code",
   "execution_count": null,
   "id": "f597f77e",
   "metadata": {},
   "outputs": [],
   "source": []
  }
 ],
 "metadata": {
  "kernelspec": {
   "display_name": "Python 3 (ipykernel)",
   "language": "python",
   "name": "python3"
  },
  "language_info": {
   "codemirror_mode": {
    "name": "ipython",
    "version": 3
   },
   "file_extension": ".py",
   "mimetype": "text/x-python",
   "name": "python",
   "nbconvert_exporter": "python",
   "pygments_lexer": "ipython3",
   "version": "3.9.12"
  }
 },
 "nbformat": 4,
 "nbformat_minor": 5
}
