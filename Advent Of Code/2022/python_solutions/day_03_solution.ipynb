{
 "cells": [
  {
   "cell_type": "markdown",
   "id": "95a220a4",
   "metadata": {},
   "source": [
    "\n",
    "# Day 03\n",
    "[Link to Advent of Code 2022 - Day 03](https://adventofcode.com/2022/day/3)\n"
   ]
  },
  {
   "cell_type": "code",
   "execution_count": null,
   "id": "0a3d1f6f",
   "metadata": {},
   "outputs": [],
   "source": [
    "\n",
    "with open('Inputs\\day_03.txt')         as f:puz     = [l.rstrip('\\n').split(' ') for l in f.readlines()]\n",
    "with open('Inputs\\day_03_sample.txt')  as f:sample  = [l.rstrip('\\n').split(' ') for l in f.readlines()]"
   ]
  }
 ],
 "metadata": {},
 "nbformat": 4,
 "nbformat_minor": 5
}
