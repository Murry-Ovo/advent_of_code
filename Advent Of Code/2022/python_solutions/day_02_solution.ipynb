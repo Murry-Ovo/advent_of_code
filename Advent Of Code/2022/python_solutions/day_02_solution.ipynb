{
 "cells": [
  {
   "cell_type": "markdown",
   "id": "03a264b6",
   "metadata": {},
   "source": [
    "\n",
    "# Day 02\n",
    "[Link to Advent of Code 2022 - Day 02](https://adventofcode.com/2022/day/2)\n"
   ]
  },
  {
   "cell_type": "code",
   "execution_count": null,
   "id": "4e2f6420",
   "metadata": {},
   "outputs": [],
   "source": [
    "\n",
    "with open('Inputs\\day_02.txt')         as f:puz     = [l.rstrip('\\n').split(' ') for l in f.readlines()]\n",
    "with open('Inputs\\day_02_sample.txt')  as f:sample  = [l.rstrip('\\n').split(' ') for l in f.readlines()]"
   ]
  }
 ],
 "metadata": {},
 "nbformat": 4,
 "nbformat_minor": 5
}
