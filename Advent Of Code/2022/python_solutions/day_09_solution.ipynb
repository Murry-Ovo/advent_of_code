{
 "cells": [
  {
   "cell_type": "markdown",
   "id": "db1b9abb",
   "metadata": {},
   "source": [
    "\n",
    "# Day 09\n",
    "[Link to Advent of Code 2022 - Day 09](https://adventofcode.com/2022/day/9)\n"
   ]
  },
  {
   "cell_type": "code",
   "execution_count": null,
   "id": "9575bdfc",
   "metadata": {},
   "outputs": [],
   "source": [
    "\n",
    "with open('Inputs\\day_09.txt')         as f:puz     = [l.rstrip('\\n').split(' ') for l in f.readlines()]\n",
    "with open('Inputs\\day_09_sample.txt')  as f:sample  = [l.rstrip('\\n').split(' ') for l in f.readlines()]"
   ]
  }
 ],
 "metadata": {},
 "nbformat": 4,
 "nbformat_minor": 5
}
