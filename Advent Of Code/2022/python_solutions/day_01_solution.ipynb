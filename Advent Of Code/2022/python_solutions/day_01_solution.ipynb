{
 "cells": [
  {
   "cell_type": "markdown",
   "id": "b33cf418",
   "metadata": {},
   "source": [
    "\n",
    "# Day 1: Calorie Counting\n",
    "\n",
    "[Link to Advent of Code 2022 - Day 01](https://adventofcode.com/2022/day/1)\n",
    "\n",
    "Santa's reindeer typically eat regular reindeer food, but they need a lot of magical energy to deliver presents on Christmas. For that, their favorite snack is a special type of star fruit that only grows deep in the jungle. The Elves have brought you on their annual expedition to the grove where the fruit grows.\n",
    "\n",
    "To supply enough magical energy, the expedition needs to retrieve a minimum of fifty stars by December 25th. Although the Elves assure you that the grove has plenty of fruit, you decide to grab any fruit you see along the way, just in case.\n",
    "\n",
    "Collect stars by solving puzzles. Two puzzles will be made available on each day in the Advent calendar; the second puzzle is unlocked when you complete the first. Each puzzle grants one star. Good luck!\n",
    "\n",
    "The jungle must be too overgrown and difficult to navigate in vehicles or access from the air; the Elves' expedition traditionally goes on foot. As your boats approach land, the Elves begin taking inventory of their supplies. One important consideration is food - in particular, the number of Calories each Elf is carrying (your puzzle input).\n",
    "\n",
    "The Elves take turns writing down the number of Calories contained by the various meals, snacks, rations, etc. that they've brought with them, one item per line. Each Elf separates their own inventory from the previous Elf's inventory (if any) by a blank line.\n",
    "\n",
    "For example, suppose the Elves finish writing their items' Calories and end up with the following list:\n",
    "```\n",
    "1000\n",
    "2000\n",
    "3000\n",
    "\n",
    "4000\n",
    "\n",
    "5000\n",
    "6000\n",
    "\n",
    "7000\n",
    "8000\n",
    "9000\n",
    "\n",
    "10000\n",
    "```\n",
    "This list represents the Calories of the food carried by five Elves:\n",
    "\n",
    "- The first Elf is carrying food with 1000, 2000, and 3000 Calories, a total of 6000 Calories.\n",
    "- The second Elf is carrying one food item with 4000 Calories.\n",
    "- The third Elf is carrying food with 5000 and 6000 Calories, a total of 11000 Calories.\n",
    "- The fourth Elf is carrying food with 7000, 8000, and 9000 Calories, a total of 24000 Calories.\n",
    "- The fifth Elf is carrying one food item with 10000 Calories.\n",
    "\n",
    "In case the Elves get hungry and need extra snacks, they need to know which Elf to ask: they'd like to know how many Calories are being carried by the Elf carrying the most Calories. In the example above, this is 24000 (carried by the fourth Elf).\n",
    "\n",
    "### Part One\n",
    "\n",
    "Find the Elf carrying the most Calories. How many total Calories is that Elf carrying?\n",
    "\n",
    "### Part Two\n",
    "\n",
    "By the time you calculate the answer to the Elves' question, they've already realized that the Elf carrying the most Calories of food might eventually run out of snacks.\n",
    "\n",
    "To avoid this unacceptable situation, the Elves would instead like to know the total Calories carried by the top three Elves carrying the most Calories. That way, even if one of those Elves runs out of snacks, they still have two backups.\n",
    "\n",
    "In the example above, the top three Elves are the fourth Elf (with 24000 Calories), then the third Elf (with 11000 Calories), then the fifth Elf (with 10000 Calories). The sum of the Calories carried by these three elves is 45000.\n",
    "\n",
    "Find the top three Elves carrying the most Calories. How many Calories are those Elves carrying in total?"
   ]
  },
  {
   "cell_type": "code",
   "execution_count": 4,
   "id": "5a7372f4",
   "metadata": {
    "scrolled": true
   },
   "outputs": [
    {
     "name": "stdout",
     "output_type": "stream",
     "text": [
      "Part One: 71780\n",
      "Part Two: 212489\n"
     ]
    }
   ],
   "source": [
    "with open('Inputs\\day_01.txt')         as f:puz     = [l.rstrip('\\n') for l in f.readlines()]\n",
    "with open('Inputs\\day_01_sample.txt')  as f:sample  = [l.rstrip('\\n') for l in f.readlines()]\n",
    "\n",
    "# puz_input = sample\n",
    "puz_input = puz\n",
    "\n",
    "# work out the number of elves by counting the blank rows\n",
    "number_of_elves = puz_input.count('')+1\n",
    "\n",
    "# create a dictionary with the key = elf number value = total calories\n",
    "elves_dict = {x+1:0 for x in range(number_of_elves)}\n",
    "\n",
    "# iterate through the list and either add the calories to the elf's total calories, or move onto the next elf\n",
    "elf = 1\n",
    "for i in puz_input:\n",
    "    if i == '':\n",
    "        elf += 1\n",
    "    else:\n",
    "        elves_dict[elf] += int(i)\n",
    "        \n",
    "# Turn the dict into a list\n",
    "elves_calorie_list = list(elves_dict.values())\n",
    "\n",
    "# Sort the list highest to lowest\n",
    "elves_calorie_list.sort(reverse=True)\n",
    "\n",
    "Part_One = elves_calorie_list[0]\n",
    "Part_Two = sum(elves_calorie_list[:3])\n",
    "\n",
    "print(f'Part One: {Part_One}\\nPart Two: {Part_Two}')\n"
   ]
  },
  {
   "cell_type": "markdown",
   "id": "4e9bf9b6",
   "metadata": {},
   "source": [
    "### Condesned Code"
   ]
  },
  {
   "cell_type": "code",
   "execution_count": 8,
   "id": "82d55006",
   "metadata": {
    "scrolled": true
   },
   "outputs": [
    {
     "name": "stdout",
     "output_type": "stream",
     "text": [
      "Part One: 71780\n",
      "Part Two: 212489\n"
     ]
    }
   ],
   "source": [
    "with open('Inputs\\day_01.txt') as f: puz = [l.rstrip('\\n') for l in f.readlines()]\n",
    "\n",
    "elves_dict = {x+1:0 for x in range(puz.count('')+1)}\n",
    "elf = 1\n",
    "for i in puz:\n",
    "    if i == '': elf += 1\n",
    "    else: elves_dict[elf] += int(i)\n",
    "        \n",
    "elves_calorie_list = list(elves_dict.values())\n",
    "elves_calorie_list.sort(reverse=True)\n",
    "\n",
    "print(f'Part One: {elves_calorie_list[0]}\\nPart Two: {sum(elves_calorie_list[:3])}')"
   ]
  }
 ],
 "metadata": {
  "kernelspec": {
   "display_name": "Python 3 (ipykernel)",
   "language": "python",
   "name": "python3"
  },
  "language_info": {
   "codemirror_mode": {
    "name": "ipython",
    "version": 3
   },
   "file_extension": ".py",
   "mimetype": "text/x-python",
   "name": "python",
   "nbconvert_exporter": "python",
   "pygments_lexer": "ipython3",
   "version": "3.9.12"
  }
 },
 "nbformat": 4,
 "nbformat_minor": 5
}
