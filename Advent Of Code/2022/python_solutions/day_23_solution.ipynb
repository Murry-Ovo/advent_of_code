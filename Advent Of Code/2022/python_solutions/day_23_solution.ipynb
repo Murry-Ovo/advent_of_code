{
 "cells": [
  {
   "cell_type": "markdown",
   "id": "06f54e94",
   "metadata": {},
   "source": [
    "\n",
    "# Day 23\n",
    "[Link to Advent of Code 2022 - Day 23](https://adventofcode.com/2022/day/23)\n"
   ]
  },
  {
   "cell_type": "code",
   "execution_count": null,
   "id": "31c576dc",
   "metadata": {},
   "outputs": [],
   "source": [
    "\n",
    "with open('Inputs\\day_23.txt')         as f:puz     = [l.rstrip('\\n').split(' ') for l in f.readlines()]\n",
    "with open('Inputs\\day_23_sample.txt')  as f:sample  = [l.rstrip('\\n').split(' ') for l in f.readlines()]"
   ]
  }
 ],
 "metadata": {},
 "nbformat": 4,
 "nbformat_minor": 5
}
