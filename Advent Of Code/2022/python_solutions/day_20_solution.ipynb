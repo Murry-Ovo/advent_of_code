{
 "cells": [
  {
   "cell_type": "markdown",
   "id": "6e9b6502",
   "metadata": {},
   "source": [
    "\n",
    "# Day 20\n",
    "[Link to Advent of Code 2022 - Day 20](https://adventofcode.com/2022/day/20)\n"
   ]
  },
  {
   "cell_type": "code",
   "execution_count": null,
   "id": "d6f7e390",
   "metadata": {},
   "outputs": [],
   "source": [
    "\n",
    "with open('Inputs\\day_20.txt')         as f:puz     = [l.rstrip('\\n').split(' ') for l in f.readlines()]\n",
    "with open('Inputs\\day_20_sample.txt')  as f:sample  = [l.rstrip('\\n').split(' ') for l in f.readlines()]"
   ]
  }
 ],
 "metadata": {},
 "nbformat": 4,
 "nbformat_minor": 5
}
