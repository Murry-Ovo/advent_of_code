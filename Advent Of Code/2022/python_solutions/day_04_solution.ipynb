{
 "cells": [
  {
   "cell_type": "markdown",
   "id": "4bc2475e",
   "metadata": {},
   "source": [
    "\n",
    "# Day 04: Camp Cleanup\n",
    "[Link to Advent of Code 2022 - Day 04](https://adventofcode.com/2022/day/4)\n",
    "\n",
    "Space needs to be cleared before the last supplies can be unloaded from the ships, and so several Elves have been assigned the job of cleaning up sections of the camp. Every section has a unique ID number, and each Elf is assigned a range of section IDs.\n",
    "\n",
    "However, as some of the Elves compare their section assignments with each other, they've noticed that many of the assignments overlap. To try to quickly find overlaps and reduce duplicated effort, the Elves pair up and make a big list of the section assignments for each pair (your puzzle input).\n",
    "\n",
    "For example, consider the following list of section assignment pairs:\n",
    "```\n",
    "2-4,6-8\n",
    "2-3,4-5\n",
    "5-7,7-9\n",
    "2-8,3-7\n",
    "6-6,4-6\n",
    "2-6,4-8\n",
    "```\n",
    "For the first few pairs, this list means:\n",
    "\n",
    "- Within the first pair of Elves, the first Elf was assigned sections 2-4 (sections 2, 3, and 4), while the second Elf was assigned sections 6-8 (sections 6, 7, 8).\n",
    "- The Elves in the second pair were each assigned two sections.\n",
    "- The Elves in the third pair were each assigned three sections: one got sections 5, 6, and 7, while the other also got 7, plus 8 and 9.\n",
    "\n",
    "This example list uses single-digit section IDs to make it easier to draw; your actual list might contain larger numbers. Visually, these pairs of section assignments look like this:\n",
    "```\n",
    ".234.....  2-4\n",
    ".....678.  6-8\n",
    "\n",
    ".23......  2-3\n",
    "...45....  4-5\n",
    "\n",
    "....567..  5-7\n",
    "......789  7-9\n",
    "\n",
    ".2345678.  2-8\n",
    "..34567..  3-7\n",
    "\n",
    ".....6...  6-6\n",
    "...456...  4-6\n",
    "\n",
    ".23456...  2-6\n",
    "...45678.  4-8\n",
    "```\n",
    "\n",
    "Some of the pairs have noticed that one of their assignments fully contains the other. For example, 2-8 fully contains 3-7, and 6-6 is fully contained by 4-6. In pairs where one assignment fully contains the other, one Elf in the pair would be exclusively cleaning sections their partner will already be cleaning, so these seem like the most in need of reconsideration. In this example, there are 2 such pairs.\n",
    "\n",
    "### Part One:\n",
    "\n",
    "In how many assignment pairs does one range fully contain the other?\n",
    "\n",
    "### Part Two:\n",
    "\n",
    "It seems like there is still quite a bit of duplicate work planned. Instead, the Elves would like to know the number of pairs that overlap at all.\n",
    "\n",
    "In the above example, the first two pairs (2-4,6-8 and 2-3,4-5) don't overlap, while the remaining four pairs (5-7,7-9, 2-8,3-7, 6-6,4-6, and 2-6,4-8) do overlap:\n",
    "\n",
    "- 5-7,7-9 overlaps in a single section, 7.\n",
    "- 2-8,3-7 overlaps all of the sections 3 through 7.\n",
    "- 6-6,4-6 overlaps in a single section, 6.\n",
    "- 2-6,4-8 overlaps in sections 4, 5, and 6.\n",
    "\n",
    "So, in this example, the number of overlapping assignment pairs is 4.\n",
    "\n",
    "In how many assignment pairs do the ranges overlap?"
   ]
  },
  {
   "cell_type": "code",
   "execution_count": 3,
   "id": "552cb6ab",
   "metadata": {
    "scrolled": false
   },
   "outputs": [
    {
     "name": "stdout",
     "output_type": "stream",
     "text": [
      "Part One: There are 503 pairs where one range fully contains another\n",
      "Part Two: There are 827 pairs where the ranges overlap\n"
     ]
    }
   ],
   "source": [
    "import re\n",
    "\n",
    "def part_one(section_assignments: list) -> 'print statement':\n",
    "    '''\n",
    "    - Takes an input of section_assignments where the pairs are in the following format:\n",
    "        - [['1','3','4','5'],['5','6','15','19']] \n",
    "    - Then for each pair it identifies if the first range is completely within the second range, or vice versa a\n",
    "    - Adds full overlap pairings to a list that pair to a list\n",
    "    - Finally it prints the length of that list to get the answer for part one\n",
    "    '''\n",
    "    full_overlap_pairs = []\n",
    "\n",
    "    for pair in section_assignments:\n",
    "        e1_start, e1_end, e2_start, e2_end = [int(i) for i in pair]\n",
    "        if (e1_start >= e2_start and e1_end <= e2_end) or (e2_start >= e1_start and e2_end <= e1_end):\n",
    "            full_overlap_pairs.append(pair)\n",
    "\n",
    "    print(f'Part One: There are {len(full_overlap_pairs)} pairs where one range fully contains another')\n",
    "    \n",
    "def part_two(section_assignments: list) -> 'print statement':    \n",
    "    '''\n",
    "    - Takes an input of section_assignments where the pairs are in the following format:\n",
    "        - [['1','3','4','5'],['5','6','15','19']] \n",
    "    - Then for each pair it identifies if any of the ranges overlap\n",
    "    - Adds overlap pairings to a list that pair to a list\n",
    "    - Finally it prints the length of that list to get the answer for part one\n",
    "    '''\n",
    "    overlap_pairs = []\n",
    "\n",
    "    for pair in section_assignments:\n",
    "        e1_start, e1_end, e2_start, e2_end = [int(i) for i in pair]\n",
    "        if (   (e2_start <= e1_start <= e2_end)\n",
    "            or (e2_start <= e1_end   <= e2_end)\n",
    "            or (e1_start <= e2_start <= e1_end)\n",
    "            or (e1_start <= e2_end   <= e1_end)\n",
    "            ):\n",
    "            overlap_pairs.append(pair)\n",
    "\n",
    "    print(f'Part Two: There are {len(overlap_pairs)} pairs where the ranges overlap')    \n",
    "    \n",
    "with open('Inputs\\day_04.txt')         as f:section_assignments = [re.split(',|-',l.rstrip('\\n')) for l in f.readlines()]\n",
    "with open('Inputs\\day_04_sample.txt')  as f:sample              = [re.split(',|-',l.rstrip('\\n')) for l in f.readlines()]    \n",
    "    \n",
    "part_one(section_assignments)    \n",
    "part_two(section_assignments)"
   ]
  },
  {
   "cell_type": "markdown",
   "id": "739320bf",
   "metadata": {},
   "source": [
    "## More Succint Code"
   ]
  },
  {
   "cell_type": "code",
   "execution_count": 4,
   "id": "7b0f89b4",
   "metadata": {},
   "outputs": [
    {
     "name": "stdout",
     "output_type": "stream",
     "text": [
      "\n",
      "Part One: There are 503 pairs where one range fully contains another\n",
      "Part Two: There are 827 pairs where the ranges overlap'\n",
      "\n"
     ]
    }
   ],
   "source": [
    "import re\n",
    "\n",
    "with open('Inputs\\day_04.txt') as f: section_assignments = [re.split(',|-',l.rstrip('\\n')) for l in f.readlines()]\n",
    "    \n",
    "full_overlap_pairs    = 0\n",
    "partial_overlap_pairs = 0\n",
    "\n",
    "for pair in section_assignments:\n",
    "    \n",
    "    e1_st, e1_ed, e2_st, e2_ed = [int(i) for i in pair]\n",
    "    \n",
    "    if ((e1_st >= e2_st and e1_ed <= e2_ed) or\n",
    "        (e2_st >= e1_st and e2_ed <= e1_ed)\n",
    "       ):\n",
    "        full_overlap_pairs += 1\n",
    "        \n",
    "    if ((e2_st <= e1_st <= e2_ed) or\n",
    "        (e2_st <= e1_ed <= e2_ed) or\n",
    "        (e1_st <= e2_st <= e1_ed) or\n",
    "        (e1_st <= e2_ed <= e1_ed)\n",
    "       ):\n",
    "        partial_overlap_pairs += 1\n",
    "    \n",
    "print(f'''\n",
    "Part One: There are {full_overlap_pairs} pairs where one range fully contains another\n",
    "Part Two: There are {partial_overlap_pairs} pairs where the ranges overlap'\n",
    "''')    "
   ]
  }
 ],
 "metadata": {
  "kernelspec": {
   "display_name": "Python 3 (ipykernel)",
   "language": "python",
   "name": "python3"
  },
  "language_info": {
   "codemirror_mode": {
    "name": "ipython",
    "version": 3
   },
   "file_extension": ".py",
   "mimetype": "text/x-python",
   "name": "python",
   "nbconvert_exporter": "python",
   "pygments_lexer": "ipython3",
   "version": "3.9.12"
  }
 },
 "nbformat": 4,
 "nbformat_minor": 5
}
