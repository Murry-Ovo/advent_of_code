{
 "cells": [
  {
   "cell_type": "markdown",
   "id": "4bc2475e",
   "metadata": {},
   "source": [
    "\n",
    "# Day 04\n",
    "[Link to Advent of Code 2022 - Day 04](https://adventofcode.com/2022/day/4)\n"
   ]
  },
  {
   "cell_type": "code",
   "execution_count": null,
   "id": "552cb6ab",
   "metadata": {},
   "outputs": [],
   "source": [
    "\n",
    "with open('Inputs\\day_04.txt')         as f:puz     = [l.rstrip('\\n').split(' ') for l in f.readlines()]\n",
    "with open('Inputs\\day_04_sample.txt')  as f:sample  = [l.rstrip('\\n').split(' ') for l in f.readlines()]"
   ]
  }
 ],
 "metadata": {},
 "nbformat": 4,
 "nbformat_minor": 5
}
