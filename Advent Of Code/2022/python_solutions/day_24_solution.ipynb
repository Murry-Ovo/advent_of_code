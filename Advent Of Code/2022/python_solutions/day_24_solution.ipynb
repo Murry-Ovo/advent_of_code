{
 "cells": [
  {
   "cell_type": "markdown",
   "id": "35f6be78",
   "metadata": {},
   "source": [
    "\n",
    "# Day 24\n",
    "[Link to Advent of Code 2022 - Day 24](https://adventofcode.com/2022/day/24)\n"
   ]
  },
  {
   "cell_type": "code",
   "execution_count": null,
   "id": "bcf6a8c3",
   "metadata": {},
   "outputs": [],
   "source": [
    "\n",
    "with open('Inputs\\day_24.txt')         as f:puz     = [l.rstrip('\\n').split(' ') for l in f.readlines()]\n",
    "with open('Inputs\\day_24_sample.txt')  as f:sample  = [l.rstrip('\\n').split(' ') for l in f.readlines()]"
   ]
  }
 ],
 "metadata": {},
 "nbformat": 4,
 "nbformat_minor": 5
}
