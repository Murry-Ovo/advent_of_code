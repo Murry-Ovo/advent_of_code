{
 "cells": [
  {
   "cell_type": "markdown",
   "id": "973225ff",
   "metadata": {},
   "source": [
    "\n",
    "# Day 18\n",
    "[Link to Advent of Code 2022 - Day 18](https://adventofcode.com/2022/day/18)\n"
   ]
  },
  {
   "cell_type": "code",
   "execution_count": null,
   "id": "c9b82131",
   "metadata": {},
   "outputs": [],
   "source": [
    "\n",
    "with open('Inputs\\day_18.txt')         as f:puz     = [l.rstrip('\\n').split(' ') for l in f.readlines()]\n",
    "with open('Inputs\\day_18_sample.txt')  as f:sample  = [l.rstrip('\\n').split(' ') for l in f.readlines()]"
   ]
  }
 ],
 "metadata": {},
 "nbformat": 4,
 "nbformat_minor": 5
}
