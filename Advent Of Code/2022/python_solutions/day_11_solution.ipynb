{
 "cells": [
  {
   "cell_type": "markdown",
   "id": "9bc14db9",
   "metadata": {},
   "source": [
    "\n",
    "# Day 11\n",
    "[Link to Advent of Code 2022 - Day 11](https://adventofcode.com/2022/day/11)\n"
   ]
  },
  {
   "cell_type": "code",
   "execution_count": null,
   "id": "2f79da76",
   "metadata": {},
   "outputs": [],
   "source": [
    "\n",
    "with open('Inputs\\day_11.txt')         as f:puz     = [l.rstrip('\\n').split(' ') for l in f.readlines()]\n",
    "with open('Inputs\\day_11_sample.txt')  as f:sample  = [l.rstrip('\\n').split(' ') for l in f.readlines()]"
   ]
  }
 ],
 "metadata": {},
 "nbformat": 4,
 "nbformat_minor": 5
}
