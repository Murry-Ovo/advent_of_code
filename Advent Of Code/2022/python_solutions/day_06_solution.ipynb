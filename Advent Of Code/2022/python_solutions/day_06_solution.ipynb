{
 "cells": [
  {
   "cell_type": "markdown",
   "id": "f7e92572",
   "metadata": {},
   "source": [
    "\n",
    "# Day 06\n",
    "[Link to Advent of Code 2022 - Day 06](https://adventofcode.com/2022/day/6)\n"
   ]
  },
  {
   "cell_type": "code",
   "execution_count": null,
   "id": "bfc16989",
   "metadata": {},
   "outputs": [],
   "source": [
    "\n",
    "with open('Inputs\\day_06.txt')         as f:puz     = [l.rstrip('\\n').split(' ') for l in f.readlines()]\n",
    "with open('Inputs\\day_06_sample.txt')  as f:sample  = [l.rstrip('\\n').split(' ') for l in f.readlines()]"
   ]
  }
 ],
 "metadata": {},
 "nbformat": 4,
 "nbformat_minor": 5
}
