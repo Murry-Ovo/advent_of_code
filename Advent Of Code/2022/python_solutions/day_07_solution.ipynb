{
 "cells": [
  {
   "cell_type": "markdown",
   "id": "1c0b325c",
   "metadata": {},
   "source": [
    "\n",
    "# Day 07\n",
    "[Link to Advent of Code 2022 - Day 07](https://adventofcode.com/2022/day/7)\n"
   ]
  },
  {
   "cell_type": "code",
   "execution_count": null,
   "id": "aa47f903",
   "metadata": {},
   "outputs": [],
   "source": [
    "\n",
    "with open('Inputs\\day_07.txt')         as f:puz     = [l.rstrip('\\n').split(' ') for l in f.readlines()]\n",
    "with open('Inputs\\day_07_sample.txt')  as f:sample  = [l.rstrip('\\n').split(' ') for l in f.readlines()]"
   ]
  }
 ],
 "metadata": {},
 "nbformat": 4,
 "nbformat_minor": 5
}
