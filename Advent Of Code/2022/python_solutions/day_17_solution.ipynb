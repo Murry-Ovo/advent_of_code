{
 "cells": [
  {
   "cell_type": "markdown",
   "id": "bd84ff41",
   "metadata": {},
   "source": [
    "\n",
    "# Day 17\n",
    "[Link to Advent of Code 2022 - Day 17](https://adventofcode.com/2022/day/17)\n"
   ]
  },
  {
   "cell_type": "code",
   "execution_count": null,
   "id": "2f1228dc",
   "metadata": {},
   "outputs": [],
   "source": [
    "\n",
    "with open('Inputs\\day_17.txt')         as f:puz     = [l.rstrip('\\n').split(' ') for l in f.readlines()]\n",
    "with open('Inputs\\day_17_sample.txt')  as f:sample  = [l.rstrip('\\n').split(' ') for l in f.readlines()]"
   ]
  }
 ],
 "metadata": {},
 "nbformat": 4,
 "nbformat_minor": 5
}
