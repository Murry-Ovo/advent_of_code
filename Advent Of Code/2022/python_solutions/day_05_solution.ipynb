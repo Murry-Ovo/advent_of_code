{
 "cells": [
  {
   "cell_type": "markdown",
   "id": "92fc2c7f",
   "metadata": {},
   "source": [
    "\n",
    "# Day 05\n",
    "[Link to Advent of Code 2022 - Day 05](https://adventofcode.com/2022/day/5)\n"
   ]
  },
  {
   "cell_type": "code",
   "execution_count": null,
   "id": "993e1e85",
   "metadata": {},
   "outputs": [],
   "source": [
    "\n",
    "with open('Inputs\\day_05.txt')         as f:puz     = [l.rstrip('\\n').split(' ') for l in f.readlines()]\n",
    "with open('Inputs\\day_05_sample.txt')  as f:sample  = [l.rstrip('\\n').split(' ') for l in f.readlines()]"
   ]
  }
 ],
 "metadata": {},
 "nbformat": 4,
 "nbformat_minor": 5
}
