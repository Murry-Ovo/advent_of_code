{
 "cells": [
  {
   "cell_type": "markdown",
   "id": "d18b99bb",
   "metadata": {},
   "source": [
    "\n",
    "# Day 22\n",
    "[Link to Advent of Code 2022 - Day 22](https://adventofcode.com/2022/day/22)\n"
   ]
  },
  {
   "cell_type": "code",
   "execution_count": null,
   "id": "0423810e",
   "metadata": {},
   "outputs": [],
   "source": [
    "\n",
    "with open('Inputs\\day_22.txt')         as f:puz     = [l.rstrip('\\n').split(' ') for l in f.readlines()]\n",
    "with open('Inputs\\day_22_sample.txt')  as f:sample  = [l.rstrip('\\n').split(' ') for l in f.readlines()]"
   ]
  }
 ],
 "metadata": {},
 "nbformat": 4,
 "nbformat_minor": 5
}
