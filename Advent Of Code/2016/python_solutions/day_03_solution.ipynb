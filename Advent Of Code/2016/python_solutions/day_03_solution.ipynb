{
 "cells": [
  {
   "cell_type": "markdown",
   "metadata": {},
   "source": [
    "# --- Day 3: Squares With Three Sides ---\n",
    "Now that you can think clearly, you move deeper into the labyrinth of hallways and office furniture that makes up this part of Easter Bunny HQ. This must be a graphic design department; the walls are covered in specifications for triangles.\n",
    "\n",
    "Or are they?\n",
    "\n",
    "The design document gives the side lengths of each triangle it describes, but... `5 10 25`? Some of these aren't triangles. You can't help but mark the impossible ones.\n",
    "\n",
    "In a valid triangle, the sum of any two sides must be larger than the remaining side. For example, the \"triangle\" given above is impossible, because `5` + `10` is not larger than `25`.\n",
    "\n",
    "### Part One\n",
    "In your puzzle input, how many of the listed triangles are possible?\n",
    "\n",
    "### Part Two\n",
    "Now that you've helpfully marked up their design documents, it occurs to you that triangles are specified in groups of three vertically. Each set of three numbers in a column specifies a triangle. Rows are unrelated.\n",
    "\n",
    "For example, given the following specification, numbers with the same hundreds digit would be part of the same triangle:\n",
    "```\n",
    "101 301 501\n",
    "102 302 502\n",
    "103 303 503\n",
    "201 401 601\n",
    "202 402 602\n",
    "203 403 603\n",
    "``` \n",
    "In your puzzle input, and instead reading by columns, how many of the listed triangles are possible?"
   ]
  },
  {
   "cell_type": "code",
   "execution_count": 119,
   "metadata": {
    "scrolled": false
   },
   "outputs": [
    {
     "name": "stdout",
     "output_type": "stream",
     "text": [
      "Part 1: Valid Triangle Count: 917\n",
      "Part 2: Valid Triangle Count: 1649\n"
     ]
    }
   ],
   "source": [
    "import re\n",
    "\n",
    "def valid_triangle_check(triangle: list) -> bool:\n",
    "    \"\"\"\n",
    "    - Takes a list of 3 numbers in str format e.g. ['1', '10', '100'] \n",
    "    - and outputs True/False based on the following criteria for a valid triangle:\n",
    "        'the sum of any two sides must be larger than the remaining side.'\"\n",
    "    \"\"\"\n",
    "    s1, s2, s3 = [int(i) for i in triangle]\n",
    "    valid_tri = True if (s1+s2 > s3) and (s2+s3 > s1) and (s1+s3 > s2) else False\n",
    "    return valid_tri\n",
    "\n",
    "def Valid_Triangle_Count(part: str, puz_input: list):\n",
    "    \"\"\"\n",
    "    - Takes the the input (list of lists of possible triangle sides)\n",
    "    - Then prints the number of valid triangles in the list \n",
    "    \"\"\"\n",
    "    valid_triangle_count = 0\n",
    "    for triangle in puz_input:\n",
    "        if valid_triangle_check(triangle): valid_triangle_count += 1\n",
    "    print(f\"Part {part}: Valid Triangle Count: {valid_triangle_count}\")    \n",
    "\n",
    "def convert_triangle_list(puz_input:list) -> list:\n",
    "    \"\"\"\n",
    "    - Creates a new list of possible triangles, each one is every 3 vertical numbers in the input\n",
    "    \"\"\"\n",
    "    new_triangles = []   \n",
    "    for col in range(3):\n",
    "        for row in range(0,len(puz_input),3): \n",
    "            new_triangles.append([puz_input[row][col], puz_input[row+1][col], puz_input[row+2][col]])\n",
    "    return new_triangles\n",
    "        \n",
    "# open input file and split each line into a list of numbers using regex\n",
    "path = 'Inputs\\\\day_03.txt'\n",
    "with open(path) as f: puz_input = [re.findall(\"(\\d+)\",line) for line in f.readlines()]   \n",
    "    \n",
    "Valid_Triangle_Count(part='1', puz_input=puz_input)\n",
    "Valid_Triangle_Count(part='2', puz_input=convert_triangle_list(puz_input))"
   ]
  }
 ],
 "metadata": {
  "kernelspec": {
   "display_name": "Python 3 (ipykernel)",
   "language": "python",
   "name": "python3"
  },
  "language_info": {
   "codemirror_mode": {
    "name": "ipython",
    "version": 3
   },
   "file_extension": ".py",
   "mimetype": "text/x-python",
   "name": "python",
   "nbconvert_exporter": "python",
   "pygments_lexer": "ipython3",
   "version": "3.8.12"
  }
 },
 "nbformat": 4,
 "nbformat_minor": 4
}
