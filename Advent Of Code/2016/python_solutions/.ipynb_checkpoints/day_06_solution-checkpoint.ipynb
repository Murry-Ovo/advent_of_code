{
 "cells": [
  {
   "cell_type": "markdown",
   "metadata": {},
   "source": [
    "# Day 6: Signals and Noise\n",
    "Something is jamming your communications with Santa. Fortunately, your signal is only partially jammed, and protocol in situations like this is to switch to a simple repetition code to get the message through.\n",
    "\n",
    "In this model, the same message is sent repeatedly. You've recorded the repeating message signal (your puzzle input), but the data seems quite corrupted - almost too badly to recover. Almost.\n",
    "\n",
    "All you need to do is figure out which character is most frequent for each position. For example, suppose you had recorded the following messages:\n",
    "```\n",
    "eedadn\n",
    "drvtee\n",
    "eandsr\n",
    "raavrd\n",
    "atevrs\n",
    "tsrnev\n",
    "sdttsa\n",
    "rasrtv\n",
    "nssdts\n",
    "ntnada\n",
    "svetve\n",
    "tesnvt\n",
    "vntsnd\n",
    "vrdear\n",
    "dvrsen\n",
    "enarar\n",
    "```\n",
    "The most common character in the first column is e; in the second, a; in the third, s, and so on. Combining these characters returns the error-corrected message, easter.\n",
    "\n",
    "\n",
    "### Part One\n",
    "\n",
    "Given the recording in your puzzle input, what is the error-corrected version of the message being sent?\n",
    "\n",
    "### Part Two\n",
    "\n",
    "Of course, that would be the message - if you hadn't agreed to use a modified repetition code instead.\n",
    "\n",
    "In this modified code, the sender instead transmits what looks like random data, but for each character, the character they actually want to send is slightly less likely than the others. Even after signal-jamming noise, you can look at the letter distributions in each column and choose the least common letter to reconstruct the original message.\n",
    "\n",
    "In the above example, the least common character in the first column is a; in the second, d, and so on. Repeating this process for the remaining characters produces the original message, advent.\n",
    "\n",
    "Given the recording in your puzzle input and this new decoding methodology, what is the original message that Santa is trying to send?"
   ]
  },
  {
   "cell_type": "code",
   "execution_count": 59,
   "metadata": {},
   "outputs": [
    {
     "name": "stdout",
     "output_type": "stream",
     "text": [
      "The answer to part one is: qqqluigu\n",
      "The answer to part two is: lsoypmia\n"
     ]
    }
   ],
   "source": [
    "import numpy as np\n",
    "from collections import Counter\n",
    "\n",
    "def correct_message(puzzle_input:list, part:int) -> str:\n",
    "    \"\"\"\n",
    "    Takes the puzzle input and ouputs the 'error corrected message'\n",
    "    - Turns each line into a list of letters, \n",
    "    - Then transposes the x and y axis so we can count the most/least common letter in each row \n",
    "    - Adds eitrher the most common or least common letter based on \n",
    "    \"\"\"\n",
    "    transposed_array = np.transpose(np.array([list(i) for i in puzzle_input]))\n",
    "    \n",
    "    message = ''\n",
    "    for line in transposed_array:\n",
    "        message += Counter(line).most_common(1)[0][0] if part == 1  else Counter(line).most_common()[-1][0]\n",
    "\n",
    "    return message    \n",
    "\n",
    "day = '06'        \n",
    "with open(f'Inputs\\\\day_{day}.txt')        as f: puz    = [l.strip() for l in f.readlines()]\n",
    "with open(f'Inputs\\\\day_{day}_sample.txt') as f: sample = [l.strip() for l in f.readlines()]\n",
    "    \n",
    "# puz = sample\n",
    "print(f'The answer to part one is: {correct_message(puz, 1)}\\nThe answer to part two is: {correct_message(puz, 2)}')    \n"
   ]
  },
  {
   "cell_type": "markdown",
   "metadata": {},
   "source": [
    "### Alternative Method \n",
    "- Uses list(zip(*puzzle_input)) instead to unpack and transpose the x and y axis whilst opening the file"
   ]
  },
  {
   "cell_type": "code",
   "execution_count": 62,
   "metadata": {},
   "outputs": [
    {
     "name": "stdout",
     "output_type": "stream",
     "text": [
      "The answer to part one is: qqqluigu\n",
      "The answer to part two is: lsoypmia\n"
     ]
    }
   ],
   "source": [
    "from collections import Counter\n",
    "def get_message(puzzle_input:list, part:int) -> str:   \n",
    "    message = ''\n",
    "    for line in puzzle_input: \n",
    "        message += Counter(line).most_common(1)[0][0] if part == 1 else Counter(line).most_common()[-1][0]\n",
    "    return message    \n",
    "\n",
    "with open(f'Inputs\\\\day_{day}.txt') as f: puz = list(zip(*[l.strip() for l in f.readlines()]))\n",
    "\n",
    "print(f'The answer to part one is: {get_message(puz, 1)}\\nThe answer to part two is: {get_message(puz, 2)}')"
   ]
  }
 ],
 "metadata": {
  "kernelspec": {
   "display_name": "Python 3 (ipykernel)",
   "language": "python",
   "name": "python3"
  },
  "language_info": {
   "codemirror_mode": {
    "name": "ipython",
    "version": 3
   },
   "file_extension": ".py",
   "mimetype": "text/x-python",
   "name": "python",
   "nbconvert_exporter": "python",
   "pygments_lexer": "ipython3",
   "version": "3.8.12"
  }
 },
 "nbformat": 4,
 "nbformat_minor": 4
}
