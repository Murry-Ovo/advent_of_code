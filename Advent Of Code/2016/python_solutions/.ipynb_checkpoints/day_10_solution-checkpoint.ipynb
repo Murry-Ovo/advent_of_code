{
 "cells": [
  {
   "cell_type": "markdown",
   "metadata": {},
   "source": [
    "### Inputs and Imports"
   ]
  },
  {
   "cell_type": "code",
   "execution_count": null,
   "metadata": {},
   "outputs": [],
   "source": [
    "day = '10'        \n",
    "with open(f'Inputs\\\\day_{day}.txt') as f: puz = [l.strip() for l in f.readlines()]\n",
    "with open(f'Inputs\\\\day_{day}_sample.txt') as f: sample = [l.strip() for l in f.readlines()]   "
   ]
  }
 ],
 "metadata": {
  "kernelspec": {
   "display_name": "Python 3 (ipykernel)",
   "language": "python",
   "name": "python3"
  },
  "language_info": {
   "codemirror_mode": {
    "name": "ipython",
    "version": 3
   },
   "file_extension": ".py",
   "mimetype": "text/x-python",
   "name": "python",
   "nbconvert_exporter": "python",
   "pygments_lexer": "ipython3",
   "version": "3.8.12"
  }
 },
 "nbformat": 4,
 "nbformat_minor": 4
}
