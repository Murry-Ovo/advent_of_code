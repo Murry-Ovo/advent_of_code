{
 "cells": [
  {
   "cell_type": "markdown",
   "metadata": {},
   "source": [
    "# Day 5: How About a Nice Game of Chess?\n",
    "You are faced with a security door designed by Easter Bunny engineers that seem to have acquired most of their security knowledge by watching hacking movies.\n",
    "\n",
    "The eight-character password for the door is generated one character at a time by finding the MD5 hash of some Door ID (your puzzle input) and an increasing integer index (starting with 0).\n",
    "\n",
    "A hash indicates the next character in the password if its hexadecimal representation starts with five zeroes. If it does, the sixth character in the hash is the next character of the password.\n",
    "\n",
    "For example, if the Door ID is abc:\n",
    "\n",
    "- The first index which produces a hash that starts with five zeroes is `3231929`, which we find by hashing `abc3231929`; the sixth character of the hash, and thus the first character of the password, is `1`.\n",
    "- `5017308` produces the next interesting hash, which starts with `000008f82...`, so the second character of the password is 8.\n",
    "- The third time a hash starts with five zeroes is for `abc5278568`, discovering the character f.\n",
    "\n",
    "In this example, after continuing this search a total of eight times, the password is `18f47a30`.\n",
    "\n",
    "### Part One\n",
    "\n",
    "Given the actual Door ID, what is the password?\n",
    "\n",
    "Your puzzle input is `ffykfhsq`.\n",
    "\n",
    "### Part Two\n",
    "As the door slides open, you are presented with a second door that uses a slightly more inspired security mechanism. Clearly unimpressed by the last version (in what movie is the password decrypted in order?!), the Easter Bunny engineers have worked out a better solution.\n",
    "\n",
    "Instead of simply filling in the password from left to right, the hash now also indicates the position within the password to fill. You still look for hashes that begin with five zeroes; however, now, the sixth character represents the position (0-7), and the seventh character is the character to put in that position.\n",
    "\n",
    "A hash result of `000001f` means that f is the second character in the password. Use only the first result for each position, and ignore invalid positions.\n",
    "\n",
    "For example, if the Door ID is abc:\n",
    "\n",
    "- The first interesting hash is from `abc3231929`, which produces `0000015...`; so, `5` goes in position `1`: `_5______`.\n",
    "- In the previous method, `5017308` produced an interesting hash; however, it is ignored, because it specifies an invalid position (8).\n",
    "- The second interesting hash is at index `5357525`, which produces `000004e...`; so, `e` goes in position `4`:` _5__e___`.\n",
    "\n",
    "You almost choke on your popcorn as the final character falls into place, producing the password `05ace8e3`.\n",
    "\n",
    "Given the actual Door ID and this new method, what is the password? Be extra proud of your solution if it uses a cinematic \"decrypting\" animation."
   ]
  },
  {
   "cell_type": "markdown",
   "metadata": {},
   "source": [
    "### Part One"
   ]
  },
  {
   "cell_type": "code",
   "execution_count": 82,
   "metadata": {},
   "outputs": [
    {
     "name": "stdout",
     "output_type": "stream",
     "text": [
      "Password element 1 Identified! 1\n",
      "Password element 2 Identified! 8\n",
      "Password element 3 Identified! f\n",
      "Password element 4 Identified! 4\n",
      "Password element 5 Identified! 7\n",
      "Password element 6 Identified! a\n",
      "Password element 7 Identified! 3\n",
      "Password element 8 Identified! 0\n",
      "The password for door_id 'abc' is '18f47a30'\n"
     ]
    },
    {
     "data": {
      "text/plain": [
       "'18f47a30'"
      ]
     },
     "execution_count": 82,
     "metadata": {},
     "output_type": "execute_result"
    }
   ],
   "source": [
    "import hashlib\n",
    "\n",
    "def get_pwd(door_id:str): #-> pwd:str\n",
    "    \"\"\"\n",
    "    - Starts at index 0 and finds the md5 hash for door_id+index\n",
    "    - If the MD5 hash begins with 5 0's then adds the 5th element to a password string\n",
    "    - Stops when the password string is 8 digits long\n",
    "    \"\"\"\n",
    "    idx, pwd = 0, ''\n",
    "    while len(pwd) < 8:\n",
    "        md5 = hashlib.md5(f'{door_id}{idx}'.encode('utf-8')).hexdigest()\n",
    "        if md5[:5] == '00000': \n",
    "            pwd += md5[5]\n",
    "            print(f'Password element {len(pwd)} Identified! {md5[5]}')\n",
    "        idx += 1\n",
    "        \n",
    "    print(f\"The password for door_id '{door_id}' is '{pwd}'\")\n",
    "    return pwd\n",
    "\n",
    "door_id = 'ffykfhsq'\n",
    "# door_id = 'abc'\n",
    "\n",
    "get_pwd(door_id)"
   ]
  },
  {
   "cell_type": "markdown",
   "metadata": {},
   "source": [
    "### Part Two"
   ]
  },
  {
   "cell_type": "code",
   "execution_count": 83,
   "metadata": {},
   "outputs": [
    {
     "name": "stdout",
     "output_type": "stream",
     "text": [
      "Decrypted!!! The password for door_id 'ffykfhsq' is '8c35d1ab'\n"
     ]
    }
   ],
   "source": [
    "def get_pwd_v2(door_id:str):\n",
    "    \"\"\"\n",
    "    - Starts at index 0 and finds the md5 hash for door_id+index until the entire 8 digit password is identified\n",
    "    - Creates a list \n",
    "    - Adds a character to the password if:\n",
    "        - The MD5 hash starts with 5 x 0's\n",
    "        - And the 'position' extracted from that MD5 hash is still to be filled ('position' is in 'valid_positions')\n",
    "    - Removes the 'position' filled from the valid_positions' list\n",
    "    - Stops when the list of 'valid_positions' is empty\n",
    "    \"\"\"\n",
    "    idx = 0\n",
    "    pwd = list('_'*8)\n",
    "    valid_pos = list(range(8))\n",
    "    print(f'Decrypting: {\"\".join(pwd)}',end='\\r')\n",
    "    \n",
    "    while len(valid_pos) > 0:\n",
    "        md5  = hashlib.md5(f'{door_id}{idx}'.encode('utf-8')).hexdigest()\n",
    "        pos  = int(md5[5]) if md5[5].isnumeric() else 99\n",
    "        char = md5[6]\n",
    "        \n",
    "        if md5[:5] == '00000' and pos in valid_pos:\n",
    "                pwd[pos] = char\n",
    "                valid_pos.remove(pos)\n",
    "                print(f'Decrypting: {\"\".join(pwd)}',end=\"\\r\")\n",
    "        idx += 1\n",
    "    pwd = ''.join(pwd)\n",
    "    print(f\"Decrypted!!! The password for door_id '{door_id}' is '{pwd}'\")\n",
    "\n",
    "door_id = 'ffykfhsq'\n",
    "# door_id = 'abc' # sample\n",
    "\n",
    "get_pwd_v2(door_id)"
   ]
  }
 ],
 "metadata": {
  "kernelspec": {
   "display_name": "Python 3 (ipykernel)",
   "language": "python",
   "name": "python3"
  },
  "language_info": {
   "codemirror_mode": {
    "name": "ipython",
    "version": 3
   },
   "file_extension": ".py",
   "mimetype": "text/x-python",
   "name": "python",
   "nbconvert_exporter": "python",
   "pygments_lexer": "ipython3",
   "version": "3.8.12"
  }
 },
 "nbformat": 4,
 "nbformat_minor": 4
}
