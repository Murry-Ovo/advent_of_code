{
 "cells": [
  {
   "cell_type": "markdown",
   "metadata": {},
   "source": [
    "# Day 8: Two-Factor Authentication\n",
    "\n",
    "You come across a door implementing what you can only assume is an implementation of two-factor authentication after a long game of requirements telephone.\n",
    "\n",
    "To get past the door, you first swipe a keycard (no problem; there was one on a nearby desk). Then, it displays a code on a little screen, and you type that code on a keypad. Then, presumably, the door unlocks.\n",
    "\n",
    "Unfortunately, the screen has been smashed. After a few minutes, you've taken everything apart and figured out how it works. Now you just have to work out what the screen would have displayed.\n",
    "\n",
    "The magnetic strip on the card you swiped encodes a series of instructions for the screen; these instructions are your puzzle input. The screen is 50 pixels wide and 6 pixels tall, all of which start off, and is capable of three somewhat peculiar operations:\n",
    "\n",
    "- `rect AxB` turns on all of the pixels in a rectangle at the top-left of the screen which is A wide and B tall.\n",
    "- `rotate row y=A by B` shifts all of the pixels in row A (0 is the top row) right by B pixels. Pixels that would fall off the right end appear at the left end of the row.\n",
    "- `rotate column x=A by B` shifts all of the pixels in column A (0 is the left column) down by B pixels. Pixels that would fall off the bottom appear at the top of the column.\n",
    "\n",
    "For example, here is a simple sequence on a smaller screen:\n",
    "\n",
    "- `rect 3x2` creates a small rectangle in the top-left corner:\n",
    "\n",
    "```\n",
    "###....\n",
    "###....\n",
    ".......\n",
    "```\n",
    "\n",
    "- `rotate column x=1 by 1` rotates the second column down by one pixel:\n",
    "\n",
    "```\n",
    "#.#....\n",
    "###....\n",
    ".#.....\n",
    "```\n",
    "- `rotate row y=0 by 4` rotates the top row right by four pixels:\n",
    "\n",
    "```\n",
    "....#.#\n",
    "###....\n",
    ".#.....\n",
    "```\n",
    "- `rotate column x=1 by 1` again rotates the second column down by one pixel, causing the bottom pixel to wrap back to the top:\n",
    "\n",
    "```\n",
    ".#..#.#\n",
    "#.#....\n",
    ".#.....\n",
    "```\n",
    "As you can see, this display technology is extremely powerful, and will soon dominate the tiny-code-displaying-screen market. That's what the advertisement on the back of the display tries to convince you, anyway.\n",
    "\n",
    "### Part One\n",
    "\n",
    "There seems to be an intermediate check of the voltage used by the display: after you swipe your card, if the screen did work, how many pixels should be lit?"
   ]
  },
  {
   "cell_type": "code",
   "execution_count": 12,
   "metadata": {},
   "outputs": [
    {
     "name": "stdout",
     "output_type": "stream",
     "text": [
      "Collecting package metadata (current_repodata.json): ...working... done\n",
      "Note: you may need to restart the kernel to use updated packages.\n",
      "\n",
      "Solving environment: ...working... failed with initial frozen solve. Retrying with flexible solve."
     ]
    },
    {
     "name": "stderr",
     "output_type": "stream",
     "text": [
      "\n",
      "PackagesNotFoundError: The following packages are not available from current channels:\n",
      "\n",
      "  - google-cloud\n",
      "\n",
      "Current channels:\n",
      "\n",
      "  - https://repo.anaconda.com/pkgs/main/win-64\n",
      "  - https://repo.anaconda.com/pkgs/main/noarch\n",
      "  - https://repo.anaconda.com/pkgs/r/win-64\n",
      "  - https://repo.anaconda.com/pkgs/r/noarch\n",
      "  - https://repo.anaconda.com/pkgs/msys2/win-64\n",
      "  - https://repo.anaconda.com/pkgs/msys2/noarch\n",
      "\n",
      "To search for alternate channels that may provide the conda package you're\n",
      "looking for, navigate to\n",
      "\n",
      "    https://anaconda.org\n"
     ]
    },
    {
     "name": "stdout",
     "output_type": "stream",
     "text": [
      "\n",
      "Collecting package metadata (repodata.json): ...working... done\n",
      "Solving environment: ...working... failed with initial frozen solve. Retrying with flexible solve.\n"
     ]
    },
    {
     "name": "stderr",
     "output_type": "stream",
     "text": [
      "\n",
      "and use the search bar at the top of the page.\n",
      "\n",
      "\n"
     ]
    }
   ],
   "source": [
    "conda install google-cloud"
   ]
  },
  {
   "cell_type": "code",
   "execution_count": 7,
   "metadata": {},
   "outputs": [],
   "source": [
    "# imports\n",
    "day = '08'        \n",
    "with open(f'Inputs\\\\day_{day}.txt') as f: puz = [l.strip() for l in f.readlines()]\n",
    "with open(f'Inputs\\\\day_{day}_sample.txt') as f: sample = [l.strip() for l in f.readlines()]   \n",
    "\n",
    "# setting sample / grid size\n",
    "use_sample = True\n",
    "if use_sample == True: \n",
    "    puz = sample\n",
    "    grid_size = (7,4)\n",
    "else:\n",
    "    grid_size = (50,6)"
   ]
  },
  {
   "cell_type": "code",
   "execution_count": 10,
   "metadata": {},
   "outputs": [
    {
     "data": {
      "text/plain": [
       "((7, 4),\n",
       " ['rect 3x2',\n",
       "  'rotate column x=1 by 1',\n",
       "  'rotate row y=0 by 4',\n",
       "  'rotate column x=1 by 1'])"
      ]
     },
     "execution_count": 10,
     "metadata": {},
     "output_type": "execute_result"
    }
   ],
   "source": [
    "grid_size, puz"
   ]
  },
  {
   "cell_type": "code",
   "execution_count": 11,
   "metadata": {},
   "outputs": [
    {
     "data": {
      "text/plain": [
       "'rect 3x2'"
      ]
     },
     "execution_count": 11,
     "metadata": {},
     "output_type": "execute_result"
    }
   ],
   "source": [
    "'''\n",
    "parse input to kick out:\n",
    "(rect, 3, 2) - instruction / x / y\n",
    "(rotate, x/y, 1, 1) - instruction / direction\n",
    "'''\n",
    "\n",
    "line = 'rect 3x2'\n",
    "\n",
    "\n",
    "    "
   ]
  }
 ],
 "metadata": {
  "kernelspec": {
   "display_name": "Python 3 (ipykernel)",
   "language": "python",
   "name": "python3"
  },
  "language_info": {
   "codemirror_mode": {
    "name": "ipython",
    "version": 3
   },
   "file_extension": ".py",
   "mimetype": "text/x-python",
   "name": "python",
   "nbconvert_exporter": "python",
   "pygments_lexer": "ipython3",
   "version": "3.8.12"
  }
 },
 "nbformat": 4,
 "nbformat_minor": 4
}
