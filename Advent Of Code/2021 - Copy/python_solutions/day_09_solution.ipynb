{
 "cells": [
  {
   "cell_type": "markdown",
   "metadata": {},
   "source": [
    "### Inputs and Imports"
   ]
  },
  {
   "cell_type": "code",
   "execution_count": 1,
   "metadata": {},
   "outputs": [],
   "source": [
    "input_file_list = []\n",
    "sample_input_file_list = []\n",
    "\n",
    "with open(r'C:\\Users\\andrew.morris\\Documents\\GitHub\\advent_of_code\\Advent of Code\\2021\\Inputs\\day_09.txt', 'r') as input_file: \n",
    "    for line in input_file.readlines():\n",
    "        input_file_list.append(line.rstrip('\\n'))\n",
    "with open(r'C:\\Users\\andrew.morris\\Documents\\GitHub\\advent_of_code\\Advent of Code\\2021\\Inputs\\day_09_sample.txt', 'r') as input_file: \n",
    "    for line in input_file.readlines():\n",
    "        sample_input_file_list.append(line.rstrip('\\n'))        \n",
    "\n",
    "########################        \n",
    "# Part One Sample Answer: 15\n",
    "########################\n",
    "# Part Two Sample Answer:\n",
    "########################"
   ]
  },
  {
   "cell_type": "markdown",
   "metadata": {},
   "source": [
    "### Part One\n",
    "\n",
    "We are given a 2d array with numbers from 1-9, for each number we need to work out if it is lower than all adjacent numbers, if it is then that is a 'low point'.\n",
    "\n",
    "We must identify all low points and work out the cumulative 'risk level'.\n",
    "\n",
    "\n",
    "The risk level is the low point + 1 "
   ]
  },
  {
   "cell_type": "code",
   "execution_count": 82,
   "metadata": {
    "scrolled": true
   },
   "outputs": [
    {
     "name": "stdout",
     "output_type": "stream",
     "text": [
      "The sum of all the risk levels is 15\n"
     ]
    }
   ],
   "source": [
    "# raw_input = input_file_list\n",
    "raw_input = sample_input_file_list\n",
    "\n",
    "# for each height within the heightmap identify the heights on each adjacent n/e/s/w point \n",
    "# and add to a list if it is lower than all adjacent numbers\n",
    "def create_low_height_list(raw_input):\n",
    "    low_height_list = []\n",
    "    for y_index, heightmap in enumerate(raw_input):\n",
    "        for x_index, h in enumerate(heightmap):\n",
    "            # identify adjacent number at n/e/s/w points\n",
    "            # if there is no adjacent n/e/s/w number then substitue with a 9\n",
    "            n = 9 if y_index == 0                else int(raw_input[y_index-1][x_index])\n",
    "            e = 9 if x_index == len(heightmap)-1 else int(heightmap[x_index+1])\n",
    "            s = 9 if y_index == len(raw_input)-1 else int(raw_input[y_index+1][x_index])\n",
    "            w = 9 if x_index == 0                else int(heightmap[x_index-1])\n",
    "\n",
    "    #         # visualise the adjacent numbers\n",
    "    #         print(f'    {n}')\n",
    "    #         print('    -   ')\n",
    "    #         print(f'{w} | {h} | {e}')  \n",
    "    #         print('    -   ')\n",
    "    #         print(f'    {s}')\n",
    "    #         print('---------')\n",
    "\n",
    "            # if the height (h) is lower than all adjacent numbers add it to a low_height_list\n",
    "            low_height_list.append(int(h)) if len([x for x in [n,e,s,w] if x > int(h)]) == 4 else None\n",
    "    print(f'The sum of all the risk levels is {sum(low_height_list) + len(low_height_list)}')\n",
    "    return low_height_list\n",
    "\n",
    "low_height_list = create_low_height_list(raw_input)\n"
   ]
  },
  {
   "cell_type": "markdown",
   "metadata": {},
   "source": [
    "### Part Two"
   ]
  },
  {
   "cell_type": "code",
   "execution_count": 107,
   "metadata": {},
   "outputs": [
    {
     "data": {
      "text/plain": [
       "['2199943210', '3987894921', '9856789892', '8767896789', '9899965678']"
      ]
     },
     "execution_count": 107,
     "metadata": {},
     "output_type": "execute_result"
    }
   ],
   "source": [
    "raw_input"
   ]
  },
  {
   "cell_type": "code",
   "execution_count": null,
   "metadata": {},
   "outputs": [],
   "source": [
    "# for each height within the heightmap identify the heights on each adjacent n/e/s/w point \n",
    "# if adjacent number is a 9 then it is ignored\n",
    "def find_adjacent_numbers(raw_input):\n",
    "    adjacent_numbers = {}\n",
    "    for y_index, heightmap in enumerate(raw_input):\n",
    "        for x_index, h in enumerate(heightmap):\n",
    "            # identify adjacent number at n/e/s/w points\n",
    "            # if there is no adjacent n/e/s/w number then substitue with a 9\n",
    "            n = 9 if y_index == 0                else int(raw_input[y_index-1][x_index])\n",
    "            e = 9 if x_index == len(heightmap)-1 else int(heightmap[x_index+1])\n",
    "            s = 9 if y_index == len(raw_input)-1 else int(raw_input[y_index+1][x_index])\n",
    "            w = 9 if x_index == 0                else int(heightmap[x_index-1])\n",
    "            \n",
    "            \n",
    "            \n",
    "    #         # visualise the adjacent numbers\n",
    "    #         print(f'    {n}')\n",
    "    #         print('    -   ')\n",
    "    #         print(f'{w} | {h} | {e}')  \n",
    "    #         print('    -   ')\n",
    "    #         print(f'    {s}')\n",
    "    #         print('---------')\n",
    "            \n",
    "            # if the height (h) is lower than all adjacent numbers add it to a low_height_list\n",
    "            low_height_list.append(int(h)) if len([x for x in [n,e,s,w] if x > int(h)]) == 4 else None\n",
    "    print(f'The sum of all the risk levels is {sum(low_height_list) + len(low_height_list)}')\n",
    "    return low_height_list\n",
    "\n",
    "low_height_list = create_low_height_list(raw_input)"
   ]
  },
  {
   "cell_type": "code",
   "execution_count": 83,
   "metadata": {},
   "outputs": [
    {
     "data": {
      "text/plain": [
       "['2199943210', '3987894921', '9856789892', '8767896789', '9899965678']"
      ]
     },
     "execution_count": 83,
     "metadata": {},
     "output_type": "execute_result"
    }
   ],
   "source": [
    "raw_input"
   ]
  },
  {
   "cell_type": "code",
   "execution_count": 86,
   "metadata": {},
   "outputs": [
    {
     "data": {
      "text/plain": [
       "['0099900000', '0900090900', '9000009090', '0000090009', '9099900000']"
      ]
     },
     "execution_count": 86,
     "metadata": {},
     "output_type": "execute_result"
    }
   ],
   "source": [
    "# funtion to output a 9 or 0 depending on if the input is a 9 or not\n",
    "def nine_or_zero(num):\n",
    "    value = '9' if int(num) == 9 else '0'\n",
    "    return value\n",
    "\n",
    "basins = []\n",
    "for row in raw_input:\n",
    "    new_row = ''\n",
    "    for num in row:\n",
    "        new_row += nine_or_zero(num)\n",
    "    basins.append(new_row)\n",
    "basins    \n",
    " \n",
    "    "
   ]
  },
  {
   "cell_type": "code",
   "execution_count": 106,
   "metadata": {},
   "outputs": [
    {
     "name": "stdout",
     "output_type": "stream",
     "text": [
      "Peter's sister's name's \"Anna\"\n",
      "Peter's sister's name's \"Anna\"\n"
     ]
    }
   ],
   "source": [
    "\n",
    "\n",
    "A = \"Peter's sister's name's \\\"Anna\\\"\"\n",
    "B = 'Peter\\'s sister\\'s name\\'s \\\"Anna\\\"'\n",
    "# C = \"Peter's sister's name's \"Anna\"\"\n",
    "# D = 'Peter's sister's name's \"Anna\n",
    "\n",
    "print(A, B, sep='\\n')"
   ]
  }
 ],
 "metadata": {
  "kernelspec": {
   "display_name": "Python 3 (ipykernel)",
   "language": "python",
   "name": "python3"
  },
  "language_info": {
   "codemirror_mode": {
    "name": "ipython",
    "version": 3
   },
   "file_extension": ".py",
   "mimetype": "text/x-python",
   "name": "python",
   "nbconvert_exporter": "python",
   "pygments_lexer": "ipython3",
   "version": "3.8.12"
  }
 },
 "nbformat": 4,
 "nbformat_minor": 4
}
