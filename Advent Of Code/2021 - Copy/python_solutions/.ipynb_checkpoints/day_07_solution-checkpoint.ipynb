{
 "cells": [
  {
   "cell_type": "markdown",
   "metadata": {},
   "source": [
    "### Inputs and Imports"
   ]
  },
  {
   "cell_type": "code",
   "execution_count": 16,
   "metadata": {},
   "outputs": [],
   "source": [
    "input_file_list = []\n",
    "sample_input_file_list = []\n",
    "\n",
    "with open(r'C:\\Users\\andrew.morris\\Documents\\GitHub\\advent_of_code\\Advent of Code\\2021\\Inputs\\day_07.txt', 'r') as input_file: \n",
    "    for line in input_file.readlines():\n",
    "        input_file_list.append(line.rstrip('\\n'))\n",
    "with open(r'C:\\Users\\andrew.morris\\Documents\\GitHub\\advent_of_code\\Advent of Code\\2021\\Inputs\\day_07_sample.txt', 'r') as input_file: \n",
    "    for line in input_file.readlines():\n",
    "        sample_input_file_list.append(line.rstrip('\\n'))        \n",
    "\n",
    "########################        \n",
    "# Part One Sample Answer: 37 (position 2)\n",
    "########################\n",
    "# Part Two Sample Answer: 168 (position 5)\n",
    "########################"
   ]
  },
  {
   "cell_type": "markdown",
   "metadata": {},
   "source": [
    "### Part One\n",
    "\n",
    "We are accompanied by a fleet of crabs in submarines. \n",
    "\n",
    "They all need to align themselves on a horizontal plane in order to shoot through the ocean floor. \n",
    "\n",
    "Based on a list of their horizontal positions we need to work out which position on the horizontal plan would required the least amount of fuel in total for them all to align on. "
   ]
  },
  {
   "cell_type": "code",
   "execution_count": 58,
   "metadata": {
    "scrolled": false
   },
   "outputs": [
    {
     "name": "stdout",
     "output_type": "stream",
     "text": [
      "-- converting raw input into integers\n",
      "-- working out the most fuel economic position for all the crabs to align at\n",
      "\n",
      "the smallest amount of fuel required to align the crabs is 325528\n"
     ]
    }
   ],
   "source": [
    "# crab_pos_raw = sample_input_file_list\n",
    "crab_pos_raw = input_file_list\n",
    "\n",
    "# function to convert the input file into a list of integers\n",
    "def convert_crab_pos_input(crab_pos_raw):\n",
    "    print('-- converting raw input into integers')\n",
    "    crab_pos_list = [int(x) for x in crab_pos_raw[0].split(\",\")]\n",
    "    return crab_pos_list\n",
    "\n",
    "# function creates a list of how much fuel it costs to get to each horizontal position \n",
    "def find_min_fuel_to_align(crab_pos_list):\n",
    "    print(f'-- working out the most fuel economic position for all the crabs to align at')\n",
    "    hoz_pos_range = range(min(crab_pos_list), max(crab_pos_list)+1)\n",
    "    total_fuel_per_pos = []\n",
    "    for hoz_pos in hoz_pos_range:\n",
    "        fuel_per_crab = []\n",
    "        for crab in crab_pos_list:\n",
    "            fuel_per_crab.append(abs(int(crab)-int(hoz_pos)))\n",
    "        total_fuel_per_pos.append(sum(fuel_per_crab))    \n",
    "    print(f'\\nthe smallest amount of fuel required to align the crabs is {min(total_fuel_per_pos)}')\n",
    "    return total_fuel_per_pos\n",
    "\n",
    "crab_pos_list = convert_crab_pos_input(crab_pos_raw)\n",
    "total_fuel_per_pos = find_min_fuel_to_align(crab_pos_list)"
   ]
  },
  {
   "cell_type": "markdown",
   "metadata": {},
   "source": [
    "### Part Two\n",
    "\n",
    "We have found out that each positiona crab needs to move requires more fuel each time by 1:\n",
    "- moving 1 position costs 1 fuel\n",
    "- moving 2 positions costs 3 fuel, 1 for the first step and 2 for the second step\n",
    "- moving 3 positions cost 6 fuel, 1 for the first step, 2 for the second step then 3 for the third step\n",
    "\n",
    "\n",
    "With this new information on fuel cost, recalculate the most fuel efficient horizontal position for the crabs to align upon. "
   ]
  },
  {
   "cell_type": "code",
   "execution_count": 75,
   "metadata": {},
   "outputs": [
    {
     "name": "stdout",
     "output_type": "stream",
     "text": [
      "-- converting raw input into integers\n",
      "-- working out the most fuel economic position for all the crabs to align at\n",
      "\n",
      "the smallest amount of fuel required to align the crabs is 85015836\n"
     ]
    }
   ],
   "source": [
    "# crab_pos_raw = sample_input_file_list\n",
    "crab_pos_raw = input_file_list\n",
    "\n",
    "# function to convert the input file into a list of integers\n",
    "def convert_crab_pos_input(crab_pos_raw):\n",
    "    print('-- converting raw input into integers')\n",
    "    crab_pos_list = [int(x) for x in crab_pos_raw[0].split(\",\")]\n",
    "    return crab_pos_list\n",
    "\n",
    "# function creates a list of how much fuel it costs to get to each horizontal position \n",
    "def find_min_fuel_to_align_v2(crab_pos_list):\n",
    "    print(f'-- working out the most fuel economic position for all the crabs to align at')\n",
    "    hoz_pos_range = range(min(crab_pos_list), max(crab_pos_list)+1)\n",
    "    total_fuel_per_pos = []\n",
    "    for hoz_pos in hoz_pos_range:\n",
    "        fuel_per_crab = []\n",
    "        for crab in crab_pos_list:\n",
    "            # work out the number of steps each crab must take to get to the horizontal position \n",
    "            steps_to_hoz_pos = abs(int(crab)-int(hoz_pos))\n",
    "            # turn this into a list of numbers from 1 to the total number of steps \n",
    "            # (e.g. [1, 2, 3] for 3 steps)\n",
    "            crab_step_range = list(range(1,steps_to_hoz_pos+1))\n",
    "            # sum this list to get the total amount of fuel required\n",
    "            crab_fuel_required = sum(crab_step_range)\n",
    "            # add to the list of fuel required\n",
    "            fuel_per_crab.append(crab_fuel_required)\n",
    "        total_fuel_per_pos.append(sum(fuel_per_crab))    \n",
    "    print(f'\\nthe smallest amount of fuel required to align the crabs is {min(total_fuel_per_pos)}')\n",
    "    return total_fuel_per_pos\n",
    "\n",
    "crab_pos_list = convert_crab_pos_input(crab_pos_raw)\n",
    "total_fuel_per_pos = find_min_fuel_to_align_v2(crab_pos_list)"
   ]
  }
 ],
 "metadata": {
  "kernelspec": {
   "display_name": "Python 3 (ipykernel)",
   "language": "python",
   "name": "python3"
  },
  "language_info": {
   "codemirror_mode": {
    "name": "ipython",
    "version": 3
   },
   "file_extension": ".py",
   "mimetype": "text/x-python",
   "name": "python",
   "nbconvert_exporter": "python",
   "pygments_lexer": "ipython3",
   "version": "3.8.12"
  }
 },
 "nbformat": 4,
 "nbformat_minor": 4
}
