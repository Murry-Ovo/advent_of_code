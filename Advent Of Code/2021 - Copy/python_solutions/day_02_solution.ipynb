{
 "cells": [
  {
   "cell_type": "markdown",
   "metadata": {},
   "source": [
    "### Inputs and Imports"
   ]
  },
  {
   "cell_type": "code",
   "execution_count": 5,
   "metadata": {},
   "outputs": [],
   "source": [
    "input_file_list = []\n",
    "sample_input_file_list = []\n",
    "\n",
    "with open(r'C:\\Users\\andrew.morris\\Documents\\GitHub\\murry_code\\Advent of Code\\2021\\Inputs\\day_02.txt', 'r') as input_file: \n",
    "    for line in input_file.readlines():\n",
    "        input_file_list.append(line.rstrip('\\n'))\n",
    "with open(r'C:\\Users\\andrew.morris\\Documents\\GitHub\\murry_code\\Advent of Code\\2021\\Inputs\\day_02_sample.txt', 'r') as input_file: \n",
    "    for line in input_file.readlines():\n",
    "        sample_input_file_list.append(line.rstrip('\\n'))        \n",
    "        \n",
    "#################################\n",
    "# the sample answer for part one should be:\n",
    "# - final depth position = 10\n",
    "# - final horizontal position = 15\n",
    "# - multiplied position = 150\n",
    "#################################\n",
    "# the sample answer for part two should be:\n",
    "# - final depth position = 60\n",
    "# - final horizontal position = 15\n",
    "# - multiplied position = 900\n",
    "#################################\n"
   ]
  },
  {
   "cell_type": "markdown",
   "metadata": {},
   "source": [
    "### Part One\n",
    "\n",
    "Two values, Horizonal position and a depth position are affected by a series of actions laid out in a submarine course (the input), these both start at zero.  \n",
    "\n",
    "Find end horizontal and depth position based on the course list (input file). The answer will be these 2 values multiplied together. \n",
    "\n",
    "- forward X increases the horizontal position by X units.\n",
    "- down X increases the depth by X units.\n",
    "- up X decreases the depth by X units."
   ]
  },
  {
   "cell_type": "code",
   "execution_count": 14,
   "metadata": {},
   "outputs": [
    {
     "name": "stdout",
     "output_type": "stream",
     "text": [
      "\n",
      "final depth position = 913\n",
      "final horizontal position = 1988\n",
      "multiplied position = 1815044\n",
      "\n"
     ]
    }
   ],
   "source": [
    "# sub_course_list = sample_input_file_list\n",
    "sub_course_list = input_file_list\n",
    "\n",
    "def action_value_split(sub_course_list):\n",
    "    split_sub_course_list = []\n",
    "    for action in sub_course_list:\n",
    "        splt_list = action.split(' ')\n",
    "        split_sub_course_list.append(splt_list)\n",
    "    return split_sub_course_list\n",
    "\n",
    "\n",
    "def complete_sub_course(split_sub_course_list):\n",
    "    depth_position = 0\n",
    "    horizontal_position = 0\n",
    "    for action_set in split_sub_course_list:\n",
    "        action = action_set[0]\n",
    "        value  = int(action_set[1])    \n",
    "        if action == 'forward':\n",
    "            horizontal_position += value\n",
    "        elif action == 'down':\n",
    "            depth_position += value\n",
    "        elif action == 'up':\n",
    "            depth_position -= value\n",
    "    return (depth_position, horizontal_position)\n",
    "\n",
    "split_sub_course_list = action_value_split(sub_course_list)  \n",
    "final_depth_position, final_horizontal_position = complete_sub_course(split_sub_course_list)\n",
    "\n",
    "print(f'''\n",
    "final depth position = {final_depth_position}\n",
    "final horizontal position = {final_horizontal_position}\n",
    "multiplied position = {final_depth_position * final_horizontal_position}\n",
    "''')\n",
    "\n",
    "# split_sub_course_list\n",
    "# split_sub_course_list"
   ]
  },
  {
   "cell_type": "markdown",
   "metadata": {},
   "source": [
    "### Part Two\n",
    "\n",
    "There was a missing part of the instructions, a thrid value 'aim' is also affected by the down, up and forward actions:\n",
    "\n",
    "- down X increases your aim by X units.\n",
    "- up X decreases your aim by X units.\n",
    "- forward X does two things:\n",
    "    - It increases your horizontal position by X units.\n",
    "    - It increases your depth by your aim multiplied by X."
   ]
  },
  {
   "cell_type": "code",
   "execution_count": 7,
   "metadata": {},
   "outputs": [
    {
     "name": "stdout",
     "output_type": "stream",
     "text": [
      "\n",
      "final depth position = 874891\n",
      "final horizontal position = 1988\n",
      "multiplied position = 1739283308\n",
      "\n"
     ]
    }
   ],
   "source": [
    "# sub_course_list = sample_input_file_list\n",
    "sub_course_list = input_file_list\n",
    "\n",
    "def complete_sub_course_with_aim(split_sub_course_list):\n",
    "    depth_position = 0\n",
    "    horizontal_position = 0\n",
    "    aim = 0\n",
    "    for action_set in split_sub_course_list:\n",
    "        action = action_set[0]\n",
    "        value  = int(action_set[1])    \n",
    "        if action == 'forward':\n",
    "            horizontal_position += value\n",
    "            depth_position += aim * value\n",
    "        elif action == 'down':\n",
    "            aim += value\n",
    "        elif action == 'up':\n",
    "            aim -= value\n",
    "    return (depth_position, horizontal_position)\n",
    "\n",
    "split_sub_course_list = action_value_split(sub_course_list)  \n",
    "final_depth_position, final_horizontal_position = complete_sub_course_with_aim(split_sub_course_list)\n",
    "       \n",
    "print(f'''\n",
    "final depth position = {final_depth_position}\n",
    "final horizontal position = {final_horizontal_position}\n",
    "multiplied position = {final_depth_position * final_horizontal_position}\n",
    "''')"
   ]
  }
 ],
 "metadata": {
  "kernelspec": {
   "display_name": "Python 3",
   "language": "python",
   "name": "python3"
  },
  "language_info": {
   "codemirror_mode": {
    "name": "ipython",
    "version": 3
   },
   "file_extension": ".py",
   "mimetype": "text/x-python",
   "name": "python",
   "nbconvert_exporter": "python",
   "pygments_lexer": "ipython3",
   "version": "3.8.5"
  }
 },
 "nbformat": 4,
 "nbformat_minor": 4
}
