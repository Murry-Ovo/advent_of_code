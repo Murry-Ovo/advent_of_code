{
 "cells": [
  {
   "cell_type": "markdown",
   "id": "dc9323de",
   "metadata": {},
   "source": [
    "\n",
    "# Day 5: Binary Boarding\n",
    "[Link to Advent of Code 2020 - Day 05](https://adventofcode.com/2020/day/5)\n",
    "\n",
    "You board your plane only to discover a new problem: you dropped your boarding pass! You aren't sure which seat is yours, and all of the flight attendants are busy with the flood of people that suddenly made it through passport control.\n",
    "\n",
    "You write a quick program to use your phone's camera to scan all of the nearby boarding passes (your puzzle input); perhaps you can find your seat through process of elimination.\n",
    "\n",
    "Instead of zones or groups, this airline uses binary space partitioning to seat people. A seat might be specified like FBFBBFFRLR, where F means \"front\", B means \"back\", L means \"left\", and R means \"right\".\n",
    "\n",
    "The first 7 characters will either be F or B; these specify exactly one of the 128 rows on the plane (numbered 0 through 127). Each letter tells you which half of a region the given seat is in. Start with the whole list of rows; the first letter indicates whether the seat is in the front (0 through 63) or the back (64 through 127). The next letter indicates which half of that region the seat is in, and so on until you're left with exactly one row.\n",
    "\n",
    "For example, consider just the first seven characters of FBFBBFFRLR:\n",
    "\n",
    "- Start by considering the whole range, rows 0 through 127.\n",
    "- F means to take the lower half, keeping rows 0 through 63.\n",
    "- B means to take the upper half, keeping rows 32 through 63.\n",
    "- F means to take the lower half, keeping rows 32 through 47.\n",
    "- B means to take the upper half, keeping rows 40 through 47.\n",
    "- B keeps rows 44 through 47.\n",
    "- F keeps rows 44 through 45.\n",
    "\n",
    "The final F keeps the lower of the two, row 44.\n",
    "The last three characters will be either L or R; these specify exactly one of the 8 columns of seats on the plane (numbered 0 through 7). The same process as above proceeds again, this time with only three steps. L means to keep the lower half, while R means to keep the upper half.\n",
    "\n",
    "For example, consider just the last 3 characters of FBFBBFFRLR:\n",
    "\n",
    "- Start by considering the whole range, columns 0 through 7.\n",
    "- R means to take the upper half, keeping columns 4 through 7.\n",
    "- L means to take the lower half, keeping columns 4 through 5.\n",
    "- The final R keeps the upper of the two, column 5.\n",
    "\n",
    "So, decoding FBFBBFFRLR reveals that it is the seat at row 44, column 5.\n",
    "\n",
    "Every seat also has a unique seat ID: multiply the row by 8, then add the column. In this example, the seat has ID 44 * 8 + 5 = 357.\n",
    "\n",
    "Here are some other boarding passes:\n",
    "\n",
    "- BFFFBBFRRR: row 70, column 7, seat ID 567.\n",
    "- FFFBBBFRRR: row 14, column 7, seat ID 119.\n",
    "- BBFFBBFRLL: row 102, column 4, seat ID 820.\n",
    "\n",
    "### Part One\n",
    "\n",
    "As a sanity check, look through your list of boarding passes. What is the highest seat ID on a boarding pass?\n",
    "\n",
    "### Part Two\n",
    "\n",
    "Ding! The \"fasten seat belt\" signs have turned on. Time to find your seat.\n",
    "\n",
    "It's a completely full flight, so your seat should be the only missing boarding pass in your list. However, there's a catch: some of the seats at the very front and back of the plane don't exist on this aircraft, so they'll be missing from your list as well.\n",
    "\n",
    "Your seat wasn't at the very front or back, though; the seats with IDs +1 and -1 from yours will be in your list.\n",
    "\n",
    "What is the ID of your seat?"
   ]
  },
  {
   "cell_type": "code",
   "execution_count": 3,
   "id": "05d3f69c",
   "metadata": {},
   "outputs": [
    {
     "data": {
      "text/plain": [
       "'111'"
      ]
     },
     "execution_count": 3,
     "metadata": {},
     "output_type": "execute_result"
    }
   ],
   "source": [
    "bp = '1000110111'\n",
    "bp[7:]"
   ]
  },
  {
   "cell_type": "code",
   "execution_count": 30,
   "id": "3a57d4ee",
   "metadata": {},
   "outputs": [
    {
     "data": {
      "text/plain": [
       "7"
      ]
     },
     "execution_count": 30,
     "metadata": {},
     "output_type": "execute_result"
    }
   ],
   "source": [
    "code = 'RRR'\n",
    "code = code.replace('L', '0').replace('R', '1')\n",
    "num = int(code, 2)\n",
    "num"
   ]
  },
  {
   "cell_type": "code",
   "execution_count": 40,
   "id": "fc1d729b",
   "metadata": {
    "scrolled": false
   },
   "outputs": [
    {
     "name": "stdout",
     "output_type": "stream",
     "text": [
      "Part One - The highest seat ID on a boarding pass is 913\n",
      "Part Two - My seat is number 717\n"
     ]
    }
   ],
   "source": [
    "# with open('Inputs\\day_05.txt') as f:puz = [l.rstrip('\\n').replace('F', '0').replace('B', '1') for l in f.readlines()]\n",
    "# with open('Inputs\\day_05_sample.txt') as f:puz = [l.rstrip('\\n').replace('F', '0').replace('B', '1') for l in f.readlines()]\n",
    "#     sample  = [l.rstrip('\\n') for l in f.readlines()]\n",
    "    \n",
    "\n",
    "def parse_input(path:str) -> 'list(col, row)':\n",
    "    '''\n",
    "    - Takes the input file path as an input where the file contains strings like this: 'BFFFBBFRRR'\n",
    "    - Converts these strings to Binary Strings where \n",
    "        - The 'F' and 'L' characters are replaced with '0'\n",
    "        - The 'B' and 'R' characters are replaced with '1'\n",
    "    - Outputs a new list of the binary strings\n",
    "    '''\n",
    "    with open(path) as f:\n",
    "        binary_boarding_passes = [l.rstrip('\\n')\\\n",
    "                                  .replace('F', '0').replace('B', '1')\\\n",
    "                                  .replace('L', '0').replace('R', '1')\\\n",
    "                                  for l in f.readlines()]        \n",
    "    return binary_boarding_passes\n",
    "    \n",
    "\n",
    "\n",
    "def get_seat_ids(path: str) -> list:\n",
    "    '''\n",
    "    For each boarding pass split into row and column number:\n",
    "        - Row is the first 7 characters and the binary string is converted into an int using int(<binary string>, base 2)\n",
    "        - Column is the last 3 characters and the binary string is converted into an int using int(<binary string>, base 2)\n",
    "    converting the binary strings of each boarding pass row first 7 characters and columns (last 3 characters) \n",
    "    into ints using int(<binary string>, base 2)\n",
    "    '''\n",
    "    seat_ids = []\n",
    "    for boarding_pass in parse_input(path):\n",
    "        # converting the binary strings of each boarding pass row first 7 characters and columns (last 3 characters) into ints using int(<binary string>, base 2)\n",
    "        row = int(boarding_pass[:7],2)\n",
    "        col = int(boarding_pass[-3:],2)\n",
    "        seat_id = row * 8 + col\n",
    "        seat_ids.append(seat_id)\n",
    "\n",
    "    return seat_ids\n",
    "\n",
    "\n",
    "def find_my_seat(seat_ids: list) -> str:\n",
    "    '''\n",
    "    To find 'my seat' we need to:\n",
    "        - Order the list of seat IDs\n",
    "        - Then iterate through and check if the seat id is equal to the expected next seat ID, \n",
    "        - If it is not then you have found the gap which would be 'my_seat'\n",
    "    '''\n",
    "    \n",
    "    seat_ids.sort()\n",
    "    check_seat = min(seat_ids)\n",
    "    my_seat = -1\n",
    "\n",
    "    for seat in seat_ids:\n",
    "        if seat == check_seat:\n",
    "            check_seat += 1\n",
    "        else:\n",
    "            my_seat = check_seat\n",
    "            break\n",
    "    return my_seat\n",
    "\n",
    "path = 'Inputs\\day_05.txt'\n",
    "# path = 'Inputs\\day_05_sample.txt'\n",
    "\n",
    "seat_ids = get_seat_ids(path)\n",
    "my_seat  = find_my_seat(seat_ids)\n",
    "\n",
    "print(f'Part One - The highest seat ID on a boarding pass is {max(seat_ids)}')\n",
    "print(f'Part Two - My seat is number {my_seat}')   "
   ]
  },
  {
   "cell_type": "code",
   "execution_count": 41,
   "id": "d8efcfc4",
   "metadata": {},
   "outputs": [
    {
     "data": {
      "text/plain": [
       "717"
      ]
     },
     "execution_count": 41,
     "metadata": {},
     "output_type": "execute_result"
    }
   ],
   "source": [
    "def find_my_seat2(seat_ids: list) -> str:\n",
    "    '''\n",
    "    - Version 2 using enumerate to pull the index, \n",
    "    - Add the index to the min number in the list and that should equal the seat number in each step\n",
    "    - When this does not match set as 'my seat' and return that variable\n",
    "    '''\n",
    "    seat_ids.sort()\n",
    "    my_seat = -1\n",
    "    for idx, seat in enumerate(seat_ids):\n",
    "        if seat != idx+min(seat_ids):\n",
    "            my_seat = idx+min(seat_ids)\n",
    "            break\n",
    "    return my_seat\n",
    "\n",
    "seat_ids = get_seat_ids(path)\n",
    "find_my_seat2(seat_ids)"
   ]
  },
  {
   "cell_type": "code",
   "execution_count": 42,
   "id": "b98c1dea",
   "metadata": {},
   "outputs": [
    {
     "data": {
      "text/plain": [
       "717"
      ]
     },
     "execution_count": 42,
     "metadata": {},
     "output_type": "execute_result"
    }
   ],
   "source": [
    "seat_ids = [4, 5, 6, 7, 9, 10, 11, 12]\n",
    "\n",
    "def find_my_seat3(seat_ids: list) -> str:\n",
    "    '''\n",
    "    - Method which creates a range using the min and max values from the seat_ids list\n",
    "    - Turns this range into a set and using the set method difference identifies and pops out the number missing from the input\n",
    "    '''\n",
    "    all_seats = set(range(min(seat_ids), max(seat_ids) + 1))\n",
    "    missing_seat = all_seats.difference(seat_ids).pop()\n",
    "\n",
    "    return missing_seat\n",
    "\n",
    "seat_ids = get_seat_ids(path)\n",
    "find_my_seat3(seat_ids)"
   ]
  }
 ],
 "metadata": {
  "kernelspec": {
   "display_name": "Python 3 (ipykernel)",
   "language": "python",
   "name": "python3"
  },
  "language_info": {
   "codemirror_mode": {
    "name": "ipython",
    "version": 3
   },
   "file_extension": ".py",
   "mimetype": "text/x-python",
   "name": "python",
   "nbconvert_exporter": "python",
   "pygments_lexer": "ipython3",
   "version": "3.9.12"
  }
 },
 "nbformat": 4,
 "nbformat_minor": 5
}
