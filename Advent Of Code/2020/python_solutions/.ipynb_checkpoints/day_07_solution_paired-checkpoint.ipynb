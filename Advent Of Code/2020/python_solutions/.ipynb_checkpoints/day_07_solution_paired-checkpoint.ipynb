{
 "cells": [
  {
   "cell_type": "code",
   "execution_count": 2,
   "metadata": {},
   "outputs": [],
   "source": [
    "import re"
   ]
  },
  {
   "cell_type": "markdown",
   "metadata": {},
   "source": [
    "Import Rule Data"
   ]
  },
  {
   "cell_type": "markdown",
   "metadata": {},
   "source": [
    "save data a file as we'll be opening the dataset this way and this enables reusability"
   ]
  },
  {
   "cell_type": "code",
   "execution_count": 3,
   "metadata": {},
   "outputs": [],
   "source": [
    "with open(r'C:\\Users\\andrew.morris\\Documents\\GitHub\\murry_code\\Advent of Code\\2020\\Inputs\\day_07.txt', 'r') as file:     \n",
    "    rule_data = file.readlines() \n",
    "with open(r'C:\\Users\\andrew.morris\\Documents\\GitHub\\murry_code\\Advent of Code\\2020\\Inputs\\day_07_sample.txt', 'r') as file:     \n",
    "    sample_rule_data = file.readlines()     "
   ]
  },
  {
   "cell_type": "code",
   "execution_count": 4,
   "metadata": {},
   "outputs": [],
   "source": [
    "def format_inputs(data):\n",
    "    \"\"\"\n",
    "    regex rules\n",
    "    Keys: string start with a word and space. Pattern allowed up to five times. \n",
    "    Wanting string to stop at bag or bags but not returned\n",
    "\n",
    "    Values: 2 capture groups. One for volume one for bag type. \n",
    "    Iterate over the list adding each element to a dict key then append that dict to the main dict as this join method works.\n",
    "    Does mean that extra step required to return bag elements with no other bags as this fails the 'values' rule.\n",
    "    \"\"\"\n",
    "    maindict={}\n",
    "    for i in data:\n",
    "        keys = re.search(r'^((\\w+\\s+){,5})(?:(bags|bag))',i).group(1).rstrip()\n",
    "        values = re.findall(r'(\\d+\\s+)((?:\\w+\\s+){,6})(?:bags|bag)',i)\n",
    "\n",
    "        bag = []\n",
    "        for bags in values:\n",
    "            bag.append({'bag_type':bags[1].strip(),'volume':bags[0].strip()})\n",
    "            maindict[keys]=bag    \n",
    "\n",
    "        if keys not in maindict.keys():\n",
    "            maindict[keys]=[{'bag_type':None,'volume':0}] # adding in instances where bag does not have an inner bag\n",
    "    return maindict"
   ]
  },
  {
   "cell_type": "code",
   "execution_count": 5,
   "metadata": {},
   "outputs": [],
   "source": [
    "def get_bags(data,bag_type,res_list = []):\n",
    "    \n",
    "    bag_type_list=[]\n",
    "    bag_dict = {}    \n",
    "    \n",
    "    for i in data.keys():\n",
    "        bag = data[i]\n",
    "        for items in bag:\n",
    "            if items['bag_type']== bag_type:\n",
    "                bag_type_list.append(i)\n",
    "    \n",
    "    if bag_type_list:     \n",
    "        \n",
    "        for outer_bag in bag_type_list:\n",
    "            if outer_bag not in res_list:\n",
    "                res_list.append(outer_bag)            \n",
    "            get_bags(data,outer_bag,bag_type_list)\n",
    "            \n",
    "        return res_list"
   ]
  },
  {
   "cell_type": "code",
   "execution_count": 6,
   "metadata": {},
   "outputs": [
    {
     "ename": "NameError",
     "evalue": "name 're' is not defined",
     "output_type": "error",
     "traceback": [
      "\u001b[1;31m---------------------------------------------------------------------------\u001b[0m",
      "\u001b[1;31mNameError\u001b[0m                                 Traceback (most recent call last)",
      "\u001b[1;32m<ipython-input-6-7de2a2e03694>\u001b[0m in \u001b[0;36m<module>\u001b[1;34m\u001b[0m\n\u001b[1;32m----> 1\u001b[1;33m \u001b[0mresults\u001b[0m \u001b[1;33m=\u001b[0m \u001b[0mformat_inputs\u001b[0m\u001b[1;33m(\u001b[0m\u001b[0mrule_data\u001b[0m\u001b[1;33m)\u001b[0m\u001b[1;33m\u001b[0m\u001b[1;33m\u001b[0m\u001b[0m\n\u001b[0m",
      "\u001b[1;32m<ipython-input-4-5cd2a9d656c6>\u001b[0m in \u001b[0;36mformat_inputs\u001b[1;34m(data)\u001b[0m\n\u001b[0;32m     11\u001b[0m     \u001b[0mmaindict\u001b[0m\u001b[1;33m=\u001b[0m\u001b[1;33m{\u001b[0m\u001b[1;33m}\u001b[0m\u001b[1;33m\u001b[0m\u001b[1;33m\u001b[0m\u001b[0m\n\u001b[0;32m     12\u001b[0m     \u001b[1;32mfor\u001b[0m \u001b[0mi\u001b[0m \u001b[1;32min\u001b[0m \u001b[0mdata\u001b[0m\u001b[1;33m:\u001b[0m\u001b[1;33m\u001b[0m\u001b[1;33m\u001b[0m\u001b[0m\n\u001b[1;32m---> 13\u001b[1;33m         \u001b[0mkeys\u001b[0m \u001b[1;33m=\u001b[0m \u001b[0mre\u001b[0m\u001b[1;33m.\u001b[0m\u001b[0msearch\u001b[0m\u001b[1;33m(\u001b[0m\u001b[1;34mr'^((\\w+\\s+){,5})(?:(bags|bag))'\u001b[0m\u001b[1;33m,\u001b[0m\u001b[0mi\u001b[0m\u001b[1;33m)\u001b[0m\u001b[1;33m.\u001b[0m\u001b[0mgroup\u001b[0m\u001b[1;33m(\u001b[0m\u001b[1;36m1\u001b[0m\u001b[1;33m)\u001b[0m\u001b[1;33m.\u001b[0m\u001b[0mrstrip\u001b[0m\u001b[1;33m(\u001b[0m\u001b[1;33m)\u001b[0m\u001b[1;33m\u001b[0m\u001b[1;33m\u001b[0m\u001b[0m\n\u001b[0m\u001b[0;32m     14\u001b[0m         \u001b[0mvalues\u001b[0m \u001b[1;33m=\u001b[0m \u001b[0mre\u001b[0m\u001b[1;33m.\u001b[0m\u001b[0mfindall\u001b[0m\u001b[1;33m(\u001b[0m\u001b[1;34mr'(\\d+\\s+)((?:\\w+\\s+){,6})(?:bags|bag)'\u001b[0m\u001b[1;33m,\u001b[0m\u001b[0mi\u001b[0m\u001b[1;33m)\u001b[0m\u001b[1;33m\u001b[0m\u001b[1;33m\u001b[0m\u001b[0m\n\u001b[0;32m     15\u001b[0m \u001b[1;33m\u001b[0m\u001b[0m\n",
      "\u001b[1;31mNameError\u001b[0m: name 're' is not defined"
     ]
    }
   ],
   "source": [
    "results = format_inputs(rule_data)"
   ]
  },
  {
   "cell_type": "code",
   "execution_count": 12,
   "metadata": {},
   "outputs": [],
   "source": [
    "a = get_bags(results,'shiny gold')"
   ]
  },
  {
   "cell_type": "code",
   "execution_count": 14,
   "metadata": {},
   "outputs": [],
   "source": [
    "text = 'shiny gold bags contain 1 dark olive bag, 2 vibrant plum bags.'"
   ]
  },
  {
   "cell_type": "code",
   "execution_count": null,
   "metadata": {},
   "outputs": [],
   "source": [
    "(1,?:1 plum tomato,plum tomato)"
   ]
  },
  {
   "cell_type": "code",
   "execution_count": 52,
   "metadata": {},
   "outputs": [
    {
     "data": {
      "text/plain": [
       "[('1 ', 'dark olive '), ('2 ', 'vibrant plum ')]"
      ]
     },
     "execution_count": 52,
     "metadata": {},
     "output_type": "execute_result"
    }
   ],
   "source": [
    "re.findall(r'(\\d+\\s+)((?:[\\]\\w?\\s+){,2})',text)"
   ]
  },
  {
   "cell_type": "code",
   "execution_count": 43,
   "metadata": {},
   "outputs": [
    {
     "name": "stdout",
     "output_type": "stream",
     "text": [
      "('1 ', 'bright white ')\n",
      "('2 ', 'muted yellow ')\n",
      "('3 ', 'bright white ')\n",
      "('4 ', 'muted yellow ')\n",
      "('1 ', 'shiny gold ')\n",
      "('2 ', 'shiny gold ')\n",
      "('9 ', 'faded blue ')\n",
      "('1 ', 'dark olive ')\n",
      "('2 ', 'vibrant plum ')\n",
      "('3 ', 'faded blue ')\n",
      "('4 ', 'dotted black ')\n",
      "('5 ', 'faded blue ')\n",
      "('6 ', 'dotted black ')\n"
     ]
    }
   ],
   "source": [
    "for i in rules:\n",
    "    for a in re.findall(r'(\\d+\\s+)((?:\\w+\\s+){,2})',i):\n",
    "        print(a)\n"
   ]
  }
 ],
 "metadata": {
  "kernelspec": {
   "display_name": "Python 3",
   "language": "python",
   "name": "python3"
  },
  "language_info": {
   "codemirror_mode": {
    "name": "ipython",
    "version": 3
   },
   "file_extension": ".py",
   "mimetype": "text/x-python",
   "name": "python",
   "nbconvert_exporter": "python",
   "pygments_lexer": "ipython3",
   "version": "3.8.5"
  }
 },
 "nbformat": 4,
 "nbformat_minor": 2
}
