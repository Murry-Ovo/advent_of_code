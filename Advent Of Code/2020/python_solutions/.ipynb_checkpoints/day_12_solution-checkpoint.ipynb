{
 "cells": [
  {
   "cell_type": "markdown",
   "id": "bde64a25",
   "metadata": {},
   "source": [
    "\n",
    "# Day 12\n",
    "[Link to Advent of Code 2020 - Day 12](https://adventofcode.com/2020/day/12)\n",
    "\n",
    "--- Day 12: Rain Risk ---\n",
    "\n",
    "Your ferry made decent progress toward the island, but the storm came in faster than anyone expected. The ferry needs to take evasive actions!\n",
    "\n",
    "Unfortunately, the ship's navigation computer seems to be malfunctioning; rather than giving a route directly to safety, it produced extremely circuitous instructions. When the captain uses the PA system to ask if anyone can help, you quickly volunteer.\n",
    "\n",
    "The navigation instructions (your puzzle input) consists of a sequence of single-character actions paired with integer input values. After staring at them for a few minutes, you work out what they probably mean:\n",
    "\n",
    "- Action N means to move north by the given value.\n",
    "- Action S means to move south by the given value.\n",
    "- Action E means to move east by the given value.\n",
    "- Action W means to move west by the given value.\n",
    "- Action L means to turn left the given number of degrees.\n",
    "- Action R means to turn right the given number of degrees.\n",
    "- Action F means to move forward by the given value in the direction the ship is currently facing.\n",
    "\n",
    "The ship starts by facing east. Only the L and R actions change the direction the ship is facing. (That is, if the ship is facing east and the next instruction is N10, the ship would move north 10 units, but would still move east if the following action were F.)\n",
    "\n",
    "For example:\n",
    "```\n",
    "F10\n",
    "N3\n",
    "F7\n",
    "R90\n",
    "F11\n",
    "```\n",
    "These instructions would be handled as follows:\n",
    "\n",
    "- F10 would move the ship 10 units east (because the ship starts by facing east) to east 10, north 0.\n",
    "- N3 would move the ship 3 units north to east 10, north 3.\n",
    "- F7 would move the ship another 7 units east (because the ship is still facing east) to east 17, north 3.\n",
    "- R90 would cause the ship to turn right by 90 degrees and face south; it remains at east 17, north 3.\n",
    "- F11 would move the ship 11 units south to east 17, south 8.\n",
    "\n",
    "At the end of these instructions, the ship's Manhattan distance (sum of the absolute values of its east/west position and its north/south position) from its starting position is 17 + 8 = 25.\n",
    "\n",
    "Figure out where the navigation instructions lead. What is the Manhattan distance between that location and the ship's starting position?"
   ]
  },
  {
   "cell_type": "code",
   "execution_count": null,
   "id": "c2b3c673",
   "metadata": {},
   "outputs": [],
   "source": [
    "\n",
    "with open('Inputs\\day_12.txt')         as f:puz     = [l.rstrip('\\n').split(' ') for l in f.readlines()]\n",
    "with open('Inputs\\day_12_sample.txt')  as f:sample  = [l.rstrip('\\n').split(' ') for l in f.readlines()]"
   ]
  }
 ],
 "metadata": {
  "kernelspec": {
   "display_name": "Python 3 (ipykernel)",
   "language": "python",
   "name": "python3"
  },
  "language_info": {
   "codemirror_mode": {
    "name": "ipython",
    "version": 3
   },
   "file_extension": ".py",
   "mimetype": "text/x-python",
   "name": "python",
   "nbconvert_exporter": "python",
   "pygments_lexer": "ipython3",
   "version": "3.9.12"
  }
 },
 "nbformat": 4,
 "nbformat_minor": 5
}
