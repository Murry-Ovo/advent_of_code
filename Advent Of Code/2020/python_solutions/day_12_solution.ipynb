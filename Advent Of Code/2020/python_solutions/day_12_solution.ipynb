{
 "cells": [
  {
   "cell_type": "markdown",
   "id": "bde64a25",
   "metadata": {},
   "source": [
    "\n",
    "# Day 12\n",
    "[Link to Advent of Code 2020 - Day 12](https://adventofcode.com/2020/day/12)\n"
   ]
  },
  {
   "cell_type": "code",
   "execution_count": null,
   "id": "c2b3c673",
   "metadata": {},
   "outputs": [],
   "source": [
    "\n",
    "with open('Inputs\\day_12.txt')         as f:puz     = [l.rstrip('\\n').split(' ') for l in f.readlines()]\n",
    "with open('Inputs\\day_12_sample.txt')  as f:sample  = [l.rstrip('\\n').split(' ') for l in f.readlines()]"
   ]
  }
 ],
 "metadata": {},
 "nbformat": 4,
 "nbformat_minor": 5
}
