{
 "cells": [
  {
   "cell_type": "markdown",
   "id": "daa77599",
   "metadata": {},
   "source": [
    "\n",
    "# Day 14\n",
    "[Link to Advent of Code 2020 - Day 14](https://adventofcode.com/2020/day/14)\n"
   ]
  },
  {
   "cell_type": "code",
   "execution_count": null,
   "id": "f55e4df6",
   "metadata": {},
   "outputs": [],
   "source": [
    "\n",
    "with open('Inputs\\day_14.txt')         as f:puz     = [l.rstrip('\\n').split(' ') for l in f.readlines()]\n",
    "with open('Inputs\\day_14_sample.txt')  as f:sample  = [l.rstrip('\\n').split(' ') for l in f.readlines()]"
   ]
  }
 ],
 "metadata": {},
 "nbformat": 4,
 "nbformat_minor": 5
}
