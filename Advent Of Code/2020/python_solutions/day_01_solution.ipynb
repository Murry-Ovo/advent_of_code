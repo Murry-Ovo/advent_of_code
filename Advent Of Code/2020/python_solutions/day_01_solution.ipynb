{
 "cells": [
  {
   "cell_type": "markdown",
   "id": "84fe1bb3",
   "metadata": {},
   "source": [
    "\n",
    "# Day 01 - Report Repair\n",
    "[Link to Advent of Code 2020 - Day 01](https://adventofcode.com/2020/day/1)\n",
    "\n",
    "After saving Christmas five years in a row, you've decided to take a vacation at a nice resort on a tropical island. Surely, Christmas will go on without you.\n",
    "\n",
    "The tropical island has its own currency and is entirely cash-only. The gold coins used there have a little picture of a starfish; the locals just call them stars. None of the currency exchanges seem to have heard of them, but somehow, you'll need to find fifty of these coins by the time you arrive so you can pay the deposit on your room.\n",
    "\n",
    "To save your vacation, you need to get all fifty stars by December 25th.\n",
    "\n",
    "Collect stars by solving puzzles. Two puzzles will be made available on each day in the Advent calendar; the second puzzle is unlocked when you complete the first. Each puzzle grants one star. Good luck!\n",
    "\n",
    "Before you leave, the Elves in accounting just need you to fix your expense report (your puzzle input); apparently, something isn't quite adding up.\n",
    "\n",
    "Specifically, they need you to find the two entries that sum to 2020 and then multiply those two numbers together.\n",
    "\n",
    "For example, suppose your expense report contained the following:\n",
    "```\n",
    "1721\n",
    "979\n",
    "366\n",
    "299\n",
    "675\n",
    "1456\n",
    "```\n",
    "In this list, the two entries that sum to 2020 are 1721 and 299. Multiplying them together produces 1721 * 299 = 514579, so the correct answer is 514579.\n",
    "\n",
    "### Part One\n",
    "\n",
    "Of course, your expense report is much larger. Find the two entries that sum to 2020; what do you get if you multiply them together\n",
    "\n",
    "### Part Two\n",
    "\n",
    "The Elves in accounting are thankful for your help; one of them even offers you a starfish coin they had left over from a past vacation. They offer you a second one if you can find three numbers in your expense report that meet the same criteria.\n",
    "\n",
    "Using the above example again, the three entries that sum to 2020 are 979, 366, and 675. Multiplying them together produces the answer, 241861950.\n",
    "\n",
    "In your expense report, what is the product of the three entries that sum to 2020?"
   ]
  },
  {
   "cell_type": "code",
   "execution_count": 39,
   "id": "0c7c730f",
   "metadata": {
    "scrolled": false
   },
   "outputs": [
    {
     "name": "stdout",
     "output_type": "stream",
     "text": [
      "The 2 numbers which add up to 2020 are: 215 and 1805\n",
      "When multiplied the solution is 388075\n",
      "----------\n",
      "The 3 numbers which add up to 2020 are: 558, 823 and 639\n",
      "When multiplied the solution is 293450526\n"
     ]
    }
   ],
   "source": [
    "with open('Inputs\\day_01.txt')         as f:puz     = [int(i) for i in [l.rstrip('\\n') for l in f.readlines()]]\n",
    "with open('Inputs\\day_01_sample.txt')  as f:sample  = [int(i) for i in [l.rstrip('\\n') for l in f.readlines()]]\n",
    "\n",
    "expense_report = [1721, 979, 366, 299, 675, 1456]\n",
    "\n",
    "# expense_report = sample\n",
    "expense_report = puz\n",
    "\n",
    "part1_solution = 0\n",
    "for entry1 in expense_report:\n",
    "    for entry2 in expense_report[1:]:\n",
    "        check = entry1 + entry2\n",
    "        if check == 2020:\n",
    "            part1_solution = entry1 * entry2\n",
    "            print(f'The 2 numbers which add up to 2020 are: {entry1} and {entry2}')\n",
    "            print(f'When multiplied the solution is {part1_solution}\\n----------')  \n",
    "            break\n",
    "    if part1_solution != 0:\n",
    "        break\n",
    "\n",
    "\n",
    "part2_solution = 0\n",
    "for entry1 in expense_report:\n",
    "    for entry2 in expense_report[1:]:\n",
    "        for entry3 in expense_report[2:]:\n",
    "            check = entry1 + entry2 + entry3\n",
    "            if check == 2020:\n",
    "                part2_solution = entry1 * entry2 * entry3\n",
    "                print(f'The 3 numbers which add up to 2020 are: {entry1}, {entry2} and {entry3}')\n",
    "                print(f'When multiplied the solution is {part2_solution}')  \n",
    "                break\n",
    "        if part2_solution != 0:\n",
    "            break\n",
    "    if part2_solution != 0:\n",
    "        break    \n",
    "    "
   ]
  },
  {
   "cell_type": "code",
   "execution_count": 51,
   "id": "b6abaead",
   "metadata": {},
   "outputs": [
    {
     "name": "stdout",
     "output_type": "stream",
     "text": [
      "\n",
      "The 2 numbers which add up to 2020 are [215, 1805] \n",
      "These multiplied equals: 388075)\n",
      "---------------------------------------------------\n",
      "The 3 numbers which add up to 2020 are [558, 823, 639] \n",
      "These multiplied equals: 293450526)\n",
      "\n"
     ]
    }
   ],
   "source": [
    "def two_entries(expense_report: list) -> tuple:\n",
    "    '''\n",
    "    Function takes a list of numbers (the expense report) and identifies which 2 numbers sum to 2020\n",
    "    Outputs a tuple of the 2 numbers and the product of multiplying these numbers together\n",
    "    '''\n",
    "    for entry1 in expense_report:\n",
    "        for entry2 in expense_report[1:]:\n",
    "            if entry1 + entry2 == 2020:\n",
    "                return [entry1, entry2], entry1 * entry2\n",
    "\n",
    "def three_entries(expense_report: list) -> tuple:\n",
    "    '''\n",
    "    Function takes a list of numbers (the expense report) and identifies which 3 numbers sum to 2020\n",
    "    Outputs a tuple of the 3 numbers and the product of multiplying these numbers together\n",
    "    '''\n",
    "    for entry1 in expense_report:\n",
    "        for entry2 in expense_report[1:]:\n",
    "            for entry3 in expense_report[2:]:\n",
    "                if entry1 + entry2 + entry3 == 2020:\n",
    "                    return [entry1, entry2, entry3], entry1 * entry2 * entry3\n",
    "\n",
    "with open('Inputs\\day_01.txt')         as f:expense_report = [int(i) for i in [l.rstrip('\\n') for l in f.readlines()]]\n",
    "# with open('Inputs\\day_01_sample.txt')  as f:expense_report = [int(i) for i in [l.rstrip('\\n') for l in f.readlines()]]  \n",
    "                          \n",
    "part1_nums, part1_solution = two_entries(expense_report)\n",
    "part2_nums, part2_solution = three_entries(expense_report)\n",
    "\n",
    "print(f'''\n",
    "The 2 numbers which add up to 2020 are {part1_nums} \n",
    "These multiplied equals: {part1_solution})\n",
    "---------------------------------------------------\n",
    "The 3 numbers which add up to 2020 are {part2_nums} \n",
    "These multiplied equals: {part2_solution})\n",
    "''')"
   ]
  }
 ],
 "metadata": {
  "kernelspec": {
   "display_name": "Python 3 (ipykernel)",
   "language": "python",
   "name": "python3"
  },
  "language_info": {
   "codemirror_mode": {
    "name": "ipython",
    "version": 3
   },
   "file_extension": ".py",
   "mimetype": "text/x-python",
   "name": "python",
   "nbconvert_exporter": "python",
   "pygments_lexer": "ipython3",
   "version": "3.9.12"
  }
 },
 "nbformat": 4,
 "nbformat_minor": 5
}
