{
 "cells": [
  {
   "cell_type": "markdown",
   "id": "319f0144",
   "metadata": {},
   "source": [
    "\n",
    "# Day 17\n",
    "[Link to Advent of Code 2020 - Day 17](https://adventofcode.com/2020/day/17)\n"
   ]
  },
  {
   "cell_type": "code",
   "execution_count": null,
   "id": "decdb3d7",
   "metadata": {},
   "outputs": [],
   "source": [
    "\n",
    "with open('Inputs\\day_17.txt')         as f:puz     = [l.rstrip('\\n').split(' ') for l in f.readlines()]\n",
    "with open('Inputs\\day_17_sample.txt')  as f:sample  = [l.rstrip('\\n').split(' ') for l in f.readlines()]"
   ]
  }
 ],
 "metadata": {},
 "nbformat": 4,
 "nbformat_minor": 5
}
