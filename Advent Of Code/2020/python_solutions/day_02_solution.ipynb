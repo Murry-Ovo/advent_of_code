{
 "cells": [
  {
   "cell_type": "markdown",
   "id": "748edbc5",
   "metadata": {},
   "source": [
    "\n",
    "# Day 2: Password Philosophy\n",
    "\n",
    "[Link to Advent of Code 2020 - Day 02](https://adventofcode.com/2020/day/2)\n",
    "\n",
    "Your flight departs in a few days from the coastal airport; the easiest way down to the coast from here is via toboggan.\n",
    "\n",
    "The shopkeeper at the North Pole Toboggan Rental Shop is having a bad day. \"Something's wrong with our computers; we can't log in!\" You ask if you can take a look.\n",
    "\n",
    "Their password database seems to be a little corrupted: some of the passwords wouldn't have been allowed by the Official Toboggan Corporate Policy that was in effect when they were chosen.\n",
    "\n",
    "To try to debug the problem, they have created a list (your puzzle input) of passwords (according to the corrupted database) and the corporate policy when that password was set.\n",
    "\n",
    "For example, suppose you have the following list:\n",
    "```\n",
    "1-3 a: abcde\n",
    "1-3 b: cdefg\n",
    "2-9 c: ccccccccc\n",
    "```\n",
    "\n",
    "Each line gives the password policy and then the password. The password policy indicates the lowest and highest number of times a given letter must appear for the password to be valid. For example, 1-3 a means that the password must contain a at least 1 time and at most 3 times.\n",
    "\n",
    "In the above example, 2 passwords are valid. The middle password, cdefg, is not; it contains no instances of b, but needs at least 1. The first and third passwords are valid: they contain one a or nine c, both within the limits of their respective policies.\n",
    "\n",
    "### Part One\n",
    "\n",
    "How many passwords are valid according to their policies?\n",
    "\n",
    "### Part Two\n",
    "\n",
    "While it appears you validated the passwords correctly, they don't seem to be what the Official Toboggan Corporate Authentication System is expecting.\n",
    "\n",
    "The shopkeeper suddenly realizes that he just accidentally explained the password policy rules from his old job at the sled rental place down the street! The Official Toboggan Corporate Policy actually works a little differently.\n",
    "\n",
    "Each policy actually describes two positions in the password, where 1 means the first character, 2 means the second character, and so on. (Be careful; Toboggan Corporate Policies have no concept of \"index zero\"!) Exactly one of these positions must contain the given letter. Other occurrences of the letter are irrelevant for the purposes of policy enforcement.\n",
    "\n",
    "Given the same example list from above:\n",
    "\n",
    "- 1-3 a: abcde is valid: position 1 contains a and position 3 does not.\n",
    "- 1-3 b: cdefg is invalid: neither position 1 nor position 3 contains b.\n",
    "- 2-9 c: ccccccccc is invalid: both position 2 and position 9 contain c.\n",
    "\n",
    "How many passwords are valid according to the new interpretation of the policies?"
   ]
  },
  {
   "cell_type": "code",
   "execution_count": 75,
   "id": "0f328d3e",
   "metadata": {
    "scrolled": true
   },
   "outputs": [
    {
     "name": "stdout",
     "output_type": "stream",
     "text": [
      "Part One: the count of valid password entries is: 517\n",
      "Part Two: the count of valid password entries is: 284\n"
     ]
    }
   ],
   "source": [
    "def parse_pass_entry(password_entry: list) -> 'list(range_min, range_max, check_char, password)':\n",
    "    '''\n",
    "    A Function to parse a password entry to turn this:\n",
    "        ['1-3', 'a:', 'abcde']\n",
    "    Into this:\n",
    "        [1, 3, 'a', 'abcde']\n",
    "    '''\n",
    "    # Split the range into min and max values\n",
    "    range_min, range_max = [int(value) for value in entry[0].split('-')]\n",
    "    # Remove the colon, leaving only the check character\n",
    "    check_char = entry[1].replace(':', '')\n",
    "    # Extract the password\n",
    "    password = entry[2]\n",
    "    \n",
    "    return range_min, range_max, check_char, password\n",
    "\n",
    "# with open('Inputs\\day_02_sample.txt')  as f:password_list = [l.rstrip('\\n').split(' ') for l in f.readlines()]\n",
    "with open('Inputs\\day_02.txt')         as f:password_list = [l.rstrip('\\n').split(' ') for l in f.readlines()]\n",
    "\n",
    "pt1_valid_pass_count = 0\n",
    "pt2_valid_pass_count = 0\n",
    "\n",
    "# Iterate over each password entry in the password list\n",
    "for entry in password_list:\n",
    "    range_min, range_max, check_char, password = parse_pass_entry(entry)\n",
    "    \n",
    "    # Check if the count of the check value in the password is within the specified range & increment the valid password count\n",
    "    pt1_valid_pass_count += 1 if range_min <= password.count(check_char) <= range_max else 0\n",
    "    \n",
    "    # Check if the count of the check character in the positions of range_min, range_max equals exactly 1\n",
    "    pt2_check = password[range_min-1] + password[range_max-1]\n",
    "    pt2_valid_pass_count += 1 if pt2_check.count(check_char) == 1 else 0\n",
    "    \n",
    "    \n",
    "print(f'Part One: the count of valid password entries is: {pt1_valid_pass_count}')\n",
    "print(f'Part Two: the count of valid password entries is: {pt2_valid_pass_count}')"
   ]
  },
  {
   "cell_type": "code",
   "execution_count": 74,
   "id": "d2416093",
   "metadata": {},
   "outputs": [
    {
     "name": "stdout",
     "output_type": "stream",
     "text": [
      "Part One: the count of valid password entries is: 517\n",
      "Part Two: the count of valid password entries is: 284\n"
     ]
    }
   ],
   "source": [
    "def parse_pass_entry(password_entry: list) -> 'list(range_min, range_max, check_char, password)':\n",
    "    '''\n",
    "    A Function to parse a password entry to turn this:\n",
    "        '1-3 a: abcde'\n",
    "    Into this:\n",
    "        [1, 3, 'a', 'abcde']\n",
    "    '''\n",
    "    import re\n",
    "\n",
    "    # Define the regular expression pattern\n",
    "    pattern = r'^(\\d+)-(\\d+)\\s+(\\w+):\\s+(\\w+)$'\n",
    "\n",
    "    # Use re.match to find the matches in the input string\n",
    "    match = re.match(pattern, password_entry)\n",
    "\n",
    "    if match:\n",
    "        # Extract the groups from the match object\n",
    "        range_min = int(match.group(1))\n",
    "        range_max = int(match.group(2))\n",
    "        check_char = match.group(3)\n",
    "        password = match.group(4)\n",
    "    else:\n",
    "        print(f'No regex match found in string: {password_entry}')\n",
    "    \n",
    "    return range_min, range_max, check_char, password\n",
    "\n",
    "with open('Inputs\\day_02.txt')         as f:puz     = [l.rstrip('\\n') for l in f.readlines()]\n",
    "with open('Inputs\\day_02_sample.txt')  as f:sample  = [l.rstrip('\\n') for l in f.readlines()]\n",
    "    \n",
    "password_list = sample\n",
    "password_list = puz\n",
    "\n",
    "pt1_valid_pass_count = 0\n",
    "pt2_valid_pass_count = 0\n",
    "\n",
    "# Iterate over each password entry in the password list\n",
    "for entry in password_list:\n",
    "    range_min, range_max, check_char, password = parse_pass_entry(entry)\n",
    "    \n",
    "    # Check if the count of the check value in the password is within the specified range & increment the valid password count\n",
    "    pt1_valid_pass_count += 1 if range_min <= password.count(check_char) <= range_max else 0\n",
    "    \n",
    "    # Check if the count of the check character in the positions of range_min, range_max equals exactly 1\n",
    "    pt2_check = password[range_min-1] + password[range_max-1]\n",
    "    pt2_valid_pass_count += 1 if pt2_check.count(check_char) == 1 else 0\n",
    "    \n",
    "    \n",
    "print(f'Part One: the count of valid password entries is: {pt1_valid_pass_count}')\n",
    "print(f'Part Two: the count of valid password entries is: {pt2_valid_pass_count}')"
   ]
  },
  {
   "cell_type": "code",
   "execution_count": null,
   "id": "2942a7f5",
   "metadata": {},
   "outputs": [],
   "source": [
    "#pattern matching using string unapply (using f string)"
   ]
  }
 ],
 "metadata": {
  "kernelspec": {
   "display_name": "Python 3 (ipykernel)",
   "language": "python",
   "name": "python3"
  },
  "language_info": {
   "codemirror_mode": {
    "name": "ipython",
    "version": 3
   },
   "file_extension": ".py",
   "mimetype": "text/x-python",
   "name": "python",
   "nbconvert_exporter": "python",
   "pygments_lexer": "ipython3",
   "version": "3.9.12"
  }
 },
 "nbformat": 4,
 "nbformat_minor": 5
}
