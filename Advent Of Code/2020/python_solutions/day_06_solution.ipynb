{
 "cells": [
  {
   "cell_type": "markdown",
   "id": "3ccc737b",
   "metadata": {},
   "source": [
    "\n",
    "# Day 06\n",
    "[Link to Advent of Code 2020 - Day 06](https://adventofcode.com/2020/day/6)\n",
    "### Custom Customs\n",
    "As your flight approaches the regional airport where you'll switch to a much larger plane, customs declaration forms are distributed to the passengers.\n",
    "\n",
    "The form asks a series of 26 yes-or-no questions marked a through z. All you need to do is identify the questions for which anyone in your group answers \"yes\". Since your group is just you, this doesn't take very long.\n",
    "\n",
    "However, the person sitting next to you seems to be experiencing a language barrier and asks if you can help. For each of the people in their group, you write down the questions for which they answer \"yes\", one per line. For example:\n",
    "```\n",
    "abcx\n",
    "abcy\n",
    "abcz\n",
    "```\n",
    "In this group, there are 6 questions to which anyone answered \"yes\": a, b, c, x, y, and z. (Duplicate answers to the same question don't count extra; each question counts at most once.)\n",
    "\n",
    "Another group asks for your help, then another, and eventually you've collected answers from every group on the plane (your puzzle input). Each group's answers are separated by a blank line, and within each group, each person's answers are on a single line. For example:\n",
    "```\n",
    "abc\n",
    "\n",
    "a\n",
    "b\n",
    "c\n",
    "\n",
    "ab\n",
    "ac\n",
    "\n",
    "a\n",
    "a\n",
    "a\n",
    "a\n",
    "\n",
    "b\n",
    "```\n",
    "This list represents answers from five groups:\n",
    "\n",
    "- The first group contains one person who answered \"yes\" to 3 questions: a, b, and c.\n",
    "- The second group contains three people; combined, they answered \"yes\" to 3 questions: a, b, and c.\n",
    "- The third group contains two people; combined, they answered \"yes\" to 3 questions: a, b, and c.\n",
    "- The fourth group contains four people; combined, they answered \"yes\" to only 1 question, a.\n",
    "- The last group contains one person who answered \"yes\" to only 1 question, b.\n",
    "\n",
    "In this example, the sum of these counts is `3 + 3 + 3 + 1 + 1 = 11`.\n",
    "\n",
    "### Part One\n",
    "\n",
    "For each group, count the number of questions to which anyone answered \"yes\". What is the sum of those counts?\n",
    "\n",
    "### Part Two\n",
    "\n",
    "\n",
    "As you finish the last group's customs declaration, you notice that you misread one word in the instructions:\n",
    "\n",
    "You don't need to identify the questions to which anyone answered \"yes\"; you need to identify the questions to which everyone answered \"yes\"!\n",
    "\n",
    "Using the same example as above:\n",
    "```\n",
    "abc\n",
    "\n",
    "a\n",
    "b\n",
    "c\n",
    "\n",
    "ab\n",
    "ac\n",
    "\n",
    "a\n",
    "a\n",
    "a\n",
    "a\n",
    "\n",
    "b\n",
    "```\n",
    "This list represents answers from five groups:\n",
    "\n",
    "- In the first group, everyone (all 1 person) answered \"yes\" to 3 questions: a, b, and c.\n",
    "- In the second group, there is no question to which everyone answered \"yes\".\n",
    "- In the third group, everyone answered yes to only 1 question, a. Since some people did not answer \"yes\" to b or c, they don't count.\n",
    "- In the fourth group, everyone answered yes to only 1 question, a.\n",
    "- In the fifth group, everyone (all 1 person) answered \"yes\" to 1 question, b.\n",
    "\n",
    "In this example, the sum of these counts is `3 + 0 + 1 + 1 + 1 = 6`.\n",
    "\n",
    "For each group, count the number of questions to which everyone answered \"yes\". What is the sum of those counts?\n"
   ]
  },
  {
   "cell_type": "code",
   "execution_count": 59,
   "id": "9df4439b",
   "metadata": {
    "scrolled": true
   },
   "outputs": [
    {
     "name": "stdout",
     "output_type": "stream",
     "text": [
      "Part One: 11, Part Two 6\n",
      "Part One: 6416, Part Two 3050\n"
     ]
    }
   ],
   "source": [
    "def parse_input(path:str) -> list:\n",
    "    '''\n",
    "    - Opens the file for the path passed nito the function\n",
    "    - Iterates over the file splitting into sub lists\n",
    "    - Each sublist has represents a group of people, with the element being a string of letters which \n",
    "      each person answered yes to on a form person's form responses  \n",
    "    '''\n",
    "    with open(path) as f: \n",
    "        puz = [l.split() for l in [group for group in f.read().split('\\n\\n')]]\n",
    "\n",
    "    return puz\n",
    "    \n",
    "\n",
    "\n",
    "def solution(path:str) -> 'print statement':\n",
    "    '''\n",
    "    Solves both parts one and parts 2 by incrementing counters for both\n",
    "        - Pt1 -> Counts one for each distinct character /yes  answer in each group\n",
    "        - Pt2 -> Counts one for each character which is common across each person in each group \n",
    "    '''\n",
    "    groups = parse_input(path)\n",
    "\n",
    "    pt1_counts = 0\n",
    "    pt2_counts = 0\n",
    "\n",
    "    for group in groups:\n",
    "        \n",
    "        # pt1\n",
    "        # Combine all \"yes\" answer from each person into one set of distinct values\n",
    "        distinct_values = set(''.join(group))\n",
    "        pt1_counts += len(distinct_values)\n",
    "\n",
    "        #pt2\n",
    "        # Convert each persons \"yes\" answers in the group to individual sets\n",
    "        sets = [set(element) for element in group]\n",
    "\n",
    "        # Perform intersection on all the sets in each group to find the common characters\n",
    "        common_characters = set.intersection(*sets)\n",
    "        pt2_counts += len(common_characters)\n",
    "        \n",
    "    print(f'Part One: {pt1_counts}, Part Two {pt2_counts}')\n",
    "\n",
    "path = 'Inputs\\day_06.txt'\n",
    "sample_path = 'Inputs\\day_06_sample.txt'\n",
    "\n",
    "solution(sample_path)\n",
    "solution(path)\n"
   ]
  },
  {
   "cell_type": "markdown",
   "id": "b7aa1c96",
   "metadata": {},
   "source": [
    "### More disgusting code golf"
   ]
  },
  {
   "cell_type": "code",
   "execution_count": 55,
   "id": "46573108",
   "metadata": {},
   "outputs": [
    {
     "name": "stdout",
     "output_type": "stream",
     "text": [
      "6416 3050\n"
     ]
    }
   ],
   "source": [
    "with open('Inputs\\day_06.txt') as f: gs = [l.split() for l in [g for g in f.read().split('\\n\\n')]]\n",
    "print(sum([len(set(''.join(yeses))) for yeses in gs]), sum(len(set.intersection(*[set(yeses) for yeses in g])) for g in gs))"
   ]
  }
 ],
 "metadata": {
  "kernelspec": {
   "display_name": "Python 3 (ipykernel)",
   "language": "python",
   "name": "python3"
  },
  "language_info": {
   "codemirror_mode": {
    "name": "ipython",
    "version": 3
   },
   "file_extension": ".py",
   "mimetype": "text/x-python",
   "name": "python",
   "nbconvert_exporter": "python",
   "pygments_lexer": "ipython3",
   "version": "3.9.12"
  }
 },
 "nbformat": 4,
 "nbformat_minor": 5
}
