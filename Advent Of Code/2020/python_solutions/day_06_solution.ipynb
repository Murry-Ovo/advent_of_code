{
 "cells": [
  {
   "cell_type": "markdown",
   "id": "3ccc737b",
   "metadata": {},
   "source": [
    "\n",
    "# Day 06\n",
    "[Link to Advent of Code 2020 - Day 06](https://adventofcode.com/2020/day/6)\n"
   ]
  },
  {
   "cell_type": "code",
   "execution_count": null,
   "id": "9df4439b",
   "metadata": {},
   "outputs": [],
   "source": [
    "\n",
    "with open('Inputs\\day_06.txt')         as f:puz     = [l.rstrip('\\n').split(' ') for l in f.readlines()]\n",
    "with open('Inputs\\day_06_sample.txt')  as f:sample  = [l.rstrip('\\n').split(' ') for l in f.readlines()]"
   ]
  }
 ],
 "metadata": {},
 "nbformat": 4,
 "nbformat_minor": 5
}
