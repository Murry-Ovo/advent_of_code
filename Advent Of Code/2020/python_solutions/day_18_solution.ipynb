{
 "cells": [
  {
   "cell_type": "markdown",
   "id": "13618f51",
   "metadata": {},
   "source": [
    "\n",
    "# Day 18\n",
    "[Link to Advent of Code 2020 - Day 18](https://adventofcode.com/2020/day/18)\n"
   ]
  },
  {
   "cell_type": "code",
   "execution_count": null,
   "id": "af67415b",
   "metadata": {},
   "outputs": [],
   "source": [
    "\n",
    "with open('Inputs\\day_18.txt')         as f:puz     = [l.rstrip('\\n').split(' ') for l in f.readlines()]\n",
    "with open('Inputs\\day_18_sample.txt')  as f:sample  = [l.rstrip('\\n').split(' ') for l in f.readlines()]"
   ]
  }
 ],
 "metadata": {},
 "nbformat": 4,
 "nbformat_minor": 5
}
