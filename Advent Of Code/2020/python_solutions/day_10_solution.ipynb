{
 "cells": [
  {
   "cell_type": "markdown",
   "id": "96e79ac3",
   "metadata": {},
   "source": [
    "\n",
    "# Day 10\n",
    "[Link to Advent of Code 2020 - Day 10](https://adventofcode.com/2020/day/10)\n"
   ]
  },
  {
   "cell_type": "code",
   "execution_count": null,
   "id": "3d646f96",
   "metadata": {},
   "outputs": [],
   "source": [
    "\n",
    "with open('Inputs\\day_10.txt')         as f:puz     = [l.rstrip('\\n').split(' ') for l in f.readlines()]\n",
    "with open('Inputs\\day_10_sample.txt')  as f:sample  = [l.rstrip('\\n').split(' ') for l in f.readlines()]"
   ]
  }
 ],
 "metadata": {},
 "nbformat": 4,
 "nbformat_minor": 5
}
