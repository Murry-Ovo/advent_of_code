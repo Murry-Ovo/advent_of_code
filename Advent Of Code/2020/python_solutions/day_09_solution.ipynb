{
 "cells": [
  {
   "cell_type": "markdown",
   "id": "bda63590",
   "metadata": {},
   "source": [
    "\n",
    "# Day 09\n",
    "[Link to Advent of Code 2020 - Day 09](https://adventofcode.com/2020/day/9)\n"
   ]
  },
  {
   "cell_type": "code",
   "execution_count": null,
   "id": "db69e407",
   "metadata": {},
   "outputs": [],
   "source": [
    "\n",
    "with open('Inputs\\day_09.txt')         as f:puz     = [l.rstrip('\\n').split(' ') for l in f.readlines()]\n",
    "with open('Inputs\\day_09_sample.txt')  as f:sample  = [l.rstrip('\\n').split(' ') for l in f.readlines()]"
   ]
  }
 ],
 "metadata": {},
 "nbformat": 4,
 "nbformat_minor": 5
}
