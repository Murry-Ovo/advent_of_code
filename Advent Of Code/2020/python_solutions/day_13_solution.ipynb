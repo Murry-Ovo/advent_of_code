{
 "cells": [
  {
   "cell_type": "markdown",
   "id": "043d508e",
   "metadata": {},
   "source": [
    "\n",
    "# Day 13\n",
    "[Link to Advent of Code 2020 - Day 13](https://adventofcode.com/2020/day/13)\n"
   ]
  },
  {
   "cell_type": "code",
   "execution_count": null,
   "id": "6b8c19e2",
   "metadata": {},
   "outputs": [],
   "source": [
    "\n",
    "with open('Inputs\\day_13.txt')         as f:puz     = [l.rstrip('\\n').split(' ') for l in f.readlines()]\n",
    "with open('Inputs\\day_13_sample.txt')  as f:sample  = [l.rstrip('\\n').split(' ') for l in f.readlines()]"
   ]
  }
 ],
 "metadata": {},
 "nbformat": 4,
 "nbformat_minor": 5
}
