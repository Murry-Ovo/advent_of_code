{
 "cells": [
  {
   "cell_type": "markdown",
   "id": "86e8b51a",
   "metadata": {},
   "source": [
    "\n",
    "# Day 16\n",
    "[Link to Advent of Code 2020 - Day 16](https://adventofcode.com/2020/day/16)\n"
   ]
  },
  {
   "cell_type": "code",
   "execution_count": 71,
   "id": "d976b282",
   "metadata": {},
   "outputs": [],
   "source": [
    "with open('Inputs\\day_16.txt')         as f:puz     = f.read()\n",
    "with open('Inputs\\day_16_sample.txt')  as f:sample  = f.read()"
   ]
  },
  {
   "cell_type": "code",
   "execution_count": 78,
   "id": "a4d08d8b",
   "metadata": {},
   "outputs": [
    {
     "data": {
      "text/plain": [
       "54"
      ]
     },
     "execution_count": 78,
     "metadata": {},
     "output_type": "execute_result"
    }
   ],
   "source": [
    "def parse_input(input_string: str) -> 'tuple(dict, list, list)':\n",
    "    '''\n",
    "    Parses the input file and outputs a tuple containing 3 elements:\n",
    "        1. Rules, a dict containing:\n",
    "            - The rule type (field name) as the key (e.g. 'class', 'route', etc...)\n",
    "            - The values are 2 ranges as a list of tuples, each tuple being 2 ints, e.g. [(1,3), (5,7)]\n",
    "        2. My Ticket, a list of ints representing the field values for my ticket\n",
    "    '''\n",
    "    # Split the input into sections\n",
    "    sections = input_string.strip().split('\\n\\n')\n",
    "\n",
    "    # Parse the rules section\n",
    "    rules_text = sections[0]\n",
    "    rules = {}\n",
    "    for line in rules_text.split('\\n'):\n",
    "        field, ranges = line.split(': ')\n",
    "        range1, range2 = ranges.split(' or ')\n",
    "        min1, max1 = map(int, range1.split('-'))\n",
    "        min2, max2 = map(int, range2.split('-'))\n",
    "        rules[field] = [(min1, max1), (min2, max2)]\n",
    "\n",
    "    # Parse my ticket\n",
    "    my_ticket_text = sections[1]\n",
    "    my_ticket = list(map(int, my_ticket_text.split('\\n')[1].split(',')))\n",
    "\n",
    "    # Parse nearby tickets\n",
    "    nearby_tickets_text = sections[2]\n",
    "    nearby_tickets_lines = nearby_tickets_text.split('\\n')[1:]\n",
    "    nearby_tickets = [list(map(int, line.split(','))) for line in nearby_tickets_lines]\n",
    "    \n",
    "    return rules, my_ticket, nearby_tickets\n",
    "\n",
    "\n",
    "def is_ticket_valid(ticket, rules):\n",
    "    '''\n",
    "    Lotsa nested for loops!\n",
    "        - Iterates through each number in a ticket and sets the default validity to False\n",
    "        - Iterates through each entry in the dict \n",
    "        - Turns the values into ranges \n",
    "        - Then checks to see if the number is in any of the ranges, \n",
    "            - Breaks out of funtion and returns 'True'\n",
    "        - returns False if no number from the ticket is in any of the ranges\n",
    "    '''\n",
    "    for number in ticket:\n",
    "        valid = False\n",
    "        for rule_ranges in rules.values():\n",
    "            for range_min, range_max in rule_ranges:\n",
    "                if range_min <= number <= range_max:\n",
    "                    valid = True\n",
    "                    break\n",
    "            if valid:\n",
    "                break\n",
    "        if not valid:\n",
    "            return False\n",
    "    return True\n",
    "\n",
    "rules, my_ticket, nearby_tickets = parse_input(puz)\n",
    "\n",
    "invalid_tickets = 0\n",
    "\n",
    "for ticket in nearby_tickets:\n",
    "    if is_ticket_valid(ticket, rules) == False:\n",
    "        invalid_tickets += 1\n",
    "        \n",
    "invalid_tickets"
   ]
  },
  {
   "cell_type": "code",
   "execution_count": 72,
   "id": "4156c35d",
   "metadata": {
    "scrolled": false
   },
   "outputs": [
    {
     "name": "stdout",
     "output_type": "stream",
     "text": [
      "Rules:\n",
      "    class [(1, 3), (5, 7)]\n",
      "    row [(6, 11), (33, 44)]\n",
      "    seat [(13, 40), (45, 50)]\n",
      "my_ticket: \n",
      "    [7, 1, 14]\n",
      "nearby_tickets: \n",
      "    [[7, 3, 47], [40, 4, 50], [55, 2, 20], [38, 6, 12]]\n"
     ]
    }
   ],
   "source": [
    "\n",
    "def parse_input(input_string: str) -> 'tuple(dict, list, list)':\n",
    "    '''\n",
    "    Parses the input file and outputs a tuple containing 3 elements:\n",
    "        1. Rules, a dict containing:\n",
    "            - The rule type (field name) as the key (e.g. 'class', 'route', etc...)\n",
    "            - The values are 2 ranges as a list of tuples, each tuple being 2 ints, e.g. [(1,3), (5,7)]\n",
    "        2. My Ticket, a list of ints representing the field values for my ticket\n",
    "        3. Mearby tickets, a list of lists of ints, each sublist is in the same format as my ticket \n",
    "    '''\n",
    "    # Split the input into sections\n",
    "    sections = input_text.strip().split('\\n\\n')\n",
    "\n",
    "    # Parse the rules section\n",
    "    rules_text = sections[0]\n",
    "    rules = {}\n",
    "    for line in rules_text.split('\\n'):\n",
    "        field, ranges = line.split(': ')\n",
    "        range1, range2 = ranges.split(' or ')\n",
    "        min1, max1 = map(int, range1.split('-'))\n",
    "        min2, max2 = map(int, range2.split('-'))\n",
    "        rules[field] = [(min1, max1), (min2, max2)]\n",
    "\n",
    "    # Parse my ticket\n",
    "    my_ticket_text = sections[1]\n",
    "    my_ticket = list(map(int, my_ticket_text.split('\\n')[1].split(',')))\n",
    "\n",
    "    # Parse nearby tickets\n",
    "    nearby_tickets_text = sections[2]\n",
    "    nearby_tickets_lines = nearby_tickets_text.split('\\n')[1:]\n",
    "    nearby_tickets = [list(map(int, line.split(','))) for line in nearby_tickets_lines]\n",
    "    \n",
    "    return rules, my_ticket, nearby_tickets\n",
    "    \n",
    "rules, my_ticket, nearby_tickets = parse_input(puz)\n",
    "\n",
    "print('Rules:')\n",
    "for k, v in rules.items():\n",
    "    print('   ', k, v)\n",
    "print(f'my_ticket: \\n    {my_ticket}')\n",
    "print(f'nearby_tickets: \\n    {nearby_tickets}')"
   ]
  },
  {
   "cell_type": "code",
   "execution_count": 52,
   "id": "10b10ca2",
   "metadata": {
    "scrolled": false
   },
   "outputs": [
    {
     "name": "stdout",
     "output_type": "stream",
     "text": [
      "7\n",
      "3\n",
      "47\n",
      "---\n",
      "40\n",
      "4\n",
      "50\n",
      "---\n",
      "55\n",
      "2\n",
      "20\n",
      "---\n",
      "38\n",
      "6\n",
      "12\n",
      "---\n"
     ]
    }
   ],
   "source": [
    "def is_number_in_ranges(ticket, rules):\n",
    "    '''\n",
    "    - Iterates through each entry in the dict \n",
    "    - Turns the values into ranges \n",
    "    - Then checks to see if the number is in any of the ranges, \n",
    "        - Breaks out of funtion and returns 'True' \n",
    "    '''\n",
    "    for number in ticket:\n",
    "        for key, ranges in ranges_dict.items():\n",
    "            for range_min, range_max in ranges:\n",
    "                if range_min <= number <= range_max:\n",
    "                    return True\n",
    "    return False\n",
    "\n",
    "invalid_tickets = []\n",
    "\n",
    "for ticket in nearby_tickets:\n",
    "    valid_count = 0\n",
    "    for field in ticket:\n",
    "        if is_number_in_ranges(field_number = field, rules = rules)\n",
    "        \n",
    "    print('---')"
   ]
  },
  {
   "cell_type": "code",
   "execution_count": 64,
   "id": "d5e6597e",
   "metadata": {},
   "outputs": [
    {
     "data": {
      "text/plain": [
       "{'class': [(1, 3), (5, 7)],\n",
       " 'row': [(6, 11), (33, 44)],\n",
       " 'seat': [(13, 40), (45, 50)]}"
      ]
     },
     "execution_count": 64,
     "metadata": {},
     "output_type": "execute_result"
    }
   ],
   "source": [
    "rules"
   ]
  },
  {
   "cell_type": "code",
   "execution_count": 67,
   "id": "8e27a94d",
   "metadata": {},
   "outputs": [
    {
     "name": "stdout",
     "output_type": "stream",
     "text": [
      "7\n",
      "3\n",
      "47\n",
      "False\n",
      "40\n",
      "4\n",
      "50\n",
      "False\n"
     ]
    }
   ],
   "source": [
    "def is_ticket_valid(ticket, rules):\n",
    "    '''\n",
    "    Lotsa nested for loops!\n",
    "        - Iterates through each number in a ticket and sets the default validity to False\n",
    "        - Iterates through each entry in the dict \n",
    "        - Turns the values into ranges \n",
    "        - Then checks to see if the number is in any of the ranges, \n",
    "            - Breaks out of funtion and returns 'True'\n",
    "        - returns False if no number from the ticket is in any of the ranges\n",
    "    '''\n",
    "    for number in ticket:\n",
    "        valid = False\n",
    "        for rule_ranges in rules.values():\n",
    "            for range_min, range_max in rule_ranges:\n",
    "                if range_min <= number <= range_max:\n",
    "                    valid = True\n",
    "                    break\n",
    "            if valid:\n",
    "                break\n",
    "        if not valid:\n",
    "            return False\n",
    "    return True\n",
    "\n",
    "rules = {\n",
    "    'class': [(1, 3), (5, 7)],\n",
    "     'row': [(6, 11), (33, 44)],\n",
    "     'seat': [(13, 40), (45, 50)]}\n",
    "\n",
    "valid_ticket = [7,3,47]\n",
    "invalid_ticket = [40,4,50]\n",
    "\n",
    "print(is_number_in_ranges(valid_ticket, rules))\n",
    "print(is_number_in_ranges(invalid_ticket, rules))"
   ]
  },
  {
   "cell_type": "code",
   "execution_count": 69,
   "id": "04f7ac33",
   "metadata": {},
   "outputs": [
    {
     "name": "stdout",
     "output_type": "stream",
     "text": [
      "True\n",
      "True\n",
      "False\n",
      "False\n",
      "False\n"
     ]
    }
   ],
   "source": [
    "def is_ticket_valid(ticket, rules):\n",
    "    '''\n",
    "    Lotsa nested for loops!\n",
    "        - Iterates through each number in a ticket and sets the default validity to False\n",
    "        - Iterates through each entry in the dict \n",
    "        - Turns the values into ranges \n",
    "        - Then checks to see if the number is in any of the ranges, \n",
    "            - Breaks out of funtion and returns 'True'\n",
    "        - returns False if no number from the ticket is in any of the ranges\n",
    "    '''\n",
    "    for number in ticket:\n",
    "        valid = False\n",
    "        for rule_ranges in rules.values():\n",
    "            for range_min, range_max in rule_ranges:\n",
    "                if range_min <= number <= range_max:\n",
    "                    valid = True\n",
    "                    break\n",
    "            if valid:\n",
    "                break\n",
    "        if not valid:\n",
    "            return False\n",
    "    return True\n",
    "\n",
    "rules = {\n",
    "    'class': [(1, 3), (5, 7)],\n",
    "    'row': [(6, 11), (33, 44)],\n",
    "    'seat': [(13, 40), (45, 50)]\n",
    "}\n",
    "\n",
    "valid_ticket  = [7,3,47]\n",
    "valid_ticket2 = [2,33,46]\n",
    "\n",
    "invalid_ticket  = [40,4,50]\n",
    "invalid_ticket2 = [55,2,20]\n",
    "invalid_ticket3 = [38,6,12]\n",
    "\n",
    "\n",
    "print(is_ticket_valid(valid_ticket, rules))   # Should return True\n",
    "print(is_ticket_valid(valid_ticket2, rules)) # Should return True\n",
    "print(is_ticket_valid(invalid_ticket, rules))   # Should return False\n",
    "print(is_ticket_valid(invalid_ticket2, rules)) # Should return False\n",
    "print(is_ticket_valid(invalid_ticket3, rules))   # Should return False\n"
   ]
  }
 ],
 "metadata": {
  "kernelspec": {
   "display_name": "Python 3 (ipykernel)",
   "language": "python",
   "name": "python3"
  },
  "language_info": {
   "codemirror_mode": {
    "name": "ipython",
    "version": 3
   },
   "file_extension": ".py",
   "mimetype": "text/x-python",
   "name": "python",
   "nbconvert_exporter": "python",
   "pygments_lexer": "ipython3",
   "version": "3.9.12"
  }
 },
 "nbformat": 4,
 "nbformat_minor": 5
}
