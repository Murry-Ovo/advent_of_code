{
 "cells": [
  {
   "cell_type": "markdown",
   "id": "86e8b51a",
   "metadata": {},
   "source": [
    "\n",
    "# Day 16\n",
    "[Link to Advent of Code 2020 - Day 16](https://adventofcode.com/2020/day/16)\n"
   ]
  },
  {
   "cell_type": "code",
   "execution_count": null,
   "id": "d976b282",
   "metadata": {},
   "outputs": [],
   "source": [
    "\n",
    "with open('Inputs\\day_16.txt')         as f:puz     = [l.rstrip('\\n').split(' ') for l in f.readlines()]\n",
    "with open('Inputs\\day_16_sample.txt')  as f:sample  = [l.rstrip('\\n').split(' ') for l in f.readlines()]"
   ]
  }
 ],
 "metadata": {},
 "nbformat": 4,
 "nbformat_minor": 5
}
