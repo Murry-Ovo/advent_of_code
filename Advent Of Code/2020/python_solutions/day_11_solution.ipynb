{
 "cells": [
  {
   "cell_type": "markdown",
   "id": "5ede4fbe",
   "metadata": {},
   "source": [
    "\n",
    "# Day 11\n",
    "[Link to Advent of Code 2020 - Day 11](https://adventofcode.com/2020/day/11)\n"
   ]
  },
  {
   "cell_type": "code",
   "execution_count": null,
   "id": "36085392",
   "metadata": {},
   "outputs": [],
   "source": [
    "\n",
    "with open('Inputs\\day_11.txt')         as f:puz     = [l.rstrip('\\n').split(' ') for l in f.readlines()]\n",
    "with open('Inputs\\day_11_sample.txt')  as f:sample  = [l.rstrip('\\n').split(' ') for l in f.readlines()]"
   ]
  }
 ],
 "metadata": {},
 "nbformat": 4,
 "nbformat_minor": 5
}
