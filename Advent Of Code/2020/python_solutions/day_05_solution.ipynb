{
 "cells": [
  {
   "cell_type": "markdown",
   "id": "dc9323de",
   "metadata": {},
   "source": [
    "\n",
    "# Day 05\n",
    "[Link to Advent of Code 2020 - Day 05](https://adventofcode.com/2020/day/5)\n"
   ]
  },
  {
   "cell_type": "code",
   "execution_count": null,
   "id": "fc1d729b",
   "metadata": {},
   "outputs": [],
   "source": [
    "\n",
    "with open('Inputs\\day_05.txt')         as f:puz     = [l.rstrip('\\n').split(' ') for l in f.readlines()]\n",
    "with open('Inputs\\day_05_sample.txt')  as f:sample  = [l.rstrip('\\n').split(' ') for l in f.readlines()]"
   ]
  }
 ],
 "metadata": {},
 "nbformat": 4,
 "nbformat_minor": 5
}
