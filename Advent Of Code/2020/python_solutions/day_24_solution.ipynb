{
 "cells": [
  {
   "cell_type": "markdown",
   "id": "80b13ec9",
   "metadata": {},
   "source": [
    "\n",
    "# Day 24\n",
    "[Link to Advent of Code 2020 - Day 24](https://adventofcode.com/2020/day/24)\n"
   ]
  },
  {
   "cell_type": "code",
   "execution_count": null,
   "id": "7398c0f2",
   "metadata": {},
   "outputs": [],
   "source": [
    "\n",
    "with open('Inputs\\day_24.txt')         as f:puz     = [l.rstrip('\\n').split(' ') for l in f.readlines()]\n",
    "with open('Inputs\\day_24_sample.txt')  as f:sample  = [l.rstrip('\\n').split(' ') for l in f.readlines()]"
   ]
  }
 ],
 "metadata": {},
 "nbformat": 4,
 "nbformat_minor": 5
}
