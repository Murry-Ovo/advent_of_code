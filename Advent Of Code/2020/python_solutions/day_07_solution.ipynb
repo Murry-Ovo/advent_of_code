{
 "cells": [
  {
   "cell_type": "markdown",
   "metadata": {},
   "source": [
    "### Import Input File and Libraries"
   ]
  },
  {
   "cell_type": "code",
   "execution_count": 16,
   "metadata": {},
   "outputs": [],
   "source": [
    "import re\n",
    "import pandas as pd\n",
    "import os\n",
    "import json\n",
    "\n",
    "sample_input_file_list = []\n",
    "with open(r'C:\\Users\\andrew.morris\\Documents\\GitHub\\murry_code\\Advent of Code\\2020\\Inputs\\day_07_sample.txt', 'r') as sample_input_file: \n",
    "    for line in sample_input_file.readlines():\n",
    "        sample_input_file_list.append(line.rstrip('\\n'))\n",
    "\n",
    "input_file_list = []\n",
    "with open(r'C:\\Users\\andrew.morris\\Documents\\GitHub\\murry_code\\Advent of Code\\2020\\Inputs\\day_07.txt', 'r') as input_file: \n",
    "    for line in input_file.readlines():\n",
    "        input_file_list.append(line.rstrip('\\n'))"
   ]
  },
  {
   "cell_type": "code",
   "execution_count": 23,
   "metadata": {},
   "outputs": [
    {
     "data": {
      "text/plain": [
       "['light red bags contain 1 bright white bag, 2 muted yellow bags.',\n",
       " 'dark orange bags contain 3 bright white bags, 4 muted yellow bags.',\n",
       " 'bright white bags contain 1 shiny gold bag.',\n",
       " 'muted yellow bags contain 2 shiny gold bags, 9 faded blue bags.',\n",
       " 'shiny gold bags contain 1 dark olive bag, 2 vibrant plum bags.',\n",
       " 'dark olive bags contain 3 faded blue bags, 4 dotted black bags.',\n",
       " 'vibrant plum bags contain 5 faded blue bags, 6 dotted black bags.',\n",
       " 'faded blue bags contain no other bags.',\n",
       " 'dotted black bags contain no other bags.']"
      ]
     },
     "execution_count": 23,
     "metadata": {},
     "output_type": "execute_result"
    }
   ],
   "source": [
    "sample_input_file_list"
   ]
  },
  {
   "cell_type": "markdown",
   "metadata": {},
   "source": [
    "### Part One"
   ]
  },
  {
   "cell_type": "code",
   "execution_count": 26,
   "metadata": {
    "scrolled": false
   },
   "outputs": [
    {
     "data": {
      "text/html": [
       "<div>\n",
       "<style scoped>\n",
       "    .dataframe tbody tr th:only-of-type {\n",
       "        vertical-align: middle;\n",
       "    }\n",
       "\n",
       "    .dataframe tbody tr th {\n",
       "        vertical-align: top;\n",
       "    }\n",
       "\n",
       "    .dataframe thead th {\n",
       "        text-align: right;\n",
       "    }\n",
       "</style>\n",
       "<table border=\"1\" class=\"dataframe\">\n",
       "  <thead>\n",
       "    <tr style=\"text-align: right;\">\n",
       "      <th></th>\n",
       "      <th>outer_bag</th>\n",
       "      <th>inner_bag</th>\n",
       "      <th>volume</th>\n",
       "    </tr>\n",
       "  </thead>\n",
       "  <tbody>\n",
       "    <tr>\n",
       "      <th>0</th>\n",
       "      <td>light red</td>\n",
       "      <td>bright white</td>\n",
       "      <td>1</td>\n",
       "    </tr>\n",
       "    <tr>\n",
       "      <th>1</th>\n",
       "      <td>light red</td>\n",
       "      <td>muted yellow</td>\n",
       "      <td>2</td>\n",
       "    </tr>\n",
       "    <tr>\n",
       "      <th>2</th>\n",
       "      <td>dark orange</td>\n",
       "      <td>bright white</td>\n",
       "      <td>3</td>\n",
       "    </tr>\n",
       "    <tr>\n",
       "      <th>3</th>\n",
       "      <td>dark orange</td>\n",
       "      <td>muted yellow</td>\n",
       "      <td>4</td>\n",
       "    </tr>\n",
       "    <tr>\n",
       "      <th>4</th>\n",
       "      <td>bright white</td>\n",
       "      <td>shiny gold</td>\n",
       "      <td>1</td>\n",
       "    </tr>\n",
       "    <tr>\n",
       "      <th>5</th>\n",
       "      <td>muted yellow</td>\n",
       "      <td>shiny gold</td>\n",
       "      <td>2</td>\n",
       "    </tr>\n",
       "    <tr>\n",
       "      <th>6</th>\n",
       "      <td>muted yellow</td>\n",
       "      <td>faded blue</td>\n",
       "      <td>9</td>\n",
       "    </tr>\n",
       "    <tr>\n",
       "      <th>7</th>\n",
       "      <td>shiny gold</td>\n",
       "      <td>dark olive</td>\n",
       "      <td>1</td>\n",
       "    </tr>\n",
       "    <tr>\n",
       "      <th>8</th>\n",
       "      <td>shiny gold</td>\n",
       "      <td>vibrant plum</td>\n",
       "      <td>2</td>\n",
       "    </tr>\n",
       "    <tr>\n",
       "      <th>9</th>\n",
       "      <td>dark olive</td>\n",
       "      <td>faded blue</td>\n",
       "      <td>3</td>\n",
       "    </tr>\n",
       "    <tr>\n",
       "      <th>10</th>\n",
       "      <td>dark olive</td>\n",
       "      <td>dotted black</td>\n",
       "      <td>4</td>\n",
       "    </tr>\n",
       "    <tr>\n",
       "      <th>11</th>\n",
       "      <td>vibrant plum</td>\n",
       "      <td>faded blue</td>\n",
       "      <td>5</td>\n",
       "    </tr>\n",
       "    <tr>\n",
       "      <th>12</th>\n",
       "      <td>vibrant plum</td>\n",
       "      <td>dotted black</td>\n",
       "      <td>6</td>\n",
       "    </tr>\n",
       "  </tbody>\n",
       "</table>\n",
       "</div>"
      ],
      "text/plain": [
       "       outer_bag     inner_bag volume\n",
       "0      light red  bright white      1\n",
       "1      light red  muted yellow      2\n",
       "2    dark orange  bright white      3\n",
       "3    dark orange  muted yellow      4\n",
       "4   bright white    shiny gold      1\n",
       "5   muted yellow    shiny gold      2\n",
       "6   muted yellow    faded blue      9\n",
       "7     shiny gold    dark olive      1\n",
       "8     shiny gold  vibrant plum      2\n",
       "9     dark olive    faded blue      3\n",
       "10    dark olive  dotted black      4\n",
       "11  vibrant plum    faded blue      5\n",
       "12  vibrant plum  dotted black      6"
      ]
     },
     "execution_count": 26,
     "metadata": {},
     "output_type": "execute_result"
    }
   ],
   "source": [
    "rules = sample_input_file_list\n",
    "# rules = input_file_list\n",
    "\n",
    "# adding each line as an dictionary entry\n",
    "index_dict = {}\n",
    "for line in rules:\n",
    "    key = re.sub(' bags contain','',re.match(r'^(\\w+\\s+){0,6}bags+\\scontain',line).group(0))\n",
    "    values = [re.sub(r'(bags|bag)','',i[0]).rstrip()for i in re.findall(r'(\\d+(\\s\\w+){1,3})',line)]\n",
    "    index_dict[key]=values\n",
    "\n",
    "baggage_rule_df = pd.DataFrame(columns=['outer_bag', 'inner_bag', 'volume'])\n",
    "for k,v in index_dict.items():\n",
    "    key = k\n",
    "    for i in v:\n",
    "        volume, inner_bag = re.split(r'\\s',i,maxsplit=1) #could be improved as not all strings may start as number\n",
    "        dict_ = {'outer_bag':k,'inner_bag': inner_bag, 'volume': volume} \n",
    "        baggage_rule_df = baggage_rule_df.append(dict_,ignore_index=True)\n",
    "        \n",
    "baggage_rule_df    "
   ]
  }
 ],
 "metadata": {
  "kernelspec": {
   "display_name": "Python 3",
   "language": "python",
   "name": "python3"
  },
  "language_info": {
   "codemirror_mode": {
    "name": "ipython",
    "version": 3
   },
   "file_extension": ".py",
   "mimetype": "text/x-python",
   "name": "python",
   "nbconvert_exporter": "python",
   "pygments_lexer": "ipython3",
   "version": "3.8.5"
  }
 },
 "nbformat": 4,
 "nbformat_minor": 4
}
