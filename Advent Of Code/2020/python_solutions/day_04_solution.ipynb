{
 "cells": [
  {
   "cell_type": "markdown",
   "id": "c92d328a",
   "metadata": {},
   "source": [
    "\n",
    "# Day 04\n",
    "[Link to Advent of Code 2020 - Day 04](https://adventofcode.com/2020/day/4)\n"
   ]
  },
  {
   "cell_type": "code",
   "execution_count": null,
   "id": "9407256f",
   "metadata": {},
   "outputs": [],
   "source": [
    "\n",
    "with open('Inputs\\day_04.txt')         as f:puz     = [l.rstrip('\\n').split(' ') for l in f.readlines()]\n",
    "with open('Inputs\\day_04_sample.txt')  as f:sample  = [l.rstrip('\\n').split(' ') for l in f.readlines()]"
   ]
  }
 ],
 "metadata": {},
 "nbformat": 4,
 "nbformat_minor": 5
}
