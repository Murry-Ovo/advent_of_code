{
 "cells": [
  {
   "cell_type": "markdown",
   "id": "12a3fc95",
   "metadata": {},
   "source": [
    "\n",
    "# Day 20\n",
    "[Link to Advent of Code 2020 - Day 20](https://adventofcode.com/2020/day/20)\n"
   ]
  },
  {
   "cell_type": "code",
   "execution_count": null,
   "id": "8ef2fdd2",
   "metadata": {},
   "outputs": [],
   "source": [
    "\n",
    "with open('Inputs\\day_20.txt')         as f:puz     = [l.rstrip('\\n').split(' ') for l in f.readlines()]\n",
    "with open('Inputs\\day_20_sample.txt')  as f:sample  = [l.rstrip('\\n').split(' ') for l in f.readlines()]"
   ]
  }
 ],
 "metadata": {},
 "nbformat": 4,
 "nbformat_minor": 5
}
