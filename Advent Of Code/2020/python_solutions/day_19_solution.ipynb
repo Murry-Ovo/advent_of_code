{
 "cells": [
  {
   "cell_type": "markdown",
   "id": "1393ab00",
   "metadata": {},
   "source": [
    "\n",
    "# Day 19\n",
    "[Link to Advent of Code 2020 - Day 19](https://adventofcode.com/2020/day/19)\n"
   ]
  },
  {
   "cell_type": "code",
   "execution_count": null,
   "id": "541f4819",
   "metadata": {},
   "outputs": [],
   "source": [
    "\n",
    "with open('Inputs\\day_19.txt')         as f:puz     = [l.rstrip('\\n').split(' ') for l in f.readlines()]\n",
    "with open('Inputs\\day_19_sample.txt')  as f:sample  = [l.rstrip('\\n').split(' ') for l in f.readlines()]"
   ]
  }
 ],
 "metadata": {},
 "nbformat": 4,
 "nbformat_minor": 5
}
