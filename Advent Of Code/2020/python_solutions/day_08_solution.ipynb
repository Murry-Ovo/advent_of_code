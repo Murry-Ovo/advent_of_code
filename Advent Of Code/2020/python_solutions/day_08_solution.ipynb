{
 "cells": [
  {
   "cell_type": "code",
   "execution_count": 55,
   "metadata": {},
   "outputs": [
    {
     "data": {
      "text/plain": [
       "['nop +0',\n",
       " 'acc +1',\n",
       " 'jmp +4',\n",
       " 'acc +3',\n",
       " 'jmp -3',\n",
       " 'acc -99',\n",
       " 'acc +1',\n",
       " 'jmp -4',\n",
       " 'acc +6']"
      ]
     },
     "execution_count": 55,
     "metadata": {},
     "output_type": "execute_result"
    }
   ],
   "source": [
    "import os\n",
    "import re\n",
    "# Load the input file\n",
    "\n",
    "input_file_list = []\n",
    "with open(r'C:\\Users\\andrew.morris\\Documents\\GitHub\\murry_code\\Advent of Code\\2020\\Inputs\\day_08_sample.txt', 'r') as input_file: \n",
    "    for line in input_file.readlines():\n",
    "        input_file_list.append(line.rstrip('\\n'))\n",
    "\n",
    "input_file_list"
   ]
  },
  {
   "cell_type": "code",
   "execution_count": 99,
   "metadata": {
    "scrolled": true
   },
   "outputs": [
    {
     "data": {
      "text/plain": [
       "[['nop', '+0', 0],\n",
       " ['acc', '+1', 1],\n",
       " ['jmp', '+4', 2],\n",
       " ['acc', '+3', 3],\n",
       " ['jmp', '-3', 4],\n",
       " ['acc', '-99', 5],\n",
       " ['acc', '+1', 6],\n",
       " ['jmp', '-4', 7],\n",
       " ['acc', '+6', 8]]"
      ]
     },
     "execution_count": 99,
     "metadata": {},
     "output_type": "execute_result"
    }
   ],
   "source": [
    "# Splitting the input into action_type and action\n",
    "# Assign a position marker to each element of the list\n",
    "# This will be used to stop once a position has been reached a second time\n",
    "\n",
    "row_numbered_input_list = []\n",
    "input_index = 0\n",
    "for row in input_file_list:\n",
    "    operation = re.split(r'\\s',row)[0]\n",
    "    argument  = re.split(r'\\s',row)[1]\n",
    "    row_numbered_input_list.append([operation, argument, input_index])\n",
    "    input_index+=1\n",
    "    \n",
    "row_numbered_input_list"
   ]
  },
  {
   "cell_type": "code",
   "execution_count": 107,
   "metadata": {},
   "outputs": [
    {
     "name": "stdout",
     "output_type": "stream",
     "text": [
      "[['nop', '+0', 0], ['acc', '+1', 1], ['jmp', '+4', 2], ['acc', '+3', 3], ['jmp', '-3', 4], ['acc', '-99', 5], ['acc', '+1', 6], ['jmp', '-4', 7], ['acc', '+6', 8]]\n",
      "\n",
      "operation          = nop\n",
      "argument           = 0\n",
      "global_accumulator = 0\n",
      "current_position   = 0\n",
      "list_of_positions_visited = []\n",
      "\n"
     ]
    }
   ],
   "source": [
    "print(row_numbered_input_list)\n",
    "print()\n",
    "\n",
    "current_position = 0\n",
    "list_of_positions_visited = []\n",
    "global_accumulator = 0\n",
    "\n",
    "while current_position not in list_of_positions_visited:\n",
    "    operation  = row_numbered_input_list[current_position][0]\n",
    "    argument   = int(row_numbered_input_list[current_position][1])    \n",
    "    row_number = row_numbered_input_list[current_position][2]\n",
    "\n",
    "    print(f'operation          = {operation}')\n",
    "    print(f'argument           = {argument}')\n",
    "    print(f'global_accumulator = {global_accumulator}')\n",
    "    print(f'current_position   = {current_position}')\n",
    "    print(f'list_of_positions_visited = {list_of_positions_visited}')\n",
    "    print()\n",
    "    \n",
    "    if operation == 'nop':\n",
    "        current_position=+1\n",
    "    elif operation == 'acc':\n",
    "        global_accumulator=+argument\n",
    "        current_position =+1 \n",
    "    elif operation == 'jmp':\n",
    "        current_position=+argument\n",
    "    \n",
    "    if current_position in list_of_positions_visited:\n",
    "        print(global_accumulator)\n",
    "    list_of_positions_visited.append(current_position)\n",
    "        "
   ]
  },
  {
   "cell_type": "code",
   "execution_count": null,
   "metadata": {},
   "outputs": [],
   "source": [
    "    print(f'global_accumulator = {global_accumulator}')\n",
    "    print(f'current_position = {current_position}')\n",
    "    print(f'list_of_positions_visited = {list_of_positions_visited}')\n",
    "    print(f'contents of position {current_position} = {row_numbered_input_list[current_position]}')\n",
    "    print()\n",
    "    \n",
    "    if row_numbered_input_list[current_position][0] == 'nop':\n",
    "        # do nothing an move to the next position in the list\n",
    "        current_position=+ 1     \n",
    "    elif row_numbered_input_list[current_position][0] == 'acc':\n",
    "        # add the accumulator value to the global accumulator then move to the next position in the list\n",
    "        global_accumulator=+ int(row_numbered_input_list[position][1])\n",
    "        current_position  =+ 1\n",
    "    elif row_numbered_input_list[current_position][0] == 'jmp':\n",
    "        current_position=+int(row_numbered_input_list[current_position][1])\n",
    "    list_of_positions_visited.append(row_numbered_input_list[current_position][2])"
   ]
  }
 ],
 "metadata": {
  "kernelspec": {
   "display_name": "Python 3",
   "language": "python",
   "name": "python3"
  },
  "language_info": {
   "codemirror_mode": {
    "name": "ipython",
    "version": 3
   },
   "file_extension": ".py",
   "mimetype": "text/x-python",
   "name": "python",
   "nbconvert_exporter": "python",
   "pygments_lexer": "ipython3",
   "version": "3.8.5"
  }
 },
 "nbformat": 4,
 "nbformat_minor": 4
}
