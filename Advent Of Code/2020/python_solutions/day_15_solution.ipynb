{
 "cells": [
  {
   "cell_type": "markdown",
   "id": "142fd523",
   "metadata": {},
   "source": [
    "\n",
    "# Day 15\n",
    "[Link to Advent of Code 2020 - Day 15](https://adventofcode.com/2020/day/15)\n"
   ]
  },
  {
   "cell_type": "code",
   "execution_count": null,
   "id": "a8d17ff8",
   "metadata": {},
   "outputs": [],
   "source": [
    "\n",
    "with open('Inputs\\day_15.txt')         as f:puz     = [l.rstrip('\\n').split(' ') for l in f.readlines()]\n",
    "with open('Inputs\\day_15_sample.txt')  as f:sample  = [l.rstrip('\\n').split(' ') for l in f.readlines()]"
   ]
  }
 ],
 "metadata": {},
 "nbformat": 4,
 "nbformat_minor": 5
}
