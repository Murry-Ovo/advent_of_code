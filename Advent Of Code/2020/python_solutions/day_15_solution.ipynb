{
 "cells": [
  {
   "cell_type": "markdown",
   "id": "142fd523",
   "metadata": {},
   "source": [
    "\n",
    "# Day 15\n",
    "[Link to Advent of Code 2020 - Day 15](https://adventofcode.com/2020/day/15)\n",
    "\n",
    "--- Day 15: Rambunctious Recitation ---\n",
    "You catch the airport shuttle and try to book a new flight to your vacation island. Due to the storm, all direct flights have been cancelled, but a route is available to get around the storm. You take it.\n",
    "\n",
    "While you wait for your flight, you decide to check in with the Elves back at the North Pole. They're playing a memory game and are ever so excited to explain the rules!\n",
    "\n",
    "In this game, the players take turns saying numbers. They begin by taking turns reading from a list of starting numbers (your puzzle input). Then, each turn consists of considering the most recently spoken number:\n",
    "\n",
    "- If that was the first time the number has been spoken, the current player says 0.\n",
    "- Otherwise, the number had been spoken before; the current player announces how many turns apart the number is from when it was previously spoken.\n",
    "\n",
    "So, after the starting numbers, each turn results in that player speaking aloud either 0 (if the last number is new) or an age (if the last number is a repeat).\n",
    "\n",
    "For example, suppose the starting numbers are 0,3,6:\n",
    "\n",
    "- Turn 1: The 1st number spoken is a starting number, 0.\n",
    "- Turn 2: The 2nd number spoken is a starting number, 3.\n",
    "- Turn 3: The 3rd number spoken is a starting number, 6.\n",
    "- Turn 4: Now, consider the last number spoken, 6. Since that was the first time the number had been spoken, the 4th number spoken is 0.\n",
    "- Turn 5: Next, again consider the last number spoken, 0. Since it had been spoken before, the next number to speak is the difference between the turn number when it was last spoken (the previous turn, 4) and the turn number of the time it was most recently spoken before then (turn 1). Thus, the 5th number spoken is 4 - 1, 3.\n",
    "- Turn 6: The last number spoken, 3 had also been spoken before, most recently on turns 5 and 2. So, the 6th number spoken is 5 - 2, 3.\n",
    "- Turn 7: Since 3 was just spoken twice in a row, and the last two turns are 1 turn apart, the 7th number spoken is 1.\n",
    "- Turn 8: Since 1 is new, the 8th number spoken is 0.\n",
    "- Turn 9: 0 was last spoken on turns 8 and 4, so the 9th number spoken is the difference between them, 4.\n",
    "- Turn 10: 4 is new, so the 10th number spoken is 0.\n",
    "\n",
    "(The game ends when the Elves get sick of playing or dinner is ready, whichever comes first.)\n",
    "\n",
    "Their question for you is: what will be the 2020th number spoken? In the example above, the 2020th number spoken will be 436.\n",
    "\n",
    "Here are a few more examples:\n",
    "\n",
    "- Given the starting numbers 1,3,2, the 2020th number spoken is 1.\n",
    "- Given the starting numbers 2,1,3, the 2020th number spoken is 10.\n",
    "- Given the starting numbers 1,2,3, the 2020th number spoken is 27.\n",
    "- Given the starting numbers 2,3,1, the 2020th number spoken is 78.\n",
    "- Given the starting numbers 3,2,1, the 2020th number spoken is 438.\n",
    "- Given the starting numbers 3,1,2, the 2020th number spoken is 1836.\n",
    "- Given your starting numbers, what will be the 2020th number spoken?\n",
    "\n",
    "Your puzzle input is 2,0,6,12,1,3."
   ]
  },
  {
   "cell_type": "code",
   "execution_count": 16,
   "id": "745fed6c",
   "metadata": {
    "scrolled": true
   },
   "outputs": [
    {
     "name": "stdout",
     "output_type": "stream",
     "text": [
      "\n",
      "For the sample list of [0, 3, 6] : pt1 = 436, pt2 = 175594\n",
      "For the main puzzle input of [2, 0, 6, 12, 1, 3] : pt1 = 1428, pt2 = 3718541\n",
      "\n"
     ]
    }
   ],
   "source": [
    "def play_memory_game(starting_numbers: list, turns: int) -> int:\n",
    "    '''\n",
    "    Iterates through x amount of turns of the memory game using a dictionary to keep track of 'state'\n",
    "    The state being:\n",
    "        - key: the number that has been said\n",
    "        - value: the last turn in which that number was said \n",
    "    During each turn:\n",
    "        - If the number is not already in the dictionary keys:\n",
    "            1. Add it to the dict with the current turn number as the value\n",
    "            2. Set the number variable to zero\n",
    "        - If the number is already in the dictionary keys already:\n",
    "            1. Work out the next number (current turn minus the turn the number was last seen)\n",
    "            2. Update the value of that number to the current turn\n",
    "            3. Set the current number to the one already calculated in step 1\n",
    "    We break out of the loop before the turn number entered into the function\n",
    "    '''\n",
    "    \n",
    "    # creates a starting state which is each element in the starting numbers is a key\n",
    "    # and the value is the turn at which that value was last said (this works as there are no dupes within the list)\n",
    "    # missing off the final value from the list so we can add that in the first pass through\n",
    "    state = {num: index + 1 for index, num in enumerate(starting_numbers[:-1])}\n",
    "    current_turn = len(starting_numbers)\n",
    "    number = starting_numbers[-1]\n",
    "\n",
    "    while current_turn < turns:\n",
    "        if number not in state:\n",
    "            # add the current number to the dict, set number to 0\n",
    "            state[number] = current_turn\n",
    "            number = 0\n",
    "\n",
    "        else:\n",
    "            # set next_number to: current_turn - value at state[number]\n",
    "            next_number = current_turn - state[number]\n",
    "            state[number] = current_turn\n",
    "            number = next_number\n",
    "\n",
    "        current_turn += 1\n",
    "\n",
    "    return number\n",
    "\n",
    "sample_list = [0,3,6]\n",
    "puzzle_list = [2,0,6,12,1,3]\n",
    "\n",
    "# sample_pt1 = play_memory_game(starting_numbers = sample_list, turns = 2020)\n",
    "# sample_pt2 = play_memory_game(starting_numbers = sample_list, turns = 30000000)\n",
    "# puzzle_pt1 = play_memory_game(starting_numbers = puzzle_list, turns = 2020)\n",
    "puzzle_pt2 = play_memory_game(starting_numbers = puzzle_list, turns = 30000000)\n",
    "\n",
    "print(f'''\n",
    "For the sample list of {sample_list} : pt1 = {sample_pt1}, pt2 = {sample_pt2}\n",
    "For the main puzzle input of {puzzle_list} : pt1 = {puzzle_pt1}, pt2 = {puzzle_pt2}\n",
    "''')\n"
   ]
  },
  {
   "cell_type": "code",
   "execution_count": 17,
   "id": "722d0c86",
   "metadata": {},
   "outputs": [
    {
     "name": "stdout",
     "output_type": "stream",
     "text": [
      "\n",
      "For the sample list of [0, 3, 6] : pt1 = 2019, pt2 = 29999999\n",
      "For the main puzzle input of [2, 0, 6, 12, 1, 3] : pt1 = 2019, pt2 = 29999999\n",
      "\n"
     ]
    }
   ],
   "source": [
    "from collections import defaultdict\n",
    "\n",
    "def play_memory_game(starting_numbers, turns):\n",
    "    state = defaultdict(int, {num: i + 1 for i, num in enumerate(starting_numbers[:-1])})\n",
    "    number = starting_numbers[-1]\n",
    "\n",
    "    for current_turn in range(len(starting_numbers), turns):\n",
    "        next_number = current_turn - state[number]\n",
    "        state[number], number = current_turn, next_number\n",
    "\n",
    "    return number\n",
    "\n",
    "sample_list = [0, 3, 6]\n",
    "puzzle_list = [2, 0, 6, 12, 1, 3]\n",
    "\n",
    "sample_pt1 = play_memory_game(sample_list, 2020)\n",
    "sample_pt2 = play_memory_game(sample_list, 30000000)\n",
    "puzzle_pt1 = play_memory_game(puzzle_list, 2020)\n",
    "puzzle_pt2 = play_memory_game(puzzle_list, 30000000)\n",
    "\n",
    "print(f'''\n",
    "For the sample list of {sample_list} : pt1 = {sample_pt1}, pt2 = {sample_pt2}\n",
    "For the main puzzle input of {puzzle_list} : pt1 = {puzzle_pt1}, pt2 = {puzzle_pt2}\n",
    "''')\n"
   ]
  }
 ],
 "metadata": {
  "kernelspec": {
   "display_name": "Python 3 (ipykernel)",
   "language": "python",
   "name": "python3"
  },
  "language_info": {
   "codemirror_mode": {
    "name": "ipython",
    "version": 3
   },
   "file_extension": ".py",
   "mimetype": "text/x-python",
   "name": "python",
   "nbconvert_exporter": "python",
   "pygments_lexer": "ipython3",
   "version": "3.9.12"
  }
 },
 "nbformat": 4,
 "nbformat_minor": 5
}
