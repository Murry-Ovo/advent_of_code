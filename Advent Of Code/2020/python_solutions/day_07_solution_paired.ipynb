{
 "cells": [
  {
   "cell_type": "markdown",
   "metadata": {},
   "source": [
    "### Import Rule Data and Libraries"
   ]
  },
  {
   "cell_type": "code",
   "execution_count": 44,
   "metadata": {},
   "outputs": [],
   "source": [
    "import re\n",
    "import pandas as pd\n",
    "\n",
    "with open(r'C:\\Users\\andrew.morris\\Documents\\GitHub\\murry_code\\Advent of Code\\2020\\Inputs\\day_07.txt', 'r') as file:     \n",
    "    rule_data = file.readlines() \n",
    "with open(r'C:\\Users\\andrew.morris\\Documents\\GitHub\\murry_code\\Advent of Code\\2020\\Inputs\\day_07_sample.txt', 'r') as file:     \n",
    "    sample_rule_data = file.readlines()     \n",
    "with open(r'C:\\Users\\andrew.morris\\Documents\\GitHub\\murry_code\\Advent of Code\\2020\\Inputs\\day_07_sample_2.txt', 'r') as file:     \n",
    "    sample2_rule_data = file.readlines()         "
   ]
  },
  {
   "cell_type": "markdown",
   "metadata": {},
   "source": [
    "### Part One \n",
    "Get a count of all the outer bags which could contain 'Shiny Gold' "
   ]
  },
  {
   "cell_type": "code",
   "execution_count": 8,
   "metadata": {},
   "outputs": [],
   "source": [
    "# Function to format the input into a dictionary, \n",
    "# with the outer bag as the key with the inner bags and their volumes as the values\n",
    "\n",
    "def format_inputs(data):\n",
    "    \"\"\"\n",
    "    regex rules\n",
    "    Keys: string start with a word and space. Pattern allowed up to five times. \n",
    "    Wanting string to stop at bag or bags but not returned\n",
    "\n",
    "    Values: 2 capture groups. One for volume one for bag type. \n",
    "    Iterate over the list adding each element to a dict key then append that dict to the main dict as this join method works.\n",
    "    Does mean that extra step required to return bag elements with no other bags as this fails the 'values' rule.\n",
    "    \"\"\"\n",
    "    maindict={}\n",
    "    for i in data:\n",
    "        keys = re.search(r'^((\\w+\\s+){,5})(?:(bags|bag))',i).group(1).rstrip()\n",
    "        values = re.findall(r'(\\d+\\s+)((?:\\w+\\s+){,6})(?:bags|bag)',i)\n",
    "\n",
    "        bag = []\n",
    "        for bags in values:\n",
    "            bag.append({'bag_type':bags[1].strip(),'volume':bags[0].strip()})\n",
    "            maindict[keys]=bag    \n",
    "\n",
    "        if keys not in maindict.keys():\n",
    "            maindict[keys]=[{'bag_type':None,'volume':0}] # adding in instances where bag does not have an inner bag\n",
    "    return maindict\n",
    "\n",
    "# Function to return a list of all outer bags which could contain the bag_type passed into the function\n",
    "# Recursive funtion to pass the bags which can contain the first bag_type back into the function\n",
    "\n",
    "def get_outer_bags(data,bag_type,res_list = []):\n",
    "    \n",
    "    bag_type_list=[]\n",
    "    bag_dict = {}    \n",
    "    \n",
    "    for i in data.keys():\n",
    "        bag = data[i]\n",
    "        for items in bag:\n",
    "            if items['bag_type']== bag_type:\n",
    "                bag_type_list.append(i)\n",
    "    \n",
    "    if bag_type_list:     \n",
    "        \n",
    "        for outer_bag in bag_type_list:\n",
    "            if outer_bag not in res_list:\n",
    "                res_list.append(outer_bag)            \n",
    "            get_outer_bags(data,outer_bag,bag_type_list)  \n",
    "        return res_list"
   ]
  },
  {
   "cell_type": "code",
   "execution_count": 18,
   "metadata": {},
   "outputs": [
    {
     "name": "stdout",
     "output_type": "stream",
     "text": [
      "\n",
      "Bag Type shiny gold can be contained within 235 other bags\n",
      "\n"
     ]
    }
   ],
   "source": [
    "bag_type_to_check = 'shiny gold'\n",
    "formatted_bag_rules_dict = format_inputs(rule_data)\n",
    "outer_bags_list = get_outer_bags(formatted_bag_rules_dict,bag_type_to_check)\n",
    "\n",
    "print(f'''\n",
    "Bag Type {bag_type_to_check} can be contained within {len(outer_bags_list)} other bags\n",
    "'''\n",
    ")"
   ]
  },
  {
   "cell_type": "markdown",
   "metadata": {},
   "source": [
    "## Part Two\n",
    "\n",
    "Find the number of bags a shiny gold bag must contain "
   ]
  },
  {
   "cell_type": "code",
   "execution_count": 65,
   "metadata": {
    "scrolled": true
   },
   "outputs": [
    {
     "data": {
      "text/plain": [
       "[('shiny gold', 'dark red', '2'),\n",
       " ('shiny gold', 'dark orange', '2'),\n",
       " ('dark red', 'dark yellow', '2'),\n",
       " ('dark red', 'dark green', '2'),\n",
       " ('dark orange', 'dark blue', '2'),\n",
       " ('dark orange', 'dark violet', '2'),\n",
       " ('dark yellow', None, 0)]"
      ]
     },
     "execution_count": 65,
     "metadata": {},
     "output_type": "execute_result"
    }
   ],
   "source": [
    "test_dict = format_inputs(sample2_rule_data)\n",
    "# test_dict = format_inputs(sample_rule_data)\n",
    "\n",
    "# formatted rules data is a dict where the key is the outer bag\n",
    "# then the value is a list of dicts of bag_types and volumes which have to be contained within the outer bag\n",
    "# the following function turns this into a list of tuples with the format (outer bag, inner bag, inner bag volume\n",
    "\n",
    "def create_zipped_bag_list(formatted_bag_rules_dict):\n",
    "    outer_bag_list = []\n",
    "    inner_bag_list = []\n",
    "    volume_list = []\n",
    "\n",
    "    for outer_bag, inner_bag_list_of_dicts in test_dict.items():\n",
    "        for inner_bag_dict in inner_bag_list_of_dicts:\n",
    "            for key, value in inner_bag_dict.items():\n",
    "                outer_bag_list.append(outer_bag)\n",
    "                if key == 'volume':\n",
    "                        volume_list.append(value)\n",
    "                elif key == 'bag_type':\n",
    "                        inner_bag_list.append(value)\n",
    "                \n",
    "    zipped_bag_list = list(zip(outer_bag_list, inner_bag_list, volume_list))  \n",
    "    return zipped_bag_list\n",
    "\n",
    "create_zipped_bag_list(sample_rule_data)"
   ]
  },
  {
   "cell_type": "code",
   "execution_count": 72,
   "metadata": {
    "scrolled": true
   },
   "outputs": [
    {
     "name": "stdout",
     "output_type": "stream",
     "text": [
      "shiny gold dark red 2\n",
      "shiny gold dark orange 2\n",
      "dark red dark yellow 2\n",
      "dark red dark green 2\n",
      "dark orange dark blue 2\n",
      "dark orange dark violet 2\n",
      "dark yellow None 0\n"
     ]
    },
    {
     "data": {
      "text/plain": [
       "[('shiny gold', 'dark red', '2'),\n",
       " ('shiny gold', 'dark orange', '2'),\n",
       " ('dark red', 'dark yellow', '2'),\n",
       " ('dark red', 'dark green', '2'),\n",
       " ('dark orange', 'dark blue', '2'),\n",
       " ('dark orange', 'dark violet', '2'),\n",
       " ('dark yellow', None, 0)]"
      ]
     },
     "execution_count": 72,
     "metadata": {},
     "output_type": "execute_result"
    }
   ],
   "source": [
    "def get_inner_bags(data,bag_type,res_list = []):\n",
    "    \n",
    "    bag_type_list=[]\n",
    "    bag_dict = {}    \n",
    "    \n",
    "    for i in data:\n",
    "        outer_bag = i[0]\n",
    "        inner_bag = i[1]\n",
    "        volume =    i[2]\n",
    "        print(outer_bag, inner_bag, volume)\n",
    "#         bag = data[i]\n",
    "#         for items in bag:\n",
    "#             if items['bag_type']== bag_type:\n",
    "#                 bag_type_list.append(i)\n",
    "    \n",
    "#     if bag_type_list:     \n",
    "        \n",
    "#         for outer_bag in bag_type_list:\n",
    "#             if outer_bag not in res_list:\n",
    "#                 res_list.append(outer_bag)            \n",
    "#             get_outer_bags(data,outer_bag,bag_type_list)  \n",
    "#         return res_list\n",
    "\n",
    "bag_type_to_check = 'shiny gold'\n",
    "zipped_rules_list = create_zipped_bag_list(sample2_rule_data)\n",
    "get_inner_bags(zipped_rules_list, bag_type_to_check)\n",
    "zipped_rules_list"
   ]
  },
  {
   "cell_type": "code",
   "execution_count": 76,
   "metadata": {},
   "outputs": [
    {
     "name": "stdout",
     "output_type": "stream",
     "text": [
      "cherry\n"
     ]
    }
   ],
   "source": []
  }
 ],
 "metadata": {
  "kernelspec": {
   "display_name": "Python 3",
   "language": "python",
   "name": "python3"
  },
  "language_info": {
   "codemirror_mode": {
    "name": "ipython",
    "version": 3
   },
   "file_extension": ".py",
   "mimetype": "text/x-python",
   "name": "python",
   "nbconvert_exporter": "python",
   "pygments_lexer": "ipython3",
   "version": "3.8.5"
  }
 },
 "nbformat": 4,
 "nbformat_minor": 2
}
