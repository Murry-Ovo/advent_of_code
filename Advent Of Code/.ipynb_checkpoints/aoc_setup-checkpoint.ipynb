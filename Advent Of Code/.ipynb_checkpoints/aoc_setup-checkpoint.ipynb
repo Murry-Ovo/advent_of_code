{
 "cells": [
  {
   "cell_type": "markdown",
   "id": "ea62201e",
   "metadata": {},
   "source": [
    "### Setting Up A New Year Of AoC\n",
    "\n",
    "Setup script to create the folders and files for a new year of Advent of Code  "
   ]
  },
  {
   "cell_type": "code",
   "execution_count": null,
   "id": "3d9ee7d4",
   "metadata": {
    "scrolled": false
   },
   "outputs": [],
   "source": [
    "import os\n",
    "import shutil\n",
    "\n",
    "# using current directory as the main path, create new paths for solutions and inputs\n",
    "# create copies of python solution template and move to new solutions folder, renaming at the same time\n",
    "def create_empty_inputs_and_solutions(year):    \n",
    "    # get current path/directory\n",
    "    main_path = os.getcwd()\n",
    "\n",
    "    # creating path strings for the input, solutions and the template for the solutions\n",
    "    solution_path = f'{main_path}\\\\{year}\\\\python_solutions'\n",
    "    input_path    = f'{solution_path}\\\\inputs'\n",
    "    template_location = f'{main_path}\\\\python_solution_template.ipynb'\n",
    "    \n",
    "    # creating directories if they do not already exist\n",
    "    if not os.path.exists(input_path):\n",
    "        os.makedirs(input_path)\n",
    "    if not os.path.exists(solution_path):\n",
    "        os.makedirs(solution_path)\n",
    "      \n",
    "    # create a list of str days from '01' to '25'\n",
    "    AoC_dates = ['0'+str(x) if x < 10 else str(x) for x in range(1,26)]\n",
    "    \n",
    "    #create empty input and solution files for each of the AoC dates\n",
    "    template = 'python_solution_template.ipynb'\n",
    "    template_location = f'{main_path}\\\\{template}'\n",
    "    new_template_loc  = f'{solution_path}\\\\{template}'\n",
    "    \n",
    "    for day in AoC_dates:\n",
    "        #create empty input files for each day in AoC_dates \n",
    "        input_file = open(f'{input_path}\\\\day_{day}.txt','w')\n",
    "        sample_input_file = open(f'{input_path}\\\\day_{day}_sample.txt','w')\n",
    "        for file in [input_file, sample_input_file]:\n",
    "            file.close() #closing files once created\n",
    "            \n",
    "        # make a copy of the python_solution template and move to the new solution folder\n",
    "        shutil.copy(template_location, solution_path)\n",
    "        # renaming using the day from AoC dates\n",
    "        try:\n",
    "            os.rename(new_template_loc, f'{solution_path}\\\\day_{day}_solution.ipynb')\n",
    "        except Exception as e:\n",
    "            print(f'Error Message:\\n{e}\\n')         \n",
    "   \n",
    "    print(f'-- created new input and solution files within path:\\n{main_path}\\\\{year}\\n')\n",
    "\n",
    "year = '2019'\n",
    "create_empty_inputs_and_solutions(year)"
   ]
  }
 ],
 "metadata": {
  "kernelspec": {
   "display_name": "Python 3 (ipykernel)",
   "language": "python",
   "name": "python3"
  },
  "language_info": {
   "codemirror_mode": {
    "name": "ipython",
    "version": 3
   },
   "file_extension": ".py",
   "mimetype": "text/x-python",
   "name": "python",
   "nbconvert_exporter": "python",
   "pygments_lexer": "ipython3",
   "version": "3.8.12"
  }
 },
 "nbformat": 4,
 "nbformat_minor": 5
}
