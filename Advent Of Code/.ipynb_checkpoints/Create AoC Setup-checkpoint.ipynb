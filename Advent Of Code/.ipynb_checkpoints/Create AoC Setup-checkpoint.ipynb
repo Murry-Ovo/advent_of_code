{
 "cells": [
  {
   "cell_type": "markdown",
   "id": "40730d13",
   "metadata": {},
   "source": [
    "### Setting Up A New Year Of AoC\n",
    "\n",
    "Setup script to create the folders and files for a new year of Advent of Code  "
   ]
  },
  {
   "cell_type": "code",
   "execution_count": 39,
   "id": "3d9ee7d4",
   "metadata": {
    "scrolled": true
   },
   "outputs": [
    {
     "name": "stdout",
     "output_type": "stream",
     "text": [
      "-- created new input and solution files within path:\n",
      " C:\\Users\\andrew.morris\\Documents\\GitHub\\advent_of_code\\Advent Of Code\\2019\n"
     ]
    }
   ],
   "source": [
    "import os\n",
    "\n",
    "def create_empty_inputs_and_solutions(main_path, year):    \n",
    "    # creating path strings for the input and solutions\n",
    "    yr = f'\\\\{year}'\n",
    "    inpt = r'\\inputs'\n",
    "    py_sol = r'\\python_solutions'\n",
    "    input_path = main_path+yr+inpt\n",
    "    solution_path = main_path+yr+py_sol\n",
    "    \n",
    "    # creating directories if they do not already exist\n",
    "    if not os.path.exists(input_path):\n",
    "        os.makedirs(input_path)\n",
    "    if not os.path.exists(solution_path):\n",
    "        os.makedirs(solution_path)\n",
    "      \n",
    "    # create a list of str days from '01' to '25'\n",
    "    AoC_dates = ['0'+str(x) if x < 10 else str(x) for x in range(1,26)]\n",
    "    \n",
    "    #create empty input files and juypter notebooks \n",
    "    for day in AoC_dates:\n",
    "        input_file = open(f'{input_path}\\\\day_{day}.txt','w')\n",
    "        sample_input_file = open(f'{input_path}\\\\day_{day}_sample.txt','w')\n",
    "        py_notebook = open(f'{solution_path}\\\\day_{day}_solution.ipynb','w')\n",
    "        for file in [input_file, sample_input_file, py_notebook]:\n",
    "            file.close()\n",
    "    print(f'-- created new input and solution files within path:\\n {main_path}\\\\{year}')\n",
    "\n",
    "main_path = r'C:\\Users\\andrew.morris\\Documents\\GitHub\\advent_of_code\\Advent Of Code'\n",
    "year = '2019'\n",
    "\n",
    "create_empty_inputs_and_solutions(main_path, year)\n"
   ]
  }
 ],
 "metadata": {
  "kernelspec": {
   "display_name": "Python 3 (ipykernel)",
   "language": "python",
   "name": "python3"
  },
  "language_info": {
   "codemirror_mode": {
    "name": "ipython",
    "version": 3
   },
   "file_extension": ".py",
   "mimetype": "text/x-python",
   "name": "python",
   "nbconvert_exporter": "python",
   "pygments_lexer": "ipython3",
   "version": "3.8.12"
  }
 },
 "nbformat": 4,
 "nbformat_minor": 5
}
